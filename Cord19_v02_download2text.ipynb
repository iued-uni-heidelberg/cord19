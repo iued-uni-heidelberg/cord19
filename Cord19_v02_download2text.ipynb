{
  "nbformat": 4,
  "nbformat_minor": 0,
  "metadata": {
    "colab": {
      "provenance": [],
      "collapsed_sections": [],
      "authorship_tag": "ABX9TyNqNYnXZsXCpjC9RwvW43Er",
      "include_colab_link": true
    },
    "kernelspec": {
      "name": "python3",
      "display_name": "Python 3"
    },
    "language_info": {
      "name": "python"
    }
  },
  "cells": [
    {
      "cell_type": "markdown",
      "metadata": {
        "id": "view-in-github",
        "colab_type": "text"
      },
      "source": [
        "<a href=\"https://colab.research.google.com/github/iued-uni-heidelberg/cord19/blob/main/Cord19_v02_download2text.ipynb\" target=\"_parent\"><img src=\"https://colab.research.google.com/assets/colab-badge.svg\" alt=\"Open In Colab\"/></a>"
      ]
    },
    {
      "cell_type": "markdown",
      "metadata": {
        "id": "apx9q6HAbXkM"
      },
      "source": [
        "# Downloading and reading CORD19 corpus\n",
        "This notebook downloads and reads the free cord19 corpus into one file. The notebook is hosted at IÜD, Heidelberg University github repository https://github.com/iued-uni-heidelberg/cord19\n",
        "\n",
        "CORD19 (covid-19) open-source corpus is available from https://www.semanticscholar.org/cord19/download. \n",
        "\n",
        "Documentation is available at https://github.com/allenai/cord19\n",
        "\n",
        "The original files are in json format. The output file is in plain text format; documents are separated (by default) by \\<doc id=\"doc1000001\"> ... \\</doc> tags\n",
        "\n",
        "The purpose of the plain text file is for further processing, e.g., generating linguistic annotation using the TreeTagger or the Standford parser for part-of-speech annotation or dependency / constituency parsing.\n",
        "\n"
      ]
    },
    {
      "cell_type": "markdown",
      "metadata": {
        "id": "dWGPbsx3fjpA"
      },
      "source": [
        "## Downloading CORD19 corpus\n",
        "\n",
        "The corpus is downloaded and extracted from https://www.semanticscholar.org/cord19/download\n",
        "\n",
        "Please check the link above: if you need the latest release of the corpus or if you would like to choose another release. Currently the 2022-06-02 release is downloaded.\n",
        "\n",
        "File size is ~11GB (v2021-08-30)\n",
        "File size is ~18GB (v2022-06-02)\n",
        "expected download time ~9 min\n"
      ]
    },
    {
      "cell_type": "code",
      "metadata": {
        "id": "wZ8alxYIfvhU",
        "colab": {
          "base_uri": "https://localhost:8080/"
        },
        "outputId": "e069c0a5-d8f1-46a6-8ced-ea6c8c149da7"
      },
      "source": [
        "# !wget https://ai2-semanticscholar-cord-19.s3-us-west-2.amazonaws.com/historical_releases/cord-19_2021-08-30.tar.gz\n",
        "!wget https://ai2-semanticscholar-cord-19.s3-us-west-2.amazonaws.com/historical_releases/cord-19_2022-06-02.tar.gz"
      ],
      "execution_count": null,
      "outputs": [
        {
          "output_type": "stream",
          "name": "stdout",
          "text": [
            "--2022-10-06 06:33:31--  https://ai2-semanticscholar-cord-19.s3-us-west-2.amazonaws.com/historical_releases/cord-19_2022-06-02.tar.gz\n",
            "Resolving ai2-semanticscholar-cord-19.s3-us-west-2.amazonaws.com (ai2-semanticscholar-cord-19.s3-us-west-2.amazonaws.com)... 52.92.194.90\n",
            "Connecting to ai2-semanticscholar-cord-19.s3-us-west-2.amazonaws.com (ai2-semanticscholar-cord-19.s3-us-west-2.amazonaws.com)|52.92.194.90|:443... connected.\n",
            "HTTP request sent, awaiting response... 200 OK\n",
            "Length: 18657952487 (17G) [binary/octet-stream]\n",
            "Saving to: ‘cord-19_2022-06-02.tar.gz’\n",
            "\n",
            "cord-19_2022-06-02. 100%[===================>]  17.38G  42.3MB/s    in 7m 27s  \n",
            "\n",
            "2022-10-06 06:40:59 (39.8 MB/s) - ‘cord-19_2022-06-02.tar.gz’ saved [18657952487/18657952487]\n",
            "\n"
          ]
        }
      ]
    },
    {
      "cell_type": "markdown",
      "metadata": {
        "id": "FajAVEv_zgXY"
      },
      "source": [
        "Extracting cord-19 corpus, approximate time ~ 4 min"
      ]
    },
    {
      "cell_type": "code",
      "metadata": {
        "colab": {
          "base_uri": "https://localhost:8080/"
        },
        "id": "X69zODWxxYSB",
        "outputId": "515b9ae6-e1bc-40b2-9222-14b26094af6d"
      },
      "source": [
        "# !tar -xvzf cord-19_2021-08-30.tar.gz\n",
        "!tar -xvzf cord-19_2022-06-02.tar.gz 2022-06-02/document_parses.tar.gz"
      ],
      "execution_count": null,
      "outputs": [
        {
          "output_type": "stream",
          "name": "stdout",
          "text": [
            "2022-06-02/document_parses.tar.gz\n"
          ]
        }
      ]
    },
    {
      "cell_type": "markdown",
      "metadata": {
        "id": "I8g4-kQyzuZN"
      },
      "source": [
        "Removing initial archive to free some disk space"
      ]
    },
    {
      "cell_type": "code",
      "metadata": {
        "id": "lOp7a1OJzHzY"
      },
      "source": [
        "# !rm cord-19_2021-08-30.tar.gz\n",
        "!rm cord-19_2022-06-02.tar.gz\n",
        "!mv 2022-06-02/document_parses.tar.gz ./document_parses.tar.gz"
      ],
      "execution_count": null,
      "outputs": []
    },
    {
      "cell_type": "markdown",
      "metadata": {
        "id": "MrJAdw7D4rOh"
      },
      "source": [
        "Removing more files to save space:"
      ]
    },
    {
      "cell_type": "code",
      "metadata": {
        "id": "27p3sZa04K4X"
      },
      "source": [
        "# removing more files to save space\n",
        "# !rm --recursive 2021-08-30\n",
        "# !rm --recursive document_parses/pdf_json\n",
        "!rm --recursive 2022-06-02"
      ],
      "execution_count": null,
      "outputs": []
    },
    {
      "cell_type": "markdown",
      "metadata": {
        "id": "7rT3UnT9zzev"
      },
      "source": [
        "Extracting document parsers, which contain individual articles in separate json files. This is expected to take ~ 9+ min."
      ]
    },
    {
      "cell_type": "code",
      "source": [
        "# !tar -tvf document_parses.tar.gz >document_parses.txt"
      ],
      "metadata": {
        "id": "B_HdqkFt1_-Z"
      },
      "execution_count": null,
      "outputs": []
    },
    {
      "cell_type": "code",
      "metadata": {
        "id": "jxHIVjtrzRCT"
      },
      "source": [
        "# !tar -xvzf 2021-08-30/document_parses.tar.gz\n",
        "!tar -xvzf document_parses.tar.gz document_parses/pmc_json"
      ],
      "execution_count": null,
      "outputs": []
    },
    {
      "cell_type": "markdown",
      "source": [
        "## output:\n",
        "\n",
        "PMC1054884.xml.json\n",
        "\n",
        "PMC1065028.xml.json\n",
        "\n",
        "PMC1065064.xml.json\n",
        "\n",
        "PMC1065120.xml.json\n",
        "\n",
        "PMC1065257.xml.json\n",
        "\n",
        "PMC1072802.xml.json\n",
        "\n",
        "PMC1072806.xml.json\n",
        "\n",
        "PMC1072807.xml.json\n",
        "\n",
        "PMC1074505.xml.json\n",
        "\n",
        "PMC1074749.xml.json\n",
        "...\n",
        "\n",
        "~ 28G of json files\n"
      ],
      "metadata": {
        "id": "e_byMXi95YBu"
      }
    },
    {
      "cell_type": "code",
      "source": [
        "!cp /content/document_parses/pmc_json/PMC9034168.xml.json PMC9034168.xml.json\n",
        "!cp /content/document_parses/pmc_json/PMC7128104.xml.json PMC7128104.xml.json\n",
        "!cp /content/document_parses/pmc_json/PMC8769777.xml.json PMC8769777.xml.json\n",
        "!cp /content/document_parses/pmc_json/PMC7926205.xml.json PMC7926205.xml.json\n",
        "!cp /content/document_parses/pmc_json/PMC8799642.xml.json PMC8799642.xml.json\n",
        "!cp /content/document_parses/pmc_json/PMC7124374.xml.json PMC7124374.xml.json\n",
        "!cp /content/document_parses/pmc_json/PMC8812323.xml.json PMC8812323.xml.json\n",
        "!cp /content/document_parses/pmc_json/PMC7446676.xml.json PMC7446676.xml.json\n",
        "!cp /content/document_parses/pmc_json/PMC7436596.xml.json PMC7436596.xml.json\n",
        "!cp /content/document_parses/pmc_json/PMC8808276.xml.json PMC8808276.xml.json"
      ],
      "metadata": {
        "id": "L3fUdPdlJZrL"
      },
      "execution_count": null,
      "outputs": []
    },
    {
      "cell_type": "code",
      "source": [
        "!wc /content/document_parses/pmc_json/PMC9034168.xml.json PMC9034168.xml.json\n",
        "!wc /content/document_parses/pmc_json/PMC7128104.xml.json PMC7128104.xml.json\n",
        "!wc /content/document_parses/pmc_json/PMC8769777.xml.json PMC8769777.xml.json\n",
        "!wc /content/document_parses/pmc_json/PMC7926205.xml.json PMC7926205.xml.json\n",
        "!wc /content/document_parses/pmc_json/PMC8799642.xml.json PMC8799642.xml.json\n",
        "!wc /content/document_parses/pmc_json/PMC7124374.xml.json PMC7124374.xml.json\n",
        "!wc /content/document_parses/pmc_json/PMC8812323.xml.json PMC8812323.xml.json\n",
        "!wc /content/document_parses/pmc_json/PMC7446676.xml.json PMC7446676.xml.json\n",
        "!wc /content/document_parses/pmc_json/PMC7436596.xml.json PMC7436596.xml.json\n",
        "!wc /content/document_parses/pmc_json/PMC8808276.xml.json PMC8808276.xml.json"
      ],
      "metadata": {
        "id": "JJMZorcJ5gKs"
      },
      "execution_count": null,
      "outputs": []
    },
    {
      "cell_type": "code",
      "source": [
        "# ls /content/document_parses/pmc_json >pms_json.txt"
      ],
      "metadata": {
        "id": "ZNK5Eoct5dTq"
      },
      "execution_count": null,
      "outputs": []
    },
    {
      "cell_type": "code",
      "source": [
        "# !rm --recursive document_parses/pmc_json\n",
        "# !rm --recursive document_parses/pdf_json\n",
        "!rm document_parses.tar.gz"
      ],
      "metadata": {
        "id": "JsuPYd05utfQ"
      },
      "execution_count": null,
      "outputs": []
    },
    {
      "cell_type": "code",
      "source": [
        "!du -sh /content/document_parses/pmc_json"
      ],
      "metadata": {
        "colab": {
          "base_uri": "https://localhost:8080/"
        },
        "id": "fFKmfiIA9Q7a",
        "outputId": "87458a6b-0df7-4419-d35f-eb04d816c50f"
      },
      "execution_count": null,
      "outputs": [
        {
          "output_type": "stream",
          "name": "stdout",
          "text": [
            "28G\t/content/document_parses/pmc_json\n"
          ]
        }
      ]
    },
    {
      "cell_type": "code",
      "source": [
        "!mkdir /content/document_parses/pmc_json_sample"
      ],
      "metadata": {
        "id": "3dstcJcr-MJ8"
      },
      "execution_count": null,
      "outputs": []
    },
    {
      "cell_type": "markdown",
      "source": [
        "#Alternative: working with sample 100mw"
      ],
      "metadata": {
        "id": "EvojGBd6D-1o"
      }
    },
    {
      "cell_type": "code",
      "source": [
        "!wget https://heibox.uni-heidelberg.de/f/b420d407463d4a728feb/?dl=1\n",
        "!mv index.html?dl=1 document_parses_sample0.tar.gz\n"
      ],
      "metadata": {
        "colab": {
          "base_uri": "https://localhost:8080/"
        },
        "id": "SsWWcMBwEEpj",
        "outputId": "b5deb0dc-d9a9-43bc-b1e4-2985cdc4aea5"
      },
      "execution_count": null,
      "outputs": [
        {
          "output_type": "stream",
          "name": "stdout",
          "text": [
            "--2022-10-06 20:09:29--  https://heibox.uni-heidelberg.de/f/b420d407463d4a728feb/?dl=1\n",
            "Resolving heibox.uni-heidelberg.de (heibox.uni-heidelberg.de)... 129.206.7.113\n",
            "Connecting to heibox.uni-heidelberg.de (heibox.uni-heidelberg.de)|129.206.7.113|:443... connected.\n",
            "HTTP request sent, awaiting response... 302 Found\n",
            "Location: https://heibox.uni-heidelberg.de/seafhttp/files/999fa69c-301d-4614-ad48-30cc4b5b15b6/document_parses_sample.tar.gz [following]\n",
            "--2022-10-06 20:09:30--  https://heibox.uni-heidelberg.de/seafhttp/files/999fa69c-301d-4614-ad48-30cc4b5b15b6/document_parses_sample.tar.gz\n",
            "Reusing existing connection to heibox.uni-heidelberg.de:443.\n",
            "HTTP request sent, awaiting response... 200 OK\n",
            "Length: 611303079 (583M) [application/octet-stream]\n",
            "Saving to: ‘index.html?dl=1’\n",
            "\n",
            "index.html?dl=1     100%[===================>] 582.98M  14.9MB/s    in 39s     \n",
            "\n",
            "2022-10-06 20:10:09 (14.9 MB/s) - ‘index.html?dl=1’ saved [611303079/611303079]\n",
            "\n"
          ]
        }
      ]
    },
    {
      "cell_type": "code",
      "source": [
        "!tar xvzf document_parses_sample0.tar.gz"
      ],
      "metadata": {
        "id": "4a1Mo4mHE2YO"
      },
      "execution_count": null,
      "outputs": []
    },
    {
      "cell_type": "code",
      "source": [
        "!rm document_parses_sample0.tar.gz"
      ],
      "metadata": {
        "id": "v7ci8O-CFSUG"
      },
      "execution_count": null,
      "outputs": []
    },
    {
      "cell_type": "code",
      "source": [
        "!du -sh /content/document_parses/pmc_json_sample/"
      ],
      "metadata": {
        "id": "VgP2hRdOFi88"
      },
      "execution_count": null,
      "outputs": []
    },
    {
      "cell_type": "markdown",
      "metadata": {
        "id": "Ecvdez_1e_oD"
      },
      "source": [
        "## Reading json directory and merging into text file(s)\n",
        "\n",
        "Run this cell to create the class; then run the next cell to execute on the directory \"document_parses/pmc_json\"\n",
        "\n",
        "This is a class for reading a directory with json files and writing them to a single file or split into several text file, with \"split_by_docs=N\", N documents in each file."
      ]
    },
    {
      "cell_type": "code",
      "metadata": {
        "id": "rW5WsBI-dNIN",
        "colab": {
          "base_uri": "https://localhost:8080/",
          "height": 74
        },
        "outputId": "b15b0de3-88db-42c3-962c-db31ca8d2dab"
      },
      "source": [
        "# -*- coding: utf-8 -*-\n",
        "# Python script to open each file, read json input and copy to one text file for subsequent processing\n",
        "import os, re, sys\n",
        "import json\n",
        "from collections import defaultdict\n",
        "\n",
        "class clJsonDir2txt(object):\n",
        "    '''\n",
        "    @author Bogdan Babych, IÜD, Heidelberg University\n",
        "    @email bogdan [dot] babych [at] iued [dot] uni-heidelberg [dot] de\n",
        "    a script for processing covid-19 corpus:\n",
        "    @url https://www.semanticscholar.org/cord19 @url https://www.semanticscholar.org/cord19/download\n",
        "        recursively reads files from a directory, and glues them together into a single corpus file\n",
        "\n",
        "    @todo:\n",
        "        working with sections - collect titles of all sections; frequent sections; select argumentative sections (e.g., discussion, analysis...)\n",
        "        - to compare descriptive and argumentative parts of the corpus\n",
        "\n",
        "        experimenting with different annotations (pos, parsing... ); MT quality evaluation...\n",
        "    '''\n",
        "    def __init__(self, SDirName, output_file = 'corpus_out.txt', textfilter=None, include_title = True, include_sectionNames = True, include_refs = True, include_authors = True, tag='doc', id=1000000, split_by_docs = 0, copy_docs = 0): # initialising by openning the directories\n",
        "        self.SOutput_file = output_file\n",
        "        self.STextFilter = textfilter\n",
        "        self.RFilter = re.compile(textfilter, re.IGNORECASE | re.MULTILINE)\n",
        "        self.BInclTitle = include_title # implemented\n",
        "        self.BInclSectionNames = include_sectionNames # implemented\n",
        "        self.BInclRefs = include_refs # not implemented yet\n",
        "        self.BInclAuth = include_authors # not implemented yet\n",
        "        self.STag = tag\n",
        "        self.ID = id\n",
        "        self.ISplitByDocs = int(split_by_docs)\n",
        "        self.ICopyDocs = int(copy_docs)\n",
        "        # global dictionary of section names (to check and make rules...)\n",
        "        self.DSectNames = defaultdict(int)\n",
        "        # print(self.ISplitByDocs)\n",
        "        self.openDir(SDirName)\n",
        "        self.printDictionary(self.DSectNames, 'corpus-section-names.txt')\n",
        "        return\n",
        "\n",
        "\n",
        "    def openDir(self, path): # implementation of recursively openning directories from a given rule directory and reading each file recursively into a string\n",
        "        i = 0\n",
        "        path_sample = path + '_sample'\n",
        "        if self.ISplitByDocs:\n",
        "            SPartFile = \"part1000000\" + self.SOutput_file\n",
        "            FOut = open(SPartFile, 'w')\n",
        "        else:\n",
        "            FOut = open(self.SOutput_file, 'w')\n",
        "\n",
        "        for root,d_names,f_names in os.walk(path):\n",
        "            for f in f_names:\n",
        "                i+=1\n",
        "                if i%10000==0: print(str(i) + '. Processing: ' + f)\n",
        "                fullpath = os.path.join(root, f)\n",
        "                # print(fullpath)\n",
        "                try:\n",
        "                    FIn = open(fullpath,'r')\n",
        "                    SIn = FIn.read()\n",
        "                    # apply text filter, if not None\n",
        "                    if self.STextFilter and (re.search(self.RFilter, SIn) == None): continue\n",
        "                    SText2Write = self.procFile(SIn,f,i)\n",
        "                    if SText2Write: FOut.write(SText2Write) # if the string is not empty then write to file\n",
        "                    FIn.close()\n",
        "                except:\n",
        "                    print(f'file {f} cannot be read or processed')\n",
        "                finally:\n",
        "                    # splitting output into chunks of \"split_by_docs\" size\n",
        "                    if self.ISplitByDocs and (i % self.ISplitByDocs == 0): # if self.ISplitByDocs == 0 then everything goes into one file; if this > 0 then\n",
        "                        SPartFile = \"part\" + str(1000000 + i) + self.SOutput_file # generate new file name\n",
        "                        FOut.flush()\n",
        "                        FOut.close()\n",
        "                        FOut = open(SPartFile, 'w')\n",
        "                    if self.ICopyDocs and (i >= self.ICopyDocs) and (i < (self.ICopyDocs + self.ISplitByDocs)):\n",
        "                        try:\n",
        "                            SOutputDirN = root + '_sample'\n",
        "                            SOutputFN = os.path.join(SOutputDirN, f)\n",
        "                            os.system(f'cp {fullpath} {SOutputFN}')\n",
        "                        except:\n",
        "                            print('.')\n",
        "\n",
        "        FOut.flush()\n",
        "        FOut.close()\n",
        "\n",
        "        return\n",
        "\n",
        "\n",
        "    def procFile(self, SIn,SFNameIn,i): # sending each json string for extraction of text and attaching an correct tags to each output string output string\n",
        "        STagOpen = '<' + self.STag + ' id=\"' + self.STag + str(self.ID + i)  + '\">\\n'\n",
        "        STagClose = '\\n</' + self.STag + '>\\n\\n'\n",
        "        SText4Corpus = self.getJson(SIn, SFNameIn)\n",
        "        if SText4Corpus:\n",
        "            return STagOpen + SText4Corpus + STagClose\n",
        "        else:\n",
        "            print('\\tNo data read from: ' + SFNameIn)\n",
        "            return None\n",
        "\n",
        "\n",
        "    def getJson(self, SIn, SFNameIn): # for each file-level string read from a file: managing internal structure of the covid-19 json file\n",
        "        LOut = [] # collecting a list of strings\n",
        "        try:\n",
        "            DDoc = json.loads(SIn)\n",
        "        except:\n",
        "            print('\\t\\t' + SFNameIn + ' => error reading json2dictionary')\n",
        "            return None\n",
        "        # metadata:\n",
        "        try:\n",
        "            DMetaData = DDoc['metadata']\n",
        "            if DMetaData:\n",
        "                SMetaData = self.getJson_Metadata(DMetaData)\n",
        "                if SMetaData: LOut.append(SMetaData)\n",
        "        except:\n",
        "            print('\\t\\t\\t' + SFNameIn + ' ====> no metadata')\n",
        "            DMetaData = None\n",
        "        # body text\n",
        "        try:\n",
        "            LBodyText = DDoc['body_text']\n",
        "            if LBodyText:\n",
        "                SBodyText = self.getJson_BodyText(LBodyText)\n",
        "                LOut.append(SBodyText)\n",
        "        except:\n",
        "            print('\\t\\t\\t' + SFNameIn + ' ====> no body_text')\n",
        "            LBodyText = None\n",
        "        # further: to implement references\n",
        "\n",
        "        SText = '\\n\\n'.join(LOut)\n",
        "        return SText\n",
        "\n",
        "\n",
        "    def getJson_Metadata(self, DIn): # converts interesting parts of metadata into a string\n",
        "        SMetadata = ''\n",
        "        LMetadata = []\n",
        "        try: STitle = DIn[\"title\"]\n",
        "        except: STitle = None\n",
        "        if STitle and self.BInclTitle:\n",
        "            LMetadata.append(STitle)\n",
        "\n",
        "        # to implement reading of authors' names\n",
        "\n",
        "        if LMetadata: SMetadata = '\\n\\n'.join(LMetadata)\n",
        "        return SMetadata\n",
        "\n",
        "\n",
        "    def getJson_BodyText(self, LIn): # converts interesting parts of the body texts into a string\n",
        "        SBodyText = ''\n",
        "        LBodyText = []\n",
        "        SSectionName0 = '' # current section name set to empty for a new text\n",
        "        # todo: later, in post-processing stage for the whole corpus, maybe after lemmatization...\n",
        "        # ISampleNumber = 0 # samples of 100 words in text; they do not cross section boundaries \n",
        "\n",
        "        for DParagraph in LIn:\n",
        "            # sections added 2022-09-28\n",
        "            try:\n",
        "                # DParagraphs[\"section\"] ## distinction between different sections....\n",
        "                SSectionName = DParagraph[\"section\"]\n",
        "                # normalizing new section name (1)\n",
        "                SSectionName = SSectionName.replace(\"\\n\", \" \")\n",
        "\n",
        "                if self.BInclSectionNames and SSectionName: # if we opted to include section names and section name is not empty\n",
        "                    if SSectionName != SSectionName0: # if we found a new section name\n",
        "                        # processing section name\n",
        "                        SSectionName0 = SSectionName # change the current section name\n",
        "\n",
        "                        # normalizing section name (2)\n",
        "                        SSectionNameNorm = SSectionName.lower()\n",
        "                        SSectionNameNorm = re.sub('[0-9\\.]+', ' ', SSectionNameNorm)\n",
        "                        SSectionNameNorm = re.sub('[ ]+', ' ', SSectionNameNorm)\n",
        "                        SSectionNameNorm = SSectionNameNorm.strip()\n",
        "                        \n",
        "                        self.DSectNames[SSectionNameNorm] += 1\n",
        "                        SSect4text = f'<section sName=\"{SSectionNameNorm}\">\\n{SSectionName}\\n</section>'\n",
        "\n",
        "                        LBodyText.append(SSect4text)\n",
        "            except:\n",
        "                print('S!',)\n",
        "                continue\n",
        "            # first original section (we extract text after extracting section name)\n",
        "            try:\n",
        "                ## DParagraphs[section] ## -- later on >> distinction between different sections....\n",
        "                SParagraph = DParagraph[\"text\"]\n",
        "                LBodyText.append(SParagraph)\n",
        "            except:\n",
        "                print('!',)\n",
        "                continue\n",
        "\n",
        "\n",
        "\n",
        "        SBodyText = '\\n\\n'.join(LBodyText)\n",
        "        return SBodyText\n",
        "\n",
        "    def printDictionary(self, DFreq, SFOutDict):\n",
        "        FOutDict = open(SFOutDict, 'w')\n",
        "        for key, val in sorted(DFreq.items(), key=lambda x: x[1], reverse=True):\n",
        "            FOutDict.write(f'{key}\\t{str(val)}\\n')\n",
        "        FOutDict.flush()\n",
        "        FOutDict.close()\n",
        "    \n",
        "\n",
        "\n",
        "\n",
        "# arguments:\n",
        "'''\n",
        "        sys.argv[1], # obligatory: input directory name;\n",
        "            other arguments optional:\n",
        "            output_file = 'covid19corpus.txt',\n",
        "            textfilter = None, # if this is string, only texts containing it are collected, e.g., covid\n",
        "            include_title = True, # include or exclude title\n",
        "            include_refs = False, # not implemented yet: include or exclude references\n",
        "            split_by_docs=0 # split by groups of n documents; if 0 then write to one file\n",
        "\n",
        "'''\n",
        "\n",
        "'''if __name__ == '__main__':\n",
        "    OJsonDir2txt = clJsonDir2txt(sys.argv[1], output_file = 'covid19corpus.txt', textfilter=None, include_title = True, include_sectionNames = True, include_refs = False, split_by_docs=0, copy_docs=240000)\n",
        "'''\n"
      ],
      "execution_count": null,
      "outputs": [
        {
          "output_type": "execute_result",
          "data": {
            "text/plain": [
              "\"if __name__ == '__main__':\\n    OJsonDir2txt = clJsonDir2txt(sys.argv[1], output_file = 'covid19corpus.txt', textfilter=None, include_title = True, include_sectionNames = True, include_refs = False, split_by_docs=0, copy_docs=240000)\\n\""
            ],
            "application/vnd.google.colaboratory.intrinsic+json": {
              "type": "string"
            }
          },
          "metadata": {},
          "execution_count": 5
        }
      ]
    },
    {
      "cell_type": "markdown",
      "source": [
        "## full corpus:"
      ],
      "metadata": {
        "id": "FJOv50sk7yDR"
      }
    },
    {
      "cell_type": "code",
      "metadata": {
        "id": "n2EUP7kS5fkW"
      },
      "source": [
        "# remove parameter textfilter='covid', to return all documents\n",
        "# change parameter split_by_docs=40000 to split_by_docs=0 to return a single file instead of ~5 parts with <40000 in each\n",
        "OJsonDir2txt = clJsonDir2txt(\"document_parses/pmc_json\", output_file = 'cord19.txt', textfilter='covid', include_title = True, include_sectionNames = True, include_refs = False, split_by_docs=40000, copy_docs=240000)\n"
      ],
      "execution_count": null,
      "outputs": []
    },
    {
      "cell_type": "markdown",
      "metadata": {
        "id": "i2zYiDkn5Vbo"
      },
      "source": [
        "## numbers from previous version\n",
        "This cell will executre reading of json files into a single (or multiple) files\n",
        "\n",
        "Change the value of \"split_by_docs=0\" to \"split_by_docs=10000\" or any number ; this will create several corpus files with 10000 or any required number fo documents per file, which you wish to have.\n",
        "\n",
        "\n",
        "Approximate execution time ~10 min\n",
        "\n",
        "\n",
        "File size to download ~4.3 GB\n",
        "\n",
        "It contains ~198.000 documents,\n",
        "\n",
        "~ 671.578.587 words\n",
        "\n",
        "~ 19.381.647 paragraphs (including empty lines, i.e., ~10M real paragraphs)\n",
        "\n",
        "~ 4.619.100.883 characters\n",
        "\n",
        "## numbers for the last version\n",
        "Approximate execution time ~20 min\n",
        "\n",
        "8 BNC-size (100mw) files are generted, containg together\n",
        "\n",
        "~ 315.000 documents\n",
        "\n",
        "  827.118.629 words\n",
        "\n",
        "   22.094.653 paragraphs\n",
        "\n",
        "5.650.921.315 characters\n",
        "\n",
        "\n",
        "Download time can take up to 1 hour depending on your connection speed.\n",
        "\n",
        "To split into ~BNC size chunks (100MW), split into groups of ~40000 documents (in the following cell set \"split_by_docs=20000\")\n"
      ]
    },
    {
      "cell_type": "code",
      "source": [],
      "metadata": {
        "id": "VRGnoGMTH_gl"
      },
      "execution_count": null,
      "outputs": []
    },
    {
      "cell_type": "markdown",
      "source": [
        "writing frequent section names (ordered by descending frequency, from highest to 1)"
      ],
      "metadata": {
        "id": "eTbi965g2zqL"
      }
    },
    {
      "cell_type": "code",
      "source": [
        "!head --lines=500000 part1240000cord19.txt >part1240000cord19-500k.txt"
      ],
      "metadata": {
        "id": "0ELJw_EvK133"
      },
      "execution_count": null,
      "outputs": []
    },
    {
      "cell_type": "code",
      "source": [
        "!ls document_parses/pmc_json_sample | wc -l\n",
        "!du -sh document_parses/pmc_json_sample"
      ],
      "metadata": {
        "colab": {
          "base_uri": "https://localhost:8080/"
        },
        "id": "wkPWJaJLOG_e",
        "outputId": "eb830fb2-2f6a-4e21-8570-a5836bbc26ed"
      },
      "execution_count": null,
      "outputs": [
        {
          "output_type": "stream",
          "name": "stdout",
          "text": [
            "40000\n",
            "3.6G\tdocument_parses/pmc_json_sample\n"
          ]
        }
      ]
    },
    {
      "cell_type": "code",
      "source": [
        "!tar cvzf document_parses_sample.tar.gz document_parses/pmc_json_sample"
      ],
      "metadata": {
        "id": "ZCW92xAFPQtT"
      },
      "execution_count": null,
      "outputs": []
    },
    {
      "cell_type": "code",
      "source": [
        "!head --lines=75 /content/corpus-section-names.txt"
      ],
      "metadata": {
        "id": "kJeGtnHK5BJS"
      },
      "execution_count": null,
      "outputs": []
    },
    {
      "cell_type": "code",
      "source": [
        "!head --lines=1000 /content/corpus-section-names.txt > corpus-selection-names-top1000.txt"
      ],
      "metadata": {
        "id": "6xEeB_bip1sj"
      },
      "execution_count": null,
      "outputs": []
    },
    {
      "cell_type": "markdown",
      "metadata": {
        "id": "gZN2v7snE7iQ"
      },
      "source": [
        "If you have split the text into parts, you can see the number of words in each part using this command:"
      ]
    },
    {
      "cell_type": "code",
      "metadata": {
        "id": "IIr8NG15EVro",
        "colab": {
          "base_uri": "https://localhost:8080/"
        },
        "outputId": "fbb9dcf5-4a10-4836-dad6-3d9e90568209"
      },
      "source": [
        "!wc part*"
      ],
      "execution_count": null,
      "outputs": [
        {
          "output_type": "stream",
          "name": "stdout",
          "text": [
            "   4085687  108914903  752390539 part1000000cord19.txt\n",
            "   4083605  109685695  756986287 part1040000cord19.txt\n",
            "   4117431  110113881  760911812 part1080000cord19.txt\n",
            "   4085114  109782614  757565426 part1120000cord19.txt\n",
            "   4156737  110454560  764015682 part1160000cord19.txt\n",
            "   4051419  109593018  756536541 part1200000cord19.txt\n",
            "   4110526  110115301  761073243 part1240000cord19.txt\n",
            "   3639938   98300665  678104874 part1280000cord19.txt\n",
            "  32330457  866960637 5987584404 total\n"
          ]
        }
      ]
    },
    {
      "cell_type": "code",
      "source": [
        "!gzip part1000000cord19.txt\n",
        "!gzip part1040000cord19.txt\n",
        "!gzip part1080000cord19.txt\n",
        "!gzip part1120000cord19.txt\n",
        "!gzip part1160000cord19.txt\n",
        "!gzip part1200000cord19.txt\n",
        "!gzip part1240000cord19.txt\n",
        "!gzip part1280000cord19.txt"
      ],
      "metadata": {
        "id": "TB_sGebiyb08"
      },
      "execution_count": null,
      "outputs": []
    },
    {
      "cell_type": "markdown",
      "source": [
        "## Alternative: working with sample 100mw"
      ],
      "metadata": {
        "id": "oi-DSCshH8a8"
      }
    },
    {
      "cell_type": "code",
      "source": [
        "OJsonDir2txt = clJsonDir2txt(\"document_parses/pmc_json_sample\", output_file = 'cord19.txt', textfilter='covid', include_title = True, include_sectionNames = True, include_refs = False, split_by_docs=0, copy_docs=0)\n"
      ],
      "metadata": {
        "colab": {
          "base_uri": "https://localhost:8080/"
        },
        "id": "hqNr0807I7tx",
        "outputId": "f4377b95-4951-46ec-9f61-f54905e53092"
      },
      "execution_count": null,
      "outputs": [
        {
          "output_type": "stream",
          "name": "stdout",
          "text": [
            "10000. Processing: PMC7531324.xml.json\n",
            "20000. Processing: PMC8588348.xml.json\n",
            "30000. Processing: PMC8897106.xml.json\n",
            "40000. Processing: PMC8634281.xml.json\n"
          ]
        }
      ]
    },
    {
      "cell_type": "code",
      "source": [
        "!head --lines=10000 cord19.txt >cord19_10k.txt"
      ],
      "metadata": {
        "id": "MIQbWMZ2KAF_"
      },
      "execution_count": null,
      "outputs": []
    },
    {
      "cell_type": "markdown",
      "metadata": {
        "id": "EmZdmvgVFF1v"
      },
      "source": [
        "To see the number of words, paragraphs in your corpus you can use this command:"
      ]
    },
    {
      "cell_type": "code",
      "metadata": {
        "id": "8p8xxDTvAkv_",
        "colab": {
          "base_uri": "https://localhost:8080/"
        },
        "outputId": "02e4ab86-a1d1-49bf-851b-b7ca51f4b7d8"
      },
      "source": [
        "!wc cord19_10k.txt\n",
        "!wc cord19.txt"
      ],
      "execution_count": null,
      "outputs": [
        {
          "output_type": "stream",
          "name": "stdout",
          "text": [
            "  10000  278029 1915103 cord19_10k.txt\n",
            "  4110512 110114834 761070060 cord19.txt\n"
          ]
        }
      ]
    },
    {
      "cell_type": "markdown",
      "source": [
        "## TreeTagger run on corpus"
      ],
      "metadata": {
        "id": "DiP3Lo53MFV9"
      }
    },
    {
      "cell_type": "code",
      "source": [
        "%%bash\n",
        "rm -r treetagger/"
      ],
      "metadata": {
        "id": "ojknZk14OaOl"
      },
      "execution_count": null,
      "outputs": []
    },
    {
      "cell_type": "code",
      "source": [
        "%%bash\n",
        "# downloading and testing TreeTagger\n",
        "mkdir treetagger\n",
        "cd treetagger\n",
        "# Download the tagger package for your system (PC-Linux, Mac OS-X, ARM64, ARMHF, ARM-Android, PPC64le-Linux).\n",
        "wget https://cis.lmu.de/~schmid/tools/TreeTagger/data/tree-tagger-linux-3.2.4.tar.gz\n",
        "tar -xzvf tree-tagger-linux-3.2.4.tar.gz\n",
        "# Download the tagging scripts into the same directory.\n",
        "wget https://cis.lmu.de/~schmid/tools/TreeTagger/data/tagger-scripts.tar.gz\n",
        "gunzip tagger-scripts.tar.gz\n",
        "# Download the installation script install-tagger.sh.\n",
        "wget https://cis.lmu.de/~schmid/tools/TreeTagger/data/install-tagger.sh\n",
        "# Download the parameter files for the languages you want to process.\n",
        "# list of all files (parameter files) https://cis.lmu.de/~schmid/tools/TreeTagger/#parfiles\n",
        "wget https://cis.lmu.de/~schmid/tools/TreeTagger/data/english.par.gz\n",
        "sh install-tagger.sh\n",
        "cd ..\n",
        "sudo pip install treetaggerwrapper\n",
        "# changing options: no-unknown, sgml, lemma\n",
        "mv /content/treetagger/cmd/tree-tagger-english /content/tree-tagger-english0\n",
        "awk '{ if (NR == 9) print \"OPTIONS=\\\"-token -lemma -sgml -no-unknown\\\"\"; else print $0}' /content/tree-tagger-english0 > /content/treetagger/cmd/tree-tagger-english\n",
        "chmod a+x ./treetagger/cmd/tree-tagger-english\n",
        "\n",
        "# downloading German and Georgian \n",
        "wget https://heibox.uni-heidelberg.de/f/ec8226edebb64a359407/?dl=1\n",
        "mv index.html?dl=1 /content/treetagger/lib/german-utf8.par\n",
        "wget https://heibox.uni-heidelberg.de/f/9183090d2bdb41e09055/?dl=1\n",
        "mv index.html?dl=1 /content/treetagger/lib/georgian.par\n",
        "\n",
        "wget https://heibox.uni-heidelberg.de/f/9cafab0509d64ed1ac4b/?dl=1\n",
        "mv index.html?dl=1 /content/treetagger/cmd/tree-tagger-georgian2\n",
        "# German2 = -no-unknown \n",
        "# note: tree-tagger-german will not work, as parameter files have not been downloaded, onlz use tree-tagger-german2\n",
        "wget https://heibox.uni-heidelberg.de/f/acb9b8a2fa4f40e08f8a/?dl=1\n",
        "mv index.html?dl=1 /content/treetagger/cmd/tree-tagger-german2\n",
        "chmod a+x /content/treetagger/cmd/tree-tagger-georgian2\n",
        "chmod a+x /content/treetagger/cmd/tree-tagger-german2\n",
        "\n",
        "# test text download\n",
        "wget https://heibox.uni-heidelberg.de/f/cdf240db84ca4718b718/?dl=1\n",
        "mv index.html?dl=1 go1984en.txt\n",
        "wget https://heibox.uni-heidelberg.de/f/ea06aa47fe2d49959a62/?dl=1\n",
        "mv index.html?dl=1 go1984de.txt\n",
        "wget https://heibox.uni-heidelberg.de/f/318b32556cdc44d38238/?dl=1\n",
        "mv index.html?dl=1 go1984ka.txt\n"
      ],
      "metadata": {
        "id": "IGnqej7-MDkW"
      },
      "execution_count": null,
      "outputs": []
    },
    {
      "cell_type": "code",
      "source": [
        "!pwd"
      ],
      "metadata": {
        "id": "oBSr4WXhPa6f"
      },
      "execution_count": null,
      "outputs": []
    },
    {
      "cell_type": "code",
      "source": [
        "# sample - Tagging\n",
        "!./treetagger/cmd/tree-tagger-english go1984en.txt >go1984en_2_vert.txt\n",
        "!./treetagger/cmd/tree-tagger-german2 go1984de.txt >go1984de_2_vert.txt\n",
        "!./treetagger/cmd/tree-tagger-georgian2 go1984ka.txt >go1984ka_2_vert.txt"
      ],
      "metadata": {
        "id": "lFrfgzINPhwg"
      },
      "execution_count": null,
      "outputs": []
    },
    {
      "cell_type": "code",
      "source": [
        "!./treetagger/cmd/tree-tagger-english cord19_10k.txt >cord19_10k.vert"
      ],
      "metadata": {
        "id": "Z0EfdXOJQXMQ"
      },
      "execution_count": null,
      "outputs": []
    },
    {
      "cell_type": "code",
      "source": [
        "!./treetagger/cmd/tree-tagger-english cord19.txt >cord19.vert"
      ],
      "metadata": {
        "colab": {
          "base_uri": "https://localhost:8080/"
        },
        "id": "bQwqTmdIQfIb",
        "outputId": "90b70e05-2c28-4547-bd7f-d329f3889cd5"
      },
      "execution_count": null,
      "outputs": [
        {
          "output_type": "stream",
          "name": "stdout",
          "text": [
            "\treading parameters ...\n",
            "\ttagging ...\n",
            "126567000\t finished.\n"
          ]
        }
      ]
    },
    {
      "cell_type": "code",
      "source": [
        "!tar cvzf cord19-vert.tgz cord19.vert"
      ],
      "metadata": {
        "colab": {
          "base_uri": "https://localhost:8080/"
        },
        "id": "bMJMxjTpSYSP",
        "outputId": "e90f934c-6f1f-475a-dcc7-8c0d165d505b"
      },
      "execution_count": null,
      "outputs": [
        {
          "output_type": "stream",
          "name": "stdout",
          "text": [
            "cord19.vert\n"
          ]
        }
      ]
    },
    {
      "cell_type": "code",
      "source": [
        "!awk -F '\\t' '{if(NF==3) printf \"%s \", $3; else printf \"\\n%s\\n\", $0}' < cord19_10k.vert >cord19_10k.lem"
      ],
      "metadata": {
        "id": "I1l6ud33ZYIv"
      },
      "execution_count": null,
      "outputs": []
    },
    {
      "cell_type": "code",
      "source": [
        "# !awk -F '\\t' '(NF==3){printf \"%s \", $3; if(FNR % 10000 == 0){printf \"\\n\"}}' < cord19_1k.vert >cord19_1k.lem\n",
        "# !awk -F '\\t' '{if(NF==3) printf \"%s \", $3; else printf \"\\n%s\\n\", $0}' < cord19_1k.vert >cord19_1k02.lem\n",
        "\n",
        "!awk -F '\\t' '{if(NF==3) printf \"%s \", $3; else printf \"\\n%s\\n\", $0}' < cord19.vert >cord19.lem"
      ],
      "metadata": {
        "id": "ZFASqb85Q3Mw"
      },
      "execution_count": null,
      "outputs": []
    },
    {
      "cell_type": "code",
      "source": [
        "!tar cvzf cord19-lem.tgz cord19.lem"
      ],
      "metadata": {
        "colab": {
          "base_uri": "https://localhost:8080/"
        },
        "id": "Uzg_XhWCY-Hm",
        "outputId": "86986b51-0596-4476-ab82-2f2ddb059d86"
      },
      "execution_count": null,
      "outputs": [
        {
          "output_type": "stream",
          "name": "stdout",
          "text": [
            "cord19.lem\n"
          ]
        }
      ]
    },
    {
      "cell_type": "code",
      "source": [
        "# normalising xml\n",
        "import os, re, sys\n",
        "FOut = open('cord19_10k.lems', 'w')\n",
        "with open('cord19_10k.lem', 'r') as file:\n",
        "# FOut = open('cord19.lems', 'w')\n",
        "# with open('cord19.lem', 'r') as file:\n",
        "\n",
        "    for line in file:\n",
        "        if line.startswith('<doc'): BStartDoc = True\n",
        "        if line.startswith('</section>'): continue\n",
        "        if line.startswith('<section') and BStartDoc == True: BStartDoc = False; FOut.write(line); continue\n",
        "        if line.startswith('<section') and BStartDoc == False: FOut.write('</section>\\n' + line); continue\n",
        "        if line.startswith('</doc>'): FOut.write('</section>\\n' + line); continue\n",
        "        FOut.write(line)\n",
        "\n",
        "    # data = file.read()\n"
      ],
      "metadata": {
        "id": "-vn4dXn6g7wB"
      },
      "execution_count": null,
      "outputs": []
    },
    {
      "cell_type": "code",
      "source": [
        "!head --lines=20 cord19.lems"
      ],
      "metadata": {
        "id": "oFdrYZfFjJf4"
      },
      "execution_count": null,
      "outputs": []
    },
    {
      "cell_type": "code",
      "source": [
        "!tar cvzf cord19-lems.tgz cord19.lems"
      ],
      "metadata": {
        "colab": {
          "base_uri": "https://localhost:8080/"
        },
        "id": "IBTgjgVCCNaq",
        "outputId": "15a02028-0a5d-40e5-cff3-d95375057ca0"
      },
      "execution_count": null,
      "outputs": [
        {
          "output_type": "stream",
          "name": "stdout",
          "text": [
            "cord19.lems\n"
          ]
        }
      ]
    },
    {
      "cell_type": "markdown",
      "source": [
        "## downloading the file which is ready..."
      ],
      "metadata": {
        "id": "7610I-RBHYDu"
      }
    },
    {
      "cell_type": "code",
      "source": [
        "!wget https://heibox.uni-heidelberg.de/f/3bf283c19c5742d1ac3b/?dl=1\n",
        "!mv index.html?dl=1 cord19-lems.tgz"
      ],
      "metadata": {
        "id": "kiU-AngRHLfX"
      },
      "execution_count": null,
      "outputs": []
    },
    {
      "cell_type": "code",
      "source": [
        "!wget https://heibox.uni-heidelberg.de/f/69e0c866bf3c4ccc8435/?dl=1\n",
        "!mv index.html?dl=1 cord19-10k.lems"
      ],
      "metadata": {
        "id": "1o-ZbIEFHsT4"
      },
      "execution_count": null,
      "outputs": []
    },
    {
      "cell_type": "code",
      "source": [
        "!tar xvzf cord19-lems.tgz\n",
        "!wc cord19.lems"
      ],
      "metadata": {
        "id": "lp93jNKuZB8p"
      },
      "execution_count": null,
      "outputs": []
    },
    {
      "cell_type": "code",
      "source": [
        "!wc cord19-10k.lems\n",
        "!head --lines=20 cord19-10k.lems"
      ],
      "metadata": {
        "id": "K14PByNIH9lh"
      },
      "execution_count": null,
      "outputs": []
    },
    {
      "cell_type": "markdown",
      "source": [
        "## end: lemmatization"
      ],
      "metadata": {
        "id": "QFq8Lfq9ZoOu"
      }
    },
    {
      "cell_type": "markdown",
      "source": [
        "## Sections and 100-word samples\n",
        "\n",
        "\n"
      ],
      "metadata": {
        "id": "tLABeiVpZ_hm"
      }
    },
    {
      "cell_type": "code",
      "source": [
        "# downloading mapping rules\n",
        "!wget https://heibox.uni-heidelberg.de/f/32342a3aa0d04a259bf9/?dl=1\n",
        "\n"
      ],
      "metadata": {
        "id": "9hny9cLc2wn-"
      },
      "execution_count": null,
      "outputs": []
    },
    {
      "cell_type": "code",
      "source": [
        "!mv index.html?dl=1 covid-sections-and-keywords.zip\n",
        "!unzip covid-sections-and-keywords.zip"
      ],
      "metadata": {
        "id": "fhLLSDYy287z"
      },
      "execution_count": null,
      "outputs": []
    },
    {
      "cell_type": "code",
      "source": [
        "import os, re, sys\n",
        "from bs4 import BeautifulSoup\n",
        "class clXml2Stat(object):\n",
        "    '''\n",
        "    The class will create statistics for documents and sections marked in the file\n",
        "    '''\n",
        "    def __init__(self, SFXmlInput, output_file = 'corpus_out_stat.txt'):\n",
        "        # FXmlInput = open(SFXmlInput, 'r')\n",
        "        with open(SFXmlInput, 'r') as file:\n",
        "            data = file.read()\n",
        "        FTsvOutput = open(output_file, 'w')\n",
        "        FTsvOutputNum = open('n_' + output_file, 'w')\n",
        "        \n",
        "        print('file read into memory')\n",
        "        FSectionMap = open('covid-sections.tsv', 'r')\n",
        "        self.DSectionMap = self.readTsv2dict(FSectionMap, 0, 2)\n",
        "        FSectionRules = open('covid_section_rules.tsv', 'r')\n",
        "        self.LTMapRules = self.readTsv2reRules(FSectionRules, 0, 1)\n",
        "        count = self.runMain(data, FTsvOutput, samplesize = 100)\n",
        "        print(str(count))\n",
        "\n",
        "        return\n",
        "\n",
        "    def readTsv2dict(self, FInTSV, IFieldLeft, IFieldRight):\n",
        "        DMap = {}\n",
        "        for SLine in FInTSV:\n",
        "            SLine = SLine.strip()\n",
        "            LLine = re.split('\\t', SLine)\n",
        "            try:\n",
        "                k = LLine[IFieldLeft]\n",
        "                v = LLine[IFieldRight]\n",
        "                DMap[k] = v\n",
        "            except:\n",
        "                continue\n",
        "        return DMap\n",
        "\n",
        "    def readTsv2reRules(self, FInTSV, IFieldLeft, IFieldRight, priority = ['Introduction', 'Statements', 'Methods', 'Conclusion', 'Discussion', 'Presentation', 'Background', 'Results', 'Remove']):\n",
        "        LTMap = []\n",
        "        DRe = {}\n",
        "        # initialising dictionary where the mapping will be done, then reversing\n",
        "        for el in priority:\n",
        "            DRe[el] = [] # first the list is empty\n",
        "        for SLine in FInTSV:\n",
        "            SLine = SLine.strip()\n",
        "            LLine = re.split('\\t', SLine)\n",
        "            try:\n",
        "                v = LLine[IFieldLeft]; v = v.strip()\n",
        "                k = LLine[IFieldRight]; k = k.strip()\n",
        "            except:\n",
        "                sys.stdout.write('f')\n",
        "                continue\n",
        "\n",
        "            try:\n",
        "                LWords2map = DRe[k]\n",
        "                LWords2map.append(v) # adding new word for the mapping\n",
        "                DRe[k] = LWords2map\n",
        "            except:\n",
        "                sys.stdout.write('d')\n",
        "                continue\n",
        "        \n",
        "        for el in priority:\n",
        "            print('el:' + el)\n",
        "            LRe = DRe[el]\n",
        "            SRe2map = '|'.join(LRe)\n",
        "            print('\\t' + SRe2map)\n",
        "            RE4map = re.compile(SRe2map)\n",
        "            TMap = (el, RE4map)\n",
        "            LTMap.append(TMap)\n",
        "\n",
        "        return LTMap\n",
        "    \n",
        "    # use instead the function readTsv2reRules (above)\n",
        "    def readTsv2lexMatch(self, FInTSV, IFieldLeft, IFieldRight, priority = ['KEY_N', 'EVAL', 'M_ARG']):\n",
        "        LTMap = []\n",
        "        return\n",
        "\n",
        "\n",
        "\n",
        "\n",
        "    def runMain(self, data, FTsvOutput, samplesize = 100):\n",
        "        soup = BeautifulSoup(data)\n",
        "        i = 0\n",
        "        gnorm = 0\n",
        "        grule = 0\n",
        "        gnomatch = 0\n",
        "        for doc in soup.find_all('doc'):\n",
        "            # print(type(str(doc)))\n",
        "            i+=1            \n",
        "            norm, rule, nomatch = self.procDoc(str(doc), FTsvOutput, i, samplesize)\n",
        "            gnorm += norm; grule += rule; gnomatch += nomatch\n",
        "            if i%1000 == 0:\n",
        "                print(str(i))\n",
        "            # print(str(i))\n",
        "        print(f'\\tgnorm={gnorm}\\tgrule={grule}\\tgnonorm={gnomatch}')\n",
        "        return i\n",
        "\n",
        "    def procDoc(self, SDoc, FTsvOutput, docnumber, samplesize = 100):\n",
        "        SDoc = SDoc.replace('\\n', ' ')\n",
        "        SDoc = SDoc.replace('\\t', ' ')\n",
        "        # LSections = re.findall('<section sname=\\\"([^\\\"]+)\\\">', SDoc, re.DOTALL | re.MULTILINE | re.IGNORECASE)\n",
        "        LTSections = re.findall('<section sname=\\\"([^\\\"]+)\\\">([^<]+)</section>', SDoc, re.DOTALL | re.MULTILINE | re.IGNORECASE)\n",
        "        # LSections = re.findall('<section([^<]+)</section>', SDoc, re.DOTALL | re.MULTILINE | re.IGNORECASE)\n",
        "        norm = 0\n",
        "        nomatch = 0\n",
        "        rule = 0\n",
        "        section_number = 0\n",
        "        for TSection in LTSections:\n",
        "            SSectName, SSectionText = TSection\n",
        "            SCatFound = False\n",
        "            section_number += 1\n",
        "\n",
        "            if SSectName in self.DSectionMap.keys():\n",
        "                SSectNameNorm = self.DSectionMap[SSectName]\n",
        "                norm += 1\n",
        "                SCatNorm = 'MAP'\n",
        "                SCatFound = True\n",
        "                \n",
        "            else:\n",
        "                for category, regexpression in self.LTMapRules:\n",
        "                    if re.search(regexpression, SSectName):\n",
        "                        SSectNameNorm = category\n",
        "                        SCatNorm = 'RULE'\n",
        "                        SCatFound = True\n",
        "                        rule += 1\n",
        "                        break\n",
        "                if SCatFound == False:\n",
        "                    SSectNameNorm = SSectName\n",
        "                    SCatNorm = 'NONORM'\n",
        "                    nomatch += 1\n",
        "            LSectionText = SSectionText.split(' ')\n",
        "            GLLSectionSamples = self.divide_chunks(LSectionText, samplesize)\n",
        "            LLSectionSamples = list(GLLSectionSamples)\n",
        "            LSectionSamplesLast = LLSectionSamples[-1]\n",
        "            try:\n",
        "                if len(LSectionSamplesLast) < samplesize:\n",
        "                    LLSectionSamples[-2].extend(LSectionSamplesLast)\n",
        "                    LLSectionSamples.pop()\n",
        "            except:\n",
        "                pass\n",
        "            \n",
        "            '''\n",
        "            print(LLSectionSamples)\n",
        "            for lw in LLSectionSamples:\n",
        "                print(len(lw))\n",
        "            print(' ')\n",
        "            '''\n",
        "\n",
        "            for lw in LLSectionSamples:\n",
        "                # print(len(lw))\n",
        "                sw = ' '.join(lw)\n",
        "\n",
        "            \n",
        "\n",
        "            FTsvOutput.write(str(docnumber) + '\\t' + str(section_number) + '\\t' + SCatNorm + '\\t' + SSectNameNorm + '\\t' + SSectionText + '\\n')\n",
        "            # print(TSection)\n",
        "        print(f'norm={norm}\\trule={rule}\\tnonorm={nomatch}')\n",
        "        return norm, rule, nomatch\n",
        "\n",
        "\n",
        "    def divide_chunks(self, l, n):\n",
        "        # looping till length l\n",
        "        for i in range(0, len(l), n):\n",
        "            yield l[i:i + n]\n",
        "\n",
        "    def procSection(self, SSectionText):\n",
        "        LSectionSamples = []\n",
        "        return LSectionSamples\n",
        "\n",
        "\n",
        "    '''\n",
        "    def runMain(self, data, FTsvOutput):\n",
        "        soup = BeautifulSoup(data)\n",
        "        i = 0\n",
        "        for doc in soup.find_all('doc'):\n",
        "            # print(doc)\n",
        "            sections = soup.find_all('section', doc)\n",
        "            # children = soup.findChildren()\n",
        "            k = 0\n",
        "            for section in sections:\n",
        "                k += 1\n",
        "                # print(str(k))\n",
        "                # print(section)\n",
        "            print('\\t' + str(k))\n",
        "\n",
        "            i += 1\n",
        "            print('.')\n",
        "\n",
        "        return i\n",
        "        '''\n",
        "\n",
        "# end: class\n",
        "\n",
        "'''if __name__ == '__main__':\n",
        "    OXml2Stat = clXml2Stat('/content/cord19_1k.lem', output_file = '/content/cord19_1k_stat.txt')\n",
        "\n",
        "'''"
      ],
      "metadata": {
        "colab": {
          "base_uri": "https://localhost:8080/",
          "height": 35
        },
        "id": "q99nzuyFaGi1",
        "outputId": "18ae6dda-0c38-4037-f9e6-19993d006570"
      },
      "execution_count": null,
      "outputs": [
        {
          "output_type": "execute_result",
          "data": {
            "text/plain": [
              "\"if __name__ == '__main__':\\n    OXml2Stat = clXml2Stat('/content/cord19_1k.lem', output_file = '/content/cord19_1k_stat.txt')\\n\\n\""
            ],
            "application/vnd.google.colaboratory.intrinsic+json": {
              "type": "string"
            }
          },
          "metadata": {},
          "execution_count": 103
        }
      ]
    },
    {
      "cell_type": "code",
      "source": [
        "OXml2Stat = clXml2Stat('/content/cord19_10k.lems', output_file = '/content/cord19_10k_stat.txt')"
      ],
      "metadata": {
        "colab": {
          "base_uri": "https://localhost:8080/"
        },
        "id": "hTMIz9i1emSw",
        "outputId": "41b87720-7f16-4894-ae94-3e40fc81dee9"
      },
      "execution_count": null,
      "outputs": [
        {
          "output_type": "stream",
          "name": "stdout",
          "text": [
            "file read into memory\n",
            "el:Introduction\n",
            "\tintroduction\n",
            "el:Statements\n",
            "\tauthor|contributions|conflict|interest|declaration|competing|funding|availability|statement|ethics|credit|authorship|contribution|publisher's|conflicts|publisher’s|note|ethical|approval|interests|disclosures|sources|financial|support|sponsorship|considerations|disclosure|acknowledgments|contributors|consent|sharing|guarantor|declarations|additional|provenance|peer|source|authors'|participate|acknowledgements|disclaimer|informed\n",
            "el:Methods\n",
            "\tmethod|statistical analysis|materials|data analysis|data collection|study design|participants|participants|study design|statistical analyses|statistical analyses|study population|study design and participants|analysis|methodology|measures|search strategy|data extraction|design|procedure|study population|procedure|procedures|setting|data sources|statistics|statistics|data analysis|eligibility criteria|study design and participants|measures|statistical methods|study selection|patients|inclusion and exclusion criteria|method|material and methods|study design and setting|sample size|data|patients|study setting|statistical analysis|cell culture|recruitment|data source|sample|design|outcome measures|study design and population|intervention|statistical methods|study participants|search strategy|inclusion criteria|animals|analysis|data extraction|quality assessment|outcomes|covariates|definitions|variables|procedures|methodology|materials\n",
            "el:Conclusion\n",
            "\tconclusion|concluding|summary|recommendations|future\n",
            "el:Discussion\n",
            "\tdiscussion|limitation|limitations|strengths|findings|implications|discussions\n",
            "el:Presentation\n",
            "\tan event is serious|treatment|outcome and follow-up|follow-up|application\n",
            "el:Background\n",
            "\tbackground|literature|progress .* research|research .* progress|review|related|overview\n",
            "el:Results\n",
            "\tresult\n",
            "el:Remove\n",
            "\treference\n",
            "[['', '@card@', '.', 'introduction', '', 'a', 'grow', 'number', 'of', 'study', 'have', 'demonstrate', 'that', 'health', 'effect', 'of', 'air', 'pollutant', 'vary', 'significantly', 'within', 'the', 'population', ';', 'however', ',', 'mechanism', 'underlie', 'inter-individual', 'difference', 'in', 'susceptibility', 'remain', 'unclear', '.', 'Glucocorticoid', 'be', 'major', 'stress', 'hormone', 'produce', 'by', 'the', 'adrenal', 'cortex', 'under', 'regulation', 'of', 'the', 'hypothalamic-pituitary', 'adrenal', '(', 'HPA', ')', 'axis', '[', '@card@', ']', '.', 'normal', 'adrenal', 'cortical', 'function', 'be', 'essential', 'to', 'resolve', 'systemic', 'and', 'local', 'inflammation', ',', 'and', 'dysfunction', 'lead', 'to', 'various', 'pathophysiological', 'condition', '[', '@card@', ']', '.', 'acute', 'exposure', 'to', 'air', 'pollutant', '(', 'ozone', '[', 'O3', ']', ',', 'particulate', 'matter', ',', 'diesel', 'exhaust', ')'], ['have', 'be', 'demonstrate', 'to', 'increase', 'concentration', 'of', 'plasma', 'glucocorticoid', '(', 'corticosterone', 'in', 'rodent', ',', 'cortisol', 'in', 'human', ')', '[', '@card@', ']', '.', 'we', 'have', 'show', 'previously', 'that', 'pharmacological', 'inhibition', 'of', 'glucocorticoid', 'synthesis', 'increase', 'O3-induced', 'lung', 'inflammatory', 'response', ',', 'suggest', 'that', 'glucocorticoid', 'play', 'a', 'key', 'role', 'in', 'regulate', 'air', 'pollutant-induced', 'lung', 'inflammatory', 'response', '[', '@card@', ']', '.', 'moreover', ',', 'innate', 'difference', 'in', 'stress', 'axis', 'function', 'be', 'associate', 'with', 'differential', 'glucocorticoid', 'and', 'lung', 'inflammatory', 'response', 'to', 'O3', '[', '@card@', ']', '.', 'although', 'such', 'study', 'have', 'show', 'a', 'relationship', 'between', 'circulate', 'glucocorticoid', 'level', 'and', 'effect', 'in', 'the', 'lung', ',', 'it', 'be', 'clear', 'that'], ['local', 'factor', 'be', 'critical', 'regulator', 'of', 'glucocorticoid', 'action', '[', '@card@', ']', '.', 'major', 'factor', 'that', 'alter', 'glucocorticoid', 'availability', 'in', 'the', 'lung', 'include', 'binding', 'protein', '(', 'e.g.', ',', 'corticosteroid', '-binding', 'globulin', '[', 'CBG', ']', 'and', 'albumin', ')', ',', 'glucocorticoid', 'receptor', ',', 'and/or', '11β-hydroxysteroid', 'dehydrogenase', '(HSDB)1', 'and', 'HSDB2', 'enzyme', '[', '@card@', ']', '.', 'while', 'a', 'number', 'of', 'study', 'have', 'demonstrate', 'that', 'endogenous', 'glucocorticoid', 'modify', 'lung', 'inflammatory', 'response', '[', '@card@', ']', ',', 'less', 'attention', 'have', 'be', 'give', 'to', 'local', 'factor', 'in', 'the', 'lung', 'that', 'may', 'modify', 'glucocorticoid', 'effect', '.', 'the', 'present', 'study', 'aim', 'to', 'investigate', 'how', 'O3', 'inhalation', 'regulate', 'factor', 'that', 'control', 'glucocorticoid'], ['activity', 'in', 'the', 'lung', ',', 'and', 'how', 'inter-individual', 'difference', 'in', 'response', 'be', 'reflect', 'in', 'difference', 'in', 'O3-induced', 'inflammatory', 'response', '.', 'Fischer', '@card@', '(', 'F344', ')', 'rat', 'have', 'a', 'hyper-responsive', 'stress', 'axis', ',', 'whereas', 'Lewis', '(', 'Lew', ')', 'rat', 'tend', 'to', 'be', 'hypo-responsive', '[', '@card@', ']', '.', 'in', 'turn', ',', 'Lew', 'have', 'be', 'find', 'to', 'be', 'susceptible', 'to', 'inflammatory', 'disease', ',', 'whereas', 'F344', 'exhibit', 'resilience', '[', '@card@', ']', '.', 'moreover', ',', 'F344-', 'and', 'LEW-like', 'phenotype', 'be', 'report', 'in', 'human', '[', '@card@', ']', ',', 'make', 'them', 'a', 'useful', 'model', 'for', 'investigate', 'modify', 'factor', 'of', 'glucocorticoid', 'response', 'in', 'lung', 'and', 'how', 'these', 'factor', 'contribute', 'to', 'health', 'effect', 'of', 'O3', '.', '', '']]\n",
            "100\n",
            "100\n",
            "100\n",
            "109\n",
            " \n",
            "[['', '@card@', '.', 'experimental', 'Model', ':', ':', ':', '2', '.', 'material', 'and', 'method', '', 'all', 'experimental', 'method', 'be', 'review', 'and', 'approve', 'by', 'the', 'animal', 'Care', 'Committee', 'of', 'Health', 'Canada', '(', 'identification', 'code', ':', 'ACC#@card@', ';', 'date', 'of', 'approval', ':', '@card@', 'February', '@card@', ')', ',', 'and', 'adhere', 'to', 'the', 'Canadian', 'council', 'on', 'animal', 'Care', 'guideline', 'for', 'humane', 'animal', 'use', '.', 'detail', 'on', 'housing', 'and', 'experimental', 'procedure', 'be', 'describe', 'previously', '[', '@card@', ']', '.', 'briefly', ',', 'male', 'F344', 'and', 'Lew', 'rat', '(', '~250–300', 'g', ')', 'be', 'purchase', 'from', 'Charles', 'River', '(', 'St.', 'Constant', ',', 'QC', ',', 'Canada', ')', ',', 'and', 'progressively', 'train', 'in', 'nose-only', 'exposure', 'tube', 'over', '@card@', 'consecutive', 'day', 'for', 'acclimatization', 'prior', 'to', 'the', 'study', '.', 'Nose-only', 'exposure', 'to', 'clean', 'air', 'or', '@card@', 'ppm', 'O3', '(', '@card@', '±', '@card@', 'ppb', ')', 'be', 'perform', 'for', '@card@', 'h', '(', 'n', '=', '5/group', ')', ',', 'follow', 'by', 'anesthetization', 'by', 'isoflurane', '(', '@card@', '%', 'at', '@card@', 'L', 'of', 'O2/min', ')', 'and', 'euthanizing', 'by', 'exsanguination', 'immediately', 'at', 'the', 'end', 'of', 'the', 'exposure', '.', '', '']]\n",
            "169\n",
            " \n",
            "[['', '@card@', '.', 'Biological', 'Samples', ':', ':', ':', '2', '.', 'material', 'and', 'method', '', 'the', 'lung', 'be', 'washed-out', 'with', 'warm', 'saline', '(', '@card@', '°C', ')', 'at', '@card@', 'mL/kg', 'body', 'weight', 'to', 'obtain', 'bronchoalveolar', 'lavage', 'fluid', '(', 'BALF', ')', '.', 'lavage', 'sample', 'be', 'centrifuge', '(', '491×', 'g', 'for', '@card@', 'min', 'at', '@card@', '°C', ')', 'to', 'pellet', 'cell', ',', 'and', 'the', 'supernatant', 'be', 'freeze', 'at', '−80', '°C', 'for', 'subsequent', 'analysis', '.', 'the', 'lung', 'be', 'excise', 'and', 'freeze', 'at', '−80', '°C', 'for', 'total', 'RNA', 'extraction', 'and', 'transcript', 'analysis', '.', '', '']]\n",
            "88\n",
            " \n",
            "[['', '@card@', '.', 'lavage', 'Corticosteroid-Binding', 'globulin', 'and', 'soluble', 'intracellular', 'adhesion', 'Molecule-1', '(', 'ICAM-1', ')', ':', ':', ':', '2', '.', 'material', 'and', 'method', '', 'lavage', 'corticosteroid-binding', 'globulin', 'and', 'ICAM-1', 'be', 'quantify', 'use', 'commercially', 'available', 'immunoassay', 'kit', '(', 'MyBioSource', 'rat', 'Corticosteroid-binding', 'globulin', 'Elisa', 'Kit', ',', 'San', 'Diego', ',', 'ca', ',', 'USA', 'and', 'Invitrogen', 'ICAM-1', 'rat', 'Elisa', 'Kit', ';', 'Thermo', 'Fisher', 'Scientific', ',', 'Waltham', ',', 'ma', ',', 'USA', ')', 'accord', 'to', 'the', 'manufacturer', \"'s\", 'protocol', '.', '', '']]\n",
            "75\n",
            " \n",
            "[['', '@card@', '.', 'total', 'Elastase', 'activity', ':', ':', ':', '2', '.', 'material', 'and', 'method', '', 'total', 'elastase', 'activity', 'in', 'BALF', 'be', 'measure', 'use', 'an', 'elastase', 'activity', 'assay', 'kit', '(', 'Cayman', 'Chemicals', ',', 'Ann', 'Arbor', ',', 'mi', ',', 'USA', ')', '.', 'briefly', ',', 'elastase', 'activity', 'be', 'measure', 'use', 'a', 'substrate', '(', 'Z-Ala-Ala-Ala-Ala', '2Rh110', ')', 'and', 'production', 'of', 'the', 'highly', 'fluorescent', 'product', '(', 'compound', 'R110', ')', 'be', 'measure', 'use', '@card@', 'nm', 'excitation', 'and', '@card@', 'nm', 'emission', 'wavelength', 'in', 'a', 'fluorescence', 'plate', 'reader', '(', 'SpectraMax®', ',', 'molecular', 'Devices', ',', 'San', 'Jose', ',', 'ca', ',', 'USA', ')', '.', '', '']]\n",
            "96\n",
            " \n",
            "[['', '@card@', '.', 'RNA', 'extraction', ':', ':', ':', '2', '.', 'material', 'and', 'method', '', 'RNA', 'extraction', 'of', 'lung', 'tissue', 'sample', 'be', 'perform', 'use', 'Trizol', 'reagent', 'accord', 'to', 'manufacturer', 'instruction', '(', 'Invitrogen', 'Canada', 'Inc.', ',', 'Burlington', ',', 'ON', ',', 'Canada', ')', '.', 'Total', 'RNA', 'be', 'quantify', 'use', 'the', 'Quant-iT™', 'RiboGreen®', 'RNA', 'assay', 'Kit', '(', 'molecular', 'probe', ',', 'Eugene', ',', 'or', ',', 'USA', ')', ',', 'and', 'quality', 'be', 'verify', '(', 'RNA', 'quality', 'index', '(RQI)/RNA', 'integrity', 'number', 'great', 'than', '@card@', ')', 'use', 'Experion™', 'RNA', 'StdSens', 'analysis', 'kit', '(', 'Bio-Rad', 'Laboratories', 'Ltd.', ',', 'Mississauga', ',', 'ON', ',', 'Canada', ')', '.', '', '']]\n",
            "98\n",
            " \n",
            "[['', '@card@', '.', 'gene', 'expression', 'analysis', ':', ':', ':', '2', '.', 'material', 'and', 'method', '', 'complementary', 'DNA', '(', 'cDNA', ')', 'synthesis', 'be', 'perform', 'use', 'MultiScribe', 'reverse', 'transcriptase', 'and', 'random', 'hexamers', '(', 'Applied', 'Biosystems', ',', 'Mississauga', ',', 'ON', ',', 'Canada', ')', '.', 'universal', 'probe', 'library', 'design', 'software', '(', 'Roche', 'diagnostic', ',', 'Laval', ',', 'QC', ',', 'Canada', ')', 'be', 'use', 'for', 'prime', 'design', '(', 'Table', 'S1', ')', ',', 'and', 'reaction', 'efficiency', '(', '&gt;@card@', '%', ')', 'be', 'verify', 'use', 'a', 'cDNA', 'dilution', 'series', '.', 'PCR', 'reaction', 'be', 'perform', 'in', 'duplicate', 'on', '384-well', 'plate', 'use', 'BrightGreen', '2×', 'qPCR', 'MasterMix', '(', 'Applied', 'Biological', 'Materials', 'Inc.', 'Richmond', ',', 'BC', ',', 'Canada', ')', 'in', 'a', 'spectrofluorometric', 'thermal', 'cycler', '(', 'Lightcycler', '@card@', ',', 'Roche', 'diagnostic', ')', 'accord', 'to', 'the', 'follow', 'protocol', ':', '@card@', 'min', 'incubation', 'at', '@card@', '°C', 'follow', 'by', '@card@', 'cycle', 'of', 'denaturation', 'at', '@card@', '°C', ',', 'anneal', 'at', '@card@', '°C', ',', 'and', 'elongation', 'at', '@card@', '°C', ',', 'each', 'for', '@card@', 's.', 'product', 'purity', 'be', 'verify', 'by', 'confirm', 'a', 'single', 'peak', 'for', 'each', 'analyte', 'via', 'melt', 'curve', 'analysis', '.', 'relative', 'gene', 'expression', 'be', 'calculate', 'use', 'β-actin', 'as', 'the', 'reference', 'gene', 'accord', 'to', 'the', 'delta-delta', 'Ct', 'method', '[', '@card@', ']', '.', '', '']]\n",
            "195\n",
            " \n",
            "[['', '@card@', '.', 'statistical', 'analysis', ':', ':', ':', '2', '.', 'material', 'and', 'method', '', 'Sigma-Plot', '@card@', '(', 'Systat', 'Software', 'Inc.', ',', 'San', 'Jose', ',', 'ca', ',', 'USA', ')', 'be', 'use', 'for', 'all', 'statistical', 'analysis', 'and', 'generation', 'of', 'figure', '.', 'datum', 'be', 'transform', 'to', 'meet', 'the', 'requirement', 'of', 'normality', 'and', 'equal', 'variance', 'as', 'warrant', '.', 'significant', 'effect', 'be', 'determine', 'by', 'two-way', 'ANOVA', '(', 'factor', 'ozone', '(', '@card@', ',', '@card@', 'ppm', ')', 'and', 'Strain', '(', 'F344', ',', 'Lew', ')', ')', 'follow', 'by', 'the', 'Holm–Sidak', 'multiple', 'comparison', 'procedure', '(', 'α', '=', '@card@', ')', '.', 'Pearson', 'correlation', 'be', 'conduct', 'to', 'test', 'the', 'relationship', 'between', 'lavage', 'corticosterone', 'and', 'CBG', '.', '', '']]\n",
            "107\n",
            " \n",
            "[['', '@card@', '.', 'effect', 'of', 'O3', 'on', 'Glucocorticoid-Regulating', 'factor', 'in', 'the', 'lung', ':', ':', ':', '3', '.', 'result', '', 'Levels', 'of', 'the', 'high-specificity', 'and', '-affinity', 'corticosteroid-binding', 'globulin', '(', 'CBG', ')', 'be', 'elevate', 'in', 'F344', 'compare', 'to', 'Lew', '(', 'Strain', 'main', 'effect', ',', 'p', '&lt;', '@card@', ';', 'Figure', '1A', ')', '.', 'exposure', 'to', 'O3', 'significantly', 'increase', 'lavage', 'CBG', '(', '~1.7–2', 'fold', ')', 'in', 'both', 'F344', 'and', 'Lew', ',', 'albeit', 'with', 'low', 'overall', 'level', 'in', 'Lew', '(', 'ozone', 'main', 'effect', ',', 'p', '&lt;', '@card@', ')', '.', 'the', 'profile', 'be', 'similar', 'to', 'corticosterone', 'profile', 'in', 'plasma', 'and', 'lung', 'lavage', 'describe', 'previously', '[', '@card@'], [']', '.', 'overall', ',', 'there', 'be', 'a', 'significant', 'positive', 'association', 'between', 'corticosterone', 'and', 'CBG', 'recover', 'by', 'bronchoalveolar', 'lavage', '(', 'r', '=', '@card@', ';', 'p', '&lt;', '@card@', ';', 'Figure', '1B', ')', '.', 'in', 'addition', 'to', 'bind', 'of', 'glucocorticoid', ',', 'other', 'factor', 'control', 'glucocorticoid', 'entry', 'and', 'action', 'in', 'the', 'lung', 'include', 'regulation', 'of', 'lung', 'permeability', ',', 'glucocorticoid', 'metabolism', ',', 'and', 'glucocorticoid', 'receptor', '.', 'level', 'of', 'ICAM-1', ',', 'a', 'factor', 'regulate', 'inflammatory', 'response', 'and', 'lung', 'permeability', ',', 'be', 'significantly', 'high', 'in', 'F344', 'compare', 'to', 'Lew', ',', 'and', 'be', 'increase', 'by', 'O3', 'in', 'both', 'strain', '(', 'Strain', 'main', 'effect', ',', 'p', '&lt;', '@card@', ';'], ['ozone', 'main', 'effect', ',', 'p', '&lt;', '@card@', ';', 'Figure', '2A', ')', '.', 'ozone', 'exposure', 'also', 'increase', 'total', 'elastase', 'activity', 'in', 'lavage', 'collect', 'from', 'both', 'F344', 'and', 'Lew', 'when', 'compare', 'to', 'their', 'air-exposed', 'counterpart', ',', 'with', 'great', 'elastase', 'activity', 'observe', 'in', 'F344', 'compare', 'to', 'Lew', '(', 'ozone', '×', 'Strain', 'interaction', ';', 'p', '=', '@card@', ';', 'Figure', '2B', ')', '.', 'the', 'mRNA', 'ratio', 'of', 'the', 'glucocorticoid', 'metabolism', 'factor', 'HSDB1', 'and', 'HSDB2', 'be', 'reduce', 'by', 'approximately', '@card@', '%', 'by', 'O3', 'in', 'F344', ',', 'an', 'effect', 'not', 'observe', 'in', 'Lew', '(', 'ozone', '×', 'Strain', 'interaction', ';', 'p', '=', '@card@', ';', 'Figure', '2C', ')', '.', 'overall', ',', 'mRNA', 'level', 'of', 'the', 'glucocorticoid', 'receptor', '(', 'Gr', ')', 'be', 'decrease', 'after', 'O3', 'exposure', '(', 'ozone', 'main', 'effect', ',', 'p', '&lt;', '@card@', ';', 'figure', '2D', ')', ',', 'but', 'no', 'Strain', 'effect', 'be', 'observe', '.', 'no', 'effect', 'of', 'ozone', 'or', 'Strain', 'be', 'observe', 'for', 'mineralocorticoid', 'receptor', '(', 'MCR', ')', 'gene', 'expression', '(', 'Figure', 'S1', ')', '.', '', '']]\n",
            "100\n",
            "100\n",
            "159\n",
            " \n",
            "[['', '@card@', '.', 'O3-Dependent', 'inflammatory', 'signal', 'in', 'the', 'lung', ':', ':', ':', '3', '.', 'result', '', 'Strain-dependent', 'difference', 'in', 'the', 'response', 'of', 'inflammatory', 'gene', 'to', 'exposure', 'be', 'observe', 'in', 'lung', 'tissue', 'sample', '(', 'figure', '3A–D', ')', '.', 'compare', 'to', 'F344', ',', 'the', 'response', 'of', 'pro-inflammatory', 'gene', 'be', 'significantly', 'high', 'in', 'Lew', 'after', 'O3', '.', 'significant', 'ozone', '×', 'Strain', 'interaction', 'be', 'observe', 'for', 'tumour', 'necrosis', 'factor', '(', 'TNF', ';', 'p', '&lt;', '@card@', ')', ',', 'C-C', 'motif', 'chemokine', 'ligand', '@card@', '(', 'CCL3', ';', 'p', '=', '@card@', ')', ',', 'interleukin-1α', '(', 'IL1A', ';', 'p', '=', '@card@', ')', ',', 'and', 'C-X-C', 'motif', 'chemokine', 'ligand', '@card@', '(', 'CXCL2', ';', 'p', '=', '@card@', ')', '.', 'expression', 'of', 'inflammatory', 'gene', 'increase', 'by', '2.2–7.9', 'fold', 'in', 'O3', 'expose', 'Lew', 'when', 'compare', 'to', 'their', 'air', 'exposure', 'counterpart', '.', '', '']]\n",
            "131\n",
            " \n",
            "[['', '4', '.', 'discussion', '', 'Immunomodulatory', 'effect', 'of', 'endogenous', 'glucocorticoid', 'be', 'well', 'understand', ',', 'and', 'it', 'have', 'be', 'demonstrate', 'that', 'impaired', 'glucocorticoid', 'release', 'or', 'signal', 'can', 'modify', 'lung', 'inflammatory', 'process', '[', '@card@', ']', '.', 'since', 'the', 'ability', 'of', 'glucocorticoid', 'to', 'regulate', 'inflammation', 'be', 'link', 'to', 'their', 'availability', 'at', 'site', 'of', 'inflammation', ',', 'factor', 'that', 'modify', 'glucocorticoid', 'availability', 'in', 'the', 'lung', 'could', 'impact', 'air', 'pollutant-induced', 'lung', 'inflammatory', 'response', '.', 'we', 'have', 'previously', 'demonstrate', 'that', 'exposure', 'to', 'O3', 'increase', 'level', 'of', 'the', 'glucocorticoid', 'corticosterone', 'in', 'the', 'lung', 'of', 'rat', 'strain', 'with', 'distinct', 'stress', 'axis', 'responsiveness', ',', 'but', 'that', 'the', 'profile', 'of', 'response'], ['differ', 'by', 'strain', '[', '@card@', ']', '.', 'this', 'prompt', 'us', 'to', 'investigate', 'how', 'factor', 'that', 'modify', 'glucocorticoid', 'availability', 'in', 'the', 'lung', 'differ', 'across', 'strain', 'with', 'contrast', 'stress', 'axis', 'responsiveness', ',', 'and', 'how', 'exposure', 'to', 'an', 'air', 'pollutant', 'may', 'impact', 'these', 'factor', '.', 'in', 'the', 'present', 'study', ',', 'we', 'demonstrate', 'that', 'O3', 'exposure', 'modify', 'several', 'factor', 'that', 'affect', 'local', 'glucocorticoid', 'availability', 'in', 'the', 'lung', ';', 'a', 'subset', 'of', 'effect', 'differ', 'by', 'strain', '.', 'the', 'datum', 'suggest', 'that', 'glucocorticoid', 'regulatory', 'factor', 'may', 'contribute', 'to', 'pulmonary', 'effect', 'of', 'air', 'pollutant', ',', 'provide', 'insight', 'into', 'a', 'potential', 'mechanism', 'underlie', 'differential', 'sensitivity', 'to', 'pollutant', 'exposure'], ['.', 'the', 'major', 'factor', 'that', 'affect', 'glucocorticoid', 'availability', 'in', 'the', 'lung', 'include', 'glucocorticoid-binding', 'protein', ',', 'neutrophil', 'elastase', ',', 'and', 'glucocorticoid', 'metabolism', 'enzyme', 'HSDB1', 'and', '@card@', '.', 'although', 'it', 'be', 'suggest', 'that', 'only', 'free', 'glucocorticoid', 'enter', 'peripheral', 'tissue', '[', '@card@', ']', ',', 'plasma', 'glucocorticoid-binding', 'protein', '(', 'CBG', 'and', 'albumin', ')', 'be', 'report', 'in', 'the', 'lung', ',', 'and', 'their', 'level', 'vary', 'between', 'individual', 'and', 'be', 'impact', 'by', 'various', 'disease', '[', '@card@', ']', '.', 'the', 'ozone-dependent', 'increase', 'in', 'CBG', 'recover', 'in', 'bronchoalveolar', 'lavage', 'fluid', 'generally', 'track', 'level', 'of', 'corticosterone', ',', 'with', 'high', 'level', 'observe', 'in', 'F344', 'compare', 'to', 'Lew', '.', 'we', 'have', 'previously'], ['show', 'that', 'acute', 'exposure', 'to', '@card@', 'ppm', 'O3', 'decrease', 'total', 'cell', 'recovery', 'by', 'bronchoalveolar', 'lavage', 'in', 'both', 'strain', 'immediately', 'after', 'exposure', ',', 'consistent', 'with', 'increase', 'production', 'of', 'adhesion', 'factor', ';', 'at', 'the', 'same', 'time', ',', 'we', 'observe', 'high', 'level', 'of', 'lung', 'injury', 'marker', 'in', 'F344', 'compare', 'to', 'Lew', '[', '@card@', ']', '.', 'in', 'the', 'present', 'study', ',', 'soluble', 'ICAM-1', ',', 'a', 'marker', 'of', 'injury', 'and', 'lung', 'permeability', '[', '@card@', ']', ',', 'be', 'increase', 'by', 'exposure', 'to', 'O3', 'in', 'both', 'F344', 'and', 'Lew', ',', 'in', 'line', 'with', 'the', 'notion', 'that', 'glucocorticoid-binding', 'protein', 'may', 'enter', 'from', 'circulation', 'after', 'acute', 'O3', 'exposure', '.'], ['the', 'lung', 'be', 'also', 'a', 'site', 'of', 'CBG', 'synthesis', '[', '@card@', ']', ',', 'suggest', 'the', 'potential', 'for', 'involvement', 'of', 'local', 'production', 'in', 'regulate', 'glucocorticoid', 'activity', '.', 'it', 'have', 'be', 'demonstrate', 'that', 'neutrophil', 'elastase', 'cleave', 'a', 'reactive', 'center', 'loop', 'of', 'CBG', ',', 'thereby', 'enable', 'the', 'local', 'release', 'of', 'glucocorticoid', 'at', 'the', 'site', 'of', 'inflammation', '[', '@card@', ']', '.', 'in', 'the', 'present', 'study', ',', 'lavage', 'elastase', 'activity', 'be', 'significantly', 'increase', 'in', 'F344', 'and', 'Lew', 'after', 'O3', 'exposure', ',', 'with', 'more', 'pronounced', 'activity', 'observe', 'in', 'F344', '.', 'however', ',', 'the', 'substrate', 'use', 'be', 'not', 'specific', 'to', 'neutrophil', 'or', 'macrophage', 'elastase', 'activity', ';', 'give'], ['the', 'lack', 'of', 'neutrophil', 'recover', 'by', 'lung', 'lavage', 'at', 'this', 'early', 'time', 'point', '[', '@card@', ']', ',', 'it', 'be', 'possible', 'that', 'the', 'present', 'study', 'measure', 'macrophage', 'elastase', '(', 'MMP12', ')', 'activity', 'instead', 'of', 'neutrophil', 'elastase', '.', 'although', 'macrophage', 'elastase', '(', 'MMP-12', ')', 'be', 'report', 'to', 'degrade', 'extracellular', 'matrix', 'component', 'include', 'elastin', 'and', 'be', 'implicate', 'in', 'tissue', 'remodel', 'process', '[', '@card@', ']', ',', 'there', 'be', 'no', 'evidence', 'that', 'macrophage', 'elastase', 'cleave', 'CBG', '.', 'nevertheless', ',', 'increase', 'MMP12', 'activity', 'may', 'contribute', 'to', 'lung', 'permeability', 'that', 'result', 'in', 'an', 'influx', 'of', 'plasma', 'glucocorticoid-binding', 'protein', 'to', 'the', 'lung', 'and', 'that', 'in', 'turn', 'impact', 'local'], ['glucocorticoid', 'availability', '[', '@card@', ']', '.', 'regulation', 'of', 'other', 'factor', 'implicate', 'in', 'tissue-level', 'control', 'of', 'glucocorticoid', 'action', 'may', 'also', 'be', 'important', '.', '11β-hydroxysteroid', 'dehydrogenase', '(', 'HSDB1', 'and', '@card@', ')', 'be', 'consider', 'intracellular', 'regulator', 'of', 'tissue', 'glucocorticoid', 'action', '[', '@card@', ']', ',', 'as', 'these', 'enzyme', 'control', 'intracellular', 'metabolism', 'of', 'endogenous', 'glucocorticoid', '.', 'it', 'have', 'be', 'demonstrate', 'that', 'level', 'of', 'these', 'enzyme', 'can', 'vary', 'with', 'disease', 'state', ',', 'and', 'considerable', 'inter-individual', 'variability', 'exist', 'in', 'HSDB', 'activity', 'in', 'human', '[', '@card@', ']', '.', 'in', 'the', 'present', 'study', ',', 'O3', 'exposure', 'reduce', 'the', 'ratio', 'of', 'HSDB1/HSDB2', 'mRNA', 'in', 'the', 'lung', 'of', 'F344', 'but', 'not'], ['Lew', ',', 'suggest', 'strain-specific', 'difference', 'in', 'the', 'regulation', 'of', 'glucocorticoid', 'metabolism', 'in', 'these', 'animal', '.', 'Glucocorticoid', 'signal', 'in', 'target', 'tissue', 'be', ',', 'in', 'turn', ',', 'mediate', 'primarily', 'through', 'bind', 'to', 'receptor', ';', 'moreover', ',', 'there', 'be', 'significant', 'inter-individual', 'variability', 'in', 'Gr', 'expression', ',', 'and', 'chronic', 'impairment', 'in', 'Gr', 'function', 'can', 'lead', 'to', 'lung', 'glucocorticoid', 'resistance', '[', '@card@', ']', '.', 'here', ',', 'O3', 'exposure', 'downregulated', 'lung', 'Gr', 'expression', 'in', 'both', 'F344', 'and', 'Lew', ',', 'consistent', 'with', 'know', 'effect', 'of', 'glucocorticoid', 'exposure', '[', '@card@', ']', '.', 'the', 'decrease', 'in', 'lung', 'Gr', 'mRNA', 'suggest', 'that', 'despite', 'the', 'strain', 'difference', 'in', 'CBG', 'and', 'glucocorticoid'], ['metabolism', 'factor', ',', 'lung', 'glucocorticoid', 'level', 'in', 'both', 'rat', 'strain', 'reach', 'a', 'threshold', 'sufficient', 'to', 'induce', 'biological', 'effect', '.', 'differential', 'regulation', 'by', 'air', 'pollutant', 'of', 'factor', 'important', 'to', 'the', 'control', 'of', 'glucocorticoid', 'may', 'have', 'physiological', 'relevance', '.', 'we', 'have', 'previously', 'show', 'that', 'pharmacological', 'inhibition', 'of', 'the', 'O3-dependent', 'increase', 'in', 'corticosterone', 'be', 'associate', 'with', 'increase', 'level', 'of', 'inflammatory', 'cytokine', 'in', 'the', 'lung', '[', '@card@', ']', '.', 'in', 'the', 'present', 'study', ',', 'expression', 'of', 'several', 'pro-inflammatory', 'gene', 'be', 'increase', 'by', 'O3', 'in', 'the', 'lung', 'of', 'Lew', 'but', 'not', 'F344', '.', 'these', 'inter-strain', 'difference', 'may', 'be', 'due', 'to', 'the', 'difference', 'in', 'both', 'the'], ['level', 'of', 'glucocorticoid', 'and', 'those', 'factor', 'that', 'regulate', 'their', 'entry', 'and', 'activity', '.', 'indeed', ',', 'it', 'have', 'be', 'demonstrate', 'that', 'glucocorticoid', 'at', 'low', 'level', 'facilitate', 'inflammatory', 'response', ',', 'whereas', 'at', 'high', 'level', 'they', 'dampen', 'such', 'response', '[', '@card@', ']', '.', 'accordingly', ',', 'the', 'result', 'be', 'consistent', 'with', 'the', 'notion', 'that', 'the', 'high', 'glucocorticoid', 'level', 'in', 'F344', 'rat', 'reduce', 'lung', 'inflammatory', 'response', 'to', 'O3', 'in', 'F344', ',', 'compare', 'to', 'less', 'inhibition', 'by', 'the', 'low', 'glucocorticoid', 'level', 'in', 'Lew', '.', 'in', 'a', 'randomise', 'double-blind', 'crossover', 'study', ',', 'we', 'recently', 'show', 'that', 'short-term', 'exposure', 'to', 'diesel', 'exhaust', 'increase', 'plasma', 'cortisol', 'level', ',', 'with'], ['the', 'great', 'effect', 'see', 'in', 'those', 'with', 'asthma', 'or', 'with', 'risk', 'allele', 'for', 'antioxidant', 'gene', '[', '@card@', ']', '.', 'investigation', 'of', 'inter-individual', 'difference', 'in', 'glucocorticoid', 'response', 'and', 'regulation', 'in', 'the', 'lung', 'may', 'provide', 'insight', 'into', 'factor', 'affect', 'the', 'course', 'and', 'treatment', 'of', 'inflammatory', 'lung', 'disease', '.', 'our', 'study', 'provide', 'evidence', 'that', 'local', 'glucocorticoid-regulatory', 'factor', 'be', 'affect', 'by', 'O3', 'exposure', 'and', ',', 'therefore', ',', 'may', 'play', 'a', 'role', 'in', 'the', 'regulation', 'of', 'glucocorticoid', 'signal', 'in', 'the', 'lung', 'follow', 'pollutant', 'exposure', '.', 'furthermore', ',', 'our', 'result', 'suggest', 'that', 'inter-individual', 'difference', 'in', 'stress', 'axis', 'function', 'may', 'contribute', 'to', 'differential', 'inflammatory', 'response', 'follow', 'pollutant', 'exposure', '.', 'give', 'the', 'important', 'role', 'play', 'by', 'glucocorticoid', 'in', 'the', 'regulation', 'of', 'lung', 'inflammatory', 'response', '[', '@card@', ']', ',', 'variability', 'in', 'glucocorticoid', 'regulatory', 'factor', 'in', 'lung', 'that', 'subsequently', 'modify', 'glucocorticoid', 'availability', 'could', 'contribute', 'to', 'differential', 'susceptibility', 'to', 'air', 'pollutant', '.', '', '']]\n",
            "100\n",
            "100\n",
            "100\n",
            "100\n",
            "100\n",
            "100\n",
            "100\n",
            "100\n",
            "100\n",
            "100\n",
            "143\n",
            " \n",
            "norm=2\trule=9\tnonorm=0\n",
            "[['', 'introduction', '', 'lichen', 'planus', '(', 'LP', ')', 'have', 'many', 'clinical', 'variant', 'base', 'on', 'the', 'morphology', ',', 'site', ',', 'and', 'configuration', 'of', 'the', 'lesion', ',', 'include', 'linear', 'and', 'zosteriform', 'type', '[', '@card@', ']', '.', 'several', 'case', 'have', 'report', 'cutaneous', 'LP', 'but', 'few', 'of', 'them', 'have', 'an', 'incident', 'with', 'zosteriform', 'LP', 'that', 'be', 'report', '[', '@card@', ']', '.', 'in', 'addition', 'to', 'LP', ',', 'differential', 'diagnosis', 'of', 'pruritic', 'and', 'pigmented', 'skin', 'lesion', 'include', 'linear', 'psoriasis', ',', 'lichen', 'striatus', ',', 'erythema', 'dyschromicum', ',', 'linear', 'nevus', ',', 'macular', 'amyloidosis', 'and', 'post-inflammatory', 'hyperpigmentation', '[', '@card@', ']', '.', 'the', 'definitive', 'diagnosis', 'be', 'achieve', 'by', 'a', 'histopathological', 'examination', 'of', 'a', 'biopsied', 'lesion', '.', 'one', 'of', 'the', 'characteristic', 'feature', 'of', 'zosteriform', 'LP', 'be', 'its', 'distribution', 'that', 'be', 'characterize', 'by', 'an', 'eruption', 'that', 'follow', 'Blaschko', \"'s\", 'line', 'but', 'be', 'not', 'restrict', 'to', 'a', 'single', 'dermatome', '[', '@card@', ']', '.', '', '']]\n",
            "142\n",
            " \n",
            "[['', 'case', 'presentation', '', 'a', '39-year-old', 'female', 'present', 'to', 'our', 'dermatology', 'clinic', 'with', 'a', 'three-month', 'history', 'of', 'moderate', 'pruritic', ',', 'hyperpigmented', 'patch', 'over', 'the', 'right', 'side', 'of', 'her', 'trunk', '.', 'there', 'be', 'no', 'previous', 'history', 'of', 'any', 'systemic', 'or', 'dermatological', 'disease', 'such', 'as', 'herpes', 'zoster', '.', 'additionally', ',', 'the', 'patient', 'deny', 'any', 'family', 'history', 'or', 'the', 'use', 'of', 'any', 'medication', '.', 'moreover', ',', 'no', 'prior', 'consult', 'be', 'seek', ',', 'and', 'no', 'intervention', 'be', 'previously', 'do', '.', 'regard', 'her', 'dermatological', 'examination', ',', 'it', 'reveal', 'multiple', ',', 'hyperpigmented', 'papule', 'coalesce', 'together', 'form', 'a', 'band-like', 'shape', 'over', 'the', 'right', 'side', 'of', 'the', 'trunk'], ['and', 'abdomen', '.', 'the', 'distribution', 'of', 'the', 'lesion', 'be', 'not', 'restrict', 'to', 'a', 'single', 'dermatome', ';', 'rather', ',', 'it', 'be', 'find', 'to', 'follow', 'Blaschko', \"'s\", 'line', '(', 'Figure', '@card@', ')', 'while', 'no', 'koebnerization', 'be', 'present', 'and', 'there', 'be', 'no', 'scalp', ',', 'oral', ',', 'or', 'genital', 'mucosal', 'involvement', '.', 'as', 'a', 'result', ',', 'the', 'initial', 'list', 'of', 'differential', 'diagnosis', 'include', 'lichen', 'planus', ',', 'erythema', 'dyschromicum', ',', 'linear', 'epidermal', 'nevus', ',', 'macular', 'amyloidosis', ',', 'post-inflammatory', 'hyperpigmentation', '.', 'in', 'order', 'to', 'confirm', 'the', 'diagnosis', ',', 'a', 'punch', 'biopsy', 'be', 'take', 'from', 'the', 'lesion', 'for', 'a', 'histopathological', 'examination', 'report', 'the', 'presence', 'of', 'hypergranulosis', ','], ['sawtooth', 'rete', 'ridge', 'and', 'a', 'band-like', 'inflammatory', 'infiltrate', '(', 'Figure', '@card@', ')', '.', 'a', 'clinicopathological', 'correlation', 'be', 'use', 'for', 'reach', 'the', 'final', 'diagnosis', 'of', 'zosteriform', 'lichen', 'planus', '.', 'the', 'patient', 'be', 'discharge', 'home', 'after', 'set', 'a', 'treatment', 'plan', 'with', 'topical', 'steroid', 'of', 'three', 'month', 'which', 'be', 'meet', 'with', 'good', 'compliance', 'and', 'experience', 'no', 'adverse', 'effect', '.', 'a', 'three-month', 'follow-up', 'show', 'a', 'substantial', 'improvement', 'in', 'the', 'pruritus', 'and', 'a', 'marked', 'decrease', 'in', 'the', 'hyperpigmentation', 'but', 'still', 'persistent', '.', 'the', 'patient', 'be', 'happy', 'after', 'have', 'her', 'ailment', 'finally', 'diagnose', 'and', 'be', 'much', 'happy', 'to', 'see', 'the', 'symptom', 'gradually', 'regress', '.', 'however', ',', 'after', 'two', 'month', ',', 'the', 'follow-up', 'visit', 'be', 'miss', 'due', 'to', 'COVID-19', 'restriction', '.', '', '']]\n",
            "100\n",
            "100\n",
            "116\n",
            " \n",
            "[['', 'discussion', '', 'LP', ',', 'describe', 'in', '@card@', 'by', 'Kaposi', ',', 'be', 'a', 'linear', 'dermatosis', 'with', 'unique', 'histological', 'feature', 'affect', 'different', 'site', 'of', 'the', 'body', 'such', 'as', 'the', 'skin', ',', 'mucous', 'membrane', ',', 'hair', 'follicle', ',', 'and', 'nail', '[', '@card@', ']', '.', 'it', 'be', 'widespread', 'throughout', 'the', 'world', 'with', 'no', 'regard', 'to', 'race', 'or', 'sex', '[', '@card@', ']', 'with', 'incidence', 'rate', 'in', 'male', 'and', 'female', 'of', '@card@', '%', 'and', '@card@', '%', ',', 'respectively', '[', '@card@', ']', '.', 'the', 'exact', 'etiology', 'underlie', 'LP', 'be', 'unknown', ';', 'however', ',', 'there', 'be', 'much', 'evidence', 'indicate', 'the', 'implication', 'of', 'an', 'immune-mediated', 'process', 'in', 'the'], ['pathophysiology', 'of', 'the', 'disease', '[', '@card@', ']', '.', 'even', 'though', 'LP', 'involve', 'mainly', 'the', 'skin', 'and', 'mucus', 'membrane', ',', 'the', 'basal', 'layer', 'of', 'the', 'epidermis', 'that', 'consist', 'of', 'keratinocytes', 'and', 'melanocyte', 'be', 'attack', 'by', 'cytotoxic', 'T', 'cell', ';', 'consequently', ',', 'these', 'cell', 'be', 'destroy', '.', 'as', 'a', 'result', 'of', 'this', 'destruction', ',', 'the', 'melanin', 'pigment', 'leak', 'from', 'the', 'melanocyte', 'cause', 'hyperpigmentation', 'of', 'the', 'skin', '[', '@card@', ']', '.', 'LP', 'have', 'a', 'moss-like', 'appearance', 'on', 'the', 'skin', 'characterize', 'by', 'the', 'well-known', '@card@', 'Ps', ';', 'purple', ',', 'pruritic', ',', 'polygonal', ',', 'plane', ',', 'papular', 'rash', '[', '@card@', ']', '.', 'histologically', ',', 'LP'], ['be', 'characterize', 'by', 'the', 'presence', 'of', 'wedge-shaped', 'hypergranulosis', ',', 'sawtooth', 'rete', 'ridge', ',', 'as', 'well', 'as', 'a', 'band-like', 'lymphocytic', 'infiltrate', 'beneath', 'the', 'epidermis', 'that', 'extend', 'to', 'the', 'superficial', 'layer', 'cause', 'a', 'vacuolar', 'change', 'in', 'the', 'dermo-epidermal', 'junction', '[', '@card@', ']', '.', 'on', 'the', 'mucus', 'membrane', ',', 'LP', 'be', 'characterize', 'by', 'the', 'presence', 'of', 'Wickham', \"'s\", 'stria', ',', 'yet', 'there', 'be', 'no', 'mucus', 'membrane', 'involvement', 'in', 'our', 'case', '.', 'since', 'its', 'discovery', ',', 'there', 'have', 'be', 'more', 'than', '@card@', 'clinical', 'variant', 'identify', 'for', 'LP', 'base', 'on', 'the', 'morphology', ',', 'site', ',', 'and', 'configuration', 'of', 'the', 'lesion', '[', '@card@', ']', '.', 'out'], ['of', 'those', 'variant', ',', 'there', 'be', 'two', 'similar', 'type', ';', 'zosteriform', 'LP', ',', 'which', 'account', 'for', '@card@', '%', 'of', 'lichen', 'planus', 'case', ',', 'and', 'linear', 'LP', '.', 'nonetheless', ',', 'they', 'can', 'be', 'differentiate', 'on', 'dermatological', 'examination', '[', '@card@', ']', '.', 'Koebnerization', 'be', 'present', 'in', 'linear', 'LP', 'that', 'lead', 'to', 'develop', 'a', 'linear', 'pattern', 'secondary', 'to', 'trauma', 'that', 'appear', 'as', 'narrow', 'line', 'less', 'than', '@card@', 'cm', 'in', 'diameter', 'follow', 'the', 'course', 'of', 'the', 'vein', ',', 'or', 'lymph', 'vessel', '[', '@card@', ']', '.', 'whereas', 'zosteriform', 'LP', 'have', 'a', 'band-like', 'distribution', 'consist', 'of', 'wide', 'line', 'more', 'than', '@card@', 'cm', 'in', 'diameter', '[', '@card@'], [']', '.', 'moreover', ',', 'they', 'can', 'be', 'differentiate', 'immunohistochemically', 'through', 'the', 'detection', 'of', 'varicella-zoster', 'antigen', 'in', 'the', 'lesion', 'of', 'zosteriform', 'LP', ';', 'these', 'antigen', 'be', 'not', 'detect', 'in', 'linear', 'LP', '[', '@card@', ']', '.', 'Zosteriform', 'LP', 'be', 'a', 'rare', 'clinical', 'entity', 'evolve', 'spontaneously', 'or', 'as', 'a', 'result', 'of', 'previous', 'herpes', 'zoster', '.', 'spontaneous', 'zosteriform', 'LP', 'do', 'not', 'follow', 'specific', 'dermatomal', 'distribution', '.', 'instead', ',', 'it', 'follow', 'Blaschko', \"'s\", 'line', ',', 'which', 'represent', 'the', 'migration', 'of', 'embryonic', 'cell', 'and', 'do', 'not', 'correspond', 'to', 'the', 'underlie', 'structure', 'of', 'the', 'skin', 'such', 'as', 'nerve', ',', 'muscle', ',', 'and', 'soft', 'tissue', '[', '@card@', ']'], ['.', 'Blaschko', \"'s\", 'line', 'have', 'specific', 'superficial', 'pattern', 'on', 'the', 'upper', 'spine', '(', 'V-shape', ')', ',', 'the', 'abdomen', '(', 'S-shape', ')', ',', 'the', 'breast', 'area', 'to', 'the', 'upper', 'arm', '(', 'invert', 'U-shape', ')', ',', 'and', 'the', 'front', 'and', 'back', 'of', 'the', 'low', 'extremity', '(', 'perpendicular', 'to', 'the', 'afore-mentioned', 'shape', ')', '.', 'in', 'our', 'patient', ',', 'the', 'lesion', 'follow', 'the', 'V-shaped', 'pattern', 'on', 'the', 'trunk', 'and', 'the', 'S-shaped', 'pattern', 'on', 'the', 'abdomen', '(', 'Figure', '@card@', ')', '.', 'the', 'treatment', 'modality', 'for', 'all', 'LP', 'variant', 'be', 'the', 'same', '.', 'whether', 'the', 'final', 'diagnosis', 'be', 'zosteriform', 'LP', 'or', 'linear', 'LP', ',', 'the', 'preferred', 'treatment', 'for', 'both', 'type', 'be', 'topical', 'steroid', '.', 'additionally', ',', 'topical', 'salicylic', 'acid', ',', 'topical', 'tacrolimus', ',', 'and', 'systemic', 'antihistamine', 'can', 'be', 'use', '.', 'the', 'disease', 'do', 'not', 'impede', 'the', 'normal', 'activity', 'of', 'the', 'patient', ';', 'however', ',', 'as', 'the', 'disease', 'usually', 'demonstrate', 'an', 'isomorphic', 'response', '(', 'Koebner', 'phenomenon', ')', ',', 'the', 'patient', 'be', 'advise', 'to', 'avoid', 'any', 'trauma', 'to', 'the', 'skin', '.', '', '']]\n",
            "100\n",
            "100\n",
            "100\n",
            "100\n",
            "100\n",
            "165\n",
            " \n",
            "[['', 'conclusion', '', 'Zosteriform', 'LP', 'be', 'a', 'rare', 'variant', 'of', 'LP', 'with', 'a', 'characteristic', 'distribution', 'on', 'the', 'skin', ';', 'however', ',', 'the', 'treatment', 'modality', 'be', 'the', 'same', 'for', 'all', 'variant', 'of', 'LP', '.', 'Zosteriform', 'LP', 'have', 'the', 'same', 'histological', 'feature', 'as', 'LP', ',', 'which', 'distinguish', 'it', 'from', 'other', 'linear', 'skin', 'dermatosis', 'such', 'as', 'linear', 'psoriasis', ',', 'linear', 'nevus', ',', 'and', 'lichen', 'striatus', '.', '', '']]\n",
            "65\n",
            " \n",
            "norm=4\trule=0\tnonorm=0\n",
            "[['', 'CD4+', 'T', 'cell', ':', ':', ':', 'T', 'lymphocyte', 'subset', '', 'analysis', 'of', 'circulate', 'immune', 'cell', 'subset', 'indicate', 'that', 'CD4+', 'T', 'cell', 'decrease', 'in', 'the', 'majority', 'of', 'patient', 'with', 'severe', 'infection', '[', '@card@', ',', '7–9', ',', '@card@', ']', '.', 'the', 'number', 'of', 'total', 'T', 'cell', 'and', 'CD4+', 'T', 'cell', 'be', 'negatively', 'correlate', 'with', 'the', 'level', 'of', 'TNF-α', ',', 'IL-6', ',', 'and', 'IL-10', ',', 'respectively', '[', '@card@', ']', '.', '', '']]\n",
            "70\n",
            " \n",
            "[['', 'CD8+', 'T', 'cell', 'and', 'Natural', 'Killer', '(', 'NK', ')', 'cell', ':', ':', ':', 'T', 'lymphocyte', 'subset', '', 'Cytotoxic', 'T', 'lymphocyte', 'and', 'natural', 'killer', '(', 'NK', ')', 'cell', 'be', 'essential', 'for', 'the', 'control', 'of', 'viral', 'infection', '[', '@card@', ']', '.', 'in', 'this', 'context', ',', 'the', 'functional', 'exhaustion', 'of', 'cytotoxic', 'T', 'cell', 'and', 'NK', 'cell', ',', 'critical', 'for', 'host', 'defense', 'against', 'virus', ',', 'be', 'associate', 'with', 'poor', 'outcome', '.', 'the', 'state', 'of', 'functional', 'exhaustion', 'be', 'accompany', 'by', 'increase', 'NKG2A', 'expression', 'on', 'CD8+', 'T', 'cell', 'and', 'NK', 'cell', '[', '@card@', ',', '7–9', ']', '.', 'both', 'cytotoxic', 'and', 'suppressor', 'T', 'cell', '(', 'CD3+CD8+', ')', 'in', 'patient', 'with', 'COVID-19', 'be', 'below', 'normal', 'level', 'in', 'severe', 'case', '[', '@card@', ',', '@card@', ']', 'and', 'negatively', 'correlate', 'with', 'the', 'level', 'of', 'TNF-α', ',', 'IL-6', ',', 'and', 'IL-10', '[', '@card@', ']', '.', '', '']]\n",
            "136\n",
            " \n",
            "[['', 'Treg', 'and', 'other', 'th', 'subset', ':', ':', ':', 'T', 'lymphocyte', 'subset', '', 'the', 'frequency', 'of', 'Tregs', '(', 'CD4+CD25+CD127low+', ')', 'and', 'CD45RA+Treg', 'decrease', 'in', 'severe', 'case', '[', '@card@', ',', '@card@', ']', '.', 'the', 'number', 'of', 'CD28-positive', 'cytotoxic-suppressor', 'T', 'cell', '(', 'CD3', '+', 'CD8+CD28+', ')', 'be', 'reduce', 'in', 'severe', 'case', ',', 'while', 'no', 'significant', 'difference', 'be', 'see', 'in', 'activate', 'T', 'cell', '(', 'CD3+HLA-DR+', ')', 'as', 'well', 'as', 'activate', 'cytotoxic-suppressor', 'T', 'cell', '(', 'CD3+CD8+HLA-DR+', ')', '[', '@card@', ']', '.', 'the', 'differentiation', 'of', 'naïve', 'CD4+', 'T-cell', 'into', 'effector', 'and', 'memory', 'subset', 'and', 'maintain', 'the', 'balance', 'between', 'the', 'naïve', 'and', 'memory', 'CD4+', 'T', 'cell'], ['be', 'consider', 'as', 'one', 'of', 'the', 'most', 'crucial', 'feature', 'of', 'T', 'cell-mediated', 'immunity', '[', '@card@', ']', '.', 'the', 'amount', 'of', 'naïve', 'helper', 'T', 'cell', '(', 'CD3+CD4+CD45RA+', ')', 'have', 'be', 'increase', ',', 'while', 'the', 'number', 'of', 'memory', 'helper', 'T', 'cell', '(', 'CD3+CD4+CD45RO+', ')', 'be', 'decrease', 'in', 'severe', 'case', '.', 'additionally', ',', 'the', 'decline', 'of', 'naïve', 'and', 'induce', 'regulatory', 'T', 'cell', 'be', 'see', 'in', 'patient', 'with', 'severe', 'presentation', '[', '@card@', ']', '.', 'the', 'unbalanced', 'naïve', ':', 'memory', 'ratio', 'show', 'the', 'impairment', 'of', 'the', 'immune', 'system', 'in', 'this', 'group', 'of', 'patient', '.', 'patient', 'with', 'COVID-19', 'show', 'decrease', 'percentage', 'of', 'CD8+', ',', 'IFNγ+CD8+', ','], ['IL-2+CD8+', 'T', 'cell', ',', 'and', 'MFI', 'of', 'granzyme', 'B+CD8+', 'T', 'cell', '[', '@card@', ']', '.', 'additionally', ',', 'expression', 'of', 'IFN-γ', 'by', 'CD4+T', ',', 'CD8+T', ',', 'and', 'NK', 'cell', 'tend', 'to', 'be', 'low', 'in', 'severe', 'case', '[', '@card@', ',', '@card@', ']', '.', 'take', 'together', ',', 'macrophage', 'activation', 'syndrome', 'and', 'cytokine', 'storm', 'might', 'directly', 'mediate', 'T', 'cell', 'reduction', 'in', 'patient', 'with', 'a', 'severe', 'form', 'of', 'SARS-CoV-2', 'infection', '.', 'immune', 'dysregulation', 'during', 'the', 'severe', 'phase', 'of', 'COVID-19', 'be', 'a', 'major', 'concern', ',', 'and', 'the', 'unique', 'pattern', 'of', 'this', 'event', 'be', 'mainly', 'characterize', 'by', 'inflammatory', 'cascade', ',', 'cytokine', 'production', ',', 'and', 'hyper-inflammation', '.', 'recently', ',', 'suppress', 'of', 'the', 'cytokine', 'storm', 'to', 'prevent', 'the', 'deterioration', 'of', 'patient', 'with', 'COVID-19', 'infection', 'and', 'anti-inflammatory', 'therapy', 'include', 'anti-IL-6', '(', 'tocilizumab', ')', '[', '@card@', ',', '@card@', ']', 'and', 'perhaps', 'other', 'modality', 'like', 'monoclonal', 'antibody', 'for', 'TNF-α', ',', 'IL-1', ',', 'or', 'other', 'be', 'suggest', ';', 'however', ',', 'the', 'main', 'problem', 'in', 'advise', 'these', 'therapy', 'be', 'delay', 'virus', 'elimination', 'and', 'increase', 'risk', 'of', 'the', 'secondary', 'infection', ';', 'thus', ',', 'further', 'investigation', 'be', 'highly', 'recommend', '.', '', '']]\n",
            "100\n",
            "100\n",
            "176\n",
            " \n",
            "norm=0\trule=0\tnonorm=3\n",
            "[['', 'Introduction', '', 'the', 'public', 'reporting', 'of', 'datum', 'during', 'a', 'pandemic', 'be', 'a', 'core', 'government', 'function', 'to', 'protect', 'population', 'health', 'and', 'safety', '[', '@card@', ']', '.', 'it', 'be', 'also', 'critical', 'for', 'foster', 'accountability', ',', 'ensure', 'transparency', ',', 'and', 'support', 'individual', 'in', 'make', 'informed', 'decision', '[', '@card@', ']', '.', 'unlike', 'past', 'pandemic', ',', 'COVID-19', 'have', 'be', 'monitor', 'globally', 'in', 'real-time', ',', 'result', 'in', 'unprecedented', 'collection', ',', 'analysis', ',', 'and', 'dissemination', 'effort', '.', 'public', 'web-based', 'COVID-19', 'dashboard', ',', 'as', 'a', 'dynamic', 'mean', 'to', 'visually', 'display', 'information', 'at', 'a', 'glance', '[', '@card@', ']', ',', 'have', 'surge', 'as', 'a', 'popular', 'approach', 'for', 'share', 'pandemic-related'], ['information', '.', 'dashboard', 'be', 'powerful', 'vehicle', 'for', 'communication', ';', 'the', 'Johns', 'Hopkins', 'Coronavirus', 'Resource', 'Center', 'dashboard', '[', '@card@', ']', 'report', 'more', 'than', '@card@', 'billion', 'interaction', 'per', 'day', 'by', 'April', '@card@', '[', '@card@', ']', '.', 'however', ',', 'without', 'careful', 'indicator', 'selection', 'and', 'data', 'collection', ',', 'analysis', ',', 'and', 'visualization', ',', 'dashboard', 'have', 'the', 'potential', 'to', 'mislead', ',', 'misinform', ',', 'and', 'incite', 'panic', '[', '@card@', ']', ',', 'or', 'simply', 'to', 'be', 'ignore', '[', '@card@', ']', '.', 'in', 'the', 'first', 'half', 'of', '@card@', ',', 'our', 'international', 'research', 'network', 'of', 'European', 'and', 'Canadian', 'professional', 'in', 'health', 'care', 'performance', 'intelligence', '[', '@card@', ']', 'launch', 'a'], ['global', 'study', 'of', 'COVID-19', 'dashboard', '.', 'it', 'assess', '@card@', 'dashboard', 'from', '@card@', 'country', 'in', 'July', '@card@', '.', 'it', 'also', 'explore', 'what', 'make', 'dashboard', 'actionable', ',', 'whereby', 'actionability', 'refer', 'to', 'a', 'dashboard', 'be', 'potential', 'to', 'inform', 'decision-making', 'by', 'the', 'intended', 'user', '[', '@card@', ']', '.', 'more', 'specifically', ',', 'to', 'be', 'actionable', ',', 'the', 'information', 'should', 'be', 'both', 'fit', 'for', 'purpose', '(', 'meet', 'a', 'specific', 'information', 'need', ')', 'and', 'fit', 'for', 'use', '(', 'place', 'the', 'right', 'information', 'into', 'the', 'right', 'hand', 'at', 'the', 'right', 'time', 'and', 'in', 'a', 'manner', 'that', 'can', 'be', 'understand', ')', '[', '@card@', ']', '.', 'only', '@card@', '%', '('], ['@card@', ')', 'of', 'dashboard', 'evaluate', 'in', 'the', 'mid@card@', 'study', 'be', 'find', 'to', 'be', 'highly', 'actionable', '.', 'seven', 'actionability', 'feature', 'be', 'identify', 'among', 'them', '[', '@card@', ']', '.', 'due', 'to', 'the', 'speed', 'at', 'which', 'the', 'dashboard', 'be', 'first', 'launch', ',', 'traditional', 'technical', 'and', 'organizational', 'aspect', 'of', 'development', 'cycle', 'be', 'cut', 'short', '[', '@card@', ']', '.', 'while', 'the', 'urgency', 'of', 'reporting', 'take', 'precedent', 'in', 'the', 'early', 'stage', ',', 'dashboard', 'be', 'design', 'to', 'be', 'flexible', 'and', 'continuously', 'iterate', '.', 'study', 'also', 'emphasize', 'the', 'importance', 'of', 'frequent', 'review', 'to', 'ensure', 'a', 'dashboard', \"'s\", 'sustained', 'relevance', 'and', 'use', '[', '@card@', ']', '.', 'as', 'our', 'initial'], ['study', 'be', 'merely', 'a', 'snapshot', 'of', 'the', 'early', 'stage', 'of', 'the', 'pandemic', ',', 'the', 'extent', 'to', 'which', 'COVID-19', 'dashboard', 'evolve', 'over', 'a', 'long', 'period', 'be', 'beyond', 'its', 'scope', '.', 'Canada', 'provide', 'a', 'relevant', 'context', 'for', 'further', 'investigate', 'the', 'evolution', 'of', 'COVID-19', 'dashboard', 'for', 'several', 'reason', '.', 'first', ',', 'public', 'health', 'be', 'the', 'remit', 'of', 'federal', ',', 'provincial', 'or', 'territorial', '(', 'PT', ')', ',', 'and', 'local', 'health', 'authority', '[', '@card@', ']', ',', 'which', ',', 'together', 'with', 'PT', 'ministry', ',', 'be', 'involve', 'in', 'pandemic', 'monitoring', 'and', 'reporting', '.', 'this', 'be', 'already', 'reflect', 'in', 'Canada', \"'s\", '@card@', 'multiactor', 'pandemic', 'preparedness', 'plan', '(', 'for'], ['influenza', ')', '[', '@card@', ']', '.', 'in', 'addition', 'to', 'those', 'varied', 'public', 'actor', ',', 'independent', 'initiative', 'and', 'the', 'medium', 'have', 'also', 'leveraged', 'open', 'datum', 'source', 'in', 'order', 'to', 'generate', 'public-face', 'COVID-19', 'dashboard', '.', 'the', 'range', 'in', 'the', 'type', 'of', 'organization', 'and', 'their', 'different', 'target', 'geography', 'of', 'reporting', 'have', 'result', 'in', 'a', 'diverse', 'Canadian', 'dashboard', 'landscape', '.', 'second', ',', 'Canada', \"'s\", 'experience', 'with', 'COVID-19', 'intensify', 'in', 'the', 'course', 'of', '@card@', ',', 'with', 'an', 'initial', 'peak', 'in', 'early', 'May', '(', 'about', '@card@', 'daily', 'case', ')', 'and', 'second', 'peak', 'in', 'November', '(', 'about', '@card@', 'daily', 'case', ')', '[', '@card@', ']', '.', 'case', 'spread'], ['to', 'area', 'of', 'Canada', 'previously', 'untouched', 'by', 'the', 'virus', '[', '@card@', ']', '.', 'as', 'a', 'result', ',', 'the', 'demand', 'for', 'dashboard', 'that', 'provide', 'effective', 'communication', 'and', 'support', 'data-driven', 'decision-making', 'increase', 'throughout', 'the', 'year', '.', 'third', ',', 'Canadian', 'dashboard', 'be', 'criticize', 'early', 'on', 'for', 'possible', 'information', 'blind', 'spot', ',', 'include', 'a', 'failure', 'to', 'report', 'race-based', 'datum', 'and', 'other', 'social', 'determinant', '[', '@card@', ']', ',', 'as', 'well', 'as', 'for', 'present', 'highly', 'aggregate', 'datum', 'at', 'the', 'PT', 'level', '[', '@card@', ']', '.', 'the', 'extent', 'to', 'which', 'such', 'limitation', 'persist', 'into', 'the', 'second', 'half', 'of', '@card@', 'be', 'yet', 'to', 'be', 'assess', '.', 'this', 'study', 'explore', '(', '1', ')', 'how', 'public', 'web-based', 'COVID-19', 'dashboard', 'in', 'the', 'Canadian', 'context', 'evolve', 'in', '@card@', 'and', '(', '2', ')', 'whether', 'dashboard', 'actionability', 'increase', 'over', 'time', '.', '', '']]\n",
            "100\n",
            "100\n",
            "100\n",
            "100\n",
            "100\n",
            "100\n",
            "129\n",
            " \n",
            "[['', 'study', 'design', ':', ':', ':', 'method', '', 'our', 'study', 'adhere', 'to', 'the', 'Standards', 'for', 'Reporting', 'qualitative', 'research', '[', '@card@', ']', '.', 'we', 'apply', 'qualitative', 'method', 'comprise', '(', '1', ')', 'a', 'descriptive', 'assessment', 'apply', 'an', 'existing', 'tool', '[', '@card@', ']', 'for', 'the', 'purpose', 'of', 'systematically', 'and', 'comparatively', 'depict', 'COVID-19', 'dashboard', ';', 'and', '(', '2', ')', 'an', 'expert', 'appraisal', 'use', 'the', 'nominal', 'group', 'technique', '[', '@card@', ']', 'to', 'score', 'the', 'actionability', 'of', 'the', 'dashboard', '.', 'the', 'study', 'draw', 'on', 'the', 'global', 'sample', 'of', '@card@', 'dashboard', 'examine', 'in', 'the', 'study', 'by', 'Ivanković', 'et', 'al', '[', '@card@', ']', ',', 'now', 'confine', 'the', 'focus', 'to', 'dashboard', 'report', 'on', 'COVID-19', 'in', 'the', 'Canadian', 'context', '(', 'N=26', ')', '.', 'importantly', ',', 'we', 'extend', 'data', 'collection', 'for', 'this', 'sample', 'by', 'collect', 'datum', 'at', 'a', 'second', 'time', 'point', ',', 'in', 'order', 'to', 'analyze', 'change', 'between', 'July', '@card@', '(', 'initial', 'assessment', ')', 'and', 'November', '@card@', '(', 'second', 'assessment', ')', '.', 'subsequently', ',', 'we', 'evaluate', 'the', 'presence', 'of', 'the', 'actionability', 'feature', 'identify', 'in', 'the', 'study', 'by', 'Ivanković', 'et', 'al', '[', '@card@', ']', 'across', 'the', 'sample', 'for', 'both', 'time', 'point', '.', '', '']]\n",
            "182\n",
            " \n",
            "[['', 'panel', 'of', 'scorer', ':', ':', ':', 'method', '', 'Data', 'collection', 'be', 'conduct', 'by', 'a', 'panel', 'of', 'eight', 'scorer', '(', 'EB', ',', 'di', ',', 'SW', ',', 'KJG', ',', 'MP', ',', 'CW', ',', 'NL', ',', 'and', 'VB', ')', '.', 'the', 'panel', '(', 'four', 'woman', 'and', 'four', 'man', ')', 'align', 'with', 'the', 'scorer', 'assemble', 'by', 'Ivanković', 'et', 'al', '[', '@card@', ']', 'so', 'as', 'to', 'ensure', 'consistency', 'between', 'assessment', '.', 'the', 'scorer', 'be', 'draw', 'from', 'an', 'existing', 'international', 'research', 'network', 'of', 'Canadian', ',', 'European', ',', 'Latin', 'American', ',', 'and', 'Asian', 'researcher', ',', 'each', 'conduct', 'their', 'doctoral', 'research', 'on', 'health', 'care', 'performance', 'intelligence', '[', '@card@', ']', '.', 'all', 'scorer', 'have', 'common', 'expertise', 'and', 'training', 'in', 'deal', 'with', 'health', 'care', 'performance', 'datum', 'and', 'in', 'the', 'use', 'of', 'such', 'datum', 'for', 'management', 'and', 'governance', ',', 'as', 'well', 'as', 'prior', 'training', 'and', 'experience', 'with', 'the', 'study', \"'s\", 'assessment', 'tool', '.', 'the', 'panel', \"'s\", 'composition', 'also', 'include', 'French-language', 'competency', '(', 'CW', ')', 'and', 'prior', 'professional', 'policy', 'and', 'research', 'experience', 'in', 'the', 'Canadian', 'context', '(', 'EB', ',', 'di', ',', 'SW', ',', 'KJG', ',', 'MP', ',', 'and', 'VB', ')', '.', '', '']]\n",
            "182\n",
            " \n",
            "[['', 'Assessment', 'Instruments', ':', ':', ':', 'method', '', 'an', 'assessment', 'tool', 'develop', ',', 'pilot', ',', 'and', 'validate', 'by', 'Ivanković', 'et', 'al', '[', '@card@', ']', 'be', 'apply', '.', 'the', 'tool', 'assess', 'COVID-19', 'dashboard', 'in', 'term', 'of', 'their', 'purpose', 'and', 'user', '(', '\"', 'why', '\"', ')', ',', 'content', 'and', 'datum', '(', '\"', 'what', '\"', ')', ',', 'and', 'analysis', 'and', 'display', '(', '\"', 'how', '\"', ')', '.', 'table', '@card@', 'summarize', 'the', 'consideration', 'assess', '.', 'these', 'derive', 'from', 'communication', 'science', '(', 'the', '@card@', 'Lasswell', 'model', '[', '@card@', ']', ')', ',', 'the', 'health', 'care', 'performance', 'intelligence', 'discipline', '[', '@card@', ']', ',', 'early', 'study', 'on', 'the'], ['public', 'reporting', 'of', 'health', 'performance', 'datum', 'and', 'provision', 'of', 'dashboard', 'in', 'the', 'health', 'domain', '[', '@card@', ']', ',', 'and', 'guidance', 'for', 'report', 'during', 'public', 'health', 'crisis', 'from', 'the', 'World', 'Health', 'Organization', '(', 'who', ')', '[', '@card@', ']', '.', 'the', 'tool', 'also', 'align', 'with', 'exist', 'instrument', 'to', 'measure', 'the', 'quality', 'of', 'health', 'information', 'on', 'the', 'Internet', '[', '@card@', ']', '.', 'we', 'operationalize', 'the', 'appraisal', 'of', 'a', 'dashboard', \"'s\", 'actionability', 'by', 'draw', 'on', 'the', 'seven', 'feature', 'of', 'highly', 'actionable', 'COVID-19', 'dashboard', ',', 'as', 'identify', 'in', 'the', 'study', 'by', 'Ivanković', 'et', 'al', '[', '@card@', ']', '(', 'see', 'Table', '@card@', ')', '.', 'a', 'score', 'tool', 'be', 'develop', '(', 'see', 'multimedia', 'Appendix', '@card@', ')', 'to', 'evaluate', 'each', 'feature', 'on', 'a', '3-point', 'ordinal', 'scale', ',', 'score', 'as', '\"', 'present', ',', '\"', '\"', 'somewhat', 'present', ',', '\"', 'or', '\"', 'not', 'present', '.', '\"', '', '']]\n",
            "100\n",
            "138\n",
            " \n",
            "[['', 'Study', 'Sample', ':', ':', ':', 'method', '', 'COVID-19', 'dashboard', 'for', 'sample', 'inclusion', 'be', 'determine', 'on', 'the', 'basis', 'of', 'the', 'follow', 'three', 'criterion', ':', '(', '1', ')', 'the', 'reporting', 'of', 'key', 'performance', 'indicator', 'relate', 'to', 'COVID-19', ';', '(', '2', ')', 'the', 'use', 'of', 'some', 'form', 'of', 'visualization', ';', 'and', '(', '3', ')', 'availability', 'in', 'an', 'online', 'web-based', 'format', '.', 'it', 'mean', 'password-protected', 'COVID-19', 'dashboard', 'for', 'internal', 'use', 'by', 'public', 'authority', 'be', 'exclude', 'from', 'this', 'study', '.', 'no', 'restriction', 'be', 'impose', 'in', 'term', 'of', 'a', 'dashboard', \"'s\", 'primary', 'level', 'of', 'report', '(', 'eg', ',', 'national', ',', 'regional', ',', 'and', 'local', ')'], ['or', 'the', 'type', 'of', 'organization', 'responsible', 'for', 'its', 'development', '(', 'eg', ',', 'government', ',', 'academia', ',', 'news', 'or', 'medium', ',', 'industry', ',', 'and', 'private', 'initiative', ')', '.', 'sampling', 'be', 'conduct', 'from', 'May', '@card@', 'to', 'June', '@card@', ',', '@card@', ',', 'and', 'involve', 'search', 'of', 'COVID-19', 'policy', 'monitoring', 'platform', '(', 'eg', ',', 'the', 'North', 'American', 'COVID-19', 'Policy', 'Response', 'Monitor', '[', '@card@', ']', ')', 'and', 'of', 'research', 'report', '(', 'eg', ',', 'a', 'June', '@card@', 'pan-Canadian', 'catalogue', 'of', 'governmental', 'COVID-19', 'dashboard', '[', '@card@', ']', ')', ',', 'as', 'well', 'as', 'expert', 'recommendation', 'from', 'researcher', 'actively', 'engage', 'in', 'the', 'COVID-19', 'response', ',', 'who', 'be', 'contact', 'via'], ['email', '.', 'in', 'total', ',', '@card@', 'dashboard', 'report', 'on', 'the', 'Canadian', 'context', 'be', 'identify', ',', 'five', 'of', 'which', 'be', 'duplicate', 'and', 'exclude', 'from', 'further', 'analysis', '.', 'further', 'detail', 'about', 'the', 'sampling', 'be', 'mention', 'in', 'the', 'study', 'by', 'Ivanković', 'et', 'al', '[', '@card@', ']', '.', 'the', 'final', 'sample', '(', 'N=26', ')', 'include', 'dashboard', 'report', 'at', 'the', 'national', 'level', '(', 'n=6', ')', ',', 'PT', 'level', '(', 'n=16', ')', '(', 'include', 'at', 'least', 'one', 'from', 'each', 'of', 'Canada', \"'s\", '@card@', 'province', 'and', 'territory', ')', ',', 'and', 'municipal', 'level', '(', 'n=4', ')', ',', 'capture', 'reporting', 'from', 'the', 'capital', '(', 'Ottawa', ')', 'and', 'the', 'three'], ['large', 'city', '(', 'Montreal', ',', 'Toronto', ',', 'and', 'Vancouver', ')', '.', 'figure', '@card@', 'map', 'the', 'pan-Canadian', 'distribution', 'and', 'the', 'variation', 'in', 'the', 'type', 'of', 'organization', 'responsible', 'for', 'develop', 'the', 'dashboard', '.', 'these', 'include', 'federal', 'or', 'PT', 'government', '(', '@card@', ',', '@card@', '%', ')', ',', 'public', 'health', 'authority', '(', '@card@', ',', '@card@', '%', ')', ',', 'and', 'other', '(', '@card@', ',', '@card@', '%', ')', ',', 'include', 'independent', 'initiative', '(', 'eg', ',', '#HowsMyFlattening', 'and', 'COVID-19', 'Canada', 'Open', 'Data', 'Working', 'Group', ')', ',', 'industry', '(', 'eg', ',', 'Esri', 'and', 'Deloitte', ')', ',', 'and', 'medium', '(', 'Canadian', 'Broadcasting', 'Corporation', ')', '.', 'see', 'multimedia', 'Appendix', '@card@', 'for', 'the', 'complete', 'list', 'of', 'dashboard', '.', '', '']]\n",
            "100\n",
            "100\n",
            "100\n",
            "109\n",
            " \n",
            "[['', 'descriptive', 'Assessment', ':', ':', ':', 'method', '', 'each', 'dashboard', 'be', 'assess', 'in', 'English', 'or', 'French', '.', 'the', 'assessment', 'be', 'limit', 'to', 'a', 'dashboard', \"'s\", 'main', 'page', 'and', 'to', 'content', 'accessible', 'within', 'one', 'interaction', '(', 'click', ')', '.', 'this', 'approach', 'be', 'design', 'to', 'increase', 'consistency', 'in', 'the', 'content', 'evaluate', ',', 'and', 'it', 'enable', 'us', 'to', 'gauge', 'the', 'dashboard', \"'s\", 'prioritization', 'and', 'hierarchy', 'of', 'content', '.', 'Archives', 'be', 'generate', 'to', 'create', 'a', 'record', 'of', 'each', 'dashboard', 'on', 'the', 'date', 'review', '(', 'see', 'multimedia', 'Appendix', '@card@', ')', '.', 'dashboard', 'be', 'distribute', 'among', 'the', 'scorer', 'as', 'describe', 'in', 'the', 'study', 'by', 'Ivanković', 'et', 'al', '[', '@card@', ']', '.', 'this', 'distribution', '(', 'average', 'three', 'dashboard', 'per', 'scorer', ')', 'remain', 'consistent', 'between', 'time', 'point', 'as', 'follow', ':', 'the', 'same', 'scorer', 'assess', 'the', 'same', 'dashboard', 'in', 'both', 'July', 'and', 'November', '@card@', '.', 'all', 'assessment', 'additionally', 'undergo', 'review', 'by', 'the', 'first', 'author', '(', 'EB', 'and', 'di', ')', 'to', 'verify', 'completeness', 'and', 'consistency', '.', '', '']]\n",
            "158\n",
            " \n",
            "[['', 'expert', 'appraisal', ':', ':', ':', 'method', '', 'to', 'assess', 'the', 'presence', 'of', 'the', 'seven', 'define', 'feature', 'of', 'highly', 'actionable', 'COVID-19', 'dashboard', ',', 'we', 'organize', 'a', 'series', 'of', 'three-person', 'panel', ',', 'involve', 'the', 'original', 'scorer', 'of', 'each', 'dashboard', 'join', 'by', 'two', 'other', 'expert', '(', 'the', 'first', 'author', 'or', 'another', 'panel', 'member', ')', ',', 'in', 'December', '@card@', '.', 'prior', 'to', 'the', 'start', 'of', 'the', 'appraisal', 'by', 'each', 'panel', ',', 'a', 'workshop', 'with', 'the', 'scorer', 'be', 'organize', 'to', 'calibrate', 'the', 'approach', 'to', 'score', '.', 'Scoring', 'be', 'inform', 'by', 'the', 'original', 'data', 'record', 'and', 'archives', 'generate', 'in', 'the', 'two', 'descriptive', 'assessment', '(', 'July'], ['and', 'November', '@card@', ')', '.', 'importantly', ',', 'each', 'of', 'the', 'seven', 'actionability', 'feature', 'be', 'appraise', 'with', 'consideration', 'to', 'the', 'dashboard', 'be', 'state', 'or', 'infer', 'purpose', 'and', 'audience', '.', 'it', 'mean', 'the', 'appraisal', 'of', 'each', 'feature', 'differentiate', 'between', 'the', 'intend', 'use', 'of', 'the', 'dashboard', 'by', 'national', ',', 'PT', ',', 'or', 'municipal', 'general', 'public', 'audience', ',', 'unless', 'further', 'specified', '.', 'in', 'line', 'with', 'the', 'nominal', 'group', 'technique', 'approach', '[', '@card@', ']', ',', 'the', 'three', 'panel', 'member', 'first', 'independently', 'score', 'the', 'presence', 'of', 'each', 'feature', 'on', 'the', 'dashboard', 'use', 'the', 'score', 'tool', 'describe', 'above', '.', 'the', 'proportion', 'of', 'identical', 'rating', 'for', 'each', 'dashboard', 'be', 'calculate', ',', 'and', 'virtual', 'panel', 'discussion', 'be', 'convene', 'between', 'the', 'three', 'scorer', 'involve', '[', '@card@', ']', '.', 'prior', 'to', 'those', 'discussion', ',', 'partial', 'or', 'full', 'agreement', '(', 'two-', 'or', 'three-way', 'consensus', ')', 'have', 'be', 'reach', 'on', '@card@', '%', '(', '@card@', ')', 'of', 'the', 'item', 'score', ',', 'with', 'full', 'three-way', 'agreement', 'on', '@card@', '%', '(', '@card@', ')', '(', 'see', 'multimedia', 'Appendix', '@card@', ')', '.', 'during', 'the', 'panel', 'discussion', ',', 'all', 'item', 'without', 'full', 'agreement', 'be', 'debate', '.', 'all', 'panel', 'reach', 'final', 'agreement', 'by', 'discussion', 'or', 're-examine', 'the', 'data', 'record', 'or', 'archives', '.', '', '']]\n",
            "100\n",
            "194\n",
            " \n",
            "[['', 'Data', 'Analysis', ':', ':', ':', 'method', '', 'we', 'use', 'descriptive', 'statistic', 'to', 'analyze', 'the', 'datum', 'at', 'the', 'two', 'time', 'point', '.', 'we', 'first', 'determine', 'the', 'number', 'and', 'percentage', 'of', 'dashboard', 'in', 'which', 'each', 'item', '(', 'Ie', ',', 'each', 'consideration', ')', 'of', 'the', 'descriptive', 'assessment', 'have', 'be', 'record', 'as', 'present', 'in', 'the', 'July', 'or', 'November', 'assessment', 'or', 'both', '.', 'the', 'net', 'change', 'for', 'each', 'item', 'be', 'calculate', 'as', 'the', 'change', 'in', 'the', 'total', 'number', 'of', 'dashboard', 'and', 'the', 'direction', 'of', 'that', 'change', 'between', 'time', 'point', '.', 'to', 'analyze', 'score', 'change', 'for', 'the', 'actionability', 'feature', ',', 'we', 'calculate', 'feature-by-feature', 'total', 'in'], ['both', 'July', 'and', 'November', ',', 'apply', 'a', '3-point', 'ordinal', 'scale', '(', 'not', 'present', ',', 'somewhat', 'present', ',', 'and', 'present', ')', '.', 'use', 'the', 'same', 'approach', 'apply', 'to', 'analyze', 'change', 'over', 'time', 'in', 'the', 'descriptive', 'assessment', ',', 'we', 'calculate', 'the', 'net', 'change', 'per', 'feature', 'as', 'the', 'change', 'in', 'the', 'total', 'number', 'of', 'positively', 'score', 'dashboard', ',', 'note', 'the', 'direction', 'of', 'that', 'change', '.', 'for', 'free-text', 'field', 'in', 'the', 'descriptive', 'assessment', 'tool', ',', 'we', 'use', 'both', 'deductive', 'and', 'inductive', 'thematic', 'analysis', 'to', 'identify', 'theme', '[', '@card@', ']', '.', 'this', 'apply', 'to', 'response', 'on', 'consideration', 'such', 'as', 'a', 'dashboard', \"'s\", 'purpose', 'of', 'use'], ['and', 'audience', ',', 'indicator', 'title', ',', 'and', 'consideration', 'with', '\"', 'other', '\"', 'as', 'an', 'answer', 'category', '.', 'topic', 'explore', 'in', 'the', 'assessment', 'tool', 'be', 'use', 'to', 'guide', 'the', 'deductive', 'thematic', 'analysis', '.', 'in', 'analyze', 'the', 'title', 'of', 'indicator', 'report', 'by', 'the', 'dashboard', ',', 'we', 'apply', 'the', 'existing', 'who', 'classification', 'of', 'type', 'of', 'pandemic-related', 'information', '.', 'indicator', 'be', 'analyze', 'by', 'the', 'type', 'of', 'information', 'as', 'follow', ':', 'public', 'health', 'and', 'epidemiology', ',', 'health', 'system', 'management', ',', 'social', 'and', 'economic', 'impact', ',', 'and', 'behavioral', 'insight', '[', '@card@', ']', '.', 'give', 'the', 'observed', 'variability', 'in', 'the', 'phrasing', 'of', 'indicator', 'title', ',', 'the', 'first', 'author', 'group', 'key', 'performance', 'indicator', 'by', 'theme', '.', 'new', 'theme', 'that', 'emerge', 'be', 'identify', 'use', 'an', 'inductive', 'approach', '.', '', '']]\n",
            "100\n",
            "100\n",
            "121\n",
            " \n",
            "[['', 'Ethics', 'approval', ':', ':', ':', 'method', '', 'this', 'study', 'involve', 'the', 'analysis', 'of', 'publicly', 'available', 'COVID-19', 'dashboard', '.', 'Ethics', 'approval', 'be', 'not', 'require', '.', '', '']]\n",
            "27\n",
            " \n",
            "[['', 'sample', 'dashboard', ':', ':', ':', 'result', '', 'the', '@card@', 'Canadian', 'COVID-19', 'dashboard', 'be', 'assess', 'in', 'the', 'time', 'frame', 'July', '@card@', 'to', 'July', '@card@', 'and', 'November', '@card@', 'to', 'December', '@card@', ',', '@card@', ',', 'with', 'an', 'average', 'of', '@card@', 'day', 'between', 'assessment', '(', 'range', '@card@', ')', '.', 'all', 'dashboard', 'remain', 'active', ',', 'with', 'regular', ',', 'typically', 'daily', 'update', ',', 'aside', 'from', 'one', '(', 'City', 'of', 'Vancouver', ')', ',', 'which', 'be', 'still', 'accessible', 'but', 'last', 'update', 'in', 'August', '@card@', '.', 'as', 'expect', ',', 'give', 'the', 'wide', 'difference', 'in', 'population', 'size', 'and', 'density', 'across', 'Canadian', 'province', 'and', 'territory', ',', 'the', 'cumulative', 'number', 'of', 'COVID-19', 'case', 'report', 'by', 'the', 'dashboard', 'for', 'their', 'respective', 'geographic', 'area', 'range', 'from', '@card@', 'case', 'in', 'Nunavut', 'to', 'more', 'than', '@card@', 'in', 'Quebec', 'in', 'July', ',', 'and', 'from', '@card@', 'case', 'in', 'Northwest', 'Territories', 'to', 'more', 'than', '@card@', 'in', 'Quebec', 'in', 'November', '.', 'cumulative', 'number', 'of', 'COVID-19', 'case', 'and', 'death', 'on', 'the', 'assessment', 'date', 'be', 'report', 'in', 'multimedia', 'Appendix', '@card@', '.', '', '']]\n",
            "162\n",
            " \n",
            "[['', 'change', 'to', 'the', 'dashboard', 'over', 'time', ':', ':', ':', 'result', '', 'table', '@card@', 'report', 'how', 'the', 'dashboard', 'change', 'over', 'time', 'accord', 'to', 'the', 'descriptive', 'assessment', '.', 'the', 'change', 'can', 'be', 'summarize', 'as', 'present', 'below', '.', '', '']]\n",
            "38\n",
            " \n",
            "[['', 'purpose', 'and', 'audience', ':', ':', ':', 'result', '', 'there', 'be', 'no', 'change', 'in', 'the', 'extent', 'to', 'which', 'dashboard', 'state', 'their', 'purpose', 'of', 'reporting', ',', 'with', 'just', 'over', 'one-third', '(', '@card@', ',', '@card@', '%', ')', 'do', 'so', 'in', 'both', 'July', 'and', 'November', '.', 'where', 'state', ',', 'the', 'most', 'frequent', 'specific', 'aim', 'of', 'dashboard', 'be', 'to', 'provide', 'simplify', 'information', 'in', 'an', '\"', 'easy-to-digest', ',', 'actionable', 'way', '\"', '[', '@card@', ']', 'and', 'to', '\"', 'help', 'prevention', 'strategy', 'reach', 'those', 'people', 'most', 'affect', '\"', '[', '@card@', ']', '.', 'the', 'explicit', 'mention', 'of', 'a', 'target', 'audience', 'be', 'even', 'less', 'frequent', ',', 'be', 'find', 'on', 'just', 'four', 'dashboard', '(', '@card@', ',', '@card@', '%', ')', 'in', 'November', ',', 'a', 'marginal', 'increase', 'from', 'July', '(', '@card@', ',', '@card@', '%', ')', '.', 'target', 'audience', 'be', 'denote', 'as', '\"', 'general', 'public', ',', '\"', '\"', 'business', ',', '\"', 'or', '\"', 'public', 'health', 'leader', '.', '\"', 'notable', 'improvement', 'over', 'time', 'be', 'make', 'by', 'Ontario', \"'s\", '#HowsMyFlattening', '[', '@card@', ']', ',', 'with', 'the', 'introduction', 'of', 'two', 'dashboard', 'viewing', 'mode', '(', '\"', 'personal', '\"', 'and', '\"', 'geek', '\"', ')', 'to', 'serve', 'the', 'information', 'need', 'of', 'different', 'audience', '.', '', '']]\n",
            "187\n",
            " \n",
            "[['', 'indicator', 'theme', ':', ':', ':', 'result', '', 'across', 'the', 'dashboard', ',', 'public', 'health', 'and', 'epidemiological', 'indicator', ',', 'follow', 'by', 'health', 'system', 'management', 'indicator', ',', 'be', 'the', 'most', 'frequently', 'report', 'indicator', 'at', 'both', 'time', 'point', '.', 'Behavioral', 'and', 'socioeconomic', 'indicator', 'be', 'rare', '.', 'an', 'average', 'of', 'seven', 'indicator', 'theme', 'be', 'report', 'per', 'dashboard', 'in', 'November', '(', 'range', '@card@', ')', ',', 'compare', 'with', 'six', 'in', 'July', '(', 'range', '@card@', ')', '.', 'several', 'indicator', 'become', 'more', 'prevalent', 'in', 'November', ',', 'include', 'viral', 'reproduction', 'rate', ',', 'test', 'rate', ',', 'test', 'turnaround', 'time', ',', 'and', 'composite', 'score', '.', 'six', 'dashboard', '(', '@card@', ',', '@card@'], ['%', ')', 'reduce', 'the', 'number', 'of', 'indicator', 'theme', 'report', ',', 'most', 'often', 'remove', 'indicator', 'on', 'active', 'case', '.', 'in', 'some', 'instance', ',', 'indicator', 'have', 'be', 'move', 'from', 'the', 'dashboard', 'to', 'new', 'tab', 'or', 'page', ',', 'as', 'in', 'Ottawa', '[', '@card@', ']', ',', 'which', 'relocate', 'indicator', 'on', 'behavioral', 'insight', 'to', 'new', 'tab', 'no', 'longer', 'within', 'direct', 'access', 'of', 'the', 'main', 'dashboard', 'page', 'assess', '.', 'indicator', 'on', 'serology', 'test', ',', 'double', 'rate', ',', 'and', 'testing', 'stock', ',', 'which', 'have', 'be', 'present', 'on', 'dashboard', 'previously', 'assess', 'internationally', '[', '@card@', ']', ',', 'be', 'not', 'report', 'at', 'either', 'time', 'point', 'on', 'the', 'sample', 'dashboard', '.', '', '']]\n",
            "100\n",
            "102\n",
            " \n",
            "[['', 'Data', 'Sources', 'and', 'Metadata', ':', ':', ':', 'result', '', 'a', 'third', '(', '@card@', ',', '@card@', '%', ')', 'of', 'the', 'dashboard', ',', 'all', 'government', 'develop', ',', 'do', 'not', 'explicitly', 'report', 'data', 'source', 'in', 'July', 'or', 'November', '.', 'dashboard', 'typically', 'draw', 'datum', 'from', 'jurisdiction-specific', 'health', 'service', 'and', 'public', 'health', 'authority', ',', 'hospital', 'database', ',', 'and', ',', 'for', 'comparison', 'with', 'other', 'country', ',', 'the', 'Johns', 'Hopkins', 'University', 'Coronavirus', 'Resource', 'Center', 'dashboard', '.', 'dashboard', 'report', 'metadata', '(', 'supplementary', 'detail', 'on', 'the', 'calculation', 'of', 'the', 'indicator', ')', 'increase', 'to', 'more', 'than', '@card@', '%', '(', '@card@', ',', '@card@', '%', ')', 'by', 'November', '(', 'from', '@card@', ',', '@card@', '%', ',', 'in', 'July', ')', '.', 'notably', ',', 'the', 'COVID-19', 'in', 'Canada', 'dashboard', 'publish', 'a', 'detailed', 'technical', 'report', 'on', 'its', 'datum', 'set', 'produce', 'by', 'the', 'COVID-19', 'Canada', 'Open', 'Data', 'Working', 'Group', 'initiative', '[', '@card@', ']', '.', '', '']]\n",
            "140\n",
            " \n",
            "[['', 'type', 'of', 'analysis', ':', ':', ':', 'result', '', 'a', 'slight', 'increase', 'in', 'the', 'number', 'of', 'dashboard', 'report', 'time-trend', 'datum', 'be', 'observe', 'between', 'July', 'and', 'November', '(', 'from', '@card@', ',', '@card@', '%', 'to', '@card@', ',', '@card@', '%', ')', '.', 'improvement', 'be', 'also', 'make', 'to', 'the', 'availability', 'of', 'customizable', 'time', 'scale', ',', 'allow', 'user', 'to', 'zoom', 'in', 'on', 'specific', 'time', 'frame', 'of', 'interest', '(', 'from', '@card@', ',', '@card@', '%', 'to', '@card@', ',', '@card@', '%', ')', '.', 'modification', 'be', 'make', 'to', 'report', 'subregional', 'geographic', 'breakdown', 'of', 'datum', ',', 'with', 'more', 'than', 'half', '(', '@card@', ',', '@card@', '%', ')', 'of', 'the', 'dashboard', 'include', 'breakdown', 'by', 'health', 'region', 'in', 'November', ',', 'as', 'compare', 'with', '@card@', '(', '@card@', ',', '@card@', '%', ')', 'in', 'July', '.', 'age', 'and', 'sex', 'remain', 'the', 'most', 'common', 'population', 'breakdown', 'in', 'November', '(', '@card@', ',', '@card@', '%', ',', 'as', 'against', '@card@', ',', '@card@', '%', ',', 'in', 'July', ')', ',', 'follow', 'by', 'mode', 'of', 'transmission', '(', '@card@', ',', '@card@', '%', ')', 'and', 'long-term', 'care', 'facility', '(', '@card@', ',', '@card@', '%', ')', '.', 'school', 'emerge', 'as', 'a', 'new', 'type', 'of', 'breakdown', 'in', 'November', ',', 'though', 'present', 'on', 'only', 'one-fifth', '(', '@card@', ',', '@card@', '%', ')', 'of', 'dashboard', '.', '', '']]\n",
            "197\n",
            " \n",
            "[['', 'presentation', ':', ':', ':', 'result', '', 'between', 'July', 'and', 'November', ',', 'most', 'dashboard', 'slightly', 'improve', 'the', 'number', 'and', 'variety', 'of', 'chart', 'type', ',', 'simplification', 'technique', ',', 'and', 'interactive', 'feature', 'they', 'make', 'available', '.', 'this', 'be', 'mostly', 'do', 'by', 'introduce', 'map', 'or', 'additional', 'table', 'and', 'icon', ',', 'as', 'well', 'as', 'user-directed', 'modification', 'to', 'the', 'information', 'display', '.', 'new', 'feature', 'that', 'emerge', 'in', 'November', 'include', 'option', 'to', 'subscribe', 'to', 'email', 'update', 'for', 'alert', '(', 'eg', ',', '#HowsMyFlattening', '[', '@card@', ']', 'and', 'Ottawa', '[', '@card@', ']', ')', '.', 'two', 'dashboard', '(', 'Quebec', '[', '@card@', ']', 'and', 'Ontario', '[', '@card@', ']', ')', 'introduce'], ['user', 'feedback', 'survey', '.', 'text', 'provide', 'detail', 'on', 'datum', 'quality', 'be', 'present', 'on', 'more', 'than', 'two-third', '(', '@card@', ',', '@card@', '%', ')', 'of', 'dashboard', 'in', 'November', ',', 'compare', 'with', 'half', '(', '@card@', ',', '@card@', '%', ')', 'in', 'July', '.', 'for', 'example', ',', 'Esri', \"'s\", 'dashboard', 'include', 'lay-language', 'explanation', 'of', 'value', 'with', 'statement', 'such', 'as', '\"', 'why', 'do', 'I', 'sometimes', 'see', 'negative', 'number', '?', 'some', 'value', 'report', '(', 'like', 'total', 'case', ')', 'be', 'cumulative', '.', 'they', 'always', 'go', 'up', '.', 'other', 'value', '(', 'like', 'hospitalization', ')', 'fluctuate', 'and', 'can', 'go', 'up', 'or', 'down', 'day-to-day', '\"', '[', '@card@', ']', '.', 'narrative', 'to'], ['explain', 'the', 'meaning', 'of', 'statistic', 'and', 'trend', 'be', 'provide', 'by', 'few', 'than', 'half', '(', '@card@', ',', '@card@', '%', ')', 'of', 'the', 'dashboard', 'in', 'November', '.', 'explanation', 'of', 'trend', 'and', 'their', 'meaning', 'include', 'the', 'follow', 'description', 'provide', 'by', 'the', 'COVID-19', 'in', 'Canada', 'dashboard', ':', '\"', 'graph', 'display', 'trend', 'for', 'daily', 'case', 'and', 'death', 'over', 'time', 'on', 'a', 'logarithmic', 'scale', '.', 'an', 'upward', 'slope', 'mean', 'the', 'number', 'of', 'cases/death', 'report', 'each', 'day', 'be', 'still', 'grow', '.', 'a', 'flat', 'line', 'mean', 'the', 'number', 'of', 'cases/death', 'report', 'each', 'day', 'be', 'stay', 'the', 'same', '.', 'a', 'downward', 'slope', 'mean', 'the', 'number', 'of', 'cases/death', 'report', 'each', 'day', 'be', 'fall', '\"', '[', '@card@', ']', '.', '', '']]\n",
            "100\n",
            "100\n",
            "110\n",
            " \n",
            "[['', 'Actionability', 'feature', 'over', 'time', ':', ':', ':', 'result', '', 'of', 'the', '@card@', 'dashboard', 'assess', ',', 'none', 'be', 'find', 'to', 'fully', 'present', 'all', 'seven', 'of', 'the', 'define', 'actionability', 'feature', 'either', 'in', 'July', 'or', 'November', '.', 'overall', ',', '@card@', '%', '(', '@card@', ')', 'of', 'dashboard', 'be', 'assess', 'in', 'July', 'as', 'have', 'five', 'or', 'more', 'actionability', 'feature', 'fully', 'present', ',', 'double', 'to', '@card@', '%', '(', '@card@', ')', 'of', 'dashboard', 'in', 'November', '.', 'three', 'quarter', '(', '@card@', '%', ',', '@card@', ')', 'of', 'dashboard', 'have', 'two', 'or', 'few', 'feature', 'fully', 'present', 'in', 'July', 'and', '@card@', '%', '(', '@card@', ')', 'have', 'two', 'or', 'few', 'feature'], ['fully', 'present', 'in', 'November', '.', 'seven', 'dashboard', 'increase', 'their', 'score', 'of', 'fully', 'present', 'feature', '.', 'although', 'two', 'dashboard', 'score', 'low', 'in', 'November', ',', 'the', 'decrease', 'be', 'largely', 'attributable', 'to', 'modification', 'in', 'the', 'type', 'of', 'information', 'report', 'on', 'the', 'main', 'dashboard', 'page', ',', 'as', 'indicator', 'be', 'move', 'to', 'other', 'dedicated', 'page', '.', 'the', 'actionability', 'feature', 'most', 'widely', 'present', 'on', 'dashboard', 'in', 'both', 'July', 'and', 'November', 'be', 'the', 'clarity', 'of', 'data', 'source', 'and', 'method', ',', 'while', 'the', 'use', 'of', 'storytelling', 'and', 'visual', 'cue', 'be', 'the', 'feature', 'most', 'frequently', 'absent', '(', 'Figure', '@card@', ')', '.', 'among', 'the', 'seven', 'define', 'feature', 'of', 'actionability', ',', 'improvement', 'be', 'observe', 'in', 'all', 'but', 'one', '(', 'know', 'the', 'audience', 'and', 'their', 'information', 'need', ')', ',', 'which', 'be', 'present', 'on', 'few', 'than', 'a', 'quarter', 'of', 'the', 'dashboard', 'at', 'either', 'time', 'point', '.', 'improvement', 'be', 'most', 'pronounce', 'for', 'the', 'feature', 'involve', 'geographic', 'breakdown', ',', 'with', 'average', 'score', 'increase', 'by', 'nearly', 'a', 'quarter', 'from', 'July', 'to', 'November', '.', 'second', 'to', 'these', 'improvement', 'be', 'improvement', 'in', 'the', 'use', 'of', 'time', 'trend', ',', 'although', 'explicit', 'link', 'between', 'datum', 'and', 'policy', 'decision', 'and', 'infection', 'control', 'measure', 'remain', 'infrequent', '.', '', '']]\n",
            "100\n",
            "187\n",
            " \n",
            "[['', 'principal', 'finding', ':', ':', ':', 'discussion', '', 'in', 'this', 'study', ',', 'we', 'explore', 'change', 'make', 'in', 'the', 'course', 'of', '@card@', 'to', 'public', 'web-based', 'COVID-19', 'dashboard', 'in', 'Canada', 'and', 'appraise', 'their', 'actionability', 'for', 'decision-making', 'purpose', '.', 'although', 'the', 'dashboard', 'we', 'sample', 'vary', 'in', 'their', 'specific', 'geographic', 'focus', ',', 'they', 'all', 'share', 'an', 'increase', 'relevance', 'in', 'support', 'data-driven', 'decision-making', 'in', 'their', 'respective', 'audience', 'as', 'the', 'severity', 'of', 'the', 'COVID-19', 'pandemic', 'intensify', 'across', 'the', 'country', '.', 'broadly', 'speak', ',', 'from', 'the', 'perspective', 'of', 'the', 'health', 'care', 'performance', 'intelligence', 'we', 'apply', ',', 'we', 'observe', 'that', 'subtle', 'improvement', 'be', 'make', 'to', 'the', 'dashboard', 'between'], ['July', 'and', 'November', '@card@', '.', 'improvement', 'be', 'most', 'pronounce', 'with', 'regard', 'to', 'dashboard', 'technology', 'solution', '(', 'good', 'customizable', 'time', 'trend', ',', 'and', 'new', 'chart', 'and', 'graph', ')', 'and', 'datum', 'provision', '(', 'new', 'indicator', ',', 'more', 'transparency', 'on', 'metadata', ',', 'and', 'more', 'geographic', 'granularity', ')', '.', 'modification', 'to', 'further', 'develop', 'communicative', 'element', 'be', 'less', 'pronounced', 'or', 'even', 'absent', 'during', 'the', 'period', 'assess', '.', 'these', 'result', 'be', 'mirror', 'in', 'the', 'score', 'of', 'actionability', 'feature', '.', 'COVID-19', 'dashboard', 'worldwide', 'be', 'power', 'by', 'a', 'somewhat', 'common', 'range', 'of', 'software', 'service', 'provider', '(', 'eg', ',', 'ArcGIS', ',', 'tableau', ',', 'and', 'Power', 'Bi', ')', '.', 'we'], ['presume', 'that', 'some', 'improvement', 'observe', 'across', 'our', 'sample', 'can', 'be', 'credit', 'to', 'new', 'technical', 'feature', 'roll', 'out', 'by', 'such', 'provider', 'during', '@card@', '.', 'for', 'example', ',', 'the', 'use', 'of', 'adjustable', 'time', 'trend', 'be', 'a', 'feature', 'introduce', 'on', 'more', 'than', 'a', 'third', 'of', 'the', 'dashboard', 'by', 'November', 'and', 'be', 'evidently', 'an', 'added', 'element', 'in', 'the', 'underlie', 'software', '.', 'however', ',', 'while', 'the', 'industry', 'may', 'be', 'credit', 'with', 'spearhead', 'the', 'technical', 'development', 'of', 'dashboard', ',', 'the', 'current', 'practice', 'from', 'a', 'technological', 'perspective', 'of', 'measure', 'actionability', 'through', 'user', 'click', '[', '@card@', ']', 'expose', 'some', 'limitation', '.', 'to', 'give', 'an', 'example', ',', 'the', 'enhanced'], ['sophistication', 'of', 'the', 'technology', 'behind', 'more', 'interactive', 'time', 'trend', 'use', 'on', 'dashboard', 'be', 'not', 'complement', 'with', 'improvement', 'to', 'incorporate', 'the', 'enactment', 'of', 'policy', 'restriction', 'into', 'time-trend', 'graph', 'so', 'as', 'to', 'visualize', 'subsequent', 'effect', 'of', 'those', 'restriction', '.', 'this', 'be', 'despite', 'the', 'merit', 'of', 'such', 'a', 'visualization', '[', '@card@', ']', 'and', 'the', 'fact', 'that', 'such', 'a', 'technique', 'be', 'already', 'be', 'apply', 'on', 'dashboard', 'in', 'country', 'like', 'Australia', '[', '@card@', ']', 'and', 'Slovenia', '[', '@card@', ']', '.', 'in', 'our', 'sample', ',', 'we', 'do', 'observe', 'dashboard', 'that', 'excel', 'in', 'actionability', ',', 'successfully', 'leverage', 'the', 'skill', 'of', 'specialist', 'in', 'technology', ',', 'datum', ',', 'public'], ['health', ',', 'and', 'communication', '[', '@card@', ']', '.', 'this', 'finding', 'be', 'consistent', 'with', 'the', 'finding', 'in', 'previous', 'study', 'that', 'have', 'show', 'the', 'importance', 'of', 'diverse', 'stakeholder', 'engagement', 'for', 'achieve', 'actionable', 'performance', 'measurement', ',', 'datum', 'reporting', ',', 'and', 'dashboard', 'use', '[', '@card@', ']', '.', 'in', 'future', 'research', ',', 'we', 'intend', 'to', 'further', 'explore', 'the', 'perspective', 'of', 'dashboard', 'developer', ',', 'include', 'their', 'team', 'profile', '.', 'improve', 'geographic', 'granularity', 'and', 'transparency', 'of', 'method', 'may', 'be', 'support', 'by', 'initiative', 'like', 'the', 'COVID-19', 'Canada', 'Open', 'Data', 'Working', 'Group', '[', '@card@', ']', '.', 'the', 'overall', 'subtlety', 'of', 'change', 'in', 'available', 'datum', 'and', 'its', 'specificity', 'might', 'be'], ['a', 'symptom', 'of', 'underlie', 'system', 'barrier', ',', 'in', 'particular', 'in', 'relation', 'to', 'the', 'collection', 'and', 'report', 'of', 'disaggregated', 'datum', '[', '@card@', ']', '.', 'researcher', 'in', 'the', 'Canadian', 'context', 'have', 'call', 'attention', 'to', 'data', 'management', 'issue', 'arise', 'from', 'unharmonized', 'privacy', 'law', ',', 'public/private', 'datum', 'custodianship', ',', 'and', 'obstacle', 'to', 'the', 'reuse', 'of', 'datum', 'for', 'research', '[', '@card@', ']', '.', 'the', 'collection', 'of', 'race-based', 'datum', 'in', 'Canada', 'be', 'fragment', '[', '@card@', ']', ',', 'and', 'a', 'pan-Canadian', 'standard', 'be', 'propose', 'only', 'in', 'July', '@card@', '[', '@card@', ']', '.', 'there', 'be', 'a', 'responsibility', 'to', 'act', 'in', 'case', 'where', 'missing', 'datum', 'could', 'be', 'mask', 'inequitable'], ['burden', 'of', 'the', 'pandemic', '[', '@card@', ']', '.', 'the', 'potential', 'equity-promoting', 'impact', 'of', 'subpopulation-based', 'approach', 'to', 'the', 'analysis', 'and', 'use', 'of', 'datum', 'have', 'already', 'be', 'highlight', 'in', 'Toronto', '[', '@card@', ']', '.', 'country', 'that', 'report', 'race-', 'and', 'ethnicity-based', 'COVID-19', 'datum', ',', 'like', 'New', 'Zealand', '[', '@card@', ']', 'and', 'the', 'United', 'States', '[', '@card@', ']', ',', 'may', 'be', 'a', 'source', 'of', 'insight', 'into', 'necessary', 'datum', 'governance', 'standard', ',', 'privacy', 'protection', ',', 'and', 'datum', 'infrastructure', '.', 'our', 'finding', 'also', 'reveal', 'a', 'responsiveness', 'to', 'the', 'evolve', 'nature', 'of', 'the', 'pandemic', ',', 'with', 'multiple', 'dashboard', 'add', 'school', 'case', 'or', 'outbreak', 'as', 'a', 'datum', 'disaggregation'], ['option', 'and', 'turnaround', 'time', 'for', 'virus', 'testing', 'as', 'an', 'indicator', '.', 'shortly', 'after', 'our', 'second', 'assessment', ',', 'many', 'dashboard', 'also', 'begin', 'report', 'on', 'vaccination', '.', 'less', 'advanced', 'dashboard', ',', 'from', 'area', 'not', 'seriously', 'affect', 'by', 'the', 'pandemic', 'in', 'the', 'spring', 'of', '@card@', ',', 'make', 'considerable', 'progress', 'in', 'the', 'second', 'half', 'of', 'the', 'year', ',', 'as', 'COVID-19', 'become', 'more', 'widespread', '.', 'while', 'such', 'change', 'confirm', 'that', 'dashboard', 'continue', 'develop', 'with', 'time', ',', 'the', 'clarity', 'of', 'their', 'intended', 'aim', 'and', 'audience', 'nevertheless', 'remain', 'an', 'underdeveloped', 'attribute', ',', 'despite', 'wide', 'recognition', 'of', 'the', 'fundamental', 'importance', 'of', 'datum', 'drive', 'by', 'a', 'clear', 'purpose', 'and'], ['information', 'need', '[', '@card@', ']', '.', 'this', 'may', 'be', 'a', 'symptom', 'of', 'data', 'governance', 'constraint', 'or', ',', 'more', 'specifically', ',', 'of', 'unclear', 'responsibility', 'and', 'mandate', 'delegate', 'to', 'developer', ',', 'as', 'evidence', 'by', 'the', 'multiple', 'public', 'actor', '(', 'eg', ',', 'PT', 'government', 'and', 'PT', 'public', 'health', 'authority', ')', 'that', 'be', 'report', 'on', 'the', 'same', 'geography', 'with', 'nearly', 'equivalent', 'content', '.', 'although', 'COVID-19', 'dashboard', 'begin', 'as', 'a', 'need-based', 'short-term', 'tool', 'for', 'monitor', 'and', 'communicate', 'on', 'the', 'pandemic', ',', 'this', 'function', 'have', 'evolve', 'with', 'time', '.', 'dashboard', 'must', 'now', 'face', 'the', 'mid-term', 'challenge', 'of', 'dual-track', 'health', 'system', 'monitoring', ',', 'report', 'both', 'on', 'the', 'pandemic', 'and', 'on', 'non-COVID', 'health', 'care', '[', '@card@', ']', ',', 'as', 'well', 'as', 'the', 'long-term', 'challenge', 'of', 'integration', 'into', 'standard', 'health', 'system', 'performance', 'measurement', '.', 'rethink', 'the', 'development', 'of', 'dashboard', 'govern', 'by', 'clear', 'mandate', 'will', 'be', 'essential', 'to', 'ensure', 'that', 'relevant', 'high-quality', 'information', 'be', 'transparently', 'deliver', 'to', 'well-defined', 'audience', '.', '', '']]\n",
            "100\n",
            "100\n",
            "100\n",
            "100\n",
            "100\n",
            "100\n",
            "100\n",
            "100\n",
            "152\n",
            " \n",
            "[['', 'strength', 'and', 'limitation', ':', ':', ':', 'discussion', '', 'to', 'our', 'knowledge', ',', 'this', 'be', 'the', 'first', 'study', 'to', 'comparatively', 'explore', 'and', 'critically', 'reflect', 'on', 'change', 'to', 'COVID-19', 'dashboard', 'over', 'time', 'from', 'a', 'health', 'care', 'performance', 'intelligence', 'perspective', '.', 'the', 'study', 'be', 'enrich', 'by', 'the', 'expertise', 'of', 'the', 'panel', ',', 'whose', 'member', 'have', 'prior', 'experience', 'in', 'assess', 'COVID-19', 'dashboard', 'internationally', ',', 'as', 'well', 'as', 'a', 'shared', 'reflexive', 'lens', 'to', 'gauge', 'both', 'the', 'technical', 'and', 'communication', 'aspect', 'of', 'the', 'dashboard', '.', 'additionally', ',', 'give', 'the', 'sustained', 'relevance', 'of', 'COVID-19', 'dashboard', ',', 'our', 'finding', 'be', 'pertinent', 'to', 'both', 'short-term', 'improvement', 'in', 'COVID-19'], ['dashboard', 'and', 'their', 'longer-term', 'utility', 'in', 'address', 'future', 'public', 'health', 'crisis', '.', 'we', 'acknowledge', 'several', 'limitation', '.', 'first', ',', 'the', 'stage', 'of', 'the', 'pandemic', 'and', 'its', 'severity', 'vary', 'considerably', 'across', 'our', 'sample', ',', 'possibly', 'contribute', 'to', 'difference', 'with', 'respect', 'to', 'the', 'datum', 'available', 'and', 'the', 'prioritization', 'of', 'a', 'dashboard', \"'s\", 'development', '.', 'despite', 'this', ',', 'the', 'general', 'direction', 'of', 'change', 'be', 'find', 'to', 'be', 'common', ',', 'average', 'a', 'three-fold', 'increase', 'in', 'COVID-19', 'case', 'across', 'location', 'between', 'our', 'assessment', 'time', 'point', '(', 'see', 'multimedia', 'Appendix', '@card@', ')', '.', 'second', ',', 'the', 'expert-based', 'appraisal', 'of', 'actionability', 'we', 'employ', 'be', 'not', 'a', 'guarantee'], ['reflection', 'of', 'a', 'dashboard', \"'s\", 'use', 'in', 'practice', '.', 'the', 'first-hand', 'experience', 'of', 'dashboard', 'user', 'merit', 'further', 'study', 'to', 'obtain', 'practical', 'real-world', 'insight', 'that', 'can', 'complement', 'the', 'concept', 'explore', 'here', '.', 'third', ',', 'our', 'archiving', 'of', 'dashboard', 'be', 'limit', 'to', 'their', 'main', 'page', '.', 'dashboard', 'with', 'multiple', 'tab', 'could', 'therefore', 'not', 'be', 'revisit', 'in', 'full', 'for', 'score', 'purpose', '.', 'to', 'minimize', 'the', 'potential', 'loss', 'of', 'information', ',', 'all', 'dashboard', 'be', 'assess', 'and', 'evaluate', 'by', 'the', 'same', 'scorer', 'in', 'both', 'July', 'and', 'November', '.', 'lastly', ',', 'to', 'permit', 'comparison', 'over', 'time', ',', 'our', 'sample', 'be', 'limit', 'to', 'dashboard', 'identify', 'in', 'our', 'search', 'in', 'May', '@card@', '.', 'any', 'new', 'dashboard', 'that', 'follow', 'would', 'have', 'be', 'miss', '.', 'an', 'exhaustive', 'sample', 'be', 'beyond', 'the', 'study', \"'s\", 'aim', ';', 'however', ',', 'we', 'achieve', 'geographic', 'representativeness', ',', 'as', 'well', 'as', 'reasonable', 'diversity', 'in', 'level', '(', 'national', ',', 'jurisdictional', ',', 'and', 'municipal', ')', 'and', 'in', 'the', 'type', 'of', 'provide', 'organization', '.', '', '']]\n",
            "100\n",
            "100\n",
            "157\n",
            " \n",
            "[['', 'conclusion', ':', ':', ':', 'discussion', '', 'actionable', 'dashboard', 'be', 'need', 'to', 'enable', 'effective', 'decision-making', 'across', 'audience', '.', 'dashboard', 'be', 'tool', 'of', 'continue', 'importance', 'during', 'the', 'COVID-19', 'pandemic', ',', 'but', 'sustain', 'their', 'actionability', 'require', 'responsiveness', 'to', 'the', 'pandemic', \"'s\", 'stage', '.', 'improvement', 'make', 'to', 'COVID-19', 'dashboard', 'in', 'the', 'Canadian', 'context', 'from', 'July', 'to', 'November', '@card@', 'appear', 'to', 'be', 'drive', 'mainly', 'by', 'certain', 'technological', 'and', 'data', 'improvement', '.', 'the', 'effective', 'use', 'of', 'communication', 'feature', 'remain', 'underdeveloped', 'at', 'both', 'point', 'in', 'time', '.', 'COVID-19', 'dashboard', 'developer', 'need', 'to', 'good', 'leverage', 'the', 'expertise', 'of', 'public', 'health', 'and', 'communication', 'specialist', ',', 'in', 'order', 'to'], ['ensure', 'that', 'datum', 'will', 'truly', 'become', 'information', 'that', 'be', 'readily', 'accessible', 'and', 'relevant', 'to', 'a', 'public', 'audience', '.', 'strategic', 'system', 'improvement', 'to', 'prioritize', 'data', 'standard', ',', 'for', 'example', ',', 'those', 'with', 'respect', 'to', 'subpopulation-based', 'datum', ',', 'be', 'need', 'to', 'achieve', 'more', 'significant', 'gain', 'in', 'actionability', '.', 'as', 'the', 'pandemic', 'continue', 'to', 'evolve', ',', 'attention', 'will', 'need', 'to', 'shift', 'toward', 'convert', 'dashboard', 'from', 'their', 'initial', 'status', 'as', 'temporary', 'monitoring', 'and', 'communication', 'tool', 'into', 'instrument', 'that', 'be', 'integrate', 'into', 'routine', 'health', 'system', 'performance', 'monitoring', '.', 'accomplish', 'that', 'will', 'also', 'require', 'improve', 'governance', 'arrangement', 'that', 'clarify', 'role', 'and', 'responsibility', '.', 'in', 'the', 'short', 'term', ',', 'continued', 'improvement', 'be', 'urgently', 'need', 'with', 'respect', 'to', 'all', 'seven', 'of', 'the', 'identify', 'actionability', 'feature', ',', 'in', 'order', 'to', 'make', 'COVID-19', 'dashboard', 'more', 'fit', 'for', 'their', 'purpose', 'and', 'use', '.', '', '']]\n",
            "100\n",
            "134\n",
            " \n",
            "norm=7\trule=13\tnonorm=0\n",
            "[['', '@card@', '.', 'introduction', '', 'the', 'study', 'of', 'systemic', 'risk', 'suddenly', 'increase', 'after', 'the', 'subprime', 'crisis', '.', 'compare', 'with', 'the', 'previous', 'financial', 'crisis', ',', 'although', 'there', 'be', 'an', 'overlap', 'between', 'the', 'two', ',', 'systemic', 'risk', 'include', 'not', 'only', 'the', 'information', 'asymmetry', ',', 'liquidity', ',', 'and', 'crisis', 'transmission', 'pathway', 'involve', 'in', 'the', 'financial', 'crisis', ',', 'but', 'also', 'the', 'research', 'on', 'the', 'stability', 'problem', 'cause', 'by', 'the', 'structure', 'of', 'the', 'system', 'itself', ',', 'the', 'quantification', 'of', 'systemic', 'risk', ',', 'and', 'early', 'warning', 'issue', '.', 'as', 'a', 'result', ',', 'further', 'research', 'on', 'the', 'market', 'microstructure', 'and', 'agent', 'heterogeneity', 'have', 'also', 'be', 'trigger', '.'], ['meanwhile', ',', 'cross-disciplinary', 'research', 'method', 'from', 'other', 'discipline', 'have', 'be', 'introduce', ',', 'such', 'as', 'the', 'introduction', 'of', 'complex', 'network', 'model', 'when', 'study', 'the', 'structural', 'stability', 'of', 'the', 'system', ',', 'link', 'the', 'contagious', 'effect', 'of', 'financial', 'systemic', 'risk', 'to', 'the', 'transmission', 'pathway', 'of', 'infectious', 'disease', 'or', 'bio-food', 'chain', '[', '@card@', ']', ',', 'establish', 'new', 'measure', 'to', 'measure', 'systemic', 'risk', '[', '@card@', ']', '.', 'different', 'measurement', 'method', 'in', 'the', 'financial', 'sub-branch', 'field', 'be', 'also', 'apply', 'to', 'empirically', 'verify', 'and', 'predict', 'the', 'tail', 'loss', 'of', 'systemic', 'risk', '[', '@card@', ']', '.', 'what', 'do', 'systemic', 'risk', 'research', 'study', '?', 'what', 'method', 'be', 'use', 'to'], ['study', 'systemic', 'risk', '?', 'these', 'be', 'the', 'question', 'that', 'this', 'review', 'will', 'always', 'revolve', 'around', '.', 'the', 'former', 'one', 'refer', 'to', 'a', 'framework', 'interpretation', ',', 'which', 'reveal', 'the', 'origin', ',', 'predecessor', ',', 'current', 'status', ',', 'and', 'inner', 'relationship', 'between', 'subdivision', '.', 'the', 'method', 'be', 'in', 'service', 'of', 'the', 'research', 'purpose', ',', 'thus', 'the', 'review', 'of', 'the', 'later', 'echo', 'the', 'former', 'one', '.', 'this', 'paper', 'focus', 'on', 'comb', 'from', 'two', 'perspective', ':', 'first', ',', 'from', 'the', 'perspective', 'of', 'the', 'research', 'subdivision', 'of', 'finance', 'and', 'economics', ',', 'the', 'traceability', 'of', 'systemic', 'risk', 'research', 'can', 'be', 'clarify', ',', 'and', 'it', 'be', 'conducive', 'to'], ['the', 'theoretical', 'research', 'on', 'financial', 'crisis', 'and', 'financial', 'friction', ',', 'which', 'be', 'very', 'necessary', '.', 'give', 'the', 'natural', 'link', 'between', 'systemic', 'risk', 'and', 'financial', 'crisis', ',', 'this', 'paper', 'adopt', 'bibliometric', 'analysis', '.', 'through', 'analyze', 'the', 'publish', 'paper', 'in', 'the', 'two', 'field', 'since', '@card@', ',', 'we', 'can', 'know', 'that', 'the', 'study', 'of', 'systemic', 'risk', 'and', 'the', 'study', 'of', 'the', 'financial', 'crisis', 'be', 'in', 'the', 'same', 'vein', '.', 'because', 'systemic', 'risk', 'can', 'be', 'trigger', 'by', 'many', 'factor', ',', 'different', 'market', 'structure', ',', 'participate', 'entity', ',', 'different', 'transmission', 'path', ',', 'and', 'different', 'impact', ',', 'there', 'be', 'many', 'financial', 'research', 'branch', 'involve', '.', 'by'], ['sort', 'the', 'number', 'of', 'citation', 'index', ',', 'we', 'select', 'the', 'representative', 'literature', 'in', 'the', 'subdivision', 'and', 'then', 'conduct', 'a', 'literature', 'review', 'to', 'grasp', 'the', 'focus', 'and', 'main', 'theoretical', 'contribution', 'of', 'each', 'branch', '.', 'such', 'comb', 'be', 'also', 'conducive', 'to', 'researcher', 'outside', 'the', 'field', 'of', 'finance', 'and', 'economics', 'research', 'who', 'want', 'to', 'follow', 'the', 'path', 'of', 'systemic', 'risk', '.', 'another', 'aspect', 'be', 'to', 'sort', 'out', 'the', 'method', 'in', 'this', 'field', 'because', 'it', 'involve', 'the', 'intersection', 'of', 'sub-discipline', 'and', 'interdisciplinary', 'field', '.', 'the', 'collect', 'literature', 'cover', 'such', 'discipline', 'as', 'Finance', ',', 'Accounting', ',', 'sociology', ',', 'and', 'Management', '.', 'accord', 'to', 'the', 'keyword'], ['relate', 'to', 'the', 'method', ',', 'recent', 'core', 'literature', 'journal', 'be', 'thus', 'collect', 'and', 'summarize', '.', 'this', 'review', 'aim', 'to', 'provide', 'a', 'clear', 'road', 'map', 'for', 'the', 'development', 'of', 'systemic', 'risk', 'research', ',', 'link', 'traditional', 'financial', 'research', 'with', 'other', 'discipline', '.', 'the', 'current', 'literature', 'review', 'of', 'the', 'methodology', 'of', 'systemic', 'risk', 'research', 'be', 'still', 'limit', '[', '@card@', ']', 'study', 'be', 'also', 'a', 'review', 'of', 'methodology', ',', 'but', 'do', 'not', 'summarize', 'the', 'sub-branch', 'within', 'the', 'financial', 'discipline', ')', '.', 'besides', ',', 'each', 'method', 'or', 'theory', 'have', 'its', 'advantage', 'and', 'disadvantage', ',', 'and', 'the', 'problem', 'that', 'be', 'suitable', 'for', 'solve', 'vary', '.', 'thus', ',', 'it', 'be', 'beneficial', 'to', 'obtain', 'new', 'method', 'or', 'research', 'conclusion', 'by', 'promote', 'research', 'in', 'the', 'cross-field', '.', 'this', 'review', 'will', 'only', 'be', 'an', 'attempt', ',', 'subsequent', 'study', 'and', 'review', 'will', 'be', 'expect', 'to', 'help', 'further', 'refine', 'the', 'research', 'roadmap', 'in', 'this', 'area', '.', 'therefore', ',', 'the', 'contribution', 'of', 'this', 'paper', 'lie', 'in', 'unblocking', 'the', 'path', 'of', 'systemic', 'risk', 'research', 'within', 'and', 'outside', 'the', 'discipline', 'of', 'finance', '.', '', '']]\n",
            "100\n",
            "100\n",
            "100\n",
            "100\n",
            "100\n",
            "170\n",
            " \n",
            "[['', '@card@', '.', 'the', 'connotation', 'of', 'systemic', 'risk', ':', ':', ':', '2', '.', 'progress', 'in', 'systemic', 'Risk', 'Research', '', 'the', 'scope', 'of', 'systemic', 'risk', 'and', 'systematic', 'risk', 'be', 'not', 'the', 'same', '.', 'the', 'latter', 'refer', 'to', 'the', 'risk', 'factor', 'share', 'by', 'the', 'entire', 'economy', ',', 'the', 'non-distributable', 'risk', ',', 'also', 'know', 'as', 'the', 'market', 'risk', ';', 'it', 'be', 'opposite', 'to', 'non-systematic', 'risk', '.', 'systemic', 'risk', 'refer', 'to', 'the', 'risk', 'of', 'an', 'overall', 'collapse', 'of', 'the', 'entire', 'system', 'due', 'to', 'the', 'impact', 'of', 'individual', 'member', 'unit', ',', 'and', 'systemic', 'collapse', 'be', 'reflect', 'in', 'the', 'impact', 'of', 'most', 'or', 'all', 'individual', 'member'], ['[', '@card@', ']', '.', 'accord', 'to', 'the', 'Econlit', 'economic', 'literature', 'database', 'search', 'result', ',', 'the', 'term', '\"', 'systemic', 'risk', '\"', 'can', 'be', 'trace', 'back', 'to', 'the', 'speech', 'of', 'Andrew', 'F.', 'Brimmer', ',', 'a', 'Fed', 'official', 'in', '@card@', ',', 'at', 'a', 'joint', 'annual', 'meeting', 'of', 'AEA', '(', 'American', 'Economic', 'Association', ')', 'and', 'the', 'Society', 'of', 'Government', 'Economists', 'in', 'New', 'York', '(', 'this', 'speech', 'be', 'publish', 'in', 'the', 'Journal', 'of', 'Economic', 'Perspective', 'the', 'follow', 'year', '.', 'see', ':', '[', '@card@', ']', ')', ',', 'there', 'be', 'different', 'view', 'on', 'the', 'clear', 'definition', 'of', 'systemic', 'risk', 'in', 'academia', '.', '[', '@card@', ']', 'first', 'propose'], ['the', 'systemic', 'risk', 'and', 'define', 'it', 'as', 'the', 'occurrence', 'and', 'spread', 'of', 'a', 'dilemma', 'that', 'be', 'likely', 'to', 'seriously', 'affect', 'a', 'country', \"'s\", 'financial', 'order', '.', 'the', 'dilemma', 'itself', 'may', 'be', 'derive', 'from', 'micro', 'factor', 'or', 'macro', 'factor', '.', 'the', 'bis', 'describe', 'systemic', 'risk', 'as', 'to', 'the', 'possibility', 'that', 'a', 'party', 'to', 'a', 'contract', 'can', 'perform', 'an', 'agreement', 'and', 'cause', 'other', 'contractor', 'to', 'default', ',', 'and', 'thus', 'the', 'chain', 'reaction', 'lead', 'to', 'a', 'wide', 'range', 'of', 'financial', 'difficulty', '.', 'this', 'definition', 'focus', 'on', 'the', 'overall', 'risk', 'of', 'the', 'system', 'cause', 'by', 'the', 'breach', 'from', 'microbody', '.', 'besides', ',', 'Darryl', 'Hendricks'], ['[', '@card@', ']', 'define', 'it', 'from', 'the', 'perspective', 'of', 'equilibrium', 'theory', ':', 'systemic', 'risk', 'refer', 'to', 'the', 'risk', 'of', 'move', 'the', 'system', 'from', 'one', 'equilibrium', 'to', 'another', 'bad', 'equilibrium', ',', 'and', 'this', 'risk', 'be', 'difficult', 'to', 'reverse', 'due', 'to', 'the', 'catalysis', 'of', 'many', 'self-reinforce', 'mechanism', '.', 'follow', 'the', 'systemic', 'elaboration', 'of', 'systemic', 'risk', 'in', '@card@', ',', '[', '@card@', ']', 'summarize', 'the', 'definition', 'of', 'systemic', 'risk', 'and', 'classify', 'them', 'into', 'three', 'category', ':', '(', '1', ')', 'the', 'huge', 'negative', 'impact', 'that', 'the', 'entire', 'financial', 'system', 'face', 'at', 'the', 'same', 'time', ',', 'that', 'be', ',', 'systemic', 'risk', 'have', 'the', 'characteristic', 'of', 'simultaneity'], ['[', '@card@', ']', ';', '(', '2', ')', 'all', 'or', 'a', 'part', 'of', 'the', 'financial', 'institution', 'face', 'the', 'same', 'risk', 'exposure', ',', 'which', 'mean', 'systemic', 'risk', 'have', 'the', 'same', 'cause', '[', '@card@', ']', ';', '(3)The', 'impact', 'can', 'trigger', 'a', 'chain', 'reaction', '.', 'in', 'other', 'word', ',', 'systemic', 'risk', 'be', 'contagious', '[', '@card@', ']', '.', '[', '@card@', ']', 'believe', 'that', 'these', 'definition', 'have', 'the', 'follow', 'point', 'in', 'common', ':', '(', '1', ')', 'systemic', 'risk', 'concern', 'be', 'for', 'all', 'financial', 'institution', ';', '(', '2', ')', 'systemic', 'risk', 'focus', 'on', 'tail', 'loss', 'characteristic', ';', '(', '3', ')', 'all', 'need', 'to', 'consider', 'the', 'relevance', 'and'], ['cross-cutting', 'of', 'the', 'various', 'institution', 'within', 'the', 'financial', 'system', '.', 'besides', ',', 'there', 'be', 'difference', 'and', 'linkage', 'between', 'the', 'concept', 'of', 'systemic', 'risk', 'and', 'financial', 'crisis', '.', '[', '@card@', ']', 'believe', 'that', 'systematicity', 'be', 'the', 'most', 'noteworthy', 'cause', 'of', 'crisis', 'formation', 'and', 'crisis', 'development', '.', 'the', 'former', 'be', 'the', 'reason', 'and', 'the', 'characterization', 'of', 'the', 'latter', ',', 'that', 'be', ',', 'the', 'financial', 'crisis', 'necessarily', 'present', 'systemic', 'risk', ',', 'but', 'systemic', 'risk', 'do', 'not', 'necessarily', 'lead', 'to', 'financial', 'crisis', '.', 'moreover', ',', 'current', 'systemic', 'risk', 'research', 'be', 'mainly', 'limit', 'to', 'financial', 'systemic', 'risk', 'issue', 'within', 'an', 'economy', '.', 'the', 'financial', 'crisis'], ['have', 'a', 'wide', 'scope', 'and', 'more', 'diversified', 'form', 'of', 'expression', '.', 'for', 'example', ',', 'depend', 'on', 'the', 'scope', 'of', 'the', 'spread', ',', 'a', 'financial', 'crisis', 'can', 'be', 'divide', 'into', 'bank', 'crisis', '(', 'the', 'bank', 'run', ')', ',', 'currency', 'crisis', ',', 'bubble', 'crisis', 'of', 'capital', 'market', 'speculation', ',', 'sovereign', 'debt', 'crisis', ',', 'etc.', ',', 'and', 'may', 'trigger', 'a', 'comprehensive', 'economic', 'crisis', '.', 'on', 'the', 'other', 'hand', ',', 'systemic', 'risk', 'be', 'similar', 'to', 'financial', 'risk', 'in', 'that', 'it', 'be', 'contagious', ',', 'and', 'most', 'or', 'all', 'financial', 'institution', 'in', 'the', 'system', 'will', 'face', 'the', 'same', 'impact', 'at', 'the', 'same', 'time', '.', 'however', ','], ['systemic', 'risk', 'emphasize', 'the', 'impact', 'of', 'financial', 'institution', 'on', 'the', 'overall', 'risk', 'of', 'the', 'system', ',', 'that', 'be', ',', 'the', 'endogenous', 'nature', 'of', 'systemic', 'risk', ',', 'while', 'the', 'financial', 'crisis', 'may', 'origin', 'from', 'endogenous', 'or', 'exogenous', 'cause', ',', 'for', 'instance', ',', 'for', 'Iceland', 'in', 'the', 'recent', 'financial', 'crisis', ',', 'the', 'US-centric', 'financial', 'crisis', 'be', 'transmit', 'to', 'Iceland', \"'s\", 'entire', 'banking', 'system', ',', 'which', 'lead', 'to', 'the', 'overall', 'collapse', 'of', 'the', 'country', \"'s\", 'economy', '[', '@card@', ']', '.', 'besides', ',', 'although', 'systemic', 'risk', 'be', 'not', 'all', 'trigger', 'by', 'the', 'leverage', '(', 'for', 'example', ',', 'on', 'October', '@card@', ',', '@card@', ',', 'due'], ['to', 'the', 'stock', 'market', 'crash', ',', 'the', 'US', 'stock', 'index', 'future', 'price', 'plummet', ',', 'cause', 'the', 'margin', 'account', 'to', 'not', 'add', 'in', 'time', ',', 'lead', 'to', 'the', 'collapse', 'of', 'the', 'broker', ')', ',', 'the', 'impact', 'on', 'the', 'system', 'after', 'it', 'occur', 'must', 'be', 'amplify', 'with', 'leverage', '.', 'therefore', ',', 'the', 'study', 'of', 'systemic', 'risk', 'be', 'essentially', 'relate', 'to', 'the', 'credit', 'creation', 'process', 'and', 'the', 'degree', 'of', 'leverage', '.', 'accord', 'to', 'the', 'different', 'sector', 'create', 'by', 'credit', ',', 'it', 'can', 'be', 'divide', 'into', 'systemic', 'risk', 'of', 'the', 'banking', 'system', 'and', 'the', 'shadow', 'banking', 'system', ';', 'accord', 'to', 'the', 'classification', 'of', 'financial'], ['market', 'and', 'instrument', 'that', 'occur', ',', 'it', 'can', 'be', 'divide', 'into', 'systemic', 'risk', 'in', 'the', 'real', 'estate', 'market', ',', 'banking', 'system', ',', 'bill', 'market', ',', 'security', 'market', ',', 'bond', 'market', 'and', 'derivative', 'market', ';', 'accord', 'to', 'the', 'different', 'debt', 'department', ',', 'it', 'can', 'be', 'divide', 'into', 'systemic', 'risk', 'of', 'public', 'debt', '(', 'include', 'systemic', 'risk', 'of', 'sovereign', 'debt', ')', ',', 'systemic', 'risk', 'of', 'corporate', 'debt', ',', 'and', 'systemic', 'personal', 'risk', 'of', 'household', '.', 'on', 'the', 'other', 'hand', ',', 'because', 'the', 'financial', 'crisis', 'be', 'highly', 'correlate', 'with', 'the', 'concept', 'of', 'systemic', 'risk', ',', 'the', 'scope', 'of', 'the', 'financial', 'crisis', 'and', 'systemic'], ['risk', 'research', 'also', 'have', 'great', 'overlap', '.', 'by', 'enter', 'the', 'keyword', '\"', 'financial', 'crisis', '\"', 'and', '\"', 'risk', '\"', ',', 'a', 'total', 'of', '@card@', 'SSCI', 'core', 'document', 'and', 'work', 'paper', 'publish', 'since', '@card@', 'be', 'search', 'through', 'Web', 'of', 'Science', '.', 'by', 'enter', 'the', 'keyword', '\"', 'systemic', 'risk', '\"', ',', 'a', 'total', 'of', '@card@', 'core', 'document', 'and', 'work', 'paper', 'of', 'the', 'same', 'period', 'be', 'search', '.', 'through', 'screen', 'the', 'title', 'and', 'abstract', 'of', 'all', 'these', 'paper', 'by', 'add', '\"', 'financial', 'market', '\"', ',', '@card@', 'paper', 'be', 'select', 'out', '.', 'with', 'the', 'help', 'of', 'the', 'software', 'Citespace', ',', 'further', 'bibliometric', 'analysis', 'reveal'], ['that', 'financial', 'risk', 'and', 'systemic', 'risk', 'research', 'have', 'more', 'crossover', ',', 'and', 'the', 'research', 'concentrate', 'area', 'be', 'almost', 'overlap', '(', 'Figure', '@card@', ')', '.', 'the', 'sub-branch', 'of', 'financial', 'crisis', 'research', 'be', 'number', 'accord', 'to', 'the', 'timeline', 'of', 'theory', 'development', '.', 'it', 'demonstrate', 'that', 'early', 'crisis', 'research', 'mainly', 'focus', 'on', 'macroeconomic', 'issue', '[', '@card@', ']', 'as', 'time', 'go', 'by', ',', 'there', 'be', 'a', 'detailed', 'exploration', 'into', 'specific', 'financial', 'market', 'and', 'product', 'market', '[', '@card@', ']', '.', 'from', 'another', 'perspective', ',', 'financial', 'intermediary', 'and', 'investor', 'behavior', 'be', 'discuss', 'in', 'term', 'of', 'pricing', 'credit', 'risk', '[', '@card@', ']', '.', 'as', 'financial', 'intermediary', 'have'], ['similar', 'research', 'method', 'with', 'corporate', 'finance', ',', 'more', 'late', 'attention', 'be', 'draw', 'to', 'bank', 'governance', '[', '@card@', ']', '.', 'as', 'the', 'Subprime', 'crisis', 'erupt', ',', 'more', 'study', 'be', 'orient', 'to', 'the', 'stability', 'of', 'the', 'financial', 'system', ',', 'which', 'overlap', 'with', 'the', 'systemic', 'risk', 'research', '[', '@card@', ']', '.', 'a', 'new', 'branch', ',', 'the', 'extreme', 'value', 'approach', ',', 'be', 'also', 'adopt', 'in', 'systemic', 'research', '.', 'systemic', 'risk', 'research', 'be', 'not', 'distinct', 'from', 'crisis', 'research', ',', 'as', 'the', 'former', 'one', 'also', 'refer', 'to', 'such', 'bank', 'behavior', 'and', 'liquidity', 'problem', '.', 'among', 'the', '@card@', 'subdivision', ',', 'more', 'co-citation', 'cluster', 'be', 'form', 'in', 'regional'], ['contagion', ',', 'Monetary', 'policy', ',', 'Credit', 'risk', 'pricing', 'and', 'systemic', 'risk', '.', 'within', 'the', 'systemic', 'risk', 'field', ',', 'the', 'co-citation', 'cluster', 'of', 'multidisciplinary', 'research', 'be', 'the', 'large', 'one', ',', 'also', 'with', 'most', 'focus', 'on', 'the', 'financial', 'network', '.', 'thus', ',', 'by', 'comb', 'the', 'literature', 'on', 'financial', 'crisis', 'theory', 'and', 'systemic', 'risk', 'research', ',', 'it', 'can', 'be', 'find', 'that', 'the', 'research', 'on', 'systemic', 'risk', 'be', 'close', 'to', 'the', 'micro-level', 'than', 'the', 'original', 'financial', 'crisis', 'research', ',', 'although', 'systemic', 'risk', 'management', 'involve', 'macro-level', 'management', 'and', 'supervision', '.', 'there', 'be', 'more', 'study', 'on', 'the', 'micro-market', 'structure', 'and', 'participant', 'behavior', ',', 'and', 'more', 'emphasis'], ['on', 'systemic', 'risk', 'transmission', 'and', 'contagious', 'research', ',', 'as', 'well', 'as', 'the', 'endogenous', 'mechanism', 'research', 'that', 'pay', 'more', 'attention', 'to', 'the', 'occurrence', 'of', 'risk', ';', 'it', 'can', 'be', 'say', 'that', 'systemic', 'risk', 'research', 'be', 'the', 'further', 'deepen', 'and', 'refinement', 'of', 'the', 'theoretical', 'research', 'on', 'the', 'financial', 'crisis', '.', 'therefore', ',', 'although', 'the', 'academic', 'community', 'still', 'have', 'difference', 'in', 'the', 'definition', 'of', 'systemic', 'risk', ',', 'by', 'compare', 'the', 'concept', 'of', 'systemic', 'risk', 'and', 'financial', 'crisis', ',', 'and', 'summarize', 'the', 'definition', 'of', 'systemic', 'risk', 'in', 'the', 'academic', 'world', ',', 'the', 'concept', 'of', 'systemic', 'risk', 'can', 'be', 'define', 'from', 'an', 'economic', 'perspective', ':'], ['trigger', 'by', 'macro', 'or', 'micro-event', ',', 'the', 'institution', 'in', 'the', 'system', 'be', 'subject', 'to', 'negative', 'impact', ',', 'and', 'more', 'organization', 'be', 'involve', 'in', 'risk', 'diffusion', 'and', 'the', 'existence', 'of', 'internal', 'correlation', 'strengthen', 'the', 'feedback', 'mechanism', ',', 'cause', 'the', 'system', 'as', 'a', 'whole', 'to', 'face', 'the', 'risk', 'of', 'collapse', '.', 'the', 'definition', 'here', 'emphasize', '(', '1', ')', 'event', 'trigger', 'harm', 'to', 'institution', 'and', 'system', ';', '(', '2', ')', 'systemic', 'risk', 'that', 'spillover', 'and', 'be', 'contagious', ';', '(', '3', ')', 'due', 'to', 'the', 'psychological', 'and', 'behavioral', 'characteristic', 'of', 'the', 'micro-subject', ',', 'a', 'self-reinforce', 'feedback', 'mechanism', 'be', 'formed', ';', '(', '4', ')', 'the', 'potentially', 'serious', 'consequence', 'of', 'systemic', 'risk', 'be', 'the', 'overall', 'collapse', '.', '', '']]\n",
            "100\n",
            "100\n",
            "100\n",
            "100\n",
            "100\n",
            "100\n",
            "100\n",
            "100\n",
            "100\n",
            "100\n",
            "100\n",
            "100\n",
            "100\n",
            "100\n",
            "100\n",
            "113\n",
            " \n",
            "[['', '@card@', '.', 'content', 'and', 'category', 'of', 'systemic', 'Risk', 'Research', ':', ':', ':', '2', '.', 'progress', 'in', 'systemic', 'Risk', 'Research', '', 'we', 'find', 'that', 'in', 'Web', 'of', 'Science', ',', 'from', 'the', 'Journal', 'of', 'Economics', ',', 'Finance', ',', 'Accounting', ',', 'Behavioral', 'Psychology', ',', 'and', 'Management', ',', 'from', '@card@', 'to', 'March', '@card@', ',', 'all', 'the', 'article', 'on', 'systemic', 'risk', 'publish', 'in', 'the', 'SSCI', 'core', 'journal', 'total', '@card@', 'article', '.', 'from', 'Figure', '2a', ',', 'we', 'can', 'tell', 'the', 'research', 'on', 'systemic', 'risk', 'have', 'up', 'and', 'down', 'from', 'year', 'to', 'year', ',', 'echo', 'with', 'worldwide', 'risk', 'event', '.', 'besides', ',', 'the', 'search', 'for', 'work'], ['paper', 'on', 'systemic', 'risk', 'research', 'on', 'the', 'NBER', 'website', 'have', 'exceed', '@card@', 'publication', 'in', 'the', 'past', '@card@', 'year', '.', 'furthermore', ',', 'the', 'number', 'of', 'work', 'paper', 'publish', 'in', 'this', 'field', 'newly', 'release', 'in', '@card@', 'be', 'still', 'considerable', '(', 'Figure', '2b', ')', '.', 'especially', ',', 'under', 'current', 'circumstance', ',', 'systemic', 'risk', 'research', 'deserve', 'further', 'explore', ',', 'as', 'the', 'Covid-19', 'pandemic', 'strike', 'the', 'real', 'economy', 'by', 'threaten', 'human', 'life', 'first', ',', 'then', 'financial', 'system', 'be', 'impact', 'in', 'term', 'of', 'both', 'asset', 'and', 'liability', ',', 'which', 'may', 'further', 'hurt', 'real', 'economy', 'through', 'systemic', 'risk', 'chain', '.', 'another', 'peak', 'in', 'this', 'area', 'can', 'henceforth'], ['be', 'expect', '.', 'accord', 'to', '[', '@card@', ']', 'on', 'the', 'methodology', 'of', 'systemic', 'research', ',', 'the', 'difference', 'between', 'systemic', 'risk', 'research', 'and', 'systemic', 'risk', 'lie', 'in', 'the', 'unity', 'of', 'the', 'whole', 'and', 'individual', 'research', '.', 'in', 'addition', 'to', 'the', 'macro', 'and', 'micro', 'level', 'research', ',', 'it', 'also', 'focus', 'on', 'the', 'conceptual', 'elaboration', 'and', 'model', 'construction', 'of', 'different', 'subject', 'position', ',', 'as', 'well', 'as', 'the', 'analysis', 'of', 'internal', 'and', 'external', 'relationship', '.', 'to', 'systematically', 'sort', 'out', 'the', 'previous', 'research', 'literature', ',', 'this', 'review', 'screen', 'out', '@card@', 'article', 'base', 'on', 'the', 'publish', 'journal', 'grade', ',', 'the', 'total', 'number', 'of', 'citation', ',', 'annual'], ['citation', 'cite', ',', 'and', 'the', 'year', 'of', 'publication', '.', 'accord', 'to', 'the', 'research', 'content', 'of', 'these', 'paper', ',', 'it', 'can', 'be', 'divide', 'into', 'evolutionary', 'research', 'on', 'systemic', 'risk', 'formation', ',', 'identification', 'and', 'measurement', 'of', 'systemic', 'risk', ',', 'and', 'other', 'empirical', 'research', 'relate', 'to', 'systemic', 'risk', '.', 'divide', 'from', 'the', 'traditional', 'financial', 'research', 'field', ',', 'the', 'above', 'category', 'relate', 'to', 'different', 'financial', 'sub-area', ':', 'the', 'evolutionary', 'mechanism', 'of', 'systemic', 'risk', 'formation', 'involve', 'the', 'study', 'of', 'market', 'microstructure', 'and', 'behavioural', 'subject', '.', 'systemic', 'risk', 'identification', 'and', 'measurement', 'involve', 'asset', 'pricing', 'research', '.', 'other', 'empirical', 'study', 'relate', 'to', 'systemic', 'risk', 'involve', 'research', 'on', 'financial', 'instrument', ',', 'trading', 'system', ',', 'financial', 'regulation', ',', 'and', 'welfare', 'economics', '.', 'a', 'trace', 'process', 'can', 'provide', 'an', 'overview', 'of', 'the', 'general', 'context', 'of', 'systemic', 'risk', 'research', 'and', 'facilitate', 'the', 'tracking', 'of', 'subsequent', 'research', '(', 'see', 'Figure', '@card@', ')', '.', '', '']]\n",
            "100\n",
            "100\n",
            "100\n",
            "143\n",
            " \n",
            "[['', '@card@', '.', 'research', 'on', 'the', 'formation', 'mechanism', 'of', 'systemic', 'risk', ':', ':', ':', '@card@', '.', 'research', 'on', 'the', 'evolution', 'mechanism', 'of', 'systemic', 'risk', ':', ':', ':', '2', '.', 'progress', 'in', 'systemic', 'Risk', 'Research', '', 'the', 'research', 'literature', 'on', 'systemic', 'risk', 'be', 'sometimes', 'the', 'overlap', 'of', 'the', 'fine', 'branch', 'of', 'the', 'Section', '@card@', 'above', '.', 'for', 'example', ',', 'the', 'study', 'of', 'tail', 'risk', 'identification', 'and', 'quantification', 'will', 'involve', 'specific', 'empirical', 'method', 'and', 'recommendation', 'include', 'risk', 'management', '.', 'therefore', ',', 'the', 'literature', 'review', 'in', 'this', 'chapter', 'be', 'mainly', 'summarize', 'and', 'review', 'from', 'the', 'follow', 'four', 'aspect', ':', 'the', 'concept', 'of', 'systemic'], ['risk', 'appear', 'late', ',', 'so', 'systemic', 'research', 'on', 'it', 'be', 'still', 'be', 'explore', '.', 'however', ',', 'accord', 'to', 'the', 'previous', 'literature', 'comparison', ',', 'it', 'have', 'many', 'similarity', 'with', 'the', 'research', 'theme', 'of', 'the', 'financial', 'crisis', '.', 'the', 'study', 'of', 'systemic', 'risk', 'formation', 'mechanism', 'also', 'draw', 'on', 'the', 'research', 'result', 'of', 'the', 'formation', 'mechanism', 'of', 'the', 'financial', 'crisis', '.', 'therefore', ',', 'in', 'the', 'study', 'of', 'the', 'formation', 'mechanism', 'of', 'systemic', 'risk', ',', 'the', 'research', 'context', 'of', 'the', 'formation', 'mechanism', 'of', 'the', 'financial', 'crisis', 'be', 'first', 'outline', '.', 'the', 'study', 'on', 'the', 'formation', 'mechanism', 'of', 'the', 'financial', 'crisis', 'be', 'mainly', 'divide', 'into'], ['two', 'category', ',', 'namely', ',', 'cause', 'by', 'emergency', 'or', 'relate', 'to', 'the', 'economic', 'cycle', '[', '@card@', ']', '.', 'in', 'the', '[', '@card@', ']', ',', 'bank', 'run', 'come', 'from', 'depositor', \"'\", 'expect', 'self-realization', ',', 'which', 'can', 'explain', 'some', 'of', 'the', 'bank', 'run', 'and', 'the', 'currency', 'crisis', ',', 'but', 'it', 'be', 'difficult', 'to', 'use', 'the', 'model', 'to', 'make', 'a', 'prediction', '.', '[', '@card@', ']', 'propose', 'that', 'there', 'be', 'information', 'asymmetry', 'between', 'bank', 'and', 'depositor', '.', 'by', 'establish', 'a', 'global', 'game', 'model', ',', 'the', 'bank-runs', 'problem', 'be', 'well', 'explain', ',', 'and', 'the', 'theoretical', 'boundary', 'value', 'of', 'bank', 'run', 'be', 'put', 'forward', '.', '['], ['@card@', ']', 'extend', 'this', 'model', 'to', 'the', 'mutual', 'fund', 'market', 'and', 'propose', 'an', 'empirical', 'approach', 'to', 'the', 'global', 'game', 'model', '.', 'the', 'research', 'of', 'this', 'branch', 'be', 'mainly', 'relate', 'to', 'the', 'micro-market', 'structure', 'from', 'the', 'perspective', 'of', 'the', 'micro-level', 'and', 'individual', 'agent', '.', 'another', 'focus', 'of', 'research', 'on', 'the', 'cause', 'of', 'the', 'financial', 'crisis', 'be', 'its', 'procyclical', 'nature', '.', '[', '@card@', ']', 'point', 'out', 'that', 'when', 'the', 'economy', 'go', 'down', ',', 'it', 'be', 'difficult', 'for', 'bank', 'to', 'realize', 'the', 'possibility', 'of', 'redemption', '.', 'if', 'depositor', 'anticipate', 'the', 'impact', 'of', 'the', 'economic', 'downturn', 'on', 'the', 'banking', 'industry', ',', 'they', 'will', 'withdraw'], ['fund', 'from', 'their', 'bank', ',', 'which', 'may', 'cause', 'a', 'run', 'on', 'the', 'bank', '.', '[', '@card@', ']', 'examine', 'the', 'economic', 'volatility', 'indicator', 'of', 'the', 'United', 'States', 'from', 'the', 'end', 'of', 'the', '19th', 'century', 'to', 'the', 'beginning', 'of', 'the', '20th', 'century', 'and', 'find', 'that', 'the', 'lead', 'indicator', 'of', 'the', 'scale', 'of', 'debt', 'of', 'closed', 'enterprise', 'can', 'accurately', 'predict', 'the', 'occurrence', 'of', 'the', 'banking', 'crisis', '.', '[', '@card@', ']', ',', 'however', ',', 'systematically', 'study', 'the', 'US', 'comprehensive', 'monetary', 'policy', 'from', '@card@', 'to', '@card@', ',', 'and', 'find', 'that', 'the', 'four', 'financial', 'crisis', 'that', 'occur', 'during', 'this', 'period', 'be', 'all', 'cause', 'by', 'panic', ','], ['but', 'not', 'relate', 'to', 'the', 'real', 'economy', '.', 'this', 'lead', 'to', 'a', 'series', 'of', 'subsequent', 'empirical', 'test', 'on', 'the', 'cause', 'of', 'the', 'financial', 'crisis', '[', '@card@', ']', ',', 'which', 'conduct', 'a', 'more', 'detailed', 'investigation', 'of', 'the', 'four', 'financial', 'crisis', 'and', 'collect', 'more', 'extensive', 'datum', '.', 'it', 'have', 'be', 'empirically', 'find', 'that', 'the', 'first', 'three', 'financial', 'crisis', 'be', 'trigger', 'by', 'the', 'impact', 'of', 'the', 'real', 'economy', ',', 'while', 'the', 'fourth', 'financial', 'crisis', 'break', 'out', 'due', 'to', 'panic', '.', 'the', 'research', 'on', 'the', 'systemic', 'risk', 'formation', 'mechanism', 'be', 'carry', 'out', 'in', 'the', 'context', 'of', 'the', 'establishment', 'of', 'the', 'credible', 'monetary', 'system', ','], ['and', 'the', 'degree', 'of', 'regulation', 'of', 'financial', 'market', 'and', 'the', 'link', 'between', 'financial', 'institution', 'and', 'product', 'innovation', 'that', 'have', 'surpass', 'the', 'previous', 'era', '.', 'therefore', ',', 'against', 'this', 'backdrop', ',', 'the', 'occurrence', 'of', 'systemic', 'risk', 'not', 'only', 'mean', 'that', 'the', 'liquidity', 'of', 'the', 'bank', 'or', 'the', 'banking', 'industry', 'itself', 'cause', 'a', 'banking', 'crisis', 'but', 'also', 'mean', 'that', 'the', 'liquidity', 'of', 'the', 'inter-bank', 'market', 'or', 'the', 'lending', 'market', 'in', 'which', 'it', 'be', 'involve', 'in', 'financing', 'be', 'exhaust', '.', 'furthermore', ',', 'the', 'result', 'chain', 'reaction', ',', 'and', 'even', 'spread', 'to', 'other', 'financial', 'segment', 'market', ',', 'eventually', 'lead', 'to', 'the', 'collapse', 'of', 'the'], ['entire', 'system', '.', 'therefore', ',', 'the', 'research', 'on', 'the', 'formation', 'mechanism', 'of', 'systemic', 'risk', 'be', 'divide', 'into', 'two', 'direction', '.', 'the', 'first', 'one', 'be', 'the', 'research', 'on', 'the', 'formation', 'mechanism', 'of', 'the', 'financial', 'crisis', ',', 'which', 'focus', 'on', 'the', 'micro-level', ';', 'dynamic', 'analysis', 'be', 'use', 'to', 'explore', 'the', 'effect', 'of', 'interaction', 'within', 'the', 'system', 'between', 'individual', 'behavior', ',', 'organization', ',', 'and', 'financial', 'market', '.', 'the', 'other', 'one', 'be', 'to', 'focus', 'on', 'the', 'institutional', 'root', 'of', 'systemic', 'risk', 'from', 'the', 'perspective', 'of', 'normative', 'economics', ',', 'or', 'law', 'and', 'sociology', '.', '[', '@card@', ']', 'find', 'that', 'the', 'frequency', 'of', 'financial', 'crisis', 'in'], ['the', 'world', ',', 'such', 'as', 'the', 'Great', 'Depression', ',', 'be', ',', 'in', 'recent', 'decade', ',', 'twice', 'the', 'sum', 'of', 'the', 'number', 'of', 'financial', 'crisis', 'in', 'the', 'Bretton', 'Woods', 'period', '(', '1945–1971', ')', 'and', 'the', 'gold', 'standard', 'period', '(', '1880–1893', ')', '.', 'this', 'can', 'but', 'make', 'people', 'wonder', 'whether', 'the', 'shortcoming', 'of', 'the', 'credit', 'monetary', 'system', 'itself', 'lead', 'to', 'the', 'risk', 'of', 'a', 'financial', 'crisis', ',', 'because', 'the', 'marginal', 'cost', 'of', 'credit', 'currency', 'issuance', 'be', 'almost', 'zero', 'compare', 'to', 'its', 'face', 'value', '.', 'therefore', ',', 'the', 'central', 'bank', 'be', 'more', 'incline', 'to', 'issue', 'more', 'than', 'a', 'limited', 'amount', 'of', 'money', 'to'], ['obtain', 'money', 'as', 'a', 'gain', 'from', 'credit', 'capital', 'investment', 'or', 'to', 'achieve', 'other', 'policy', 'objective', ',', 'especially', 'when', 'the', 'central', 'bank', 'have', 'a', 'monopoly', 'position', 'and', 'no', 'other', 'financial', 'institution', 'issue', 'currency', 'to', 'compete', 'with', 'it', '.', 'moreover', ',', 'the', 'central', 'bank', 'be', 'not', 'bind', 'by', 'a', 'bankruptcy', '(', 'the', 'self-owned', 'capital', 'ratio', 'can', 'be', 'extremely', 'low', ')', ',', 'so', 'this', 'tendency', 'be', 'more', 'obvious', '.', 'besides', ',', 'accord', 'to', 'the', 'guideline', 'propose', 'by', 'the', 'central', 'bank', 'theory', 'founder', 'Walter', 'Bagehot', 'that', 'the', 'central', 'bank', 'should', 'follow', '(', 'the', 'loan', 'provide', 'by', 'the', 'central', 'bank', 'should', 'set', 'high', 'interest', 'rate'], ['to', 'prevent', 'those', 'who', 'should', 'not', 'get', 'loan', ',', 'and', 'the', 'central', 'bank', 'should', 'accept', 'good', 'bank', 'collateral', 'in', 'the', 'financial', 'crisis', 'to', 'distinguish', 'borrower', 'who', 'be', 'not', 'solvent', ')', ',', 'this', 'type', 'of', 'criterion', ',', 'which', 'can', 'only', 'rely', 'on', 'the', 'central', 'bank', \"'s\", 'self-discipline', ',', 'can', 'easily', 'be', 'break', 'before', 'or', 'even', 'during', 'the', 'financial', 'crisis', ',', 'as', 'the', 'Fed', 'do', 'in', 'the', '@card@', 'subprime', 'crisis', '.', 'therefore', ',', '[', '@card@', ']', 'believe', 'that', 'the', 'financial', 'crisis', 'be', 'essentially', 'a', 'lack', 'of', 'restraint', 'of', 'central', 'bank', 'behavior', ',', 'result', 'in', 'excessive', 'credit', 'fund', ',', 'which', 'be', 'cause', 'by'], ['an', 'excess', 'supply', 'of', 'high-quality', 'asset', '.', 'this', 'view', 'be', 'consistent', 'with', 'the', 'finding', 'of', '[', '@card@', ']', ',', 'which', 'show', 'that', 'credit', 'boom', 'and', 'asset', 'price', 'bubble', 'prevail', 'before', 'the', 'systemic', 'banking', 'crisis', '.', '[', '@card@', ']', 'find', 'that', 'the', 'financial', 'crisis', 'in', 'many', 'country', 'stem', 'from', 'the', 'puncture', 'of', 'asset', 'bubble', 'in', 'the', 'real', 'estate', 'market', '.', 'as', 'the', 'financial', 'crisis', 'break', 'out', ',', 'asset', 'price', 'fall', 'sharply', 'and', 'continue', 'to', 'have', 'a', 'major', 'impact', 'on', 'real', 'economic', 'output', 'and', 'employment', '.', 'further', 'exploration', 'of', 'the', 'deep', 'reason', ',', 'the', 'premise', 'of', 'financial', 'systemic', 'risk', 'accumulation', 'as', 'excessive'], ['debt', ',', 'the', 'root', 'cause', 'of', 'excessive', 'debt', 'and', 'what', 'be', 'the', '\"', 'degree', '\"', 'of', 'liability', ',', 'become', 'an', 'important', 'part', 'of', 'the', 'discussion', 'of', 'the', 'formation', 'mechanism', 'of', 'systemic', 'risk', '.', 'the', 'discussion', 'of', 'this', 'issue', 'have', 'even', 'surpass', 'the', 'scope', 'of', 'mainstream', 'Western', 'economic', 'theory', ',', 'so', 'it', 'be', 'difficult', 'to', 'see', 'the', 'whole', 'picture', 'in', 'the', 'previous', 'classic', 'systemic', 'risk', 'research', 'literature', '.', 'George', 'Bragues', 'link', 'the', 'act', 'of', 'capital', 'interest-taking', 'with', 'the', 'liberal', 'democratic', 'trend', 'of', 'thought', ',', 'argue', 'that', 'a', 'large', 'amount', 'of', 'lend', 'fund', 'have', 'no', 'tangible', 'foundation', 'beyond', 'the', 'credit', 'creation', 'ability'], ['of', 'the', 'banking', 'system', ',', 'and', 'the', 'fact', 'that', 'people', 'exchange', 'real', 'good', 'and', 'labor', 'for', 'this', 'kind', 'of', 'currency', 'without', 'receive', 'any', 'substantial', 'return', 'be', 'unfair', '.', 'it', 'be', 'the', 'exploitation', 'of', 'the', 'borrower', 'by', 'the', 'lender', 'of', 'the', 'Greeks', 'propose', 'by', 'philosopher', 'Aquinas', '.', 'however', ',', 'the', 'idea', 'of', 'the', 'rise', 'of', 'the', 'liberal', 'democratic', 'notion', 'that', '\"', 'everyone', 'should', 'be', 'free', 'to', 'enter', 'into', 'a', 'loan', 'contract', 'at', 'an', 'interest', 'rate', 'that', 'be', 'consider', 'appropriate', '\"', 'justify', 'loan', 'profitability', '.', 'the', 'function', 'of', 'credit', 'creation', 'in', 'the', 'banking', 'system', 'and', 'the', 'nature', 'of', 'profit-pursue', 'operation', 'of', 'capital'], ['will', 'naturally', 'lead', 'to', 'excessive', 'debt', 'of', 'the', 'overall', 'economy', ',', 'because', '\"', 'the', 'main', 'activity', 'of', 'finance', 'be', 'to', 'create', 'a', 'huge', 'debt', 'chain', 'and', 'obtain', 'more', 'profit', 'from', 'it', '\"', '.', 'that', 'be', ',', 'due', 'to', 'the', 'existence', 'of', 'compound', 'interest', ',', 'even', 'if', 'there', 'be', 'no', 'new', 'debt', ',', 'the', 'scale', 'itself', 'will', 'have', 'endless', 'compound', 'growth', '.', 'the', 'growth', 'rate', 'of', 'the', 'real', 'economy', 'be', 'relatively', 'limited', ',', 'and', 'the', 'duration', 'of', 'high-speed', 'growth', 'be', 'short-lived', '[', '@card@', ']', ',', 'which', 'will', 'inevitably', 'lead', 'to', 'a', 'continuous', 'increase', 'in', 'leverage', '.', 'therefore', ',', 'when', 'debt', 'accumulate'], ['to', 'a', 'certain', 'scale', ',', 'credit', 'fund', 'will', 'inevitably', 'spread', 'more', 'than', 'high-quality', 'asset', ',', 'and', 'due', 'to', 'the', 'decentralized', 'nature', 'of', 'globalization', '(', 'financial', 'center', 'and', 'distribution', 'center', 'in', 'the', 'West', ',', 'product', 'center', 'in', 'the', 'East', ',', 'saving', 'in', 'the', 'East', ',', 'debt', 'accumulation', 'in', 'the', 'West', ',', '[', '@card@', ']', ')', ',', 'will', 'become', 'more', 'dangerous', ',', 'systemic', 'risk', 'and', 'even', 'the', 'outbreak', 'of', 'financial', 'crisis', 'be', 'inevitable', '.', 'therefore', ',', 'the', 'free', 'development', 'of', 'economy', 'and', 'capital', 'may', 'lead', 'to', 'disastrous', 'consequence', ',', 'require', 'external', 'supervision', 'and', 'constraint', 'to', 'restrict', ',', 'and', 'regulatory', 'forbearance', 'and', 'legal'], ['loophole', 'be', 'also', 'important', 'aspect', 'of', 'the', 'study', 'of', 'systemic', 'risk', 'formation', 'mechanism', '.', '[', '@card@', ']', 'believe', 'that', 'the', 'outbreak', 'of', 'the', 'subprime', 'mortgage', 'crisis', 'stem', 'from', 'the', 'SEC', \"'s\", 'policy', 'of', 'exempt', 'investment', 'bank', 'from', 'restrict', 'the', 'regulation', 'of', 'the', 'balance', 'sheet', 'liability', 'in', '@card@', ',', 'which', 'be', 'convert', 'into', 'an', 'institutional', 'voluntary', 'supervision', 'model', ',', 'and', 'the', 'leverage', 'ratio', 'of', 'investment', 'bank', 'generally', 'rise', 'sharply', '.', 'the', 'Commodity', 'Futures', 'modernization', 'Act', ',', 'introduce', 'in', '@card@', ',', 'prevent', 'state', 'government', 'from', 'use', 'their', 'law', 'to', 'prevent', 'Wall', 'Street', 'from', 'use', 'derivative', 'financial', 'instrument', '.', '[', '@card@', ']', 'point'], ['out', 'that', 'rely', 'on', 'technocrat', 'or', 'over-reliance', 'on', 'technology', 'to', 'manage', 'financial', 'systemic', 'risk', 'will', 'easily', 'create', 'an', 'over-confidence', 'illusion', 'for', 'regulator', '.', 'as', 'Greenspan', 'admit', 'at', 'the', 'October', '@card@', 'congressional', 'hearing', ',', 'he', 'rely', 'too', 'much', 'upon', 'and', 'believe', 'in', 'the', '\"', 'self-correction', 'of', 'the', 'free', 'market', '.', '\"', 'Jonathan', 'C.', 'Lipson', ',', 'a', 'professor', 'of', 'law', 'at', 'Temple', 'University', ',', 'believe', 'that', 'the', 'design', 'and', 'trading', 'of', 'financial', 'derivative', 'CDS', 'be', 'divorce', 'from', 'the', 'nature', 'of', 'their', 'guarantee', '.', 'unregulated', 'over-the-counter', 'trading', 'have', 'make', 'this', 'market', 'far', 'large', 'than', 'the', 'actual', 'guarantee', ',', 'which', 'have', 'create', 'hidden', 'danger', 'for', 'the', 'outbreak', 'of', 'the', 'subprime', 'mortgage', 'crisis', '.', 'compare', 'with', 'the', 'research', 'on', 'the', 'formation', 'mechanism', 'of', 'the', 'financial', 'crisis', ',', 'the', 'research', 'on', 'systemic', 'risk', 'formation', 'mechanism', 'be', 'not', 'entangle', 'in', 'whether', 'it', 'be', 'relate', 'to', 'the', 'real', 'economy', ',', 'but', 'whether', 'it', 'be', 'at', 'the', 'macro', 'level', 'or', 'the', 'micro', 'level', ',', 'whether', 'it', 'be', 'institutional', 'research', 'or', 'event', 'research', '.', 'on', 'the', 'other', 'hand', ',', 'research', 'be', 'more', 'disperse', ',', 'and', 'the', 'formation', 'mechanism', 'of', 'systemic', 'risk', 'span', 'the', 'research', 'scope', 'of', 'financial', 'discipline', ',', 'which', 'deserve', 'more', 'in-depth', 'and', 'detailed', 'discussion', '.', '', '']]\n",
            "100\n",
            "100\n",
            "100\n",
            "100\n",
            "100\n",
            "100\n",
            "100\n",
            "100\n",
            "100\n",
            "100\n",
            "100\n",
            "100\n",
            "100\n",
            "100\n",
            "100\n",
            "100\n",
            "100\n",
            "199\n",
            " \n",
            "[['', '@card@', '.', 'research', 'on', 'the', 'impact', 'of', 'systemic', 'risk', 'on', 'economic', 'growth', ':', ':', ':', '@card@', '.', 'research', 'on', 'the', 'evolution', 'mechanism', 'of', 'systemic', 'risk', ':', ':', ':', '2', '.', 'progress', 'in', 'systemic', 'Risk', 'Research', '', '[', '@card@', ']', 'study', 'several', 'financial', 'crisis', 'event', 'from', 'high-income', 'and', 'low-income', 'country', ',', 'and', 'find', 'that', 'the', 'crisis', 'would', 'cause', 'the', 'average', 'price', 'of', 'real', 'estate', 'to', 'fall', 'by', '@card@', '%', 'in', 'the', 'next', 'six', 'year', ';', 'in', 'the', 'next', 'three', 'and', 'a', 'half', 'year', ',', 'asset', 'price', 'fall', 'by', 'an', 'average', 'of', '@card@', '%', '.', 'in', 'two', 'year', ',', 'real', 'output'], ['fall', 'by', 'an', 'average', 'of', '@card@', '%', '.', 'in', 'four', 'year', ',', 'the', 'unemployment', 'rate', 'rise', 'by', '@card@', '%', ',', 'while', 'the', 'government', 'deficit', 'average', '@card@', '%', 'high', 'than', 'the', 'pre-crisis', 'level', '.', 'once', 'the', 'systemic', 'risk', 'evolve', 'into', 'a', 'financial', 'crisis', ',', 'the', 'impact', 'on', 'the', 'real', 'economy', 'be', 'obvious', '.', 'as', '[', '@card@', ']', 'put', 'it', ',', 'this', 'be', 'because', 'external', 'factor', 'that', 'be', 'not', 'relate', 'to', 'the', 'fundamental', 'of', 'the', 'company', 'will', 'lead', 'to', 'market', 'participation', 'shock', 'cause', 'by', 'change', 'in', 'capital', 'participation', '.', 'this', 'will', 'affect', 'the', 'price', 'of', 'security', 'in', 'the', 'capital', 'market', ',', 'and'], ['thus', 'change', 'the', 'investment', 'behavior', 'of', 'micro-enterprise', '.', 'the', 'investment', 'of', 'enterprise', 'have', 'externality', 'and', 'ultimately', 'affect', 'the', 'operation', 'of', 'the', 'real', 'economy', '.', 'he', 'believe', 'that', 'different', 'financing', 'model', 'have', 'different', 'impact', 'on', 'the', 'real', 'economy', '.', 'the', 'equity', 'financing', 'market', 'be', 'suitable', 'for', 'investment', 'project', 'that', 'use', 'equity', 'financing', 'method', '(', 'such', 'as', 'high-tech', 'enterprise', ')', '.', 'such', 'enterprise', 'have', 'positive', 'externality', 'to', 'the', 'real', 'economy', '.', 'therefore', ',', 'although', 'the', 'burst', 'of', 'the', 'technology', 'bubble', 'hit', 'the', 'security', 'market', 'in', 'the', 'early', '21st', 'century', ',', 'investment', 'in', 'high-tech', 'industry', 'have', 'accelerate', 'technological', 'progress', 'and', 'be', 'conducive', 'to'], ['the', 'development', 'of', 'the', 'real', 'economy', '.', 'the', 'bond', 'financing', 'market', 'be', 'suitable', 'for', 'investment', 'project', 'that', 'use', 'debt', 'financing', '(', 'such', 'as', 'fix', 'asset', 'investment', 'such', 'as', 'real', 'estate', ')', '.', 'such', 'investment', 'be', 'generally', 'highly', 'leveraged', 'and', 'have', 'negative', 'externality', 'to', 'the', 'real', 'economy', ',', 'so', 'once', 'the', 'bubble', 'burst', ',', 'the', 'damage', 'to', 'the', 'real', 'economy', 'be', 'significant', '.', 'the', 'theoretical', 'study', 'of', 'the', 'impact', 'of', 'systemic', 'risk', 'on', 'the', 'real', 'economy', 'have', 'be', 'dissociate', 'from', 'the', 'mainstream', 'of', 'macroeconomic', 'research', 'for', 'a', 'long', 'time', 'after', 'Keynes', ',', 'because', 'whether', 'it', 'consider', 'from', 'the', 'real', 'economic', 'cycle'], ['model', '[', '@card@', ']', 'or', 'the', 'Keynesian', 'IS-LM', 'model', ',', 'the', 'market', 'be', 'a', 'complete', 'market', 'due', 'to', 'the', 'alienation', 'of', 'individual', 'heterogeneity', 'or', 'information', 'asymmetry', '.', 'therefore', ',', 'the', 'financing', 'method', 'of', 'enterprise', 'do', 'not', 'affect', 'the', 'value', 'of', 'enterprise', '(', 'mm.', 'theorem', ')', ',', 'so', 'similar', 'financial', 'friction', 'and', 'systemic', 'risk', 'issue', 'be', 'difficult', 'to', 'match', 'with', 'the', 'traditional', 'theoretical', 'framework', ',', 'which', 'make', 'the', 'research', 'on', 'such', 'problem', 'lack', 'micro-foundation', '.', 'until', 'the', 'new', 'dynamic', 'Keynesian', 'theoretical', 'framework', '(', 'DNK', ')', 'base', 'on', 'the', 'DSGE', 'method', 'be', 'put', 'forward', '(', '(', 'CEE', ')', '[', '@card@', ']', ','], ['(', 'ACEL', ')', '[', '@card@', ']', ')', ',', 'it', 'be', 'compatible', 'with', 'the', 'assumption', 'of', 'price', 'stickiness', ',', 'and', 'incorporate', 'the', 'investment', 'and', 'financing', 'behavior', 'and', 'leverage', 'change', 'under', 'the', 'information', 'asymmetry', 'into', 'the', 'model', '.', 'the', 'financial', 'accelerator', 'theory', 'propose', 'by', 'Bernanke', 'et', 'al.', ',', 'the', 'BGG', 'model', '[', '@card@', ']', ',', 'have', 'become', 'a', 'pioneer', 'in', 'this', 'field', '.', 'due', 'to', 'the', 'limitation', 'of', 'the', 'model', \"'s\", 'solution', ',', 'DSGE', \"'s\", 'utility', 'function', 'and', 'production', 'function', 'setting', 'be', 'both', 'in', 'the', 'form', 'of', 'linear', 'function', 'or', 'quasi-linear', 'function', '.', 'however', ',', 'linear', 'function', 'can', 'explain', 'the', 'nonlinear', 'change'], ['bring', 'about', 'by', 'economic', 'shock', ',', 'and', 'leverage', 'have', 'a', 'nonlinear', 'relationship', 'with', 'the', 'economic', 'cycle', '.', 'the', 'former', 'have', 'the', 'most', 'direct', 'connection', 'with', 'systemic', 'risk', 'occurrence', '[', '@card@', ']', '.', 'to', 'explain', 'the', 'nonlinear', 'relationship', 'between', 'leverage', 'and', 'economic', 'cycle', ',', 'Bernanke', 'propose', 'a', 'nonlinear', 'investment', 'and', 'financing', 'decision', 'model', 'link', 'to', 'corporate', 'net', 'asset', '.', 'in', 'addition', ',', 'because', 'information', 'asymmetry', 'include', 'the', 'cost', 'of', 'external', 'investigation', '(', 'costly', 'state', 'verification', ',', 'CSV', ')', ',', 'there', 'exist', 'a', 'risk', 'premium', 'between', 'corporate', 'internal', 'financing', 'and', 'external', 'financing', '(', 'external', 'financial', 'premium', ')', '.', 'the', 'existence', 'of', 'the'], ['premium', 'will', 'make', 'the', 'financing', 'situation', 'of', 'the', 'enterprise', 'worsen', 'when', 'the', 'economic', 'shock', 'occur', ',', 'which', 'will', 'accelerate', 'the', 'decrease', 'in', 'investment', 'and', 'bring', 'about', 'the', '\"', 'financial', 'accelerator', 'effect', '\"', '.', 'to', 'simplify', 'the', 'research', ',', 'Bernanke', 'express', 'the', 'functional', 'form', 'of', 'other', 'economic', 'sector', 'as', 'linear', 'relationship', ',', 'focus', 'only', 'on', 'the', 'internal', 'and', 'external', 'financing', 'difference', 'of', 'enterprise', 'and', 'the', 'result', 'crisis', 'transmission', 'mechanism', '.', 'subsequent', 'economist', 'further', 'extend', 'financial', 'friction', 'to', 'the', 'household', 'sector', ',', 'the', 'banking', 'system', ',', 'and', 'the', 'government', 'sector', ',', 'and', 'further', 'explain', 'the', 'real', 'estate', 'market', '[', '@card@', ']', ','], ['the', 'monetary', 'policy', 'transmission', 'mechanism', 'of', 'government', 'department', '[', '@card@', ']', ',', 'and', 'the', 'risk', 'transmission', 'mechanism', 'of', 'the', 'banking', 'system', '[', '@card@', ']', 'through', 'the', 'DNK', 'theoretical', 'framework', '.', 'the', 'transmission', 'path', 'that', 'affect', 'the', 'real', 'economy', 'through', 'leverage', 'be', 'not', 'limit', 'to', 'the', 'way', 'depict', 'in', 'Figure', '@card@', '.', 'the', 'empirical', 'study', 'of', 'the', 'impact', 'of', 'systemic', 'risk', 'on', 'the', 'real', 'economy', 'be', 'relatively', 'infrequently', 'refer', 'only', 'two', 'of', 'the', 'top', '@card@', 'work', 'of', 'literature', 'in', 'the', 'annual', 'average', 'be', 'relate', 'to', 'this', 'field', '.', 'even', 'empirical', 'study', 'of', 'the', 'impact', 'of', 'the', 'financial', 'crisis', 'on', 'the', 'real'], ['economy', 'be', 'few', 'and', 'far', 'between', ',', 'which', 'may', 'stem', 'from', 'the', 'follow', 'reason', ':', '1', '.', 'the', 'number', 'of', 'observable', 'systemic', 'risk', 'event', 'be', 'limit', ',', 'and', 'few', 'sample', 'be', 'analyze', 'use', 'time', 'series', 'or', 'panel', 'analysis', ';', '2', '.', 'in', 'the', 'quantification', 'of', 'systemic', 'risk', 'due', 'to', 'the', 'existence', 'of', 'many', 'difference', ',', 'the', 'result', 'of', 'use', 'quantitative', 'indicator', 'to', 'assess', 'the', 'impact', 'of', 'systemic', 'risk', 'on', 'the', 'real', 'economy', 'may', 'vary', '.', '3', '.', 'because', 'of', 'the', 'different', 'way', 'of', 'quantification', ',', 'there', 'will', 'be', 'large', 'difference', 'in', 'the', 'prediction', 'of', 'real', 'economic', 'fluctuation', '.', 'if', 'the'], ['result', 'be', 'not', 'significant', ',', 'the', 'value', 'of', 'the', 'research', 'will', 'be', 'affect', '.', '[', '@card@', ']', 'collect', 'all', 'systemic', 'risk', 'event', 'sample', 'after', 'World', 'War', 'II', 'in', 'the', 'United', 'States', 'and', 'Europe', 'to', 'circumvent', 'or', 'mitigate', 'the', 'effect', 'of', 'the', 'above', 'problem', ',', 'use', '@card@', 'different', 'method', 'to', 'quantify', 'and', 'assess', 'systemic', 'risk', '.', 'the', 'quantile', 'regression', 'method', 'be', 'use', 'to', 'test', 'the', 'predictive', 'power', 'of', 'systemic', 'risk', 'indicator', 'on', 'the', 'deterioration', 'of', 'the', 'real', 'economy', '.', 'it', 'be', 'find', 'that', 'only', 'a', 'small', 'number', 'of', 'quantitative', 'indicator', 'can', 'capture', 'the', 'risk', 'of', 'the', 'macroeconomic', 'downturn', ',', 'and', 'they'], ['can', 'only', 'be', 'roughly', 'predict', '.', 'another', 'reason', 'for', 'the', 'lack', 'of', 'theoretical', 'research', 'on', 'the', 'impact', 'of', 'systemic', 'risk', 'on', 'the', 'real', 'economy', 'be', 'that', 'traditional', 'macroeconomic', 'theory', 'itself', 'have', 'a', 'weak', 'micro-foundation', ',', 'however', ',', 'the', 'systemic', 'risk', 'be', 'mainly', 'reflect', 'in', 'the', 'systemic', 'problem', 'cause', 'by', 'the', 'interaction', 'of', 'individual', 'heterogeneous', 'behaviour', 'at', 'the', 'micro-level', '.', 'by', 'use', 'traditional', 'macroeconomic', 'model', ',', 'it', 'be', 'assume', 'that', 'individual', 'identity', 'or', 'limited', 'heterogeneity', 'have', 'great', 'limitation', '.', 'therefore', ',', '[', '@card@', ']', 'believe', 'that', 'the', 'agent', 'model', '(', 'Agent', 'model', ')', 'should', 'be', 'introduce', 'from', 'other', 'discipline', 'to', 'well'], ['simulate', 'the', 'micro-individual', 'behaviour', ',', 'and', 'to', 'obtain', 'a', 'more', 'realistic', 'macroeconomic', 'model', '.', 'besides', ',', 'the', 'DNK', 'model', 'focus', 'more', 'on', 'the', 'interpretation', 'of', 'risk-transfer', 'pathway', ',', 'and', 'the', 'endogenous', 'interpretation', 'of', 'systemic', 'risk', 'be', 'difficult', '.', 'it', 'be', 'generally', 'assume', 'that', 'shock', 'be', 'external', ',', 'so', 'it', 'be', 'difficult', 'to', 'predict', 'the', 'occurrence', 'of', 'crisis', '.', 'as', 'to', 'the', 'endogenesis', ',', 'base', 'on', 'the', 'General', 'theory', ',', '[', '@card@', ']', 'propose', 'that', 'capitalist', 'economy', 'have', 'not', 'show', 'to', 'follow', 'the', 'neo-classical', 'theory', 'or', 'in', 'the', '\"', 'dis-equilibrium', 'state', '\"', 'as', 'Keynesian', 'Economics', 'state', ',', 'because', 'of', 'the', 'functioning'], ['of', 'sophisticated', 'financial', 'institution', '.', 'two', 'set', 'of', 'price', ',', 'for', 'current', 'output', 'and', 'capital', 'asset', ',', 'align', 'within', 'a', 'capitalist', 'economy', 'be', 'determine', 'by', 'different', 'proximate', 'variable', ',', 'as', 'well', 'as', 'consumption', 'demand', 'and', 'investment', 'demand', 'have', 'different', 'horizon', ',', 'the', 'former', 'upon', 'short', 'run', 'expectation', 'and', 'the', 'later', 'on', 'long', 'one', '.', 'both', 'form', 'the', 'aggregate', '(', 'effective', ')', 'demand', '.', 'consumption', 'demand', 'be', 'a', 'function', 'of', 'current', 'factor', ',', 'while', 'investment', 'demand', 'be', 'a', 'function', 'of', 'the', 'price', 'of', 'capital', 'asset', ',', 'supply', 'price', 'of', 'investment', 'good', ',', 'expect', 'profit', 'and', 'external', 'financing', 'condition', '.', 'different', 'from'], ['the', 'micro-based', 'general', 'equilibrium', 'methodology', ',', 'Minsky', 'initiate', 'his', 'theory', 'from', 'a', 'macroeconomic', 'perspective', ',', 'base', 'on', 'Kalecki', 'profit', 'function', ',', 'which', 'always', 'stand', 'in', 'a', 'close', 'or', 'an', 'open', 'economy', '.', 'by', 'decomposition', 'of', 'the', 'profit', 'function', ',', 'variable', 'include', 'monetary', 'issue', 'be', 'demonstrate', 'as', 'follows:π=I+DF−BP−sW+C', 'where', 'π', 'be', 'the', 'current', 'profit', 'of', 'the', 'whole', 'economy', ',', 'I', 'be', 'the', 'current', 'investment', 'of', 'the', 'private', 'department', ',', 'DF', 'be', 'the', 'government', 'deficit', ',', 'sW', 'be', 'the', 'savings', 'of', 'the', 'private', 'department', ',', 'and', 'C', 'be', 'the', 'current', 'consumption', '.', 'thus', ',', 'profit', 'be', 'not', 'only', 'determine', 'by', 'current', 'productive'], ['factor', ',', 'government', 'activity', ',', 'saving', 'and', 'consumption', ',', 'but', 'also', 'by', 'asset', 'price', ',', 'which', 'connect', 'closely', 'with', 'financial', 'market', '.', 'furthermore', ',', 'profit', ',', 'identify', 'as', 'cash', 'flow', ',', 'be', 'the', 'essential', 'signal', 'for', 'investment', ',', 'critically', 'link', 'different', 'payment', 'commitment', 'in', 'the', 'past', ',', 'present', 'and', 'future', '.', 'accord', 'to', 'different', 'cash', 'flow', 'commitment', 'be', 'availably', 'finance', ',', 'the', 'financial', 'system', 'and', 'debt', 'structure', 'be', 'compose', 'of', 'a', 'mixture', 'of', 'three', 'type', 'of', 'financial', 'posture', '(', 'hedge', 'finance', ',', 'speculative', 'finance', 'and', 'Ponzi', 'finance', ')', '.', 'as', 'the', 'natural', 'growth', 'of', 'the', 'economy', ',', 'profit', ',', 'in'], ['the', 'form', 'of', 'cash', 'flow', ',', 'fluctuate', 'due', 'to', 'the', 'endogenous', 'discrepancy', 'in', 'expectation', 'horizon', ',', 'which', 'cause', 'the', 'ratio', 'of', 'the', 'speculative', 'finance', 'and', 'Ponzi', 'finance', 'to', 'increase', 'in', 'prosperous', 'time', ',', 'leave', 'the', 'financial', 'system', 'to', 'gradually', 'become', 'more', 'sensitive', 'to', 'interest', 'variation', '.', 'when', 'the', 'current', 'cash', 'flow', 'can', 'sustain', 'the', 'current', 'payment', 'commitment', ',', 'it', 'initiate', 'a', 'deflationary', 'break', ',', 'and', 'a', 'financial', 'crisis', 'take', 'place', '.', 'the', 'implementation', 'of', 'mitigation', 'policy', 'can', 'only', 'alleviate', 'the', 'destruction', 'yet', 'not', 'solve', 'it', ',', 'make', 'the', 'whole', 'financial', 'system', 'more', 'fragile', 'to', 'economic', 'fluctuation', '.', '(', 'financial', 'instability'], ['hypothesis', ')', '.', 'since', 'the', 'complication', 'of', 'interaction', 'between', 'key', 'factor', ',', 'as', 'well', 'as', 'variant', 'vast', ',', 'complicate', 'market', 'in', 'capitalist', 'economy', ',', 'Minsky', 'mainly', 'demonstrate', 'his', 'theory', 'in', 'a', 'narrative', 'approach', '.', 'thus', ',', 'even', 'though', 'Minsky', \"'s\", 'theory', 'become', 'the', 'kernel', 'of', 'post-Keynesian', 'economics', ',', 'it', 'be', 'difficult', 'to', 'further', 'develop', 'a', 'comprehensive', 'mathematical', 'model', '(', '[', '@card@', ']', 'once', 'put', 'Minsky', \"'s\", 'FIH', 'hypothesis', 'into', 'the', 'framework', 'of', 'IS-LM', 'model', 'to', 'explain', 'and', 'get', 'the', 'equilibrium', 'result', ',', 'but', 'the', 'conditional', 'formula', 'that', 'equate', 'the', 'price', 'of', 'investment', 'good', 'and', 'the', 'price', 'of', 'asset', 'imply', 'the'], ['assumption', 'that', 'the', 'capital', 'market', 'and', 'the', 'commodity', 'market', 'will', 'automatically', 'maintain', 'the', 'equilibrium', '.', 'even', 'though', 'there', 'be', 'endogenous', 'factor', 'that', 'cause', 'deviation', 'from', 'the', 'equilibrium', 'of', 'financial', 'market', 'and', 'commodity', 'market', ',', 'the', 'economy', 'will', 'return', 'to', 'equilibrium', 'because', 'of', 'the', 'implicitly', 'assume', 'equality', 'condition', '.', 'besides', ',', 'the', 'decision', 'of', 'asset', 'price', 'depend', 'solely', 'on', 'investment', 'demand', ',', 'which', 'be', 'also', 'contrary', 'to', 'Minsky', \"'s\", 'view', ',', 'who', 'emphasize', 'that', 'the', 'determination', 'of', 'asset', 'price', 'depend', 'on', 'various', 'factor', '.', ')', '.', 'it', 'be', 'also', 'confront', 'with', 'various', 'criticism', '.', '[', '@card@', ']', 'propose', 'that', ',', 'as'], ['in', 'the', 'upwards', 'phase', 'of', 'an', 'economy', ',', 'investment', 'increase', 'cause', 'a', 'high', 'level', 'of', 'aggregate', 'profit', 'so', 'that', 'the', 'leverage', 'ratio', 'do', 'not', 'necessarily', 'increase', '.', 'while', ',', 'in', 'the', 'downside', 'phase', ',', 'investment', 'decrease', 'negatively', 'affect', 'the', 'aggregate', 'profit', 'more', 'than', 'expect', ',', 'which', 'will', 'increase', 'the', 'leverage', 'ratio', '.', 'the', 'paradox', 'of', 'debt', 'go', 'against', 'Minsky', \"'s\", 'theory', '.', 'this', 'contradiction', 'should', 'be', 'direct', 'to', 'the', 'precondition', 'of', 'FIH', ',', 'which', 'assume', 'an', 'extent', 'of', 'monopoly', 'in', 'commodity', 'market', ',', 'so', 'that', 'producer', 'can', 'earn', 'excess', 'profit', 'from', 'market', 'power', '.', 'as', 'the', 'aggregate', 'profit', 'increase', 'in'], ['the', 'upward', 'phase', 'while', 'the', 'profit', 'rate', 'decrease', ',', 'the', 'over-increased', 'investment', 'would', 'bring', 'up', 'leverage', 'ratio', ',', 'which', 'could', 'imperil', 'future', 'payment', 'commitment', '.', 'as', 'in', 'the', 'downside', 'phase', ',', 'shrink', 'investment', 'decrease', 'aggregate', 'profit', 'while', 'profit', 'rate', 'recover', ',', 'which', 'be', 'good', 'for', 'bring', 'down', 'leverage', 'ratio', '.', 'thus', ',', 'in', 'the', 'framework', 'of', 'Minsky', \"'\", 'theory', ',', 'the', 'paradox', 'of', 'debt', 'be', 'explainable', 'on', 'the', 'presumption', 'of', 'monopoly', 'market', '.', 'further', 'discussion', 'can', 'be', 'refer', 'to', '[', '@card@', ']', '.', 'some', 'study', 'try', 'to', 'expand', 'the', 'Kaleckian', 'model', '[', '@card@', ']', 'by', 'bring', 'a', 'normal', 'degree', 'of'], ['capacity', 'utilization', 'into', 'endogenous', 'investment', 'function', '.', '[', '@card@', ']', 'utilize', 'the', 'profit', 'share', 'instead', 'of', 'the', 'profit', 'rate', ',', '[', '@card@', ']', 'introduce', 'external', 'competition', 'into', 'an', 'imperfect', 'commodity', 'market', '.', 'all', 'the', 'adjustment', 'provide', 'a', 'supplementary', 'explanation', 'of', 'the', 'demand', 'regime', '.', 'furthermore', ',', 'monetary', 'and', 'financial', 'variable', 'be', 'incorporate', 'into', 'the', 'profit', 'function', '[', '@card@', ']', '.', 'the', 'late', 'research', 'intend', 'to', 'contain', 'FIH', 'and', 'the', 'paradox', 'of', 'debt', 'through', 'a', 'Neo-Kaleckian', 'model', '[', '@card@', ']', '.', 'moreover', ',', 'by', 'follow', 'a', 'centre-periphery', 'structure', ',', 'the', 'model', 'explain', 'how', 'financial', 'movement', 'in', 'the', 'periphery', 'associate', 'with', 'international'], ['financial', 'market', \"'\", 'movement', 'and', 'external', 'vulnerability', '.', 'Recent', 'research', 'in', 'this', 'field', 'mainly', 'focus', 'on', 'empirical', 'research', 'to', 'support', 'and', 'verify', 'FIH', 'in', 'different', 'economy', '[', '@card@', ']', '.', 'Minsky', \"'s\", 'achievement', 'be', 'more', 'than', 'FIH', '.', 'instead', ',', 'he', 'focus', 'on', 'the', 'whole', 'system', ',', 'aim', 'at', 'construct', 'a', 'general', 'theory', 'to', 'explain', 'the', 'whole', 'operational', 'law', 'of', 'capitalist', 'economy', ',', 'include', 'the', 'upward', 'and', 'the', 'downward', 'phase', 'of', 'the', 'economic', 'cycle', '.', 'the', 'discrepancy', 'in', 'horizon', 'and', 'the', 'amplification', 'mechanism', ',', 'which', 'be', 'realize', 'through', 'the', 'interaction', 'between', 'profit', 'and', 'investment', 'activity', ',', 'as', 'well', 'as', 'the'], ['positive', '(', 'negative', ')', 'feedback', 'between', 'asset', 'price', 'and', 'liability', ',', 'not', 'only', 'explain', 'the', 'endogenesis', 'of', 'financial', 'crisis', 'but', 'also', 'demonstrate', 'his', 'economic', 'vision', 'in', 'a', 'dialectical', 'way', ',', 'so', 'whether', 'the', 'economy', 'attain', 'an', 'equilibrium', 'give', 'way', 'to', 'the', 'depiction', 'of', 'economic', 'operation', 'process', ',', 'as', 'the', 'former', 'be', 'only', 'a', 'temporary', 'stability', 'status', 'compare', 'with', 'the', 'whole', 'process', '.', 'with', 'regard', 'to', 'the', 'difference', 'in', 'expectation', 'on', 'consumption', 'demand', 'and', 'investment', 'demand', ',', 'it', 'should', 'not', 'be', 'criticize', 'as', 'a', 'lack', 'of', 'rationality', ';', 'it', 'should', 'be', 'interpret', 'as', 'generalize', 'rationality', ',', 'as', 'in', 'the', '\"', 'Wall', 'Street', 'view', '\"', ',', 'which', 'be', 'intend', 'to', 'be', 'rationally', 'apply', 'to', 'the', 'real', 'economy', 'and', 'sophisticated', 'financial', 'system', '.', '', '']]\n",
            "100\n",
            "100\n",
            "100\n",
            "100\n",
            "100\n",
            "100\n",
            "100\n",
            "100\n",
            "100\n",
            "100\n",
            "100\n",
            "100\n",
            "100\n",
            "100\n",
            "100\n",
            "100\n",
            "100\n",
            "100\n",
            "100\n",
            "100\n",
            "100\n",
            "100\n",
            "100\n",
            "122\n",
            " \n",
            "[['', '@card@', '.', 'research', 'on', 'Financial', 'Network', 'complexity', 'and', 'Financial', 'Stability', ':', ':', ':', '@card@', '.', 'Micro', 'Market', 'structure', 'research', 'on', 'systemic', 'risk', ':', ':', ':', '2', '.', 'progress', 'in', 'systemic', 'Risk', 'Research', '', 'before', 'the', 'outbreak', 'of', 'the', 'subprime', 'mortgage', 'crisis', 'in', '@card@', ',', 'the', 'conclusion', 'of', 'the', 'close', 'relationship', 'between', 'institution', 'and', 'the', 'complex', 'financial', 'network', \"'s\", 'overall', 'risk', 'resilience', 'be', 'generally', 'positive', '[', '@card@', ']', ',', 'and', 'it', 'be', 'consider', 'that', 'sufficiently', 'decentralized', 'inter-bank', 'liability', 'could', 'produce', 'a', 'more', 'stable', 'financial', 'system', '.', 'nevertheless', ',', 'some', 'scholar', 'then', 'begin', 'to', 'link', 'the', 'increase', 'in', 'systemic', 'risk', 'to'], ['the', 'complexity', 'of', 'financial', 'network', '.', 'for', 'instance', ',', '[', '@card@', ']', 'believe', 'that', 'as', 'bank', \"'\", 'counterparty', 'increase', ',', 'the', 'probability', 'of', 'a', 'systemic', 'crash', 'increase', '.', '[', '@card@', ']', 'demonstrate', 'that', 'the', 'financial', 'system', 'itself', 'have', 'an', 'amplification', 'effect', 'on', 'the', 'increase', 'in', 'systemic', 'risk', 'by', 'model', 'the', 'inter-bank', 'infection', 'behavior', '.', 'the', 'research', 'idea', 'of', 'this', 'kind', 'of', 'amplification', 'draw', 'on', 'the', 'research', 'method', 'of', 'the', 'previous', 'network', 'infection', 'model', '[', '@card@', ']', ',', 'and', 'the', 'amplify', 'transmission', 'pathway', 'be', 'various', '.', 'from', 'asset', 'and', 'liability', ',', 'study', 'by', '[', '@card@', ']', 'show', 'that', 'financially', 'interrelate', 'company'], ['be', 'more', 'prone', 'to', 'systemic', 'risk', 'in', 'the', 'face', 'of', 'market', 'shock', 'due', 'to', 'cross-shareholdings', '.', 'similarly', ',', '[', '@card@', ']', 'argue', 'that', 'the', 'similarity', 'of', 'asset', 'hold', 'between', 'bank', 'determine', 'the', 'extent', 'to', 'which', 'relevant', 'information', 'be', 'disseminate', 'and', 'the', 'likelihood', 'of', 'a', 'systemic', 'crisis', '.', 'by', 'study', 'bank', 'exposure', 'in', 'the', 'US', 'and', 'Europe', ',', '[', '@card@', ']', 'argue', 'that', 'systemic', 'risk', 'be', 'affect', 'by', 'common', 'risk', 'factor', ',', 'and', 'the', 'interdependence', 'of', 'financial', 'institution', 'be', 'mainly', 'due', 'to', 'systemic', 'factor', '.', '[', '@card@', ']', 'use', 'asset', 'securitization', 'as', 'an', 'example', 'to', 'explain', 'the', 'transmission', 'path', 'of', 'a'], ['financial', 'network', 'to', 'amplify', 'systemic', 'risk', 'from', 'the', 'perspective', 'of', 'debt', '.', 'it', 'be', 'believe', 'that', 'through', 'the', 'interconnect', 'balance', 'sheet', 'network', ',', 'asset', 'securitization', 'essentially', 'magnify', 'the', 'financial', 'leverage', 'of', 'the', 'entire', 'financial', 'system', ',', 'thereby', 'increase', 'the', 'vulnerability', 'of', 'the', 'system', '.', '[', '@card@', ']', 'show', 'that', 'the', 'high', 'the', 'degree', 'of', 'financial', 'integration', ',', 'the', 'more', 'stable', 'the', 'interbank', 'interest', 'rate', 'under', 'normal', 'condition', ',', 'and', 'the', 'high', 'the', 'interest', 'rate', 'soar', 'during', 'the', 'crisis', '.', 'combine', 'the', 'positive', 'and', 'negative', 'view', ',', '[', '@card@', ']', 'demonstrate', 'through', 'model', 'that', 'a', 'closely', 'link', 'financial', 'system', 'provide', 'sufficient'], ['stability', 'in', 'the', 'face', 'of', 'small', 'market', 'shock', '.', 'however', ',', 'when', 'the', 'impact', 'scale', 'exceed', 'a', 'certain', 'threshold', ',', 'the', 'tightly', 'connect', 'financial', 'network', 'will', 'amplify', 'the', 'risk', 'and', 'make', 'the', 'financial', 'system', 'more', 'vulnerable', ',', 'and', 'the', 'structure', 'of', 'the', 'financial', 'network', 'have', 'an', 'important', 'impact', 'on', 'the', 'stability', 'of', 'the', 'financial', 'system', '.', 'the', 'research', 'of', 'complex', 'financial', 'network', 'draw', 'on', 'the', 'game', 'model', 'and', 'the', 'research', 'result', 'of', 'the', 'previous', 'network', 'theory', '.', 'the', 'network', 'theory', 'originate', 'from', 'the', 'seven', 'bridge', 'problem', 'and', 'then', 'develop', 'into', 'the', 'random', 'graph', 'theory', ',', 'and', 'then', 'evolve', 'into', 'complex'], ['network', 'theory', '.', 'network', 'theory', 'and', 'topological', 'method', 'provide', 'the', 'basis', 'for', 'theoretical', 'model', 'of', 'the', 'structure', 'of', 'the', 'research', 'network', 'itself', '[', '@card@', ']', 'and', 'also', 'provide', 'empirical', 'method', '[', '@card@', ']', '.', 'because', 'how', 'individual', 'interact', 'with', 'each', 'other', 'in', 'the', 'network', 'and', 'their', 'importance', 'can', 'significantly', 'affect', 'the', 'result', 'of', 'network', 'structure', 'and', 'impact', 'transmission', ',', 'the', 'current', 'research', 'in', 'this', 'field', 'be', 'still', 'very', 'popular', '.', '[', '@card@', ']', 'pioneer', 'the', 'use', 'of', 'an', 'interbank', 'debt', 'matrix', 'to', 'describe', 'the', 'network', 'structure', 'of', 'the', 'banking', 'system', '.', 'this', 'idea', 'be', 'follow', 'by', 'scholar', 'who', 'later', 'study'], ['systemic', 'risk', '[', '@card@', ']', '.', 'however', ',', 'early', 'network', 'model', 'use', 'to', 'be', 'a', 'non-direct', 'model', ',', 'which', 'assume', 'that', 'the', 'connection', 'between', 'the', 'participant', 'be', 'reciprocal', 'and', 'have', 'the', 'same', 'interaction', ',', 'even', 'the', 'same', 'importance', ',', 'such', 'as', 'if', 'the', 'inter-bank', 'liability', 'matrix', 'be', 'assume', 'to', 'be', 'positive', ',', 'bank', 'A', \"'s\", 'claim', 'against', 'Bank', 'B', 'be', 'the', 'same', 'as', 'Bank', 'B', \"'s\", 'claim', 'against', 'Bank', 'A.', 'This', 'be', 'because', 'the', 'inter-bank', 'liability', 'datum', 'be', 'not', 'available', '(', 'therefore', ',', 'in', 'the', 'empirical', 'case', ',', 'the', 'inter-bank', 'liability', 'behavior', 'will', 'be', 'further', 'assume', ',', 'and', 'the', 'banking'], ['system', 'liability', 'matrix', 'will', 'be', 'determine', 'through', 'technical', 'processing', 'such', 'as', 'the', 'information', 'entropy', 'method', ')', '.', 'on', 'the', 'other', 'hand', ',', 'for', 'the', 'sake', 'of', 'simplify', 'model', 'simulation', ',', 'as', '[', '@card@', ']', 'describe', ',', 'the', 'simplify', 'model', 'and', 'the', 'same', 'subject', 'be', 'to', 'study', 'the', 'relationship', 'between', 'the', 'structure', 'of', 'the', 'financial', 'network', 'itself', 'and', 'financial', 'stability', '.', 'the', 'result', 'of', 'many', 'empirical', 'test', 'be', 'contrary', 'to', 'the', 'assumption', 'of', 'the', 'theoretical', 'model', '.', '[', '@card@', ']', 'study', 'the', 'Italian', 'interbank', 'market', 'structure', 'from', '@card@', 'to', '@card@', 'and', 'find', 'that', 'they', 'be', 'in', 'line', 'with', 'the', 'core-peripheral', 'network'], ['structure', ',', 'that', 'be', ',', 'a', 'few', 'bank', 'continue', 'to', 'play', 'a', 'central', 'role', ',', 'maintain', 'lending', 'with', 'peripheral', 'bank', 'and', 'provide', 'liquidity', 'to', 'the', 'market', '.', 'while', 'capital', 'lending', 'activity', 'between', 'core', 'bank', 'and', 'non-core', 'bank', 'be', 'rare', ',', 'market', 'liquidity', 'at', 'the', 'time', 'of', 'the', 'financial', 'crisis', 'be', 'often', 'cause', 'by', 'the', 'reduction', 'in', 'borrowing', 'by', 'core', 'bank', ',', 'which', 'mean', 'that', 'the', 'network', 'distribution', 'be', 'not', 'symmetrical', '.', 'the', 'core-peripheral', 'network', 'structure', 'be', 'first', 'propose', 'by', '[', '@card@', ']', ',', 'other', 'related', 'work', 'be', 'contribute', 'by', '[', '@card@', ']', ',', 'and', '[', '@card@', ']', 'cover', 'the', 'most'], ['core-periphery', 'network', 'structure', 'and', 'a', 'further', 'supplementary', 'version', '[', '@card@', ']', 'be', 'publish', 'in', '@card@', '.', 'a', 'series', 'of', 'empirical', 'study', 'show', 'that', 'in', 'other', 'financial', 'market', ',', 'such', 'as', 'India', ',', 'Mexico', ',', 'the', 'Netherlands', 'and', 'the', 'UK', ',', 'the', 'banking', 'system', 'network', 'also', 'present', 'the', 'characteristic', 'of', 'the', 'core-peripheral', 'structure', '[', '@card@', ']', '.', 'thus', ',', 'more', 'complicated', 'network', 'with', 'directional', 'connection', 'be', 'introduce', ',', 'which', 'be', 'more', 'common', 'in', 'the', 'financial', 'contagion', 'subdivision', 'within', 'the', 'same', 'E-N', 'framework', '[', '@card@', ']', '.', 'moreover', ',', 'since', 'there', 'be', 'various', 'type', 'of', 'connection', 'between', 'financial', 'institution', ',', 'the', 'financial', 'network', 'should', 'have', 'multi-layer', ',', 'include', 'credit', ',', 'insurance', ',', 'derivative', ',', 'collateral', 'obligation', 'cross-hold', 'asset', '.', 'the', 'research', 'on', 'financial', 'multi-layer', 'network', 'be', 'surge', '.', '[', '@card@', ']', 'study', 'the', 'interaction', 'of', 'short-', 'and', 'long-term', 'bilateral', 'secured', 'and', 'unsecured', 'lending', '.', '[', '@card@', ']', 'study', 'the', 'Mexican', 'banking', 'system', 'on', 'all', 'market', 'layer', 'and', 'find', 'that', 'market-based', 'systemic', 'risk', 'indicator', 'systematically', 'underestimate', 'expect', 'systemic', 'loss', '.', '', '']]\n",
            "100\n",
            "100\n",
            "100\n",
            "100\n",
            "100\n",
            "100\n",
            "100\n",
            "100\n",
            "100\n",
            "169\n",
            " \n",
            "[['', '@card@', '.', 'research', 'on', 'systemic', 'risk', 'relate', 'to', 'the', 'behavior', 'of', 'Financial', 'Market', 'participant', ':', ':', ':', '@card@', '.', 'Micro', 'Market', 'structure', 'research', 'on', 'systemic', 'risk', ':', ':', ':', '2', '.', 'progress', 'in', 'systemic', 'Risk', 'Research', '', 'the', 'research', 'on', 'the', 'relationship', 'between', 'financial', 'market', 'participant', \"'\", 'behavior', 'and', 'systemic', 'risk', 'be', 'more', 'disperse', '.', 'the', 'division', 'of', 'financial', 'research', 'segment', 'can', 'be', 'mainly', 'classify', 'into', 'behavioral', 'finance', 'research', ',', 'corporate', 'finance', 'research', ',', 'and', 'micro-market', 'structure', 'research', '.', 'participant', 'vary', 'in', 'different', 'financial', 'market', ',', 'the', 'relationship', 'between', 'their', 'behavior', 'and', 'systemic', 'risk', ',', 'and', 'the', 'transmission', 'pathway'], [',', 'be', 'also', 'various', '.', 'accord', 'to', 'the', 'type', 'of', 'participant', ',', 'the', 'most', 'studied', 'be', 'the', 'bank', '.', 'despite', 'the', 'trend', 'of', 'bank', 'disintermediation', ',', 'in', 'the', 'financial', 'crisis', ',', 'the', 'irreplaceable', 'role', 'of', 'the', 'banking', 'system', 'and', 'its', 'impact', 'on', 'the', 'financial', 'system', 'determine', 'that', 'it', 'be', 'still', 'at', 'the', 'core', 'of', 'the', 'financial', 'system', '.', 'the', 'idea', 'that', 'competition', 'promote', 'the', 'efficiency', 'of', 'financial', 'allocation', 'have', 'promote', 'the', 'wave', 'of', 'financial', 'liberalization', 'in', 'develop', 'country', 'in', 'Europe', 'and', 'America', 'since', 'the', '1970s', '(', 'the', 'second', 'banking', 'directive', 'issue', 'by', 'the', 'European', 'union', 'in', '@card@', 'allow', 'bank', 'to'], ['engage', 'in', 'banking', ',', 'insurance', 'and', 'other', 'financial', 'operation', ';', 'in', '@card@', 'the', 'US', 'Gramm–Leach–Bliley', 'Act', 'also', 'ease', 'similar', 'restriction', '.', ')', '.', 'financial', 'innovation', 'product', 'and', 'mean', 'be', 'constantly', 'emerge', ',', 'and', 'competition', 'among', 'bank', 'be', 'become', 'increasingly', 'fierce', ',', 'which', 'bring', 'about', 'financial', 'deepen', '[', '@card@', ']', 'and', 'improve', 'resource', 'allocation', 'efficiency', '[', '@card@', ']', ',', 'but', 'it', 'may', 'also', 'lead', 'to', 'instability', 'in', 'the', 'banking', 'system', '[', '@card@', ']', '.', 'the', 'relationship', 'between', 'interbank', 'competition', 'and', 'the', 'stability', 'of', 'the', 'banking', 'system', 'have', 'always', 'be', 'controversial', '.', 'on', 'the', 'one', 'hand', ',', 'competition', 'be', 'conducive', 'to', 'reduce'], ['the', 'cost', 'of', 'capital', ',', 'thereby', 'increase', 'the', 'return', 'on', 'investment', 'of', 'enterprise', ',', 'and', 'increase', 'profitability', ',', 'which', 'maintain', 'the', 'controllable', 'credit', 'risk', 'of', 'bank', 'and', 'increase', 'the', 'stability', 'of', 'the', 'system', '[', '@card@', ']', '.', 'on', 'the', 'other', 'hand', ',', 'it', 'will', 'lead', 'to', 'bank', 'rent-seeking', 'behavior', ',', 'especially', 'the', 'bank', 'deposit', 'insurance', 'system', 'will', 'make', 'bank', 'tend', 'to', 'take', 'more', 'radical', 'measure', 'to', 'pursue', 'profit', 'in', 'a', 'fiercely', 'competitive', 'environment', '[', '@card@', ']', '.', 'on', 'this', 'basis', ',', 'without', 'deliberately', 'screen', 'customer', ',', 'the', 'systemic', 'risk', 'will', 'be', 'increase', '[', '@card@', ']', '.', 'this', 'be', 'because', 'it'], ['be', 'difficult', 'for', 'perfect', 'competition', 'to', 'exist', 'in', 'the', 'competition', 'between', 'bank', '.', 'the', 'different', 'scale', 'and', 'core-peripheral', 'banking', 'system', 'structure', 'will', 'inevitably', 'have', 'a', 'monopolistic', 'effect', 'on', 'this', 'market', '[', '@card@', ']', ',', 'and', 'there', 'be', 'moral', 'hazard', 'and', 'adverse', 'selection', 'due', 'to', 'information', 'asymmetry', '[', '@card@', ']', '.', 'an', 'extended', 'study', 'on', 'the', '[', '@card@', ']', 'model', 'modify', 'the', 'absolute', 'inverse', 'relationship', 'between', 'the', 'two', 'propose', '[', '@card@', ']', ',', 'and', 'present', 'that', 'it', 'should', 'be', 'U-shaped', ',', 'that', 'be', ',', 'increase', 'competition', 'can', 'improve', 'the', 'stability', 'of', 'the', 'system', 'and', 'also', 'make', 'the', 'banking', 'system', 'more', 'vulnerable'], ['.', 'the', 'intensity', 'of', 'competition', 'and', 'other', 'factor', 'be', 'the', 'decisive', 'factor', 'that', 'determine', 'the', 'negative', 'or', 'positive', 'relationship', 'between', 'the', 'two', '.', '[', '@card@', ']', 'consider', 'the', 'role', 'of', 'policy', 'incentive', 'and', 'constraint', 'in', 'the', 'interaction', 'between', 'the', 'two', ',', 'and', 'empirically', 'test', 'and', 'compare', 'the', 'relationship', 'between', 'the', 'fierce', 'competition', 'in', 'the', 'banking', 'industry', 'and', 'the', 'stability', 'of', 'the', 'banking', 'system', 'under', 'different', 'policy', 'environment', 'in', 'different', 'country', '.', 'it', 'be', 'find', 'that', 'the', 'more', 'standardized', 'the', 'regulation', ',', 'the', 'more', 'develop', 'the', 'security', 'market', ',', 'the', 'more', 'perfect', 'the', 'bank', 'insurance', 'system', 'and', 'the', 'more', 'efficient', 'the'], ['credit', 'information', 'sharing', ',', 'and', 'that', 'increase', 'competition', 'will', 'increase', 'the', 'vulnerability', 'of', 'the', 'system', '.', 'the', 'method', 'of', 'balance', 'sheet', 'effect', 'be', 'not', 'only', 'adopt', 'to', 'analyze', 'banking', 'default', ',', 'but', 'also', 'apply', 'to', 'study', 'other', 'market', 'participant', \"'\", 'behavior', '.', 'the', 'fire', 'sale', 'and', 'funding', 'correspond', 'to', 'the', 'activity', 'of', 'the', 'bank', \"'s\", 'asset', 'and', 'liability', ',', 'respectively', '.', 'when', 'there', 'be', 'a', 'run', '(', 'trader', \"'s\", 'run', ',', 'deposit', 'run', 'or', 'collateral', 'run', ')', ',', 'the', 'bank', 'have', 'to', 'hedge', 'the', 'risk', 'by', 'recover', 'the', 'loan', 'in', 'advance', 'or', 'raise', 'the', 'collateral', 'mortgage', 'rate', ',', 'but', 'there'], ['may', 'be', 'a', 'risk', 'of', 'payment', 'due', 'to', 'coordination', 'failure', '.', '[', '@card@', ']', 'believe', 'that', 'when', 'the', 'market', 'lack', 'liquidity', ',', 'bank', 'have', 'few', 'opportunity', 'to', 'hedge', 'their', 'overall', 'risk', 'or', 'deal', 'with', 'liquidity', 'shock', '.', 'this', 'will', 'push', 'bank', 'to', 'begin', 'fire', 'sale', 'in', 'response', 'to', 'future', 'liquidity', 'demand', ',', 'which', 'in', 'turn', 'will', 'lead', 'to', 'excessive', 'fluctuation', 'in', 'market', 'capital', 'price', '.', 'moreover', ',', 'when', 'monopolistic', 'behavior', 'exist', 'in', 'the', 'interbank', 'market', ',', 'it', 'will', 'further', 'reduce', 'the', 'effective', 'supply', 'of', 'fund', 'in', 'the', 'market', '[', '@card@', ']', ',', 'and', 'even', 'market', 'freeze', 'appear', '.', '', '']]\n",
            "100\n",
            "100\n",
            "100\n",
            "100\n",
            "100\n",
            "100\n",
            "100\n",
            "100\n",
            " \n",
            "[['', '@card@', '.', 'systemic', 'risk', 'and', 'market', 'liquidity', 'research', ':', ':', ':', '@card@', '.', 'Micro', 'Market', 'structure', 'research', 'on', 'systemic', 'risk', ':', ':', ':', '2', '.', 'progress', 'in', 'systemic', 'Risk', 'Research', '', '[', '@card@', ']', 'classify', 'liquidity', 'risk', 'into', 'liquidity', 'risk', 'in', 'the', 'market', 'and', 'liquidity', 'risk', 'in', 'trader', 'financing', '.', 'trader', 'provide', 'liquidity', 'to', 'the', 'market', 'through', 'financing', ',', 'but', 'the', 'trader', \"'s\", 'financing', 'capability', '(', 'such', 'as', 'equity', 'and', 'margin', 'financing', ')', 'rely', 'on', 'the', 'liquidity', 'of', 'the', 'asset', 'market', '.', 'however', ',', 'market', 'liquidity', 'will', 'suddenly', 'dry', 'up', 'under', 'certain', 'circumstance', 'and', 'will', 'affect', 'many', 'security', ','], ['result', 'in', 'large', 'market', 'fluctuation', '.', 'it', 'also', 'lead', 'to', 'difficulty', 'in', 'the', 'financing', 'of', 'trader', 'and', 'the', 'realization', 'of', 'asset', '.', 'the', 'interaction', 'between', 'financing', 'liquidity', 'and', 'market', 'liquidity', 'form', 'a', 'liquidity', 'spiral', 'and', 'trigger', 'systemic', 'risk', '.', 'the', 'liquidity', 'spiral', 'have', 'a', 'variety', 'of', 'transmission', 'pathway', ',', 'such', 'as', 'the', 'loss', 'spiral', 'of', 'erosion', 'capital', ',', 'and', 'the', 'guarantee', 'spiral', ',', 'which', 'all', 'lead', 'to', 'a', 'fire', 'sale', '.', 'there', 'be', 'many', 'different', 'interpretation', 'of', 'the', 'reason', 'for', 'the', 'formation', 'of', 'market', 'liquidity', 'shock', ':', 'some', 'of', 'the', 'research', 'on', 'financial', 'crisis', 'cause', 'by', 'the', 'lack', 'of', 'market'], ['liquidity', 'be', 'associate', 'with', 'information', 'asymmetry', ',', 'which', 'be', 'often', 'one', 'of', 'the', 'cause', 'of', 'liquidity', 'exhaustion', '[', '@card@', ']', '.', 'the', 'financial', 'crisis', 'cause', 'by', 'information', 'asymmetry', 'be', 'more', 'typical', 'in', 'bank', 'run', 'event', '.', 'the', 'global', 'game', 'model', 'propose', 'by', '[', '@card@', ']', 'be', 'also', 'base', 'on', 'the', 'assumption', 'of', 'information', 'asymmetry', ',', 'that', 'be', ',', 'participant', 'can', 'only', 'obtain', 'noisy', 'observation', ',', 'and', 'the', 'lack', 'of', 'common', 'knowledge', 'lead', 'participant', 'to', 'choose', 'risk-dominant', 'equilibrium', 'as', 'the', 'only', 'equilibrium', '.', 'this', 'global', 'game', 'model', 'be', 'extend', 'to', 'the', 'currency', 'crisis', 'model', '[', '@card@', ']', 'and', 'the', 'bank', 'crisis'], ['model', '[', '@card@', ']', '.', 'when', 'information', 'asymmetry', 'exist', 'in', 'the', 'interbank', 'market', ',', 'it', 'will', 'exacerbate', 'the', 'liquidity', 'of', 'the', 'market', 'due', 'to', 'counterparty', 'default', 'risk', ',', 'lead', 'to', 'system', 'collapse', '[', '@card@', ']', '.', 'moreover', ',', 'the', 'information', 'asymmetry', 'between', 'the', 'supervisory', 'authority', 'and', 'the', 'regulated', 'institution', 'will', 'cause', 'the', 'central', 'bank', 'to', 'misjudge', '.', 'since', 'regulator', 'do', 'not', 'have', 'a', 'complete', 'understanding', 'of', 'the', 'asset', 'quality', 'of', 'the', 'entire', 'banking', 'system', ',', 'therefore', ',', 'even', 'if', 'a', 'central', 'bank', 'participate', 'in', 'the', 'interbank', 'market', 'to', 'prevent', 'the', 'inefficient', 'allocation', 'of', 'market', 'resource', 'due', 'to', 'adverse', 'selection', ','], ['moral', 'hazard', 'and', 'monopolistic', 'behaviour', ',', 'the', 'result', 'of', 'such', 'hedging', 'be', 'difficult', 'to', 'be', 'optimal', '[', '@card@', ']', '.', '[', '@card@', ']', 'believe', 'that', 'the', 'common', 'feature', 'of', 'financial', 'market', 'in', 'the', 'recent', 'financial', 'crisis', 'be', 'that', 'financial', 'institution', 'generally', 'have', 'more', 'serious', 'mismatch', 'in', 'liquidity', '.', 'for', 'example', ',', 'the', 'term', 'of', 'interest', 'rate', 'fluctuation', 'in', 'the', 'subprime', 'borrower', \"'s\", 'loan', 'contract', 'will', 'affect', 'their', 'ability', 'to', 'repay', 'and', 'refinance', '.', 'commercial', 'bank', 'be', 'burden', 'with', 'over-proportionate', 'contingent', 'liability', 'relative', 'to', 'capital', 'under', 'unregulated', 'off-balance', 'sheet', 'business', '.', 'the', 'rise', 'in', 'the', 'proportion', 'of', 'investment', 'bank', 'that', 'rely'], ['mainly', 'on', 'repurchase', 'commercial', 'paper', 'financing', 'mean', 'that', 'the', 'proportion', 'of', 'the', 'entire', 'financial', 'system', 'that', 'rely', 'on', 'market', 'financing', 'be', 'rise', ',', 'so', 'the', 'excessive', 'leverage', 'ratio', 'be', 'the', 'risk', 'of', 'mismatch', 'in', 'liquidity', '.', 'in', 'the', 'event', 'of', 'a', 'liquidity', 'shock', ',', 'market', 'liquidity', 'be', 'rapidly', 'deplete', 'by', 'the', 'balance', 'sheet', 'effect', ',', 'result', 'in', 'the', 'interaction', 'of', 'collateral', 'run', ',', 'bank', 'run', ',', 'and', 'counterparty', 'run', '.', 'the', 'central', 'bank', 'have', 'to', 'ease', 'the', 'crisis', 'by', 'release', 'a', 'large', 'amount', 'of', 'liquidity', ',', 'but', 'this', 'have', 'further', 'increase', 'the', 'moral', 'hazard', 'of', 'financial', 'institution', 'to', 'increase', 'leverage'], [',', 'which', 'have', 'further', 'worsen', 'the', 'problem', 'of', 'liquidity', 'mismatch', '.', '[', '@card@', ']', 'argue', 'that', 'the', 'demand', 'for', 'liquidity', 'stem', 'from', 'the', 'mismatch', 'between', 'the', 'supply', 'and', 'demand', 'of', 'good', 'by', 'consumer', 'in', 'different', 'space', '.', 'once', 'they', 'need', 'to', 'spend', 'at', 'different', 'time', 'in', 'different', 'location', ',', 'they', 'constitute', 'cross-regional', 'liquidity', 'need', ',', 'and', 'bank', 'need', 'to', 'provide', 'liquidity', 'through', 'the', 'credit', 'behavior', 'of', 'the', 'payment', 'system', 'or', 'the', 'interbank', 'market', '.', '[', '@card@', ']', 'agree', 'that', 'random', 'demand', 'of', 'consumer', 'for', 'liquidity', 'will', 'become', 'a', 'liquidity', 'shock', 'for', 'a', 'depository', 'institution', 'due', 'to', 'incomplete', 'interbank', 'market', 'transmission'], ['.', '[', '@card@', ']', 'suggest', 'that', 'systemic', 'risk', 'be', 'mainly', 'transmit', 'through', 'the', 'payment', 'system', ',', 'the', 'interbank', 'market', 'and', 'the', 'derivative', 'market', 'and', 'that', 'the', 'random', 'withdrawal', 'demand', 'of', 'consumer', 'at', 'different', 'time', 'and', 'in', 'different', 'place', 'will', 'have', 'a', 'liquidity', 'impact', 'on', 'the', 'payment', 'system', 'and', 'the', 'interbank', 'market', '.', 'the', 'existence', 'of', 'the', 'interbank', 'market', 'reduce', 'the', 'incentive', 'for', 'bank', 'to', 'hold', 'non-profit', 'cash', ';', 'bank', 'have', 'solvency', 'under', 'certain', 'condition', ',', 'while', 'the', 'market', 'be', 'catch', 'in', 'coordination', 'failure', '.', 'the', 'financial', 'accelerator', 'model', 'propose', 'by', '[', '@card@', ']', 'explain', 'the', 'external', 'financing', 'premium', 'problem', 'face'], ['by', 'enterprise', 'from', 'the', 'perspective', 'of', 'the', 'incomplete', 'credit', 'market', '.', 'the', 'incentive', 'mechanism', 'of', 'the', 'company', 'have', 'prompt', 'the', 'agent', 'to', 'favour', 'debt', 'financing', '.', 'when', 'the', 'negative', 'impact', 'cause', 'the', 'net', 'value', 'of', 'the', 'enterprise', 'to', 'decrease', ',', 'the', 'solvency', 'decline', ',', 'which', 'in', 'turn', 'have', 'an', 'impact', 'on', 'the', 'asset', 'side', 'of', 'the', 'loan', 'bank', '.', 'when', 'the', 'asset', 'of', 'the', 'loan', 'bank', 'be', 'impair', 'due', 'to', 'corporate', 'default', 'and', 'further', 'affect', 'the', 'scale', 'of', 'the', 'risk', 'reserve', ',', 'the', 'bank', 'face', 'a', 'liquidity', 'shock', ',', 'and', 'the', 'impact', 'have', 'a', 'nonlinear', 'amplification', 'effect', 'through', 'the', 'interbank', 'market', '.', 'other', 'factor', 'affect', 'market', 'liquidity', 'risk', 'be', 'institutional', 'and', 'systemic', 'risk', 'management', 'system', ',', 'financial', 'system', 'structure', ',', 'and', 'the', 'institution', \"'s\", 'own', 'reputation', 'risk', '[', '@card@', ']', '.', 'moreover', ',', 'the', 'phenomenon', 'associate', 'with', 'liquidity', 'shock', 'include', 'market', 'freeze', ',', 'asset', 'sale', ',', 'contagion', 'effect', ',', 'and', 'institutional', 'bankruptcy', ',', 'which', 'also', 'possibly', 'appear', 'when', 'systemic', 'risk', 'occur', '.', '', '']]\n",
            "100\n",
            "100\n",
            "100\n",
            "100\n",
            "100\n",
            "100\n",
            "100\n",
            "100\n",
            "164\n",
            " \n",
            "[['', '@card@', '.', 'financial', 'contagion', ':', ':', ':', '@card@', '.', 'Micro', 'Market', 'structure', 'research', 'on', 'systemic', 'risk', ':', ':', ':', '2', '.', 'progress', 'in', 'systemic', 'Risk', 'Research', '', 'Financial', 'contagion', 'occur', 'as', 'the', 'distress', 'of', 'one', 'or', 'a', 'small', 'group', 'of', 'bank', 'risk', 'the', 'stability', 'of', 'other', 'financial', 'institution', ',', 'even', 'ultimately', 'spread', 'to', 'the', 'real', 'economy', '.', 'the', 'financial', 'contagion', 'can', 'occur', 'due', 'to', 'both', 'local', 'contractual', 'obligation', 'connection', ',', 'and', 'global', 'market', 'connection', ',', 'e.g.', ',', 'through', 'the', 'price', 'of', 'asset', 'due', 'to', 'mark-to-market', 'valuation', '[', '@card@', ']', '.', '[', '@card@', ']', 'establish', 'a', 'framework', 'for', 'contagion', 'analysis'], [',', 'which', 'study', 'the', 'spread', 'of', 'obligation', 'default', 'within', 'the', 'financial', 'system', 'due', 'to', 'unpaid', 'liability', '.', 'since', 'there', 'be', 'various', 'type', 'of', 'connection', 'between', 'financial', 'firm', ',', 'the', 'shock', 'can', 'transmit', 'in', 'the', 'network', 'via', 'different', 'channel', ',', 'and', 'the', 'channel', 'also', 'interact', 'with', 'each', 'other', 'in', 'some', 'historic', 'event', '.', 'accord', 'to', '[', '@card@', ']', 'taxonomy', ',', 'there', 'be', 'mainly', 'four', 'type', 'of', 'channel', ':', 'asset', 'correlate', 'contagion', ',', 'default', 'contagion', ',', 'liquidity', 'contagion', ',', 'market', 'illiquidity', 'and', 'asset', 'fire', 'sale', '.', 'except', 'for', 'the', 'default', 'contagion', ',', 'for', 'the', 'rest', 'of', 'the', 'channel', ',', 'the', 'observed', 'domino'], ['or', 'spillover', 'effect', 'be', 'demonstrate', 'through', 'the', 'slump', 'in', 'mark-to-market', 'price', '.', 'thus', ',', 'contagion', 'research', 'can', 'be', 'classify', 'into', 'two', 'main', 'branch', ':', 'default', 'contagion', 'and', 'price-mediated', 'contagion', '.', '[', '@card@', ']', 'explore', 'how', 'the', 'probability', 'and', 'potential', 'impact', 'of', 'contagion', 'be', 'influence', 'by', 'aggregate', 'and', 'idiosyncratic', 'shock', '.', 'they', 'find', 'that', 'the', 'robust-yet-fragile', 'financial', 'system', 'have', 'a', 'low', 'probability', 'of', 'such', 'contagion', '.', '[', '@card@', ']', 'extend', 'the', 'basic', 'default', 'contagion', 'model', 'by', 'introduce', 'default', 'cost', 'into', 'the', 'system', '.', '[', '@card@', ']', 'assume', 'minimal', 'information', 'about', 'network', 'structure', ',', 'and', 'through', 'such', 'key', 'node-level', 'quantity', 'as', 'asset'], ['size', ',', 'leverage', 'and', 'the', 'fraction', 'of', 'a', 'financial', 'institution', \"'s\", 'liability', 'hold', 'by', 'other', 'financial', 'firm', ',', 'they', 'derive', 'explicit', 'bound', 'on', 'the', 'potential', 'magnitude', 'of', 'network', 'effect', 'on', 'contagion', 'and', 'loss', 'amplification', '.', 'other', 'model', 'with', 'extension', 'in', 'default', 'cost', 'include', '[', '@card@', ']', '.', 'these', 'contagion', 'model', 'consider', 'the', 'mark-to-market', 'asset', 'price', 'slump', 'due', 'to', 'the', 'extreme', 'tension', 'in', 'market', 'liquidity', 'and', 'individual', 'liquidity', ',', 'as', 'demonstrate', 'in', 'fire', 'sale', '[', '@card@', ']', 'cross-holding', 'have', 'also', 'be', 'study', '[', '@card@', ']', '.', '[', '@card@', ']', 'provide', 'a', 'framework', 'for', 'model', 'asset', 'price', 'during', 'a', 'fire', 'sale', '.'], ['[', '@card@', ']', 'generalize', 'the', 'model', 'of', '[', '@card@', ']', 'by', 'allow', 'for', 'differ', 'liquidation', 'strategy', '.', '[', '@card@', ']', 'study', 'the', 'three', 'extension', 'that', 'be', 'bankruptcy', 'cost', ',', 'multiple', 'asset', 'and', 'fire', 'sale', 'within', 'a', 'single', 'model', '.', 'the', 'survey', 'of', 'empirical', 'work', 'on', 'contagion', 'can', 'refer', 'to', '[', '@card@', ']', '.', 'empirical', 'study', 'be', 'reveal', 'that', 'financial', 'contagion', 'can', 'not', 'be', 'well', 'explain', 'by', 'the', 'base', 'model', 'of', 'obligation', 'default', '[', '@card@', ']', '.', 'system', 'stress', 'test', 'be', 'usually', 'adopt', 'to', 'study', 'the', 'exposure', 'of', 'the', 'whole', 'system', 'towards', 'indirect', 'contagion', '[', '@card@', ']', '.', 'in', 'general', ','], ['the', 'network-based', 'model', 'be', 'mainly', 'root', 'in', 'the', 'general', 'equilibrium', 'approach', ',', 'which', 'bring', 'sufficient', 'economic', 'connotation', 'to', 'these', 'model', '.', 'it', 'also', 'mean', 'that', 'systemic', 'shock', 'be', 'usually', 'assume', 'from', 'outside', 'instead', 'of', 'endogeneity', '.', 'thus', ',', 'through', 'limited', 'amplification', ',', 'contagion', 'can', 'suspend', 'automatically', 'and', 'the', 'whole', 'system', 'return', 'to', 'a', 'new', 'equilibrium', '.', 'even', 'refer', 'to', 'the', 'multiple', 'asset', 'model', ',', 'the', 'shock', 'on', 'the', 'price', 'of', 'asset', 'and', 'consequent', 'price', 'variation', 'distribute', 'independently', 'with', 'the', 'network', 'contagion', ',', 'otherwise', ',', 'the', 'mathematical', 'model', 'shall', 'be', 'too', 'complicate', 'to', 'be', 'solve', '.', 'however', ',', 'the', 'financial', 'contagion', 'research', 'do', 'offer', 'great', 'achievement', 'in:(1)Explain', 'the', 'contagion', 'path', 'via', 'network', 'of', 'all', 'type', ';', '(2)Empirically', 'reveal', 'the', 'impact', 'of', 'contagion', 'on', 'the', 'whole', 'financial', 'system', ';', '(3)Providing', 'supportive', 'evidence', 'for', 'capital', 'requirement', ',', 'mark-to-market', 'accounting', 'and', 'limitation', 'of', 'the', 'scale', 'of', 'interbank', 'business', '.', '', '']]\n",
            "100\n",
            "100\n",
            "100\n",
            "100\n",
            "100\n",
            "147\n",
            " \n",
            "[['', '@card@', '.', 'systemic', 'risk', 'identification', 'and', 'measurement', ':', ':', ':', '2', '.', 'progress', 'in', 'systemic', 'Risk', 'Research', '', 'systemic', 'risk', 'identification', 'and', 'measurement', 'be', 'one', 'of', 'the', 'most', 'important', 'aspect', 'of', 'systemic', 'risk', 'research', '.', 'in', 'recent', 'year', ',', 'the', 'literature', 'in', 'this', 'field', 'have', 'also', 'increase', '.', 'the', 'indicator', 'of', 'systemic', 'risk', 'be', 'sis', '[', '@card@', ']', ',', 'mes', '[', '@card@', ']', ',', 'KLR', '[', '@card@', ']', ',', 'CoVaR', '[', '@card@', ']', 'and', 'Capital', 'shortfall', '[', '@card@', ']', '.', 'some', 'scholar', 'have', 'reverse', 'the', 'financial', 'systemic', 'risk', 'through', 'the', 'market', 'price', 'of', 'derivative', '(', 'credit', 'default', 'swap', ','], ['CDSs', ')', 'issue', 'by', 'financial', 'institution', '[', '@card@', ']', '.', 'a', 'survey', 'of', 'measurement', 'on', 'systemic', 'risk', 'can', 'be', 'refer', 'to', '[', '@card@', ']', ',', 'and', 'they', 'also', 'offer', 'code', 'for', '@card@', 'such', 'measure', '.', 'besides', ',', '[', '@card@', ']', 'adopt', 'the', 'Herfindahl', 'index', 'to', 'measure', 'the', 'concentration', 'of', 'credit', 'portfolio', 'of', 'the', 'emergency', 'loan', 'program', 'provide', 'by', 'the', 'fed', 'in', 'the', '2008–2010', 'crisis', '.', 'they', 'find', 'that', '@card@', 'strongly', 'connect', 'institution', 'receive', 'the', 'most', 'of', 'the', 'fund', ',', 'while', 'small', 'disperse', 'shock', 'could', 'have', 'trigger', 'the', 'systemic', 'default', 'event', ',', 'which', 'indicate', 'that', 'the', 'critical', 'bank', 'be', '\"', 'too-central-to-fail'], ['\"', '.', 'i', '[', '@card@', ']', 'construct', 'an', 'insurance', 'pricing', 'model', 'base', 'on', 'the', 'put', 'option', 'framework', 'of', 'the', 'Merton', 'model', ',', 'include', 'asset', 'relevance', ',', 'bank', 'systemic', 'risk', 'and', 'joint', 'default', 'rate', ',', 'suggest', 'that', 'systemic', 'risk', 'lead', 'to', 'low', 'insurance', 'pricing', ',', 'which', 'lead', 'to', 'insufficient', 'liquidity', 'in', 'the', 'event', 'of', 'a', 'crisis', '.', '[', '@card@', ']', 'use', 'a', 'multivariate', 'extremum', 'theory', 'to', 'model', 'the', 'tail', 'dependence', 'between', 'multiple', 'asset', 'and', 'adopt', 'a', 'non-parametric', 'estimation', 'to', 'estimate', 'and', 'then', 'to', 'measure', 'systemic', 'risk', '.', '[', '@card@', ']', 'study', 'the', 'monthly', 'yield', 'datum', 'of', 'hedge', 'fund', ',', 'bank', ','], ['security', ',', 'insurance', 'and', 'other', 'financial', 'institution', 'base', 'on', 'principal', 'component', 'analysis', 'combine', 'with', 'Granger', 'causality', ',', 'and', 'conclude', 'that', 'the', 'internal', 'correlation', 'of', 'these', 'four', 'type', 'of', 'finance', 'have', 'increase', 'the', 'systemic', 'risk', '.', '[', '@card@', ']', 'view', 'the', 'banking', 'system', 'as', 'a', 'credit', 'portfolio', ',', 'analyze', 'the', 'value', 'of', 'the', 'portfolio', 'and', 'the', 'unanticipated', 'loss', 'to', 'calculate', 'systemic', 'risk', '.', '[', '@card@', ']', 'consider', 'financial', 'department', 'as', 'a', 'time-varying', 'systemic', 'risk', 'of', 'overall', 'measurement', ',', 'and', 'define', 'systemic', 'risk', 'as', 'to', 'the', 'conditional', 'default', 'probability', ',', 'and', 'analyze', 'the', 'default', 'probability', 'through', 'credit', 'repayment', '.', 'when', 'the', 'systemic'], ['risk', 'be', 'define', 'as', 'a', 'series', 'of', 'debt', 'contract', 'default', ',', 'systemic', 'risk', 'be', 'link', 'to', 'credit', 'risk', '.', 'the', 'big', 'characteristic', 'of', 'credit', 'risk', 'be', 'its', 'tail', 'effect', '.', 'therefore', ',', 'many', 'researcher', 'have', 'introduce', 'the', 'copula', 'model', 'to', 'simulate', 'the', 'tail', 'dependence', 'of', 'financial', 'institution', \"'\", 'extreme', 'loss', 'under', 'systemic', 'risk', '[', '@card@', ']', '.', '[', '@card@', ']', 'propose', 'a', 'new', 'systemic', 'risk', 'analysis', 'framework', ',', 'which', 'incorporate', 'marginal', 'default', 'probability', ',', 'credit', 'risk', 'structure', ',', 'consistent', 'information', 'multivariate', 'density', 'optimization', '(', 'CIMDO', ')', ',', 'generalize', 'dynamic', 'factor', 'model', 'and', 't-Copula', 'model', 'into', 'the', 'framework', '.', '[', '@card@', ']', 'propose', 'the', 'endogenous', 'Risk', 'Index', '(', 'ERI', ')', 'to', 'measure', 'the', 'spillover', 'across', 'portfolio', ',', 'as', 'well', 'as', 'the', 'indirect', 'contagion', 'Index', '(', 'ICI', ')', 'to', 'capture', 'the', 'importance', 'of', 'a', 'bank', 'via', 'measure', 'the', 'loss', 'it', 'inflict', 'on', 'other', 'financial', 'firm', '.', 'the', 'two', 'indicator', 'provide', 'a', 'complementary', 'measure', 'of', 'interconnectedness', '.', '[', '@card@', ']', 'provide', 'review', 'on', 'more', 'recent', 'measurement', 'study', '.', 'therefore', ',', 'it', 'can', 'be', 'see', 'that', ',', 'due', 'to', 'the', 'tail', 'characteristic', 'and', 'nonlinear', 'characteristic', 'of', 'systemic', 'risk', ',', 'there', 'be', 'many', 'method', 'for', 'the', 'quantitative', 'assessment', 'of', 'systemic', 'risk', '.', '', '']]\n",
            "100\n",
            "100\n",
            "100\n",
            "100\n",
            "199\n",
            " \n",
            "[['', '@card@', '.', 'Theorectical', 'foundation', ':', ':', ':', '3', '.', 'review', 'of', 'the', 'Main', 'Research', 'method', 'of', 'systemic', 'risk', '', 'systemic', 'risk', 'research', 'rest', 'its', 'theoretic', 'root', 'in', 'equilibrium', 'approach', ',', 'which', 'follow', 'a', 'micro-based', 'research', 'paradigm', '.', 'to', 'achieve', 'the', 'equilibrium', ',', 'the', 'route', 'of', 'deduction', 'shall', 'be', 'clarify', ',', 'and', 'the', 'micro-based', 'equilibrium', 'or', 'activity', 'need', 'to', 'be', 'coordinate', 'with', 'the', 'purpose', 'of', 'general', 'equilibrium', 'by', 'a', 'series', 'of', 'preset', 'hypothesis', '.', 'to', 'explain', 'the', 'friction', 'on', 'financial', 'market', ',', 'the', 'preset', 'condition', 'be', 'adjust', 'accordingly', ',', 'base', 'on', 'more', 'convincing', 'and', 'practical', 'micro-foundation', '.', 'there', 'be', 'at'], ['least', 'three', 'type', 'of', 'endogenous', 'inconsistency', ':', 'inconsistency', 'in', 'preference', 'or', 'expectation', '[', '@card@', ']', ',', 'heterogeneity', '[', '@card@', ']', ',', 'information', 'asymmetry', '[', '@card@', ']', ',', 'and', 'BGG', 'model', '[', '@card@', ']', '.', 'besides', ',', 'through', 'obligation', 'contract', '[', '@card@', ']', 'or', 'institution', \"'\", 'capital', '[', '@card@', ']', 'or', 'other', 'generalize', 'agreement', '[', '@card@', ']', ',', 'connection', 'be', 'establish', 'within', 'the', 'financial', 'system', ',', 'which', 'establish', 'the', 'network', 'analysis', 'of', 'contagion', ',', 'domino', 'effect', 'and', 'spillover', '.', 'as', 'mention', 'above', ',', 'the', 'study', 'of', 'the', 'generation', 'and', 'transmission', 'mechanism', 'of', 'systemic', 'risk', 'be', 'in', 'virtue', 'of', 'the', 'DNK', 'model'], ['framework', '.', 'link', 'the', 'activity', 'entity', 'and', 'market', 'structure', 'at', 'the', 'micro-level', 'with', 'macroeconomic', 'growth', 'and', 'volatility', 'make', 'the', 'performance', 'of', 'macroeconomic', 'fluctuation', 'of', 'systemic', 'risk', 'possess', 'a', 'certain', 'micro', 'foundation', '.', 'because', 'systemic', 'risk', 'be', 'accompany', 'by', 'rise', 'leverage', ',', 'financial', 'friction', ',', 'large', 'fluctuation', 'before', 'and', 'after', 'liquidity', ',', 'and', 'other', 'derivative', 'phenomenon', ',', 'it', 'be', 'closely', 'relate', 'to', 'individual', 'heterogeneity', 'and', 'the', 'characteristic', 'of', 'the', 'market', 'structure', 'itself', '.', 'to', 'explain', 'the', 'impact', 'of', 'individual', 'heterogeneity', 'or', 'heterogeneous', 'expectation', 'on', 'financial', 'market', 'asset', 'price', 'and', 'the', 'real', 'economy', ',', 'Calvo', 'and', 'Rotemberg', \"'s\", 'sticky-price', 'model', 'be', 'use'], ['for', 'reference', '.', 'what', 'be', 'similar', 'be', 'the', 'application', 'of', 'the', 'two-sector', 'model', 'in', 'the', 'utility', 'sector', 'or', 'the', 'constraint', 'function', 'in', 'the', 'family', 'sector', ',', 'for', 'example', ',', '[', '@card@', ']', 'distinguish', 'the', 'buyer', 'from', 'the', 'superior', 'and', 'sub-optimal', 'level', 'and', 'separate', 'their', 'constraint', 'function', ',', 'explain', 'the', 'intrinsic', 'relationship', 'between', 'the', 'rapid', 'rise', 'of', 'mortgage', 'loan', 'and', 'the', 'rapid', 'rise', 'in', 'housing', 'price', 'before', 'the', 'subprime', 'mortgage', 'crisis', '.', 'the', 'game', 'model', 'be', 'also', 'a', 'more', 'common', 'method', 'for', 'explain', 'financial', 'friction', 'and', 'systemic', 'risk', '.', '[', '@card@', ']', 'propose', 'an', 'analytical', 'approach', 'to', 'coordinate', 'game', '.', 'by'], ['divide', 'the', 'depositor', \"'s\", 'investment', 'behaviour', 'into', 'two', 'category', ',', 'patient', 'and', 'impatient', ',', 'in', 'the', 'case', 'of', 'incomplete', 'information', ',', 'the', 'investor', 'will', 'choose', 'whether', 'to', 'withdraw', 'the', 'deposit', 'to', 'the', 'bank', 'in', 'advance', 'accord', 'to', 'the', 'expectation', 'and', 'then', 'the', 'bank', 'run', 'may', 'occur', 'due', 'to', 'the', 'individual', \"'s\", 'rational', 'behaviour', '.', 'this', 'model', 'successfully', 'explain', 'the', 'reason', 'for', 'the', 'bank', \"'s\", 'asset-liability', 'maturity', 'mismatch', ',', 'and', 'also', 'explain', 'the', 'transmission', 'mechanism', 'that', 'trigger', 'the', 'banking', 'crisis', '.', 'however', ',', 'the', 'deficiency', 'be', 'that', 'there', 'be', 'multiple', 'equilibrium', 'in', 'this', 'model', ',', 'and', 'it', 'be', 'impossible', 'to', 'predict'], ['the', 'occurrence', 'of', 'the', 'bank', 'run', 'behaviour', '.', 'the', 'coordinate', 'game', 'model', 'be', 'then', 'further', 'optimize', 'and', 'expand', '[', '@card@', ']', '.', '[', '@card@', ']', 'propose', 'a', 'method', 'to', 'ease', 'public', 'information', 'hypothesis', ',', 'allow', 'participant', \"'\", 'post', 'hoc', 'observation', 'to', 'satisfy', 'certain', 'random', 'distribution', 'characteristic', '.', 'the', 'game', 'base', 'on', 'this', 'hypothesis', 'be', 'name', 'as', 'a', 'global', 'game', '.', 'compare', 'to', 'the', 'coordination', 'model', ',', 'the', 'global', 'game', 'model', 'ease', 'the', 'assumption', 'of', 'public', 'knowledge', 'and', 'reduce', 'the', 'quantity', 'of', 'equilibrium', '.', '[', '@card@', ']', 'introduce', 'the', 'global', 'game', 'method', 'into', 'the', 'study', 'of', 'financial', 'crisis', 'theory', 'and', 'study'], ['the', 'mechanism', 'of', 'currency', 'attack', 'activity', ';', 'the', 'sequential', 'global', 'game', 'method', 'be', 'also', 'widely', 'use', 'in', 'the', 'field', 'of', 'macroeconomics', 'and', 'financial', 'crisis', '.', 'Chinese', 'scholar', 'also', 'use', 'this', 'model', 'to', 'explain', 'the', 'liquidity', 'crisis', 'of', 'bank', 'and', 'the', 'government', \"'s\", 'rescue', 'policy', '[', '@card@', ']', ',', 'and', 'infectious', 'mechanism', 'for', 'the', 'liquidity', 'of', 'informal', 'financial', 'institution', 'to', 'formal', 'financial', 'institution', '[', '@card@', ']', '.', 'as', 'for', 'the', 'model', 'of', 'contagion', 'and', 'spillover', 'risk', 'among', 'financial', 'intermediary', ',', 'the', 'covariance', 'of', 'asset', '[', '@card@', ']', 'or', 'liability', '[', '@card@', ']', 'be', 'introduce', 'base', 'on', 'micro-level', 'maximization', ',', 'in', 'which'], ['the', 'agent', 'be', 'either', 'risk-neutral', 'or', 'risk-averse', '.', 'asymmetric', 'information', 'assumption', 'be', 'also', 'bring', 'in', '.', 'thus', ',', 'the', 'general', 'equilibrium', 'approach', 'and', 'its', 'loose', 'condition', 'can', 'explain', 'these', 'endogenous', 'question', ':', 'how', 'participant', 'react', 'to', 'an', 'unexpected', 'shock', ';', 'what', 'expectation', 'they', 'would', 'form', 'and', 'action', 'they', 'would', 'take', 'thereafter', ';', 'how', 'the', 'systemic', 'risk', 'be', 'transmit', 'or', 'spillover', 'occur', 'within', 'the', 'system', '.', 'however', ',', 'although', 'friction', 'be', 'invite', 'into', 'the', 'equilibrium', 'model', ',', 'they', 'have', 'to', 'always', 'assume', 'the', 'exogeneity', 'of', 'the', 'shock', '.', 'another', 'series', 'of', 'theoretical', 'approach', 'be', 'base', 'on', 'an', 'analysis', 'of', 'evolutionary', 'history'], ['and', 'institution', ',', 'like', 'Marxism', 'and', 'Minsky', \"'s\", 'theory', '.', 'the', 'latter', 'inherit', 'the', 'former', \"'s\", 'essence', 'in', 'explanation', 'of', 'profit', 'in', 'that', 'they', 'both', 'agree', 'that', 'profit', 'go', 'down', 'as', 'investment', 'increase', 'in', 'the', 'phase', 'of', 'economic', 'expansion', ',', 'and', 'a', 'crisis', 'take', 'place', 'when', 'profit', 'can', 'cover', 'the', 'current', 'payable', 'obligation', '.', 'while', 'Minsky', 'further', 'develop', 'his', 'theory', 'by', 'establish', 'a', 'profit', 'function', 'on', 'an', 'identical', 'equation', ',', 'it', 'follow', 'a', 'macro-micro-macro', 'non-equilibrium', 'paradigm', ',', 'which', 'unravel', 'the', 'necessity', 'of', 'present', 'assumption', '.', 'through', 'decomposition', ',', 'the', 'profit', 'function', 'can', 'embrace', 'various', 'endogenous', 'factor', 'from', 'different', 'department', 'of'], ['an', 'economy', ',', 'include', 'technical', 'improvement', ',', 'public', 'policy', 'and', 'the', 'financial', 'institution', ',', 'etc.', ',', 'while', 'Marxism', 'mainly', 'attribute', 'the', 'profit', 'to', 'the', 'surplus-labour', 'and', 'capital', 'structure', '.', 'Minsky', \"'s\", 'methodology', 'can', 'also', 'be', 'apply', 'to', 'analyze', 'the', 'household', 'and', 'government', 'behaviour', 'and', 'its', 'subsequent', 'effect', 'on', 'the', 'financial', 'system', '.', 'this', 'methodology', 'solve', 'the', 'problem', 'of', 'exogeneity', ',', 'as', 'the', 'financial', 'crisis', 'phase', 'be', 'integrate', 'into', 'a', 'whole', 'theory', 'to', 'explain', 'the', 'operation', 'of', 'capitalist', 'economy', '.', 'to', 'avoid', 'mathematical', 'formalism', ',', 'he', 'insist', 'on', 'deliver', 'his', 'theory', 'via', 'a', 'narrative', 'approach', ',', 'which', 'leave', 'more', 'space', 'for', 'his', 'successor', 'to', 'explore', '[', '@card@', ']', ',', 'etc.', '', '']]\n",
            "100\n",
            "100\n",
            "100\n",
            "100\n",
            "100\n",
            "100\n",
            "100\n",
            "100\n",
            "100\n",
            "111\n",
            " \n",
            "[['', '@card@', '.', 'mathematical', 'model', ':', ':', ':', '3', '.', 'review', 'of', 'the', 'Main', 'Research', 'method', 'of', 'systemic', 'risk', '', 'network', 'and', 'contagion', 'model', 'be', 'mainly', 'establish', 'in', 'the', 'general', 'equilibrium', 'approach', '[', '@card@', ']', '.', 'after', '[', '@card@', ']', ',', 'the', 'baseline', 'of', 'the', 'network', 'model', 'be', 'propose', 'by', '[', '@card@', ']', ',', 'which', 'be', 'expand', 'from', 'explain', 'default', 'contagion', 'to', 'price-mediated', 'contagion', '.', 'base', 'on', 'that', ',', '[', '@card@', ']', 'offer', 'a', 'model', 'involve', 'hard', 'default', ',', 'in', 'which', 'interbank', 'debt', 'of', 'defaulted', 'bank', 'recover', 'zero', 'value', '.', 'there', 'be', 'also', 'other', 'model', 'with', 'extension', 'on', 'bankruptcy', 'cost'], [',', 'multi', 'asset', 'and', 'fire', 'sale', '.', '[', '@card@', ']', 'provide', 'a', 'framework', 'to', 'prove', 'the', 'existence', 'of', 'clear', 'asset', 'price', 'and', 'liability', 'payment', 'for', 'equilibrium', 'in', 'a', 'network', 'contagion', '.', '[', '@card@', ']', 'expand', 'it', 'to', 'a', 'dual-risky-asset', 'equilibrium', '.', 'no', 'matter', 'the', 'Eisenberg–Noe', 'model', ',', 'or', 'the', 'Gai–Kapadia', 'model', 'or', 'the', 'Amini', 'framework', ',', 'they', 'all', 'belong', 'to', 'static', 'cascade', 'model', ',', 'which', 'assume', 'the', 'structure', 'and', 'scale', 'of', 'the', 'network', 'itself', 'be', 'static', '.', 'while', 'network', 'can', 'evolve', 'due', 'to', 'the', 'interaction', 'of', 'participant', \"'\", 'inter-connection', 'of', 'asset', 'and', 'shock', 'from', 'the', 'outside', ',', 'so', 'random', 'graph', 'model', 'be', 'bring', 'in', '[', '@card@', ']', '.', 'moreover', ',', 'to', 'capture', 'the', 'stochastic', 'and', 'dynamic', 'structure', 'of', 'the', 'network', 'with', 'a', 'vast', 'volume', 'of', 'node', ',', 'the', 'mean-field', 'model', 'be', 'borrow', 'from', 'the', 'discipline', 'of', 'physic', ',', 'which', 'can', 'be', 'apply', 'to', 'explain', 'the', 'herding', 'effect', 'and', 'endogenous', 'contagion', '[', '@card@', ']', '.', 'these', 'model', 'focus', 'on', 'quite', 'simple', 'interbank', 'interaction', 'that', 'neglect', 'default', 'and', 'contagion', '[', '@card@', ']', '.', 'the', 'late', 'model', 'involve', 'credit', 'risk', 'to', 'explain', 'default', 'contagion', '[', '@card@', ']', '.', '', '']]\n",
            "100\n",
            "187\n",
            " \n",
            "[['', '@card@', '.', 'econometric', 'method', ':', ':', ':', '3', '.', 'review', 'of', 'the', 'Main', 'Research', 'method', 'of', 'systemic', 'risk', '', 'since', ',', 'in', 'most', 'economy', ',', 'the', 'interaction', 'datum', 'of', 'financial', 'institution', 'in', 'the', 'system', 'be', 'difficult', 'to', 'derive', ',', 'it', 'be', 'also', 'impossible', 'to', 'acquire', 'the', 'specific', 'counterparty-trading', 'information', 'from', 'a', 'bank', \"'s\", 'balance', 'sheet', '.', 'thus', ',', 'alternative', 'be', 'adopt', 'to', 'settle', 'this', 'problem', ',', 'one', 'of', 'which', 'be', 'the', 'maximum', 'entropy', 'approach', '.', 'the', 'DebtRank', 'approach', 'be', 'another', 'measure', 'to', 'estimate', 'the', 'distress', 'contagion', 'without', 'observe', 'fail', 'institution', '[', '@card@', ']', '.', 'the', 'main', 'method', 'use', 'be', 'the', 'copula', 'model', 'to', 'simulate', 'the', 'joint', 'distribution', 'of', 'risk', 'factor', ',', 'and', 'the', 'introduction', 'of', 'option', 'pricing', 'model', 'and', 'multivariate', 'extreme', 'value', 'theory', ',', 'or', 'principal', 'factor', 'analysis', 'to', 'extract', 'key', 'factor', 'use', 'the', 'DCC-GARCH', 'model', 'to', 'model', 'the', 'correlation', 'between', 'multiple', 'asset', '[', '@card@', ']', ',', 'and', 'to', 'establish', 'multivariate', 'quantitative', 'indicator', '.', 'furthermore', ',', 'to', 'verify', 'the', 'economic', 'structure', 'variation', 'as', 'systemic', 'risk', 'take', 'place', ',', 'var', 'be', 'usually', 'adopt', '[', '@card@', ']', 'tc', '.', '', '']]\n",
            "180\n",
            " \n",
            "[['', '@card@', '.', 'Agent-Based', 'model', ':', ':', ':', '3', '.', 'review', 'of', 'the', 'Main', 'Research', 'method', 'of', 'systemic', 'risk', '', '[', '@card@', ']', 'propose', 'the', 'introduction', 'of', 'an', 'agent-based', 'model', '(', 'ABM', ')', 'to', 'solve', 'individual', 'heterogeneity', 'problem', ',', 'and', 'Monte', 'Carlo', 'simulation', 'can', 'be', 'use', 'to', 'predict', 'the', 'impact', 'of', 'micro-subject', 'heterogeneity', 'on', 'macroeconomic', 'variable', '.', 'compare', 'with', 'the', 'game', 'model', ',', 'ABM', 'be', 'more', 'compatible', 'with', 'more', 'difference', 'and', 'can', 'link', 'the', 'internal', 'economic', 'evolution', 'logic', 'with', 'external', 'datum', 'consistency', '.', 'the', 'key', 'contribution', 'by', '[', '@card@', ']', 'be', 'to', 'incorporate', 'the', 'leverage', 'accelerator', 'into', 'agent-based', 'simulated', 'network', 'model', '.', 'the', 'limitation', 'of', 'such', 'model', 'be', 'that', 'it', 'be', 'difficult', 'to', 'calibrate', 'and', 'test', 'their', 'result', '.', '', '']]\n",
            "121\n",
            " \n",
            "[['', '@card@', '.', 'conclusion', ':', ':', ':', '3', '.', 'review', 'of', 'the', 'Main', 'Research', 'method', 'of', 'systemic', 'risk', '', 'in', 'addition', 'to', 'financial', 'heterogeneity', 'issue', ',', 'systemic', 'risk', 'draw', 'more', 'attention', 'to', 'the', 'stability', 'of', 'the', 'system', 'itself', ',', 'and', 'complex', 'network', 'model', 'be', 'borrow', 'to', 'solve', 'such', 'problem', '.', 'because', 'of', 'its', 'similar', 'structure', 'to', 'infectious', 'disease', 'and', 'bio-food', 'chain', ',', 'the', 'financial', 'system', 'network', 'link', 'various', 'financial', 'institution', 'through', 'financial', 'flow', ',', 'and', 'trigger', 'a', 'domino', 'effect', 'due', 'to', 'risk', 'event', 'in', 'individual', 'institution', '[', '@card@', ']', '.', 'however', ',', 'the', 'financial', 'network', 'system', 'be', 'more', 'complicate', 'than'], ['the', 'natural', 'food', 'web', 'or', 'infectious', 'disease', 'transmission', '.', 'this', 'be', 'because', 'the', 'activity', 'of', 'participate', 'individual', 'be', 'interactive', ',', 'the', 'interaction', 'be', 'not', 'always', 'symmetrical', ',', 'the', 'behavioral', 'choice', 'of', 'the', 'entity', 'change', 'with', 'expectation', 'or', 'event', 'shock', ',', 'and', 'the', 'result', 'of', 'behavior', 'be', 'also', 'characterize', 'by', 'uncertainty', '.', 'this', 'make', 'the', 'financial', 'system', \"'s\", 'structural', 'stability', 'research', 'more', 'complicated', 'and', 'have', 'to', 'restrict', 'the', 'behavioral', 'characteristic', 'of', 'the', 'system', 'to', 'individual', 'through', 'many', 'strict', 'precondition', '[', '@card@', ']', '.', 'the', 'method', 'for', 'identify', 'and', 'quantify', 'systemic', 'risk', 'have', 'be', 'discuss', 'previously', '.', 'therefore', ',', 'in', 'general', ',', 'the', 'system', 'of', 'research', 'method', 'for', 'systemic', 'risk', 'be', 'as', 'in', 'Figure', '@card@', '.', '', '']]\n",
            "100\n",
            "116\n",
            " \n",
            "[['', '4', '.', 'future', 'expansion', '', 'systemic', 'risk', 'be', 'understand', 'from', 'the', 'perspective', 'of', 'classical', 'economics', 'as', 'the', 'transformation', 'between', 'multiple', 'economic', 'equilibrium', '.', 'from', 'the', 'perspective', 'of', 'risk', 'management', ',', 'it', 'be', 'tail', 'risk', 'management', '.', 'from', 'the', 'perspective', 'of', 'behavioral', 'finance', ',', 'it', 'be', 'because', 'the', 'micro-subjects', \"'\", 'psychological', 'and', 'behavioral', 'characteristic', 'form', 'a', 'self-reinforce', 'feedback', 'mechanism', ',', 'which', 'belong', 'to', 'the', 'systemic', 'overall', 'collapse', 'risk', 'from', 'the', 'perspective', 'of', 'complex', 'network', 'theory', '.', 'from', 'a', 'broad', 'perspective', ',', 'it', 'also', 'cover', 'the', 'field', 'of', 'sociology', ',', 'psychology', ',', 'and', 'political', 'science', '.', 'there', 'be', 'a', 'thousand', 'Hamlets'], ['in', 'the', 'eye', 'of', 'a', 'thousand', 'people', '.', 'different', 'start', 'point', 'focus', 'on', 'different', 'problem', ',', 'and', 'the', 'method', 'use', 'be', 'different', '.', 'it', 'be', 'also', 'the', 'complexity', 'and', 'change', 'of', 'systemic', 'risk', 'that', 'attract', 'researcher', 'to', 'constantly', 'try', 'to', 'innovate', '.', 'the', 'systemic', 'risk', 'research', 'branch', 'be', 'extensively', 'involve', ',', 'both', 'in', 'connection', 'with', 'traditional', 'financial', 'crisis', 'research', 'and', 'expand', 'research', 'on', 'system', 'structure', 'and', 'risk', 'warning', '.', 'financial', 'systemic', 'risk', 'research', 'can', 'be', 'say', 'to', 'be', 'the', 'most', 'intersect', 'field', 'between', 'finance', 'and', 'even', 'economics', 'and', 'other', 'discipline', '.', 'the', 'main', 'research', 'method', 'use', 'be', 'both', 'tool', 'of'], ['traditional', 'economic', 'theory', ',', 'as', 'well', 'as', 'social', 'network', 'model', 'and', 'natural', 'science', 'experimental', 'simulation', '.', 'for', 'the', 'generation', 'of', 'systemic', 'risk', ',', 'the', 'endogenous', 'problem', 'of', 'shock', 'be', 'difficult', 'to', 'solve', 'use', 'traditional', 'economic', 'model', '.', 'therefore', ',', 'DNK', \"'s\", 'DSGE', 'model', 'often', 'assume', 'that', 'shock', 'be', 'exogenous', ';', 'to', 'predict', 'systemic', 'risk', ',', 'it', 'be', 'urgent', 'to', 'introduce', 'interdisciplinary', 'approach', 'to', 'innovate', 'research', 'on', 'endogenous', 'factor', '.', 'on', 'the', 'other', 'hand', ',', 'the', 'adoption', 'of', 'complex', 'network', 'model', 'often', 'require', 'many', 'rigorous', 'assumption', 'that', 'be', 'outside', 'of', 'reality', ',', 'and', 'these', 'assumption', 'may', 'exclude', 'the', 'potential', 'risk', 'factor'], ['of', 'reality', '.', 'after', 'all', ',', 'the', 'financial', 'system', 'itself', 'be', 'much', 'more', 'complicated', 'than', 'the', 'food', 'chain', ',', 'while', 'other', 'new', 'interdisciplinary', 'research', 'method', 'also', 'have', 'insufficient', 'internal', 'economic', 'explanatory', 'power', '.', 'it', 'be', ',', 'therefore', ',', 'necessary', 'to', 'use', 'appropriate', 'analytical', 'tool', 'base', 'on', 'specific', 'issue', 'of', 'the', 'specific', 'financial', 'sector', '.', 'to', 'well', 'sort', 'out', 'the', 'hotspot', ',', 'the', 'late', '@card@', 'year', \"'\", '(', '2015–2020', ')', 'systemic', 'risk', 'research', 'be', 'analyze', 'and', 'be', 'connect', 'with', 'the', 'development', 'of', 'crisis', 'research', ',', '@card@', 'article', 'in', 'total', '.', 'it', 'turn', 'out', 'that', 'two', 'division', 'be', 'mainly', 'focus', 'on', '('], ['Figure', '@card@', ')', '.', 'a', 'total', 'of', '@card@', 'article', 'be', 'screen', 'and', 'analyze', 'accord', 'to', 'their', 'title', ',', 'keyword', ',', 'abstract', 'and', 'reference', '.', 'among', 'the', '@card@', 'subdivision', ',', 'more', 'co-citation', 'cluster', 'be', 'form', 'in', 'systemic', 'risk', 'measurement', ',', 'financial', 'market', 'structure', ',', 'and', 'financial', 'stability', '.', 'this', 'map', 'reveal', 'that', 'more', 'recent', 'study', 'focus', 'on', 'network', 'stabilization', 'and', 'systemic', 'risk', 'measurement', '.', 'although', 'the', 'extreme', 'value', 'approach', 'be', 'bring', 'into', 'this', 'area', ',', 'it', 'catch', 'only', 'a', 'small', 'amount', 'of', 'attention', '.', 'furthermore', ',', 'the', 'high', 'concentration', 'on', 'risk', 'measurement', 'may', 'imply', 'that', 'the', 'measure', 'method', 'gradually', 'mature', ','], ['which', 'leave', 'limited', 'room', 'for', 'subsequent', 'researcher', '.', 'consider', 'the', 'ongoing', 'worldwide', 'recession', ',', 'the', 'research', 'direction', 'that', 'may', 'be', 'further', 'expand', 'in', 'the', 'future', 'be', 'as', 'follow', ':', '(1)More', 'work', 'on', 'model', 'with', 'multiple', 'shock', 'and', 'spillover', 'effect', 'be', 'do', '.', 'no', 'matter', 'endogenous', 'or', 'exogenous', 'shock', ',', 'the', 'contagion', 'rotation', 'shall', 'not', 'be', 'limit', 'to', 'a', 'specific', 'market', 'or', 'intermediary', '.', 'more', 'than', 'one', 'spillover', 'risk', 'be', 'discuss', 'within', 'a', 'model', '.', 'moreover', ',', 'at', 'present', ',', 'there', 'be', 'many', 'type', 'of', 'research', 'on', 'systemic', 'risk', 'in', 'the', 'banking', 'system', ',', 'the', 'real', 'estate', 'market', 'and', 'the', 'foreign'], ['exchange', 'market', '.', 'there', 'be', 'few', 'study', 'on', 'the', 'systemic', 'risk', 'of', 'the', 'shadow', 'banking', '[', '@card@', ']', 'and', 'internet', 'financial', 'market', ',', 'which', 'may', 'be', 'relate', 'to', 'the', 'lack', 'of', 'available', 'datum', 'and', 'difficulty', 'in', 'provide', 'support', 'empirical', 'studies.(2)Dynamic', 'multi-layer', 'network', 'expect', 'further', 'exploration', ',', 'especially', 'when', 'the', 'price', 'of', 'asset', 'have', 'a', 'connection', 'with', 'the', 'financial', 'contagions.(3)More', 'empirical', 'study', 'of', 'the', 'impact', 'of', 'systemic', 'risk', 'on', 'the', 'real', 'economy', 'be', 'necessary', '.', 'it', 'be', 'expect', 'that', 'recent', 'advance', 'in', 'large-scale', 'datum', 'and', 'computing', 'tool', 'benefit', 'systemic', 'risk', 'study', ',', 'acquire', 'more', 'real-world', 'and', 'large-scale', 'datum', 'for', 'empirical', 'analysis'], ['[', '181].(4)Event', 'study', 'shall', 'be', 'focus', 'on', 'the', 'modification', 'of', 'market', 'structure', ',', 'which', 'be', 'be', 'affect', 'by', 'new', 'technology', 'or', 'policy', 'that', 'help', 'promote', 'information', 'disclosure', ',', 'for', 'example', ',', 'the', 'alternative', 'index', '(', 'like', 'SOFR', ')', 'in', 'place', 'of', 'LIBOR', '.', 'moreover', ',', 'digital', 'currency', 'issue', 'by', 'central', 'bank', 'substitute', 'banknote', 'mean', 'that', 'the', 'monetary', 'multiplier', 'be', 'no', 'longer', 'applicable', ',', 'which', 'will', 'profoundly', 'alter', 'the', 'whole', 'financial', 'system', '.', 'therefore', ',', 'these', 'innovative', 'measure', 'should', 'also', 'be', 'pay', 'attention', 'to.(5)Systemic', 'risk', 'analysis', 'of', 'China', \"'s\", 'financial', 'market', '.', 'the', 'regulation', 'of', 'China', \"'s\", 'financial', 'market', 'be', 'just'], ['like', 'modular', 'management', ',', 'which', 'can', 'cut', 'off', 'the', 'transmission', 'of', 'systemic', 'risk', 'in', 'a', 'special', 'period', '.', 'couple', 'with', 'the', 'intervention', 'of', 'government', 'fund', ',', 'there', 'have', 'be', 'no', 'substantial', 'systemic', 'collapse', 'in', 'China', \"'s\", 'financial', 'market', '.', 'therefore', ',', 'it', 'be', 'necessary', 'to', 'study', 'the', 'systemic', 'risk', 'of', 'China', \"'s\", 'financial', 'market', ',', 'and', 'study', 'what', 'effective', 'measure', 'mitigate', 'systemic', 'risk', 'and', 'whether', 'the', 'trade-offs', 'between', 'the', 'cost', 'and', 'benefit', 'of', 'these', 'measure', 'be', 'optimal', '.', 'besides', ',', 'there', 'be', 'other', 'area', 'worth', 'explore', ',', 'such', 'as', 'more', 'comprehensive', 'risk', 'warning', 'indicator', ',', 'more', 'effective', 'econometric', 'mean', ',', 'and', 'crossover', 'with', 'other', 'field', 'of', 'economics', 'or', 'sociology', ',', 'psychology', ',', 'etc.', 'in', 'short', ',', 'this', 'be', 'an', 'active', 'research', 'field', 'and', 'have', 'a', 'strong', 'practical', 'significance', 'and', 'policy', 'reference', 'value', '.', 'the', 'research', 'of', 'systemic', 'risk', 'will', 'be', 'more', 'vibrant', 'because', 'of', 'the', 'participation', 'of', 'more', 'researcher', '.', '', '']]\n",
            "100\n",
            "100\n",
            "100\n",
            "100\n",
            "100\n",
            "100\n",
            "100\n",
            "100\n",
            "152\n",
            " \n",
            "norm=1\trule=15\tnonorm=0\n",
            "[['', '@card@', '.', 'problem', 'description', 'and', 'overview', ':', ':', ':', '1', '.', 'introduction', '', 'the', 'propose', 'ai', 'virtual', 'mouse', 'system', 'can', 'be', 'use', 'to', 'overcome', 'problem', 'in', 'the', 'real', 'world', 'such', 'as', 'situation', 'where', 'there', 'be', 'no', 'space', 'to', 'use', 'a', 'physical', 'mouse', 'and', 'also', 'for', 'the', 'person', 'who', 'have', 'problem', 'in', 'their', 'hand', 'and', 'be', 'not', 'able', 'to', 'control', 'a', 'physical', 'mouse', '.', 'also', ',', 'amidst', 'of', 'the', 'COVID-19', 'situation', ',', 'it', 'be', 'not', 'safe', 'to', 'use', 'the', 'device', 'by', 'touch', 'them', 'because', 'it', 'may', 'result', 'in', 'a', 'possible', 'situation', 'of', 'spread', 'of', 'the', 'virus', 'by', 'touch', 'the', 'device', ',', 'so', 'the', 'propose', 'ai', 'virtual', 'mouse', 'can', 'be', 'use', 'to', 'overcome', 'these', 'problem', 'since', 'hand', 'gesture', 'and', 'hand', 'Tip', 'detection', 'be', 'use', 'to', 'control', 'the', 'PC', 'mouse', 'function', 'by', 'use', 'a', 'webcam', 'or', 'a', 'built-in', 'camera', '.', '', '']]\n",
            "140\n",
            " \n",
            "[['', '@card@', '.', 'objective', ':', ':', ':', '1', '.', 'introduction', '', 'the', 'main', 'objective', 'of', 'the', 'propose', 'ai', 'virtual', 'mouse', 'system', 'be', 'to', 'develop', 'an', 'alternative', 'to', 'the', 'regular', 'and', 'traditional', 'mouse', 'system', 'to', 'perform', 'and', 'control', 'the', 'mouse', 'function', ',', 'and', 'this', 'can', 'be', 'achieve', 'with', 'the', 'help', 'of', 'a', 'web', 'camera', 'that', 'capture', 'the', 'hand', 'gesture', 'and', 'hand', 'tip', 'and', 'then', 'process', 'these', 'frame', 'to', 'perform', 'the', 'particular', 'mouse', 'function', 'such', 'as', 'left', 'click', ',', 'right', 'click', ',', 'and', 'scroll', 'function', '.', '', '']]\n",
            "86\n",
            " \n",
            "[['', '2', '.', 'related', 'work', '', 'there', 'be', 'some', 'related', 'work', 'carry', 'out', 'on', 'virtual', 'mouse', 'use', 'hand', 'gesture', 'detection', 'by', 'wear', 'a', 'glove', 'in', 'the', 'hand', 'and', 'also', 'use', 'color', 'tip', 'in', 'the', 'hand', 'for', 'gesture', 'recognition', ',', 'but', 'they', 'be', 'no', 'more', 'accurate', 'in', 'mouse', 'function', '.', 'the', 'recognition', 'be', 'not', 'so', 'accurate', 'because', 'of', 'wear', 'glove', ';', 'also', ',', 'the', 'glove', 'be', 'also', 'not', 'suit', 'for', 'some', 'user', ',', 'and', 'in', 'some', 'case', ',', 'the', 'recognition', 'be', 'not', 'so', 'accurate', 'because', 'of', 'the', 'failure', 'of', 'detection', 'of', 'color', 'tip', '.', 'some', 'effort', 'have', 'be', 'make', 'for', 'camera-based'], ['detection', 'of', 'the', 'hand', 'gesture', 'interface', '.', 'in', '@card@', ',', 'Quam', 'introduce', 'an', 'early', 'hardware-based', 'system', ';', 'in', 'this', 'system', ',', 'the', 'user', 'should', 'wear', 'a', 'DataGlove', '[', '@card@', ']', '.', 'the', 'propose', 'system', 'by', 'Quam', 'although', 'give', 'result', 'of', 'high', 'accuracy', ',', 'but', 'it', 'be', 'difficult', 'to', 'perform', 'some', 'of', 'the', 'gesture', 'control', 'use', 'the', 'system', '.', 'Dung-Hua', 'Liou', ',', 'ChenChiung', 'Hsieh', ',', 'and', 'David', 'Lee', 'in', '@card@', '[', '@card@', ']', 'propose', 'a', 'study', 'on', '\"', 'a', 'real-time', 'Hand', 'gesture', 'Recognition', 'System', 'use', 'Motion', 'history', 'image', '.', '\"', 'the', 'main', 'limitation', 'of', 'this', 'model', 'be', 'more', 'complicated', 'hand', 'gesture'], ['.', 'Monika', 'B.', 'Gandhi', ',', 'Sneha', 'U.', 'Dudhane', ',', 'and', 'Ashwini', 'M.', 'Patil', 'in', '@card@', '[', '@card@', ']', 'propose', 'a', 'study', 'on', '\"', 'cursor', 'Control', 'System', 'use', 'Hand', 'gesture', 'recognition', '.', '\"', 'in', 'this', 'work', ',', 'the', 'limitation', 'be', 'store', 'frame', 'be', 'need', 'to', 'be', 'process', 'for', 'hand', 'segmentation', 'and', 'skin', 'pixel', 'detection', '.', 'Vinay', 'Kr', '.', 'Pasi', ',', 'Saurabh', 'Singh', ',', 'and', 'Pooja', 'Kumari', 'in', '@card@', '[', '@card@', ']', 'propose', '\"', 'cursor', 'control', 'use', 'Hand', 'gesture', '\"', 'in', 'the', 'IJCA', 'Journal', '.', 'the', 'system', 'propose', 'the', 'different', 'band', 'to', 'perform', 'different', 'function', 'of', 'the', 'mouse', '.', 'the', 'limitation', 'be', 'it', 'depend', 'on', 'various', 'color', 'to', 'perform', 'mouse', 'function', '.', 'Chaithanya', 'C', ',', 'Lisho', 'Thomas', ',', 'Naveen', 'Wilson', ',', 'and', 'Abhilash', 'SS', 'in', '@card@', '[', '@card@', ']', 'propose', '\"', 'virtual', 'Mouse', 'use', 'Hand', 'gesture', '\"', 'where', 'the', 'model', 'detection', 'be', 'base', 'on', 'color', '.', 'but', ',', 'only', 'few', 'mouse', 'function', 'be', 'perform', '.', '', '']]\n",
            "100\n",
            "100\n",
            "155\n",
            " \n",
            "[['', '@card@', '.', 'MediaPipe', ':', ':', ':', '3', '.', 'algorithm', 'use', 'for', 'Hand', 'tracking', '', 'MediaPipe', 'be', 'a', 'framework', 'which', 'be', 'use', 'for', 'apply', 'in', 'a', 'machine', 'learn', 'pipeline', ',', 'and', 'it', 'be', 'an', 'opensource', 'framework', 'of', 'Google', '.', 'the', 'MediaPipe', 'framework', 'be', 'useful', 'for', 'cross', 'platform', 'development', 'since', 'the', 'framework', 'be', 'build', 'use', 'the', 'time', 'series', 'datum', '.', 'the', 'MediaPipe', 'framework', 'be', 'multimodal', ',', 'where', 'this', 'framework', 'can', 'be', 'apply', 'to', 'various', 'audio', 'and', 'video', '[', '@card@', ']', '.', 'the', 'MediaPipe', 'framework', 'be', 'use', 'by', 'the', 'developer', 'for', 'build', 'and', 'analyze', 'the', 'system', 'through', 'graph', ',', 'and', 'it', 'also'], ['be', 'use', 'for', 'develop', 'the', 'system', 'for', 'the', 'application', 'purpose', '.', 'the', 'step', 'involve', 'in', 'the', 'system', 'that', 'use', 'MediaPipe', 'be', 'carry', 'out', 'in', 'the', 'pipeline', 'configuration', '.', 'the', 'pipeline', 'create', 'can', 'run', 'in', 'various', 'platform', 'allow', 'scalability', 'in', 'mobile', 'and', 'desktop', '.', 'the', 'MediaPipe', 'framework', 'be', 'base', 'on', 'three', 'fundamental', 'part', ';', 'they', 'be', 'performance', 'evaluation', ',', 'framework', 'for', 'retrieve', 'sensor', 'datum', ',', 'and', 'a', 'collection', 'of', 'component', 'which', 'be', 'call', 'calculator', '[', '@card@', ']', ',', 'and', 'they', 'be', 'reusable', '.', 'a', 'pipeline', 'be', 'a', 'graph', 'which', 'consist', 'of', 'component', 'call', 'calculator', ',', 'where', 'each', 'calculator', 'be', 'connect', 'by'], ['stream', 'in', 'which', 'the', 'packet', 'of', 'datum', 'flow', 'through', '.', 'developer', 'be', 'able', 'to', 'replace', 'or', 'define', 'custom', 'calculator', 'anywhere', 'in', 'the', 'graph', 'create', 'their', 'own', 'application', '.', 'the', 'calculator', 'and', 'stream', 'combine', 'create', 'a', 'data-flow', 'diagram', ';', 'the', 'graph', '(', 'Figure', '@card@', ')', 'be', 'create', 'with', 'MediaPipe', 'where', 'each', 'node', 'be', 'a', 'calculator', 'and', 'the', 'node', 'be', 'connect', 'by', 'stream', '[', '@card@', ']', '.', 'Single-shot', 'detector', 'model', 'be', 'use', 'for', 'detect', 'and', 'recognize', 'a', 'hand', 'or', 'palm', 'in', 'real', 'time', '.', 'the', 'single-shot', 'detector', 'model', 'be', 'use', 'by', 'the', 'MediaPipe', '.', 'first', ',', 'in', 'the', 'hand', 'detection', 'module', ',', 'it', 'be', 'first', 'train', 'for', 'a', 'palm', 'detection', 'model', 'because', 'it', 'be', 'easy', 'to', 'train', 'palm', '.', 'furthermore', ',', 'the', 'nonmaximum', 'suppression', 'work', 'significantly', 'good', 'on', 'small', 'object', 'such', 'as', 'palm', 'or', 'fist', '[', '@card@', ']', '.', 'a', 'model', 'of', 'hand', 'landmark', 'consist', 'of', 'locate', '@card@', 'joint', 'or', 'knuckle', 'co-ordinate', 'in', 'the', 'hand', 'region', ',', 'as', 'show', 'in', 'Figure', '@card@', '.', '', '']]\n",
            "100\n",
            "100\n",
            "163\n",
            " \n",
            "[['', '@card@', '.', 'OpenCV', ':', ':', ':', '3', '.', 'algorithm', 'use', 'for', 'Hand', 'tracking', '', 'OpenCV', 'be', 'a', 'computer', 'vision', 'library', 'which', 'contain', 'image-processing', 'algorithm', 'for', 'object', 'detection', '[', '@card@', ']', '.', 'OpenCV', 'be', 'a', 'library', 'of', 'python', 'programming', 'language', ',', 'and', 'real-time', 'computer', 'vision', 'application', 'can', 'be', 'develop', 'by', 'use', 'the', 'computer', 'vision', 'library', '.', 'the', 'OpenCV', 'library', 'be', 'use', 'in', 'image', 'and', 'video', 'processing', 'and', 'also', 'analysis', 'such', 'as', 'face', 'detection', 'and', 'object', 'detection', '[', '@card@', ']', '.', '', '']]\n",
            "82\n",
            " \n",
            "[['', '@card@', '.', 'the', 'camera', 'use', 'in', 'the', 'ai', 'virtual', 'Mouse', 'System', ':', ':', ':', '4', '.', 'methodology', '', 'the', 'propose', 'ai', 'virtual', 'mouse', 'system', 'be', 'base', 'on', 'the', 'frame', 'that', 'have', 'be', 'capture', 'by', 'the', 'webcam', 'in', 'a', 'laptop', 'or', 'PC', '.', 'by', 'use', 'the', 'python', 'computer', 'vision', 'library', 'OpenCV', ',', 'the', 'video', 'capture', 'object', 'be', 'create', 'and', 'the', 'web', 'camera', 'will', 'start', 'capture', 'video', ',', 'as', 'show', 'in', 'Figure', '@card@', '.', 'the', 'web', 'camera', 'capture', 'and', 'pass', 'the', 'frame', 'to', 'the', 'ai', 'virtual', 'system', '.', '', '']]\n",
            "89\n",
            " \n",
            "[['', '@card@', '.', 'capture', 'the', 'Video', 'and', 'process', ':', ':', ':', '4', '.', 'methodology', '', 'the', 'ai', 'virtual', 'mouse', 'system', 'use', 'the', 'webcam', 'where', 'each', 'frame', 'be', 'capture', 'till', 'the', 'termination', 'of', 'the', 'program', '.', 'the', 'video', 'frame', 'be', 'process', 'from', 'BGR', 'to', 'RGB', 'color', 'space', 'to', 'find', 'the', 'hand', 'in', 'the', 'video', 'frame', 'by', 'frame', 'as', 'show', 'in', 'the', 'follow', 'code', ':', 'def', 'findHands(self', ',', 'img', ',', 'draw', '=', 'true', ')', ':', 'imgRGB', '=', 'cv2.cvtColor(img', ',', 'cv2.COLOR_BGR2RGB', ')', 'self.result', '=', 'self.hands.process(imgRGB)', '', '']]\n",
            "84\n",
            " \n",
            "[['', '@card@', '.', '(', 'virtual', 'Screen', 'matching', ')', 'rectangular', 'region', 'for', 'move', 'through', 'the', 'window', ':', ':', ':', '4', '.', 'methodology', '', 'the', 'ai', 'virtual', 'mouse', 'system', 'make', 'use', 'of', 'the', 'transformational', 'algorithm', ',', 'and', 'it', 'convert', 'the', 'co-ordinate', 'of', 'fingertip', 'from', 'the', 'webcam', 'screen', 'to', 'the', 'computer', 'window', 'full', 'screen', 'for', 'control', 'the', 'mouse', '.', 'when', 'the', 'hand', 'be', 'detect', 'and', 'when', 'we', 'find', 'which', 'finger', 'be', 'up', 'for', 'perform', 'the', 'specific', 'mouse', 'function', ',', 'a', 'rectangular', 'box', 'be', 'draw', 'with', 'respect', 'to', 'the', 'computer', 'window', 'in', 'the', 'webcam', 'region', 'where', 'we', 'move', 'throughout', 'the', 'window', 'use', 'the', 'mouse', 'cursor', ',', 'as', 'show', 'in', 'Figure', '@card@', '.', '', '']]\n",
            "110\n",
            " \n",
            "[['', '@card@', '.', 'detect', 'which', 'Finger', 'be', 'up', 'and', 'perform', 'the', 'particular', 'Mouse', 'function', ':', ':', ':', '4', '.', 'methodology', '', 'in', 'this', 'stage', ',', 'we', 'be', 'detect', 'which', 'finger', 'be', 'up', 'use', 'the', 'tip', 'Id', 'of', 'the', 'respective', 'finger', 'that', 'we', 'find', 'use', 'the', 'MediaPipe', 'and', 'the', 'respective', 'co-ordinate', 'of', 'the', 'finger', 'that', 'be', 'up', ',', 'as', 'show', 'in', 'Figure', '@card@', ',', 'and', 'accord', 'to', 'that', ',', 'the', 'particular', 'mouse', 'function', 'be', 'perform', '.', '', '']]\n",
            "77\n",
            " \n",
            "[['', '@card@', '.', 'for', 'the', 'Mouse', 'cursor', 'move', 'around', 'the', 'Computer', 'window', ':', ':', ':', '@card@', '.', 'mouse', 'function', 'depend', 'on', 'the', 'Hand', 'gesture', 'and', 'Hand', 'Tip', 'detection', 'use', 'Computer', 'Vision', ':', ':', ':', '4', '.', 'methodology', '', 'if', 'the', 'index', 'finger', 'be', 'up', 'with', 'tip', 'Id', '=', '@card@', 'or', 'both', 'the', 'index', 'finger', 'with', 'tip', 'Id', '=', '@card@', 'and', 'the', 'middle', 'finger', 'with', 'tip', 'Id', '=', '@card@', 'be', 'up', ',', 'the', 'mouse', 'cursor', 'be', 'make', 'to', 'move', 'around', 'the', 'window', 'of', 'the', 'computer', 'use', 'the', 'AutoPy', 'package', 'of', 'python', ',', 'as', 'show', 'in', 'Figure', '@card@', '.', '', '']]\n",
            "99\n",
            " \n",
            "[['', '@card@', '.', 'for', 'the', 'Mouse', 'to', 'perform', 'Left', 'Button', 'Click', ':', ':', ':', '@card@', '.', 'mouse', 'function', 'depend', 'on', 'the', 'Hand', 'gesture', 'and', 'Hand', 'Tip', 'detection', 'use', 'Computer', 'Vision', ':', ':', ':', '4', '.', 'methodology', '', 'if', 'both', 'the', 'index', 'finger', 'with', 'tip', 'Id', '=', '@card@', 'and', 'the', 'thumb', 'finger', 'with', 'tip', 'Id', '=', '@card@', 'be', 'up', 'and', 'the', 'distance', 'between', 'the', 'two', 'finger', 'be', 'lesser', 'than', '30px', ',', 'the', 'computer', 'be', 'make', 'to', 'perform', 'the', 'left', 'mouse', 'button', 'click', 'use', 'the', 'pynput', 'python', 'package', ',', 'as', 'show', 'in', 'Figures', '@card@', 'and', '@card@', '.', '', '']]\n",
            "97\n",
            " \n",
            "[['', '@card@', '.', 'for', 'the', 'Mouse', 'to', 'perform', 'Right', 'Button', 'Click', ':', ':', ':', '@card@', '.', 'mouse', 'function', 'depend', 'on', 'the', 'Hand', 'gesture', 'and', 'Hand', 'Tip', 'detection', 'use', 'Computer', 'Vision', ':', ':', ':', '4', '.', 'methodology', '', 'if', 'both', 'the', 'index', 'finger', 'with', 'tip', 'Id', '=', '@card@', 'and', 'the', 'middle', 'finger', 'with', 'tip', 'Id', '=', '@card@', 'be', 'up', 'and', 'the', 'distance', 'between', 'the', 'two', 'finger', 'be', 'lesser', 'than', '@card@', 'px', ',', 'the', 'computer', 'be', 'make', 'to', 'perform', 'the', 'right', 'mouse', 'button', 'click', 'use', 'the', 'pynput', 'python', 'package', ',', 'as', 'show', 'in', 'Figure', '@card@', '.', '', '']]\n",
            "96\n",
            " \n",
            "[['', '@card@', '.', 'for', 'the', 'Mouse', 'to', 'perform', 'scroll', 'up', 'function', ':', ':', ':', '@card@', '.', 'mouse', 'function', 'depend', 'on', 'the', 'Hand', 'gesture', 'and', 'Hand', 'Tip', 'detection', 'use', 'Computer', 'Vision', ':', ':', ':', '4', '.', 'methodology', '', 'if', 'both', 'the', 'index', 'finger', 'with', 'tip', 'Id', '=', '@card@', 'and', 'the', 'middle', 'finger', 'with', 'tip', 'Id', '=', '@card@', 'be', 'up', 'and', 'the', 'distance', 'between', 'the', 'two', 'finger', 'be', 'great', 'than', '@card@', 'px', 'and', 'if', 'the', 'two', 'finger', 'be', 'move', 'up', 'the', 'page', ',', 'the', 'computer', 'be', 'make', 'to', 'perform', 'the', 'scroll', 'up', 'mouse', 'function', 'use', 'the', 'PyAutoGUI', 'python', 'package', ',', 'as', 'show', 'in', 'Figure', '@card@', '.', '', '']]\n",
            "106\n",
            " \n",
            "[['', '@card@', '.', 'for', 'the', 'Mouse', 'to', 'perform', 'scroll', 'down', 'function', ':', ':', ':', '@card@', '.', 'mouse', 'function', 'depend', 'on', 'the', 'Hand', 'gesture', 'and', 'Hand', 'Tip', 'detection', 'use', 'Computer', 'Vision', ':', ':', ':', '4', '.', 'methodology', '', 'if', 'both', 'the', 'index', 'finger', 'with', 'tip', 'Id', '=', '@card@', 'and', 'the', 'middle', 'finger', 'with', 'tip', 'Id', '=', '@card@', 'be', 'up', 'and', 'the', 'distance', 'between', 'the', 'two', 'finger', 'be', 'great', 'than', '40px', 'and', 'if', 'the', 'two', 'finger', 'be', 'move', 'down', 'the', 'page', ',', 'the', 'computer', 'be', 'make', 'to', 'perform', 'the', 'scroll', 'down', 'mouse', 'function', 'use', 'the', 'PyAutoGUI', 'python', 'package', ',', 'as', 'show', 'in', 'Figure', '@card@', '.', '', '']]\n",
            "105\n",
            " \n",
            "[['', '@card@', '.', 'for', 'no', 'Action', 'to', 'be', 'perform', 'on', 'the', 'Screen', ':', ':', ':', '@card@', '.', 'mouse', 'function', 'depend', 'on', 'the', 'Hand', 'gesture', 'and', 'Hand', 'Tip', 'detection', 'use', 'Computer', 'Vision', ':', ':', ':', '4', '.', 'methodology', '', 'if', 'all', 'the', 'finger', 'be', 'up', 'with', 'tip', 'Id', '=', '@card@', ',', '@card@', ',', '@card@', ',', '@card@', ',', 'and', '@card@', ',', 'the', 'computer', 'be', 'make', 'to', 'not', 'perform', 'any', 'mouse', 'event', 'in', 'the', 'screen', ',', 'as', 'show', 'in', 'Figure', '@card@', '.', '', '']]\n",
            "81\n",
            " \n",
            "[['', '@card@', '.', 'experimental', 'result', 'and', 'evaluation', '', 'in', 'the', 'propose', 'ai', 'virtual', 'mouse', 'system', ',', 'the', 'concept', 'of', 'advance', 'the', 'human-computer', 'interaction', 'use', 'computer', 'vision', 'be', 'give', '.', 'Cross', 'comparison', 'of', 'the', 'testing', 'of', 'the', 'ai', 'virtual', 'mouse', 'system', 'be', 'difficult', 'because', 'only', 'limited', 'number', 'of', 'datasets', 'be', 'available', '.', 'the', 'hand', 'gesture', 'and', 'finger', 'tip', 'detection', 'have', 'be', 'test', 'in', 'various', 'illumination', 'condition', 'and', 'also', 'be', 'test', 'with', 'different', 'distance', 'from', 'the', 'webcam', 'for', 'track', 'of', 'the', 'hand', 'gesture', 'and', 'hand', 'tip', 'detection', '.', 'an', 'experimental', 'test', 'have', 'be', 'conduct', 'to', 'summarize', 'the', 'result', 'show', 'in', 'Table', '@card@'], ['.', 'the', 'test', 'be', 'perform', '@card@', 'time', 'by', '@card@', 'person', 'result', 'in', '@card@', 'gesture', 'with', 'manual', 'label', ',', 'and', 'this', 'test', 'have', 'be', 'make', 'in', 'different', 'light', 'condition', 'and', 'at', 'different', 'distance', 'from', 'the', 'screen', ',', 'and', 'each', 'person', 'test', 'the', 'ai', 'virtual', 'mouse', 'system', '@card@', 'time', 'in', 'normal', 'light', 'condition', ',', '@card@', 'time', 'in', 'faint', 'light', 'condition', ',', '@card@', 'time', 'in', 'close', 'distance', 'from', 'the', 'webcam', ',', 'and', '@card@', 'time', 'in', 'long', 'distance', 'from', 'the', 'webcam', ',', 'and', 'the', 'experimental', 'result', 'be', 'tabulate', 'in', 'Table', '@card@', '.', 'from', 'Table', '@card@', ',', 'it', 'can', 'be', 'see', 'that', 'the', 'propose', 'ai'], ['virtual', 'mouse', 'system', 'have', 'achieve', 'an', 'accuracy', 'of', 'about', '@card@', '%', '.', 'from', 'this', '@card@', '%', 'accuracy', 'of', 'the', 'propose', 'ai', 'virtual', 'mouse', 'system', ',', 'we', 'come', 'to', 'know', 'that', 'the', 'system', 'have', 'perform', 'well', '.', 'as', 'see', 'in', 'Table', '@card@', ',', 'the', 'accuracy', 'be', 'low', 'for', '\"', 'Right', 'Click', '\"', 'as', 'this', 'be', 'the', 'hard', 'gesture', 'for', 'the', 'computer', 'to', 'understand', '.', 'the', 'accuracy', 'for', 'right', 'click', 'be', 'low', 'because', 'the', 'gesture', 'use', 'for', 'perform', 'the', 'particular', 'mouse', 'function', 'be', 'hard', '.', 'also', ',', 'the', 'accuracy', 'be', 'very', 'good', 'and', 'high', 'for', 'all', 'the', 'other', 'gesture', '.', 'compare', 'to'], ['previous', 'approach', 'for', 'virtual', 'mouse', ',', 'our', 'model', 'work', 'very', 'well', 'with', '@card@', '%', 'accuracy', '.', 'the', 'graph', 'of', 'accuracy', 'be', 'show', 'in', 'Figure', '@card@', '.', 'table', '@card@', 'show', 'a', 'comparison', 'between', 'the', 'existing', 'model', 'and', 'the', 'propose', 'ai', 'virtual', 'mouse', 'model', 'in', 'term', 'of', 'accuracy', '.', 'from', 'Table', '@card@', ',', 'it', 'be', 'evident', 'that', 'the', 'propose', 'ai', 'virtual', 'mouse', 'have', 'perform', 'very', 'well', 'in', 'term', 'of', 'accuracy', 'when', 'compare', 'to', 'the', 'other', 'virtual', 'mouse', 'model', '.', 'the', 'novelty', 'of', 'the', 'propose', 'model', 'be', 'that', 'it', 'can', 'perform', 'most', 'of', 'the', 'mouse', 'function', 'such', 'as', 'left', 'click', ',', 'right', 'click', ',', 'scroll', 'up', ',', 'scroll', 'down', ',', 'and', 'mouse', 'cursor', 'movement', 'use', 'finger', 'tip', 'detection', ',', 'and', 'also', ',', 'the', 'model', 'be', 'helpful', 'in', 'control', 'the', 'PC', 'like', 'a', 'physical', 'mouse', 'but', 'in', 'the', 'virtual', 'mode', '.', 'figure', '@card@', 'show', 'a', 'graph', 'of', 'comparison', 'between', 'the', 'model', '.', '', '']]\n",
            "100\n",
            "100\n",
            "100\n",
            "150\n",
            " \n",
            "[['', '@card@', '.', 'future', 'scope', '', 'the', 'propose', 'ai', 'virtual', 'mouse', 'have', 'some', 'limitation', 'such', 'as', 'small', 'decrease', 'in', 'accuracy', 'of', 'the', 'right', 'click', 'mouse', 'function', 'and', 'also', 'the', 'model', 'have', 'some', 'difficulty', 'in', 'execute', 'click', 'and', 'drag', 'to', 'select', 'the', 'text', '.', 'these', 'be', 'some', 'of', 'the', 'limitation', 'of', 'the', 'propose', 'ai', 'virtual', 'mouse', 'system', ',', 'and', 'these', 'limitation', 'will', 'be', 'overcome', 'in', 'our', 'future', 'work', '.', 'furthermore', ',', 'the', 'propose', 'method', 'can', 'be', 'develop', 'to', 'handle', 'the', 'keyboard', 'functionality', 'along', 'with', 'the', 'mouse', 'functionality', 'virtually', 'which', 'be', 'another', 'future', 'scope', 'of', 'Human-Computer', 'Interaction', '(', 'HCI', ')', '.', '', '']]\n",
            "101\n",
            " \n",
            "[['', '@card@', '.', 'application', '', 'the', 'ai', 'virtual', 'mouse', 'system', 'be', 'useful', 'for', 'many', 'application', ';', 'it', 'can', 'be', 'use', 'to', 'reduce', 'the', 'space', 'for', 'use', 'the', 'physical', 'mouse', ',', 'and', 'it', 'can', 'be', 'use', 'in', 'situation', 'where', 'we', 'can', 'use', 'the', 'physical', 'mouse', '.', 'the', 'system', 'eliminate', 'the', 'usage', 'of', 'device', ',', 'and', 'it', 'improve', 'the', 'human-computer', 'interaction', '.', 'major', 'applications:The', 'propose', 'model', 'have', 'a', 'great', 'accuracy', 'of', '@card@', '%', 'which', 'be', 'far', 'great', 'than', 'the', 'that', 'of', 'other', 'propose', 'model', 'for', 'virtual', 'mouse', ',', 'and', 'it', 'have', 'many', 'applicationsAmidst', 'the', 'COVID-19', 'situation', ',', 'it', 'be', 'not', 'safe', 'to'], ['use', 'the', 'device', 'by', 'touch', 'them', 'because', 'it', 'may', 'result', 'in', 'a', 'possible', 'situation', 'of', 'spread', 'of', 'the', 'virus', 'by', 'touch', 'the', 'device', ',', 'so', 'the', 'propose', 'ai', 'virtual', 'mouse', 'can', 'be', 'use', 'to', 'control', 'the', 'PC', 'mouse', 'function', 'without', 'use', 'the', 'physical', 'mouseThe', 'system', 'can', 'be', 'use', 'to', 'control', 'robot', 'and', 'automation', 'system', 'without', 'the', 'usage', 'of', 'devices2D', 'and', '3D', 'image', 'can', 'be', 'draw', 'use', 'the', 'ai', 'virtual', 'system', 'use', 'the', 'hand', 'gesturesAI', 'virtual', 'mouse', 'can', 'be', 'use', 'to', 'play', 'virtual', 'reality-', 'and', 'augmented', 'reality-based', 'game', 'without', 'the', 'wireless', 'or', 'wire', 'mouse', 'devicesPersons', 'with', 'problem', 'in', 'their', 'hand', 'can', 'use', 'this', 'system', 'to', 'control', 'the', 'mouse', 'function', 'in', 'the', 'computerIn', 'the', 'field', 'of', 'robotic', ',', 'the', 'propose', 'system', 'like', 'HCI', 'can', 'be', 'use', 'for', 'control', 'robotsIn', 'design', 'and', 'architecture', ',', 'the', 'propose', 'system', 'can', 'be', 'use', 'for', 'design', 'virtually', 'for', 'prototyp', '', '']]\n",
            "100\n",
            "144\n",
            " \n",
            "[['', '@card@', '.', 'conclusion', '', 'the', 'main', 'objective', 'of', 'the', 'ai', 'virtual', 'mouse', 'system', 'be', 'to', 'control', 'the', 'mouse', 'cursor', 'function', 'by', 'use', 'the', 'hand', 'gesture', 'instead', 'of', 'use', 'a', 'physical', 'mouse', '.', 'the', 'propose', 'system', 'can', 'be', 'achieve', 'by', 'use', 'a', 'webcam', 'or', 'a', 'built-in', 'camera', 'which', 'detect', 'the', 'hand', 'gesture', 'and', 'hand', 'tip', 'and', 'process', 'these', 'frame', 'to', 'perform', 'the', 'particular', 'mouse', 'function', '.', 'from', 'the', 'result', 'of', 'the', 'model', ',', 'we', 'can', 'come', 'to', 'a', 'conclusion', 'that', 'the', 'propose', 'ai', 'virtual', 'mouse', 'system', 'have', 'perform', 'very', 'well', 'and', 'have', 'a', 'great', 'accuracy', 'compare', 'to', 'the', 'existing', 'model'], ['and', 'also', 'the', 'model', 'overcome', 'most', 'of', 'the', 'limitation', 'of', 'the', 'existing', 'system', '.', 'since', 'the', 'propose', 'model', 'have', 'great', 'accuracy', ',', 'the', 'ai', 'virtual', 'mouse', 'can', 'be', 'use', 'for', 'real-world', 'application', ',', 'and', 'also', ',', 'it', 'can', 'be', 'use', 'to', 'reduce', 'the', 'spread', 'of', 'COVID-19', ',', 'since', 'the', 'propose', 'mouse', 'system', 'can', 'be', 'use', 'virtually', 'use', 'hand', 'gesture', 'without', 'use', 'the', 'traditional', 'physical', 'mouse', '.', 'the', 'model', 'have', 'some', 'limitation', 'such', 'as', 'small', 'decrease', 'in', 'accuracy', 'in', 'right', 'click', 'mouse', 'function', 'and', 'some', 'difficulty', 'in', 'click', 'and', 'drag', 'to', 'select', 'the', 'text', '.', 'hence', ',', 'we', 'will', 'work', 'next', 'to', 'overcome', 'these', 'limitation', 'by', 'improve', 'the', 'finger', 'tip', 'detection', 'algorithm', 'to', 'produce', 'more', 'accurate', 'result', '.', '', '']]\n",
            "100\n",
            "119\n",
            " \n",
            "norm=2\trule=15\tnonorm=2\n",
            "[['', 'introduction', '', 'isolation', 'and', 'distancing', 'practice', 'be', 'fundamental', 'element', 'of', 'COVID-19', 'epidemic', 'control', '.', 'guideline', 'authore', 'by', 'the', 'US', 'CDC', 'as', 'of', 'November', '@card@', 'recommend', 'that', 'most', 'individual', 'with', 'severe', 'acute', 'respiratory', 'syndrome', 'coronavirus', '@card@', '(', 'SARS-CoV-2', ')', 'remain', 'isolate', 'for', '@card@', 'day', 'after', 'a', 'positive', 'test', '(', 'if', 'asymptomatic', ')', 'or', '@card@', 'day', 'from', 'onset', 'of', 'symptom', 'and', '@card@', 'day', 'after', 'resolution', 'of', 'symptom', '(', 'for', 'symptomatic', 'infection', ')', '(', '1', ')', '.', 'these', 'guideline', 'be', 'largely', 'develop', 'base', 'on', 'the', 'low', 'likelihood', 'of', 'recover', 'replication-competent', 'virus', 'after', '@card@', 'day', 'of', 'symptom', 'for', 'most', 'patient', '(', '2–5', ')', ',', 'prior', 'to', 'the', 'emergence', 'of', 'the', 'delta', 'variant', 'as', 'the', 'dominant', 'circulate', 'strain', 'globally', '(', '@card@', ')', '.', 'the', 'delta', 'variant', 'have', 'be', 'associate', 'with', 'a', 'high', 'basic', 'reproductive', 'number', '(', '@card@', ')', ',', 'high', 'viral', 'load', 'at', 'detection', 'of', 'infection', '(', '@card@', ')', ',', 'high', 'replication', 'efficiency', '(', '@card@', ')', ',', 'and', 'a', 'short', 'incubation', 'period', 'and', 'generation', 'time', '(', '@card@', ')', '.', 'however', ',', 'there', 'be', 'few', 'longitudinal', 'datum', 'on', 'delta', 'variant', 'infection', 'that', 'describe', 'the', 'duration', 'of', 'contagiousness', 'or', 'isolation', 'of', 'replication-competent', 'virus', ',', 'particularly', 'with', 'postvaccination', 'breakthrough', 'infection', '.', '', '']]\n",
            "196\n",
            " \n",
            "[['', 'result', '', 'Twenty-four', 'individual', 'with', 'PCR-confirmed', 'SARS-CoV-2', 'infection', 'after', 'vaccination', 'be', 'enroll', 'between', 'January', 'and', 'August', '@card@', '(', 'Table', '@card@', ')', '.', 'all', '@card@', 'infection', '(', '@card@', '%', 'of', 'the', 'total', 'sample', ')', 'after', 'June', '@card@', ',', '@card@', ',', 'be', 'confirm', 'by', 'sequence', 'as', 'delta', 'variant', 'infection', '.', 'the', '@card@', 'participant', 'enroll', 'prior', 'to', 'that', 'date', 'have', 'a', 'diversity', 'of', 'variant', ',', 'include', 'alpha', '(', 'n', '=', '@card@', ')', ',', 'gamma', '(', 'n', '=', '@card@', ')', ',', 'and', 'mu', '(', 'n', '=', '@card@', ')', '.', 'for', '@card@', 'participant', ',', 'the', 'specimen', 'contain', 'insufficient', 'virus', 'for', 'sequencing', '.', 'all', 'of'], ['these', 'be', 'collect', 'when', 'the', 'delta', 'variant', 'constitute', 'less', 'than', '@card@', '%', 'of', 'sequenced', 'virus', 'in', 'Massachusetts', 'and', 'be', 'presume', 'to', 'be', 'non-delta', 'variant', 'infection', '.', 'participant', 'with', 'delta', 'and', 'non-delta', 'infection', 'be', 'similar', 'in', 'term', 'of', 'age', ',', 'sex', ',', 'and', 'COVID-19', 'vaccine', 'manufacturer', '.', 'those', 'with', 'delta', 'variant', 'infection', 'have', 'a', 'long', 'duration', 'of', 'time', 'since', 'completion', 'of', 'vaccination', '(', 'median', '@card@', 'vs.', '@card@', 'day', ')', '.', 'two', 'individual', 'have', 'an', 'index', 'positive', 'PCR', 'result', 'between', '@card@', 'and', '@card@', 'week', 'after', 'their', 'first', 'vaccine', 'dose', 'but', 'have', 'not', 'complete', 'the', 'second', 'dose', '.', 'symptomatic', 'infection', 'be', 'somewhat', 'more'], ['likely', 'with', 'delta', 'infection', '(', '@card@', '%', ')', 'versus', 'non-delta', 'infection', '(', '@card@', '%', ',', 'P', '=', '@card@', ')', '.', 'similarly', ',', 'viral', 'load', 'from', 'the', 'first', 'study', 'specimen', 'be', 'high', 'with', 'delta', 'infection', '(', '@card@', 'log10', 'copies/mL', ')', 'compare', 'with', 'non-delta', 'infection', '(', '@card@', 'log10', 'copies/mL', ',', 'P', '=', '@card@', ')', '.', 'Delta', 'variant', 'postvaccine', 'breakthrough', 'infection', 'be', 'more', 'likely', 'to', 'grow', 'in', 'culture', 'than', 'alternate', 'variant', 'infection', '(', '@card@', 'of', '@card@', '[', '@card@', '%', ']', 'vs.', '@card@', 'of', '@card@', '[', '@card@', '%', ']', 'infection', ',', 'P', '=', '@card@', ')', '.', 'this', 'pattern', 'be', 'consistent', 'when', 'restrict', 'to', 'symptomatic'], ['infection', 'only', '(', '@card@', 'of', '@card@', '[', '@card@', '%', ']', 'vs.', '@card@', 'of', '@card@', '[', '@card@', '%', ']', 'infection', ',', 'P', '=', '@card@', ')', '.', 'individual', 'with', 'delta', 'variant', 'infection', 'have', 'slow', 'viral', 'load', 'decay', ',', 'as', 'assess', 'by', 'PCR', '(', 'median', 'time', ',', '@card@', 'vs.', '@card@', 'day', ';', 'HR', ',', '@card@', ';', '@card@', '%', 'CI', ',', '@card@', ',', '@card@', ';', 'Figure', '@card@', 'and', 'Figure', '2A', ')', '.', 'Delta', 'variant', 'infection', 'be', 'also', 'associate', 'with', 'low', 'hazard', 'of', 'conversion', 'to', 'negative', 'viral', 'culture', '(', 'HR', ',', '@card@', ';', '@card@', '%', ',', 'CI', '@card@', ',', '@card@', ')', ',', 'although', 'the', 'difference'], ['in', 'median', 'time', 'to', 'negative', 'viral', 'culture', 'be', 'less', 'pronounce', 'than', 'it', 'be', 'for', 'conversion', 'to', 'negative', 'PCR', '(', 'median', 'time', 'to', 'negative', 'viral', 'load', ',', '@card@', 'vs.', '@card@', 'day', ';', 'Figure', '2B', ')', '.', 'nine', 'of', '@card@', '(', '@card@', '%', ')', 'individual', 'with', 'delta', 'variant', 'postvaccine', 'breakthrough', 'infection', 'have', 'a', 'confirm', 'negative', 'viral', 'culture', 'within', '@card@', 'day', 'of', 'symptom', 'onset', '.', 'the', 'remain', 'participant', 'have', 'culturable', 'virus', 'at', 'day', '@card@', 'but', 'a', 'negative', 'culture', 'at', 'day', '@card@', '.', 'that', 'participant', 'remain', 'symptomatic', 'at', 'day', '@card@', '.', 'likewise', ',', 'we', 'find', 'evidence', 'that', 'time', 'to', 'negative', 'viral', 'load', 'by', 'PCR'], ['be', 'long', 'for', 'individual', 'infect', 'more', 'than', '@card@', 'month', 'after', 'completion', 'of', 'vaccination', 'compare', 'with', 'those', 'infected', 'within', '@card@', 'month', 'of', 'vaccination', '(', 'median', 'time', ',', '@card@', 'vs.', '@card@', 'day', ';', 'HR', ',', '@card@', ';', '@card@', '%', 'CI', ',', '@card@', ',', '@card@', ';', 'Figure', '2C', ')', ',', 'with', 'a', 'significant', ',', 'albeit', 'diminish', ',', 'difference', 'in', 'time', 'to', 'negative', 'viral', 'culture', '(', 'median', 'time', ',', '@card@', 'vs.', '@card@', 'day', ';', 'HR', ',', '@card@', ';', '@card@', '%', 'CI', ',', '@card@', ',', '@card@', ';', 'figure', '2D', ')', '.', 'when', 'consider', 'time', 'from', 'vaccination', 'as', 'a', 'continuous', 'measure', ',', 'each', 'additional', '@card@', 'day', 'since', 'completion', 'of', 'vaccination', 'be', 'associate', 'with', 'an', 'additional', '@card@', 'day', 'of', 'PCR', 'positivity', '(', '@card@', '%', 'CI', ',', '@card@', ',', '@card@', 'day', ')', 'and', 'an', 'additional', '@card@', 'day', 'of', 'viral', 'culture', 'positivity', '(', '@card@', '%', 'CI', ',', '-', '@card@', ',', '@card@', 'day', ';', 'Figure', '@card@', ')', '.', 'secondary', 'analysis', 'restrict', 'to', 'symptomatic', 'individual', 'generally', 'show', 'similar', 'pattern', 'with', 'wide', 'CI', 'due', 'to', 'the', 'restricted', 'sample', 'size', '(', 'Table', '@card@', 'and', 'Table', '@card@', 'and', 'Figure', '@card@', ')', '.', '', '']]\n",
            "100\n",
            "100\n",
            "100\n",
            "100\n",
            "100\n",
            "180\n",
            " \n",
            "[['', 'discussion', '', 'in', 'this', 'cohort', 'of', 'ambulatory', 'individual', 'with', 'postvaccination', 'breakthrough', 'infection', ',', 'symptomatic', 'delta', 'variant', 'SARS-CoV-2', 'infection', 'be', 'characterize', 'by', 'high', 'initial', 'viral', 'load', 'and', 'a', 'long', 'duration', 'of', 'virologic', 'shedding', ',', 'as', 'detect', 'by', 'PCR', '(', 'median', ',', '@card@', 'day', 'vs.', '@card@', 'day', ')', '.', 'moreover', ',', 'identification', 'of', 'replication-competent', 'virus', 'by', 'culture', 'be', 'more', 'common', 'with', 'symptomatic', 'delta', 'variant', 'infection', '(', '@card@', '%', ')', 'than', 'all', 'non-delta', 'infection', '(', '@card@', '%', ')', 'and', 'symptomatic', 'non-delta', 'infection', '(', '@card@', '%', ')', '.', 'importantly', ',', 'the', 'duration', 'of', 'replication-competent', 'virus', 'be', 'modestly', 'prolonged', 'among', 'those', 'with', 'delta', 'variant'], ['breakthrough', 'infection', '(', '@card@', 'day', 'vs.', '@card@', 'day', ';', 'HR', ',', '@card@', ';', '@card@', '%', 'CI', ',', '@card@', ',', '@card@', ')', ',', 'a', 'pattern', 'which', 'persist', 'when', 'we', 'restrict', 'the', 'analysis', 'to', 'symptomatic', 'infection', '(', '@card@', 'day', 'vs.', '@card@', 'day', ';', 'HR', ',', '@card@', ';', '@card@', '%', 'CI', '@card@', ',', '@card@', ')', '.', 'nonetheless', ',', 'we', 'detect', 'only', 'a', 'single', 'symptomatic', 'delta', 'breakthrough', 'infection', 'characterize', 'by', 'more', 'than', '@card@', 'day', 'of', 'replication-competent', 'virus', '(', '@card@', 'day', ')', 'in', 'a', 'participant', 'who', 'remain', 'symptomatic', 'on', 'their', 'final', 'day', 'of', 'culture', 'positivity', '(', 'day', '@card@', ')', '.', 'in', 'contrast', 'to', 'our', 'finding'], [',', 'a', 'prior', 'study', 'show', 'similar', 'trajectory', 'and', 'duration', 'of', 'virologic', 'shedding', ',', 'as', 'detect', 'by', 'PCR', 'between', 'delta', 'and', 'alpha', 'viral', 'variant', ',', 'and', 'short', 'duration', 'of', 'shed', 'among', 'delta', 'variant', 'infection', '(', 'median', ',', '@card@', 'vs.', '@card@', 'day', ')', '(', '@card@', ')', '.', 'we', 'suspect', 'that', 'this', 'difference', 'be', 'explain', 'by', 'distinct', 'feature', 'of', 'our', 'study', 'population', '.', 'whereas', 'that', 'former', 'study', 'include', 'relatively', 'young', 'individual', 'be', 'test', 'as', 'part', 'of', 'their', 'affiliation', 'with', 'a', 'sport', 'league', ',', 'study', 'participant', 'with', 'breakthrough', 'delta', 'infection', 'in', 'our', 'study', 'population', 'be', 'comparatively', 'old', 'adult', ',', 'access', 'SARS-CoV-2', 'testing', 'through', 'a'], ['healthcare', 'system', '.', 'our', 'datum', 'be', 'in', 'keep', 'with', 'CDC', 'guideline', 'as', 'of', 'November', '@card@', ',', 'which', 'recommend', 'isolation', 'for', '@card@', 'day', 'or', 'until', 'symptom', 'resolution', 'for', 'symptomatic', 'postvaccination', 'breakthrough', 'infection', '.', 'these', 'result', 'also', 'reinforce', 'that', 'postvaccination', 'breakthrough', 'delta', 'infection', 'should', 'be', 'consider', 'contagious', 'and', 'highlight', 'the', 'critical', 'importance', 'of', 'prompt', 'testing', 'for', 'symptomatic', 'vaccinate', 'individual', 'due', 'to', 'the', 'high', 'frequency', 'of', 'identification', 'of', 'replication-competent', 'virus', '(', '@card@', ',', '@card@', ')', '.', 'our', 'study', 'be', 'limit', 'to', 'a', 'small', 'sample', '(', 'n', '=', '@card@', ')', 'of', 'vaccinate', ',', 'ambulatory', 'individual', 'with', 'nonsevere', 'infection', '.', 'we', 'be', 'unable', 'to', 'sequence'], ['virus', 'for', '@card@', 'individual', 'in', 'the', 'study', '.', 'however', ',', 'all', 'of', 'these', 'infection', 'occur', 'before', 'June', '@card@', ',', 'when', 'delta', 'variant', 'infection', 'first', 'constitute', 'more', 'than', '@card@', '%', 'of', 'all', 'infection', 'in', 'the', 'region', 'where', 'the', 'study', 'occur', '.', 'we', 'do', 'not', 'perform', 'contact', 'trace', 'in', 'our', 'study', '.', 'therefore', ',', 'our', 'conclusion', 'about', 'contagiousness', 'be', 'limit', 'to', 'inference', 'about', 'the', 'presence', 'or', 'absence', 'of', 'replication-competent', 'virus', 'but', 'not', 'confirmation', 'of', 'downstream', 'infection', 'from', 'the', 'case', 'detect', 'in', 'our', 'study', '.', 'all', 'delta', 'variant', 'infection', 'in', 'our', 'cohort', 'be', 'mild', ',', 'but', 'symptomatic', ',', 'and', 'thus', 'our', 'result', 'should'], ['not', 'be', 'generalize', 'to', 'asymptomatic', 'infection', '.', 'because', 'of', 'collinearity', 'between', 'delta', 'variant', 'infection', 'and', 'duration', 'of', 'time', 'between', 'vaccination', 'and', 'infection', 'in', 'our', 'cohort', ',', 'we', 'can', 'meaningfully', 'distinguish', 'the', 'relative', 'contribution', 'of', 'these', 'two', 'factor', 'on', 'transmission', 'dynamics', 'in', 'breakthrough', 'infection', '.', 'importantly', ',', 'additional', 'datum', 'be', 'also', 'need', 'to', 'well', 'elucidate', 'the', 'dynamics', 'of', 'delta', 'variant', 'infection', 'in', 'unvaccinated', 'individual', '.', 'work', 'prior', 'to', 'the', 'emergence', 'of', 'the', 'delta', 'variant', 'suggest', 'that', 'the', 'magnitude', 'of', 'viral', 'load', 'and', 'duration', 'of', 'viral', 'shedding', 'be', 'more', 'prolonged', 'among', 'unvaccinated', 'individual', '(', '@card@', ',', '@card@', ')', '.', 'that', 'datum', ',', 'in', 'combination', 'with', 'ours', ',', 'which', 'demonstrate', 'long', 'shedding', 'of', 'nucleic', 'acid', 'and', 'isolation', 'of', 'replication-competent', 'virus', 'in', 'symptomatic', 'delta', 'variant-infected', 'individual', ',', 'suggest', 'that', 'current', 'isolation', 'guideline', 'might', 'not', 'be', 'adequate', 'for', 'all', 'unvaccinated', 'individual', 'with', 'delta', 'variant', 'infection', '.', 'additional', 'work', 'be', 'also', 'need', 'to', 'assess', 'transmission', 'dynamics', 'in', 'individual', 'with', 'severe', 'infection', 'and', 'after', 'vaccine', 'booster', 'administration', '.', 'finally', ',', 'we', 'do', 'not', 'collect', 'blood', 'as', 'part', 'of', 'this', 'study', ',', 'so', 'we', 'be', 'unable', 'to', 'determine', 'how', 'host', 'response', 'to', 'vaccination', 'contribute', 'to', 'virologic', 'characteristic', 'of', 'breakthrough', 'infection', '.', '', '']]\n",
            "100\n",
            "100\n",
            "100\n",
            "100\n",
            "100\n",
            "195\n",
            " \n",
            "[['', 'study', 'participant', '.', ':', ':', ':', 'method', '', 'we', 'enroll', 'nonhospitalized', 'individual', 'with', 'confirm', 'SARS-CoV-2', 'infection', 'after', 'vaccination', '.', 'participant', 'be', 'recruit', 'after', 'positive', 'test', 'through', 'one', 'of', 'two', 'mean', '.', 'first', ',', 'between', 'January', 'and', 'March', '@card@', ',', 'employee', 'in', 'the', 'Mass', 'General', 'Brigham', '(', 'Boston', ',', 'Massachusetts', ',', 'USA', ')', 'Medical', 'System', 'be', 'offer', 'weekly', 'COVID-19', 'testing', 'irrespective', 'of', 'symptom', '.', 'follow', 'the', 'conclusion', 'of', 'that', 'program', ',', 'we', 'begin', 'recruit', 'all', 'individual', 'with', 'positive', 'SARS-CoV-2', 'PCR', 'test', 'result', 'in', 'the', 'Mass', 'General', 'Brigham', 'Medical', 'System', ',', 'which', 'include', 'testing', 'for', 'symptomatic', 'individual', 'as', 'well', 'as', 'asymptomatic'], ['testing', 'for', 'contact', 'trace', 'and', 'screen', 'procedure', '(', 'e.g.', ',', 'preoperative', 'clearance', ')', '.', 'all', 'adult', 'over', '@card@', 'year', 'of', 'age', 'who', 'test', 'positive', 'by', 'either', 'of', 'these', 'system', 'be', 'eligible', 'for', 'inclusion', 'in', 'this', 'study', '.', 'for', 'those', 'who', 'consent', 'to', 'participation', ',', 'we', 'conduct', 'home', 'visit', '@card@', 'time', 'weekly', 'until', 'negative', 'PCR', 'testing', '.', 'at', 'each', 'visit', ',', 'we', 'obtain', 'self-collected', 'nasal', 'swab', 'for', 'SARS-CoV-2', 'PCR', ',', 'culture', ',', 'and', 'whole-genome', 'sequencing', '.', 'symptom', 'be', 'assess', 'at', 'each', 'specimen', 'collection', 'and', 'through', 'medical', 'chart', 'review', 'after', 'study', 'completion', '.', 'symptomatic', 'infection', 'be', 'define', 'as', 'those', 'with', 'COVID-19–related', 'symptom', 'at', 'any', 'point', 'during', 'the', 'observation', 'period', '.', '', '']]\n",
            "100\n",
            "110\n",
            " \n",
            "[['', 'viral', 'load', 'quantification', '.', ':', ':', ':', 'method', '', 'viral', 'load', 'quantification', 'and', 'sequencing', 'be', 'conduct', 'as', 'previously', 'reported', '(', '@card@', ')', '.', 'briefly', ',', 'we', 'pellet', 'virions', 'from', 'nasal', 'swab', 'fluid', 'after', 'centrifugation', 'at', '21,000g', 'for', '@card@', 'hour', 'at', '4°C', '.', 'we', 'add', 'TRIzol-LS', 'reagent', '(', 'Thermo', 'Fisher', 'Scientific', ')', 'to', 'the', 'pellet', 'and', 'incubate', 'the', 'pellet', 'on', 'ice', 'after', 'remove', 'the', 'supernatant', '.', 'we', 'then', 'vortexed', 'the', 'pellet', 'in', '@card@', 'μL', 'chloroform', '(', 'MilliporeSigma', ')', ',', 'centrifuge', 'the', 'mixture', 'at', '21,000g', 'for', '@card@', 'minute', 'at', '4°C', ',', 'remove', 'the', 'aqueous', 'layer', ',', 'and', 'then', 'treat', 'the', 'result'], ['solution', 'with', 'an', 'equal', 'volume', 'of', 'isopropanol', '(', 'MilliporeSigma', ')', '.', 'we', 'then', 'add', 'GlycoBlue', 'Coprecipitant', '(', 'Thermo', 'Fisher', 'Scientific', ')', 'and', '@card@', 'μL', '@card@', 'M', 'sodium', 'acetate', '(', 'Life', 'Technologies', ')', 'and', 'incubate', 'the', 'mixture', 'in', 'dry', 'ice', '.', 'we', 'produce', 'RNA', 'pellet', 'by', 'centrifugation', 'at', '21,000g', 'for', '@card@', 'minute', 'at', '4°C', ',', 'discard', 'the', 'supernatant', ',', 'wash', 'the', 'RNA', 'with', 'cold', '@card@', '%', 'ethanol', ',', 'and', 'resuspend', 'it', 'in', 'DEPC-treated', 'water', '(', 'Thermo', 'Fisher', 'Scientific', ')', '.', 'we', 'quantify', 'SARS-CoV-2', 'RNA', 'virus', 'use', 'RT-qPCR', 'with', 'the', 'US', 'CDC', '2019-nCoV_N1', 'primer', 'and', 'probe', 'set', '(', 'Idt', ')', '(', '@card@'], [')', '.', 'reaction', 'include', 'extract', 'RNA', ';', '1X', 'TaqPath', '1-Step', 'RT-qPCR', 'Master', 'Mix', ',', 'CG', '(', 'Thermo', 'Fisher', 'Scientific', ')', ';', 'forward', 'and', 'reverse', 'primer', ';', 'and', 'the', 'probe', '(', '@card@', ')', '.', 'we', 'quantify', 'viral', 'copy', 'number', 'use', 'N1', 'qPCR', 'standard', 'in', '16-fold', 'dilution', 'to', 'generate', 'standard', 'curve', '.', 'each', 'sample', 'be', 'run', 'in', 'triplicate', 'with', '@card@', 'nontemplate', 'control', 'well', 'that', 'be', 'include', 'as', 'negative', 'control', '.', 'additionally', ',', 'we', 'test', 'positive', 'and', 'negative', 'control', 'alongside', 'all', 'sample', '.', 'we', 'assess', 'sample', 'quality', 'by', 'quantify', 'the', 'importin-8', '(', 'IPO8', ')', 'housekeeping', 'gene', 'RNA', 'level', '.', 'finally', ',', 'to', 'determine', 'the', 'efficiency', 'of', 'RNA', 'extraction', 'and', 'qPCR', 'amplification', ',', 'we', 'spike', '(', 'RCAS', ')', '(', '@card@', ')', 'into', 'each', 'sample', 'as', 'an', 'internal', 'virion', 'control', '.', '', '']]\n",
            "100\n",
            "100\n",
            "128\n",
            " \n",
            "[['', 'SARS-CoV-2', 'whole-genome', 'sequencing', '.', ':', ':', ':', 'method', '', 'we', 'perform', 'whole-genome', 'sequence', 'use', 'the', 'Illumina', 'COVIDSeq', 'Test', 'protocol', '.', 'we', 'construct', 'library', 'use', 'the', 'Illumina', 'Nextera', 'XT', 'Library', 'prep', 'Kit', 'and', 'then', 'pool', 'and', 'quantify', 'the', 'library', 'use', 'a', 'Qubit', 'High', 'sensitivity', 'dsDNA', 'kit', '.', 'then', ',', 'we', 'perform', 'genomic', 'sequence', 'on', 'an', 'Illumina', 'NextSeq', '@card@', ',', 'Illumina', 'NextSeq', '@card@', ',', 'or', 'Illumina', 'NovaSeq', 'SP', 'instrument', '.', 'sequence', 'with', 'an', 'assembly', 'length', 'great', 'than', '@card@', 'base', 'pair', 'be', 'consider', 'complete', 'genome', ',', 'and', 'we', 'assign', 'those', 'sequence', 'a', 'Pango', 'lineage', 'use', 'the', 'most', 'up-to-date', 'version', 'of', 'pangoLEARN', 'assignment', 'algorithm', 'v2.4.2', '(', '@card@', ')', '.', 'all', 'sequence', 'be', 'deposit', 'in', 'GenBank', 'and', 'GISAID', '.', 'the', 'sample', 'be', 'submit', 'to', 'NCBI', 'with', 'Bioproject', 'accession', 'number', 'PRNJA@card@', 'and', 'PRNJA@card@', '.', '', '']]\n",
            "131\n",
            " \n",
            "[['', 'SARS-CoV-2', 'spike', 'gene', 'amplification', '.', ':', ':', ':', 'method', '', 'we', 'additionally', 'perform', 'spike', 'gene', 'amplification', ',', 'as', 'previously', 'describe', '(', '@card@', ')', ',', 'to', 'determine', 'variant', 'type', 'for', 'specimen', 'with', 'low', 'viral', 'load', 'to', 'determine', 'variant', 'when', 'whole-genome', 'sequencing', 'be', 'unsuccessful', '.', 'we', 'use', 'superscript', 'IV', 'reverse', 'transcriptase', '(', 'Invitrogen', ')', 'to', 'conduct', 'cDNA', 'synthesis', '.', 'to', 'exclude', 'PCR', 'artifact', ',', 'we', 'use', 'two', 'strategy', 'to', 'amplify', 'the', 'SARS-CoV-2', 'spike', 'gene', ':', '(', 'a', ')', 'nest', 'PCR', 'amplification', 'with', 'in-house', 'design', 'primer', 'set', 'that', 'targeted', 'codon', '1–814', 'of', 'the', 'spike', 'gene', 'and', '(', 'b', ')', 'the', 'multiplexed', 'primer'], ['pool', 'design', 'with', 'primal', 'scheme', 'generate', '@card@', 'bp', 'tiling', 'amplicon', 'base', 'on', 'the', 'Arctic', 'protocol', '(', 'PCR', 'round', '@card@', 'primer', 'set', ',', '21172-F', ',', 'ACAGAACATTCTTGGAATGCT', ';', '24021-R', ',', 'TCTTCAATAAATGACCTCTTGC', ';', 'PCR', 'round', '@card@', 'primer', 'set', ',', '21361-F', ',', 'AATCCAATTCAGTTGTCTTCC', ';', '24002-R', ',', 'TGCTTGGTTTTGATGGATCTG', ')', '(', '@card@', ')', '.', 'we', 'separately', 'pool', 'PCR', 'product', 'from', 'both', 'strategy', 'and', 'perform', 'Illumina', 'library', 'construction', 'use', 'the', 'Nextera', 'XT', 'Library', 'prep', 'Kit', '(', 'Illumina', ')', '.', 'we', 'analyze', 'raw', 'sequence', 'datum', 'with', 'PASeq', 'v1.4', '(', 'https://www.paseq.org', ')', '.', 'we', 'conduct', 'datum', 'filter', 'with', 'Trimmomatic', '(', 'v0.30', ')', '(', '@card@', ')', ',', 'use', 'a', 'Q25/5', 'bp', 'slide', 'window', 'and', 'a', '@card@', 'bp', 'minimum', 'length', '.', 'we', 'filter', 'out', 'nonviral', 'contamination', 'with', 'BBsplit', 'v@card@', '(', '@card@', ')', '.', 'we', 'then', 'merge', 'filter', 'read', 'use', 'paired-end', 'read', 'merger', 'v0.9.6', 'align', 'to', 'reference', 'sequence', 'with', 'Bowtie2', 'v@card@', ')', '(', '@card@', ')', '.', 'finally', ',', 'amino', 'acid', 'variant', 'be', 'identify', 'at', 'the', 'codon', 'level', 'with', 'Perl', 'code', 'and', 'use', 'to', 'determine', 'SARS-CoV-2', 'variant', 'type', '.', '', '']]\n",
            "100\n",
            "168\n",
            " \n",
            "[['', 'SARS-CoV-2', 'culture', '.', ':', ':', ':', 'method', '', 'we', 'perform', 'viral', 'culture', 'as', 'previously', 'report', 'in', 'the', 'BSL3', 'laboratory', 'of', 'the', 'Ragon', 'Institute', 'of', 'MGH', ',', 'MIT', 'and', 'Harvard', '(', '@card@', ',', '@card@', ')', '.', 'briefly', ',', 'we', 'detach', 'Vero-E6', 'cell', '(', 'ATCC', ')', 'maintain', 'in', 'DMEM', '(', 'Corning', ')', 'supplement', 'with', 'HEPES', '(', 'Corning', ')', ',', '1X', 'penicillin', '(', '@card@', 'IU/mL)/Streptomycin', '(', '@card@', 'μg/mL', ')', '(', 'Corning', ')', ',', '1X', 'glutamine', '(', 'Glutamax', ',', 'Thermo', 'Fisher', 'Scientific', ')', ',', 'and', '@card@', '%', 'FBS', '(', 'MilliporeSigma', ')', 'use', 'Trypsin-EDTA', '(', 'Thermo', 'Fisher', 'Scientific', ')', 'and', 'seed', 'the', 'cell', 'at'], ['@card@', 'cell', 'per', 'well', 'in', '24-well', 'plate', 'or', '@card@', 'cell', 'per', 'well', 'in', '96-well', 'plate', '16–20', 'hour', 'before', 'infection', '.', 'we', 'thaw', 'specimen', 'on', 'ice', ',', 'filter', 'the', 'specimen', 'through', 'a', 'Spin-X', '@card@', 'μm', 'filter', '(', 'Corning', ')', 'at', '10,000g', 'for', '@card@', 'minute', ',', 'and', 'dilute', 'them', '@card@', 'in', 'DMEM', 'supplement', 'with', 'HEPES', ',', '1X', 'Penicillin/Streptomycin', ',', 'and', '1X', 'glutamine', '.', 'we', 'use', '@card@', 'μL', 'of', 'the', 'solution', 'to', 'inoculate', 'triplicate', 'well', 'in', 'a', '24-well', 'plate', '.', 'we', 'then', 'add', '@card@', 'mL', 'DMEM', 'supplement', 'with', 'HEPES', ',', '1X', 'Penicillin/Streptomycin', ',', 'and', '1X', 'glutamine', 'and', '@card@', '%', 'FBS', 'to', 'each', 'well'], ['after', '@card@', 'hour', 'of', 'incubation', 'and', 'remove', 'the', 'viral', 'inoculum', '.', 'we', 'add', '@card@', 'μL', 'of', 'the', 'undiluted', 'filtrate', 'to', '@card@', 'well', 'of', 'a', '96-well', 'plate', 'and', 'serial', 'dilute', '(', '@card@', ')', 'the', 'filtrate', 'in', 'medium', 'contain', '@card@', 'μg/mL', 'polybrene', '(', 'Santa', 'Cruz', 'Biotechnology', ')', '.', 'we', 'centrifuge', 'the', '96-well', 'plate', 'for', '@card@', 'hour', 'at', '2000g', 'at', '37°C', '.', 'as', 'a', 'positive', 'control', ',', 'we', 'use', 'the', 'SARS-CoV-2', 'isolate', 'USA-WA@card@', 'strain', '(', 'BEI', 'Resources', ')', '.', 'we', 'observe', 'viral', 'culture', 'plate', 'at', '@card@', 'and', '@card@', 'day', 'after', 'infection', 'with', 'a', 'light', 'microscope', 'and', 'document', 'well', 'show', 'CPE', '.', 'finally', ',', 'we', 'harvest', 'the', 'supernatant', 'of', 'well', 'display', 'CPE', '10–14', 'day', 'after', 'infection', 'and', 'isolated', 'RNA', 'use', 'a', 'QIAamp', 'viral', 'RNA', 'mini', 'kit', '(', 'QIAGEN', ')', 'for', 'confirmation', 'of', 'the', 'viral', 'sequence', '.', '', '']]\n",
            "100\n",
            "100\n",
            "134\n",
            " \n",
            "[['', 'statistic', '.', ':', ':', ':', 'method', '', 'we', 'first', 'evaluate', 'patient-specific', 'trajectory', 'of', 'quantitative', 'viral', 'load', 'by', 'PCR', 'over', 'time', 'since', 'index', 'positive', 'test', 'by', 'construct', 'spaghetti', 'plot', '.', 'to', 'estimate', 'group', 'mean', 'trajectory', ',', 'stratify', 'by', 'variant', ',', 'we', 'fit', 'a', 'linear', 'regression', 'model', ',', 'include', 'quadratic', 'and', 'cubic', 'spline', 'term', 'for', 'time', 'since', 'the', 'index', 'positive', 'PCR', 'test', '(', '@card@', ')', '.', 'we', 'then', 'use', 'the', 'Kaplan-Meier', 'estimator', 'to', 'estimate', 'the', 'survivor', 'function', 'for', '(', 'a', ')', 'time', 'to', 'negative', 'viral', 'by', 'PCR', 'testing', 'and', '(', 'b', ')', 'time', 'to', 'negative', 'viral', 'culture', '.', 'for', 'both', 'outcome'], [',', 'we', 'take', 'the', 'time', 'of', 'symptom', 'onset', '(', 'for', 'symptomatic', 'case', ')', 'or', 'time', 'of', 'first', 'positive', 'PCR', '(', 'for', 'asymptomatic', 'case', ')', 'as', 'the', 'origin', 'of', 'the', 'timescale', '.', 'we', 'select', 'these', 'definition', 'of', 'leave', 'censor', 'to', 'replicate', 'US', 'CDC', 'isolation', 'guideline', '.', 'for', 'both', 'outcome', ',', 'we', 'estimate', 'survivor', 'function', 'stratify', 'by', 'delta', 'versus', 'non-delta', 'variant', 'infection', 'and', ',', 'separately', ',', 'by', 'duration', 'of', 'time', 'from', 'vaccination', 'to', 'infection', ',', 'dichotomize', 'as', 'great', 'versus', 'less', 'than', '@card@', 'day', '.', 'we', 'next', 'fit', 'cox', 'proportional', 'hazard', 'model', 'with', 'both', 'outcome', 'and', 'delta', 'versus', 'non-delta', 'variant', 'infection', 'and', ','], ['separately', ',', 'time', 'since', 'completion', 'of', 'vaccination', 'as', 'predictor', '.', 'in', 'sensitivity', 'analysis', 'to', 'assess', 'for', 'potential', 'confound', 'by', 'the', 'presence', 'of', 'absence', 'of', 'symptom', ',', 'we', 'reestimate', 'Kaplan-Meier', 'survivor', 'function', 'after', 'limit', 'the', 'sample', 'to', 'individual', 'with', 'symptomatic', 'infection', '.', 'finally', ',', 'we', 'fit', 'linear', 'regression', 'model', 'and', 'plot', 'scatter', 'plot', 'to', 'assess', 'relationship', 'between', 'duration', 'of', 'PCR', 'and', 'culture', 'positivity', 'and', 'time', 'since', 'completion', 'of', 'vaccination', 'as', 'a', 'continuous', 'measure', '.', 'P', 'value', 'of', 'less', 'than', '@card@', 'be', 'consider', 'significant', '.', 'analysis', 'be', 'conduct', 'with', 'Stata', '(', 'version', '@card@', ')', 'and', 'R', '(', 'version', '@card@', ')', '.', '', '']]\n",
            "100\n",
            "100\n",
            "101\n",
            " \n",
            "[['', 'study', 'approval', '.', ':', ':', ':', 'method', '', 'Study', 'procedure', 'be', 'review', 'and', 'approve', 'by', 'the', 'Human', 'subject', 'Institutional', 'Review', 'Board', 'and', 'the', 'Institutional', 'Biosafety', 'Committee', 'at', 'Mass', 'General', 'Brigham', '.', 'all', 'participant', 'give', 'verbal', 'informed', 'consent', ',', 'as', 'write', 'consent', 'be', 'waive', 'by', 'the', 'review', 'committee', 'base', 'on', 'the', 'risk', 'to', 'benefit', 'ratio', 'of', 'require', 'in-person', 'interaction', 'for', 'an', 'observational', 'study', 'of', 'COVID-19', '.', '', '']]\n",
            "68\n",
            " \n",
            "[['', 'author', 'contribution', '', 'MJS', 'conceive', 'the', 'study', 'design', ',', 'participate', 'in', 'the', 'datum', 'analysis', ',', 'draft', 'the', 'initial', 'manuscript', ',', 'and', 'contribute', 'editorial', 'input', '.', 'JB', 'conduct', 'experiment', ',', 'participate', 'in', 'the', 'datum', 'analysis', ',', 'and', 'contribute', 'editorial', 'input', '.', 'RFG', 'manage', 'datum', 'collection', ',', 'participate', 'in', 'datum', 'analysis', ',', 'and', 'contribute', 'editorial', 'input.RU', 'participate', 'in', 'data', 'collection', 'and', 'data', 'analysis', 'and', 'contribute', 'editorial', 'input.JL', ',', 'SH', ',', 'TV', ',', 'ZR', ',', 'SI', ',', 'GCC', ',', 'RHG', ',', 'CMN', ',', 'and', 'Cas', 'participate', 'in', 'the', 'datum', 'analysis', 'and', 'contribute', 'editorial', 'input.JR', 'participate', 'in', 'the', 'datum', 'collection', ',', 'conduct', 'experiment', ',', 'and', 'contribute', 'editorial', 'input.JPF', 'conduct', 'experiment', 'and', 'contribute', 'editorial', 'input.MCC', 'conduct', 'experiment', ',', 'participate', 'in', 'the', 'datum', 'analysis', ',', 'and', 'contribute', 'editorial', 'input', '.', 'JMV', 'conceive', 'the', 'study', 'design', ',', 'provide', 'reagent', ',', 'and', 'contribute', 'editorial', 'input', '.', 'AKB', ',', 'JEL', ',', 'and', 'JZL', 'conceive', 'the', 'study', 'design', ',', 'provide', 'reagent', ',', 'participate', 'in', 'the', 'datum', 'analysis', ',', 'and', 'contribute', 'editorial', 'input', '.', 'all', 'author', 'approve', 'of', 'the', 'final', 'version', 'of', 'the', 'manuscript', '.', '', '']]\n",
            "177\n",
            " \n",
            "norm=6\trule=5\tnonorm=0\n",
            "[['', 'introduction', '', 'in', 'addition', 'to', 'the', 'serious', 'physical', 'health', 'consequence', 'of', 'COVID-19', ',', 'the', 'result', 'societal', 'change', 'have', 'have', 'major', 'impact', 'on', 'population-wide', 'mental', 'health', '(', 'Liu', 'et', 'al.', ',', '@card@', ')', '.', 'COVID-19', 'have', 'introduce', 'a', 'variety', 'of', 'stressors', 'into', 'modern', 'life', ',', 'include', 'fear', 'about', 'contract', 'the', 'virus', ',', 'concern', 'for', 'love', 'one', ',', 'economic', 'instability', ',', 'social', 'distancing', ',', 'and', 'other', 'major', 'lifestyle', 'disruption', '(', 'Pfefferbaum', 'and', 'North', ',', '@card@', ')', '.', 'many', 'of', 'these', 'concern', 'have', 'affect', 'graduate', 'and', 'professional', 'student', '(', 'i.e.', ',', 'student', 'earn', 'advanced', 'degree', ',', 'as', 'well', 'as', 'non-traditional', 'and', 'non-degree'], ['seek', 'student', ')', '.', 'even', 'before', 'the', 'crisis', ',', 'student', 'be', 'vulnerable', 'to', 'depression', ',', 'anxiety', ',', 'loneliness', ',', 'and', 'suicidal', 'ideation', '(', 'Evans', 'et', 'al.', ',', '@card@', ')', '.', 'the', 'COVID-19', 'crisis', 'have', 'exacerbate', 'these', 'concern', ':', 'many', 'university', 'have', 'cease', 'non-essential', 'operation', ',', 'mandate', 'that', 'student', 'leave', 'campus', ',', 'and', 'shut', 'down', 'university', 'counseling', 'center', '(', 'Zhai', 'and', 'Du', ',', '@card@', ')', '.', 'these', 'measure', ',', 'while', 'appropriate', 'to', 'avoid', 'the', 'spread', 'of', 'COVID-19', ',', 'have', 'lead', 'to', 'considerable', 'uncertainty', ',', 'stress', ',', 'and', 'disruption', 'for', 'graduate', 'and', 'professional', 'student', '(', 'Chirikov', 'et', 'al.', ',', '@card@', ';', 'Sahu'], [',', '@card@', ')', '.', 'in', 'open-ended', 'survey', ',', 'graduate', 'and', 'professional', 'student', 'report', 'a', 'variety', 'of', 'concern', 'relate', 'to', 'their', 'health', ',', 'productivity', ',', 'and', 'well-being', '(', 'Wasil', 'et', 'al.', ',', '2021a', ')', '.', 'furthermore', ',', 'in', 'a', 'recent', 'survey', 'of', 'over', '@card@', 'graduate', 'student', ',', 'about', '@card@', '%', 'of', 'student', 'report', 'elevated', 'depressive', 'symptom', 'and', '@card@', '%', 'report', 'elevated', 'anxiety', 'symptom', '(', 'Chirikov', 'et', 'al.', ',', '@card@', ')', '.', 'the', 'estimated', 'rate', 'of', 'depression', 'and', 'anxiety', 'in', '@card@', 'be', '1.5–2', 'time', 'high', 'in', '@card@', 'than', 'in', '@card@', '(', 'Chirikov', 'et', 'al.', ',', '@card@', ')', '.', 'to', 'support', 'graduate', 'and'], ['professional', 'student', ',', 'evidence-based', 'mental', 'health', 'and', 'wellness', 'promotion', 'effort', 'be', 'need', '.', 'traditional', 'mental', 'health', 'service', ',', 'while', 'essential', ',', 'will', 'not', 'be', 'sufficient', 'to', 'meet', 'the', 'grow', 'need', 'for', 'mental', 'health', 'care', 'during', 'this', 'crisis', '.', 'as', 'a', 'result', 'of', 'social', 'distancing', 'requirement', ',', 'many', 'clinician', 'and', 'mental', 'health', 'care', 'organization', 'have', 'move', 'counsel', 'activity', 'to', 'telehealth', 'platform', '(', 'torous', 'et', 'al.', ',', '@card@', ')', '.', 'however', ',', 'even', 'before', 'the', 'COVID-19', 'crisis', ',', 'the', 'demand', 'for', 'mental', 'health', 'service', 'greatly', 'exceed', 'the', 'availability', 'of', 'professional', ',', 'with', 'only', 'a', 'small', 'fraction', 'of', 'individual', 'in', 'need', 'of', 'mental'], ['health', 'service', 'receive', 'care', '(', 'Kazdin', 'and', 'Blase', ',', '@card@', ')', '.', 'due', 'to', 'the', 'pre-exist', 'lack', 'of', 'mental', 'health', 'care', 'provider', ',', 'the', 'grow', 'demand', 'for', 'service', ',', 'and', 'the', 'strain', 'on', 'the', 'health', 'care', 'system', ',', 'telehealth', 'platform', 'can', 'serve', 'as', 'the', 'only', 'option', 'during', 'the', 'pandemic', '.', 'as', 'such', ',', 'scalable', 'method', 'of', 'deliver', 'mental', 'health', 'intervention', 'could', 'be', 'especially', 'impactful', 'during', 'the', 'COVID-19', 'crisis', '.', 'one', 'promising', 'approach', 'involve', 'the', 'development', 'and', 'dissemination', 'of', 'evidence-based', 'digital', 'self-help', 'intervention', '.', 'Digital', 'self-help', 'intervention', 'have', 'several', 'feature', 'that', 'make', 'them', 'appeal', 'in', 'time', 'of', 'crisis', '.', 'first', ','], ['these', 'intervention', 'do', 'not', 'require', 'in-person', 'support', 'and', 'thus', 'do', 'not', 'place', 'additional', 'burden', 'on', 'the', 'health', 'care', 'system', '.', 'second', ',', 'these', 'intervention', 'can', 'be', 'disseminate', 'cheaply', '(', 'or', 'for', 'free', ')', 'to', 'wide', 'audience', '.', 'third', ',', 'digital', 'intervention', 'can', 'be', 'update', 'and', 'adapt', 'in', 'short', 'period', 'of', 'time', '.', 'this', 'could', 'be', 'especially', 'useful', 'during', 'the', 'pandemic', ',', 'as', 'evidence-based', 'content', 'could', 'be', 'adapt', 'specifically', 'to', 'address', 'concern', 'relate', 'to', 'COVID-19', '.', 'finally', ',', 'digital', 'intervention', 'be', 'effective', 'for', 'a', 'variety', 'of', 'mental', 'health', 'condition', ',', 'include', 'depression', 'and', 'anxiety', '(', 'Josephine', 'et', 'al.', ',', '@card@', ';'], ['Karyotaki', 'et', 'al.', ',', '@card@', ')', ',', 'and', 'some', 'have', 'be', 'show', 'to', 'be', 'effective', 'in', 'just', 'a', 'single', 'session', '(', 'Schleider', 'and', 'Weisz', ',', '@card@', ';', 'Osborn', 'et', 'al.', ',', '@card@', ')', '.', 'thus', ',', 'digital', 'intervention', 'could', 'provide', 'low-intensity', 'evidence-based', 'care', 'to', 'individual', 'who', 'need', 'support', 'during', 'the', 'crisis', 'but', 'lack', 'access', 'to', 'other', 'service', '.', 'however', ',', 'the', 'uptake', 'of', 'digital', 'intervention', 'in', 'real-world', 'setting', 'have', 'be', 'poor', '.', 'although', 'evidence', 'from', 'clinical', 'trial', 'support', 'the', 'acceptability', 'of', 'digital', 'mental', 'health', 'intervention', ',', 'finding', 'from', 'control', 'clinical', 'trial', 'may', 'not', 'generalize', 'to', 'use', 'in', 'naturalistic', 'setting', '.'], ['Recent', 'evidence', 'show', 'that', 'uptake', 'and', 'engagement', 'rate', 'for', 'digital', 'intervention', 'be', 'low', 'in', 'open', 'field', 'study', 'than', 'in', 'formal', 'clinical', 'trial', '(', 'Fleming', 'et', 'al.', ',', '@card@', ')', '.', 'because', 'participant', 'in', 'clinical', 'trial', 'be', 'often', 'financially', 'compensate', 'for', 'consistent', 'participation', 'and', 'clinical', 'trial', 'attract', 'highly', 'motivated', 'participant', ',', 'formal', 'trial', 'yield', 'unrealistically', 'high', 'estimate', 'of', 'engagement', '.', 'in', 'order', 'to', 'improve', 'the', 'dissemination', 'of', 'digital', 'intervention', ',', 'study', 'focus', 'on', 'the', 'acceptability', 'and', 'uptake', 'of', 'digital', 'intervention', 'in', 'real-world', 'context', 'be', 'need', '(', 'Mohr', 'et', 'al.', ',', '@card@', ')', '.', 'although', 'there', 'be', 'some', 'digital', 'intervention', 'with', 'relatively'], ['high', 'uptake', '(', 'as', 'measure', 'by', 'number', 'of', 'download', ')', ',', 'these', 'intervention', 'have', 'not', 'be', 'rigorously', 'evaluate', ',', 'contain', 'a', 'limited', 'amount', 'of', 'evidence-based', 'content', '(', 'Wasil', 'et', 'al.', ',', '@card@', ')', ',', 'and', 'generally', 'fail', 'to', 'retain', 'user', '(', 'Baumel', 'et', 'al.', ',', '@card@', ';', 'Wasil', 'et', 'al.', ',', '2020a', ',', '2021b', ')', '.', 'indeed', ',', 'most', 'mental', 'health', 'apps', 'have', 'only', '@card@', '%', 'of', 'user', 'continue', 'to', 'engage', 'with', 'the', 'apps', 'after', '@card@', 'day', ',', 'and', 'many', 'have', 'no', 'active', 'monthly', 'user', '(', 'Baumel', 'et', 'al.', ',', '@card@', ';', 'Wasil', 'et', 'al.', ',', '2020b', ',', '2021c', ')'], ['.', 'some', 'barrier', 'that', 'limit', 'engagement', 'for', 'digital', 'intervention', 'include', 'lack', 'of', 'perceive', 'utility', ',', 'limit', 'on', 'accessibility', '(', 'e.g.', ',', 'fee', 'or', 'geographic', 'restriction', ')', ',', 'poor', 'user', 'experience', ',', 'and', 'high', 'demand', 'on', 'user', \"'\", 'time', '(', 'torous', 'et', 'al.', ',', '@card@', ')', '.', 'as', 'a', 'result', ',', 'there', 'be', 'a', 'need', 'for', 'digital', 'mental', 'health', 'intervention', 'that', '(', 'a', ')', 'include', 'evidence-based', 'content', ',', '(', 'b', ')', 'demonstrate', 'acceptability', 'and', 'feasibility', 'outside', 'of', 'formal', 'clinical', 'trial', ',', '(', 'c', ')', 'minimize', 'demand', 'on', 'user', \"'\", 'time', ',', 'and', '(', 'd', ')', 'be', 'available', 'at', 'no', 'cost', '.'], ['single-session', 'intervention', ',', 'which', 'can', 'be', 'complete', 'in', 'one', 'sitting', ',', 'may', 'be', 'particularly', 'useful', '.', 'Meta-analytic', 'evidence', 'suggest', 'that', 'single-session', 'intervention', 'have', 'effect', 'similar', 'in', 'magnitude', 'to', 'those', 'of', 'psychotherapy', 'that', 'last', 'several', 'month', '(', 'see', 'Schleider', 'and', 'Weisz', ',', '@card@', ')', ',', 'and', 'some', 'online', 'single-session', 'intervention', 'have', 'show', 'effect', 'on', 'depression', 'even', 'at', '4–9', 'month', 'follow-up', '(', 'e.g.', ',', 'Schleider', 'and', 'Weisz', ',', '@card@', ')', '.', 'in', 'addition', 'to', 'their', 'effectiveness', ',', 'single-session', 'intervention', 'be', 'highly', 'scalable', ',', 'can', 'be', 'disseminate', 'at', 'very', 'low', 'cost', ',', 'and', 'can', 'be', 'adapt', 'readily', 'for', 'new', 'population', '(', 'see', 'Osborn'], ['et', 'al.', ',', '@card@', ';', 'Wasil', 'et', 'al.', ',', '2020c', ')', '.', 'online', 'single-session', 'intervention', 'also', 'circumvent', 'concern', 'about', 'user', 'retention', ',', 'as', 'user', 'only', 'need', 'to', 'engage', 'with', 'the', 'intervention', 'once', 'to', 'receive', 'the', 'full', 'dose', 'of', 'content', '.', 'however', ',', 'there', 'be', 'several', 'gap', 'in', 'research', 'on', 'online', 'single-session', 'intervention', '.', 'for', 'instance', ',', 'limited', 'research', 'have', 'examine', 'the', 'acceptability', 'of', 'online', 'single-session', 'intervention', 'outside', 'the', 'context', 'of', 'control', 'clinical', 'trial', '.', 'additionally', ',', 'while', 'online', 'single-session', 'intervention', 'often', 'include', 'content', 'that', 'have', 'be', 'show', 'to', 'be', 'effective', 'for', 'individual', 'across', 'age', 'group', ',', 'most', 'research', 'on', 'online'], ['single-session', 'intervention', 'have', 'be', 'conduct', 'with', 'youth', 'and', 'adolescent', '(', 'Schleider', 'and', 'Weisz', ',', '@card@', ')', '.', 'finally', ',', 'few', 'online', 'single-session', 'intervention', 'have', 'be', 'adapt', 'to', 'respond', 'to', 'a', 'public', 'health', 'emergency', ',', 'such', 'as', 'the', 'COVID-19', 'crisis', '.', 'as', 'such', ',', 'a', 'digital', 'single-session', 'intervention', 'adapt', 'specifically', 'to', 'meet', 'the', 'need', 'of', 'the', 'current', 'crisis', 'would', 'provide', 'a', 'considerable', 'contribution', 'to', 'the', 'field', '.', 'such', 'an', 'intervention', 'would', 'be', 'especially', 'valuable', 'if', 'it', 'include', 'module', 'that', 'be', 'commonly', 'include', 'in', 'empirically', 'support', 'intervention', '.', 'whereas', 'mental', 'health', 'intervention', 'have', 'traditionally', 'be', 'test', 'in', 'multicomponent', 'package', ',', 'often', 'in'], ['the', 'form', 'of', 'publish', 'treatment', 'manual', ',', 'scholar', 'have', 'recently', 'push', 'for', 'a', 'focus', 'on', 'specific', 'procedure', 'within', 'intervention', '(', 'Hofmann', 'and', 'Hayes', ',', '@card@', ')', '.', 'relatedly', ',', 'some', 'scholar', 'have', 'identify', 'treatment', 'procedure', 'that', 'be', 'commonly', 'include', 'in', 'treatment', 'manual', 'of', 'empirically', 'support', 'intervention', '(', 'Chorpita', 'and', 'Daleiden', ',', '@card@', ')', '.', 'these', 'procedure', ',', 'know', 'as', '\"', 'common', 'element', ',', '\"', 'have', 'form', 'the', 'basis', 'of', 'recently-developed', 'modular', 'intervention', '.', 'such', 'intervention', 'include', 'the', 'modular', 'approach', 'to', 'therapy', 'for', 'child', 'with', 'anxiety', ',', 'Depression', ',', 'trauma', ',', 'or', 'Conduct', 'Problems', '(', 'match', ';', 'Weisz', 'et', 'al.', ','], ['@card@', ')', 'and', 'the', 'common', 'element', 'Treatment', 'Approach', '(', 'CETA', ';', 'Murray', 'et', 'al.', ',', '@card@', ')', '.', 'advantage', 'of', 'modular', 'intervention', 'include', 'their', 'flexibility', ',', 'scalability', ',', 'and', 'adaptability', '(', 'see', 'Weisz', 'et', 'al.', ',', '@card@', ')', '.', 'modular', 'intervention', 'could', 'be', 'especially', 'useful', 'in', 'the', 'context', 'of', 'the', 'COVID-19', 'crisis', ',', 'as', 'module', 'can', 'be', 'adapt', 'or', 'replace', 'to', 'meet', 'the', 'need', 'of', 'specific', 'population', '(', 'e.g.', ',', 'patient', ',', 'healthcare', 'worker', ',', 'individual', 'under', 'stay-at-home', 'order', ')', '.', 'while', 'previous', 'research', 'have', 'show', 'that', 'modular', 'intervention', 'be', 'effective', 'when', 'deliver', 'by', 'clinician', '(', 'Weisz', 'et', 'al.', ','], ['@card@', ')', 'and', 'trained', 'lay', 'counselor', '(', 'Murray', 'et', 'al.', ',', '@card@', ')', ',', 'relatively', 'little', 'be', 'know', 'about', 'modular', 'intervention', 'as', 'self-administer', 'digital', 'intervention', '.', 'to', 'fill', 'these', 'gap', ',', 'and', 'to', 'provide', 'timely', 'support', 'to', 'student', 'deal', 'with', 'the', 'COVID-19', 'crisis', ',', 'our', 'team', 'adapt', 'and', 'deploy', 'an', 'online', 'single-session', 'intervention', 'for', 'graduate', 'and', 'professional', 'student', '.', 'we', 'believe', 'that', 'a', 'self-administer', 'intervention', 'focus', 'on', 'common', 'element', 'could', 'be', 'valuable', '.', 'in', 'this', 'paper', ',', 'we', 'describe', 'the', 'common', 'element', 'Toolbox', '(', 'comet', ')', ',', 'a', 'self-administer', 'digital', 'single-session', 'intervention', '.', 'here', ',', 'we', 'describe', '(', 'a', ')', 'the', 'development', 'and', 'design', 'of', 'comet', ',', '(', 'b', ')', 'adaptation', 'we', 'make', 'to', 'comet', 'to', 'respond', 'to', 'the', 'COVID-19', 'crisis', ',', '(', 'c', ')', 'an', 'evaluation', 'of', 'the', 'acceptability', 'and', 'perceive', 'utility', 'of', 'comet', ',', 'and', '(', 'd', ')', 'change', 'in', 'secondary', 'control', 'and', 'COVID-19', 'related', 'concern', 'from', 'pre-intervention', 'to', 'post-intervention', '.', 'in', 'addition', 'to', 'fill', 'important', 'gap', 'in', 'the', 'literature', ',', 'our', 'goal', 'be', 'to', 'provide', 'information', 'that', 'can', 'directly', 'inform', 'other', 'digital', 'mental', 'health', 'promotion', 'effort', 'in', 'response', 'to', 'the', 'COVID-19', 'pandemic', '.', '', '']]\n",
            "100\n",
            "100\n",
            "100\n",
            "100\n",
            "100\n",
            "100\n",
            "100\n",
            "100\n",
            "100\n",
            "100\n",
            "100\n",
            "100\n",
            "100\n",
            "100\n",
            "100\n",
            "188\n",
            " \n",
            "[['', 'selection', 'of', 'comet', 'intervention', 'module', ':', ':', ':', 'material', 'and', 'method', '', 'in', 'September', 'of', '@card@', ',', 'our', 'team', 'begin', 'to', 'develop', 'an', 'online', 'single-session', 'intervention', 'to', 'promote', 'college', 'student', 'mental', 'health', '.', 'to', 'begin', 'this', 'process', ',', 'we', 'review', 'literature', 'on', 'common', 'element', 'in', 'empirically', 'support', 'treatment', '(', 'Chorpita', 'and', 'Daleiden', ',', '@card@', ';', 'Higa-McMillan', 'et', 'al.', ',', '@card@', ')', ',', 'treatment', 'element', 'in', 'exist', 'digital', 'intervention', '(', 'Wasil', 'et', 'al.', ',', '@card@', ')', ',', 'psychologically', '\"', 'wise', '\"', 'single-component', 'intervention', '(', 'Walton', 'and', 'Wilson', ',', '@card@', ')', ',', 'positive', 'psychology', 'intervention', '(', 'Seligman', 'et', 'al.', ',', '@card@'], [')', ',', 'and', 'single-session', 'intervention', '(', 'Schleider', 'and', 'Weisz', ',', '@card@', ')', '.', 'as', 'much', 'of', 'this', 'literature', 'focus', 'on', 'youth', 'and', 'adolescent', 'population', ',', 'we', 'supplement', 'our', 'review', 'by', 'examine', 'treatment', 'manual', 'for', 'adult', '(', 'Nathan', 'and', 'Gorman', ',', '@card@', ')', '.', 'our', 'aim', 'in', 'this', 'review', 'be', 'to', 'identify', 'intervention', 'technique', 'to', 'include', 'in', 'the', 'single-session', 'intervention', 'that', 'be', 'show', 'to', 'be', 'effective', ',', 'ideally', 'when', 'administer', 'on', 'their', 'own', ',', 'and', 'could', 'be', 'teach', 'easily', 'in', 'a', 'self-guided', 'format', '.', 'with', 'these', 'criterion', 'in', 'mind', ',', 'we', 'choose', 'three', 'module', 'to', 'include', 'in', 'comet', ':', 'behavioral', 'activation'], [',', 'cognitive', 'restructuring', ',', 'and', 'gratitude', '.', 'Behavioral', 'activation', 'and', 'cognitive', 'restructuring', 'be', 'both', 'consider', 'core', 'component', 'of', 'cognitive-behavioral', 'therapy', '.', 'numerous', 'study', 'have', 'demonstrate', 'the', 'effectiveness', 'of', 'web-based', 'cognitive', 'behavioral', 'therapy', 'in', 'treat', 'depression', 'and', 'anxiety', '(', 'see', 'Karyotaki', 'et', 'al.', ',', '@card@', 'for', 'a', 'meta-analysis', ')', '.', 'gratitude', 'be', 'a', 'common', 'element', 'in', 'several', 'empirically', 'support', 'positive', 'psychology', 'intervention', '(', 'see', 'supplementary', 'material', 'for', 'detail', ')', '.', 'additionally', ',', 'meta-analytic', 'evidence', 'suggest', 'that', 'gratitude', 'intervention', 'reduce', 'symptom', 'of', 'depression', 'and', 'anxiety', '(', 'Cregg', 'and', 'Cheavens', ',', '@card@', ')', 'and', 'improve', 'subjective', 'well-being', '(', 'Davis', 'et', 'al.', ',', '@card@'], [';', 'Dickens', ',', '@card@', ')', '.', 'from', 'September', '@card@', 'to', 'February', '@card@', ',', 'we', 'prepare', 'an', 'intervention', 'with', 'these', 'three', 'module', 'for', 'a', 'pre-registered', 'randomize', 'controlled', 'trial', 'with', 'undergraduate', 'student', '(', 'NCT@card@', ';', 'see', 'supplementary', 'material', 'for', 'detail', ')', '.', 'the', 'undergraduate', 'version', 'of', 'comet', 'be', 'base', 'on', 'previous', 'CBT', 'and', 'gratitude', 'intervention', ',', 'and', 'the', 'design', 'of', 'the', 'intervention', 'be', 'inform', 'by', 'that', 'of', 'previous', 'web-based', 'single-session', 'intervention', '(', 'Seligman', 'et', 'al.', ',', '@card@', ';', 'Nathan', 'and', 'Gorman', ',', '@card@', ';', 'Schleider', 'and', 'Weisz', ',', '@card@', ',', '@card@', ';', 'Osborn', 'et', 'al.', ',', '@card@', ';', 'Schleider', 'et', 'al.', ','], ['@card@', ';', 'Wasil', 'et', 'al.', ',', '2020d', ')', '.', 'as', 'we', 'finish', 'develop', 'the', 'undergraduate', 'version', 'of', 'comet', 'in', 'March', '@card@', ',', 'COVID-19', 'begin', 'to', 'rapidly', 'spread', 'throughout', 'the', 'United', 'States', ',', 'include', 'the', 'great', 'Philadelphia', 'area', '.', 'in', 'light', 'of', 'the', 'mental', 'health', 'crisis', 'due', 'to', 'COVID-19', 'disruption', ',', 'we', 'decide', 'to', 'adapt', 'the', 'existing', 'intervention', 'into', 'a', 'separate', 'intervention', 'for', 'graduate', 'and', 'professional', 'student', '.', 'over', 'the', 'course', 'of', '@card@', 'week', ',', 'adaptation', 'be', 'make', 'to', 'comet', 'to', 'increase', 'its', 'relevance', 'to', 'the', 'COVID-19', 'crisis', '.', 'for', 'example', ',', 'the', 'initial', 'intervention', 'include', 'a', 'vignette', 'about', 'a', 'student'], ['struggle', 'with', 'rejection', 'from', 'summer', 'internship', '.', 'for', 'the', 'adapt', 'version', ',', 'we', 'replace', 'this', 'vignette', 'with', 'one', 'about', 'a', 'student', 'who', 'be', 'struggle', 'to', 'adjust', 'to', 'lifestyle', 'change', 'result', 'from', 'the', 'COVID-19', 'crisis', '.', 'we', 'also', 'consult', 'relevant', 'stakeholder', ':', 'we', 'receive', 'feedback', 'from', 'undergraduate', 'student', ',', 'graduate', 'student', ',', 'and', 'faculty', 'in', 'order', 'to', 'refine', 'the', 'intervention', '.', 'in', 'response', 'to', 'input', 'from', 'university', 'dean', 'about', 'the', 'length', 'of', 'the', 'intervention', ',', 'we', 'decide', 'to', 'provide', 'only', 'two', 'of', 'the', 'three', 'module', 'to', 'each', 'participant', '.', 'this', 'be', 'do', 'to', 'maximize', 'the', 'likelihood', 'that', 'student', 'would', 'choose', 'to', 'participate', ',', 'thus', 'increase', 'the', 'reach', 'of', 'our', 'intervention', '.', 'the', 'specific', 'module', 'provide', 'to', 'a', 'give', 'student', 'be', 'determine', 'randomly', '(', 'see', 'supplementary', 'material', 'for', 'detail', ')', '.', '', '']]\n",
            "100\n",
            "100\n",
            "100\n",
            "100\n",
            "100\n",
            "131\n",
            " \n",
            "[['', 'Behavioral', 'activation', ':', ':', ':', 'adapt', 'Version', 'of', 'comet', 'for', 'COVID-19', ':', ':', ':', 'material', 'and', 'method', '', 'the', 'purpose', 'of', 'the', 'behavioral', 'activation', 'module', '(', 'label', '\"', 'positive', 'activity', '\"', 'to', 'sound', 'less', 'technical', 'and', 'to', 'improve', 'comprehension', ')', 'be', 'to', 'help', 'participant', 'identify', 'and', 'perform', 'activity', 'that', 'bring', 'them', 'happiness', 'or', 'provide', 'a', 'sense', 'of', 'mastery', '.', 'participant', 'receive', 'psychoeducation', 'about', 'pleasurable', 'activity', '(', 'i.e.', ',', 'enjoyable', 'activity', ')', 'and', 'mastery', 'activity', '(', 'i.e.', ',', 'activity', 'that', 'provide', 'a', 'sense', 'of', 'accomplishment', ')', '.', 'next', ',', 'they', 'be', 'prompt', 'to', 'brainstorm', 'and', 'list', 'positive', 'activity', ',', 'with'], ['at', 'least', 'one', 'be', 'a', 'pleasurable', 'activity', 'and', 'at', 'least', 'one', 'be', 'a', 'mastery', 'activity', '.', 'participant', 'be', 'then', 'instruct', 'to', 'select', 'an', 'activity', 'to', 'perform', 'more', 'frequently', 'in', 'the', 'upcoming', 'week', '.', 'then', ',', 'they', 'reflect', 'on', 'why', 'this', 'activity', 'be', 'important', 'to', 'them', 'and', 'how', 'this', 'activity', 'influence', 'their', 'mood', '.', 'finally', ',', 'participant', 'complete', 'a', 'plan', 'describe', 'when', 'they', 'will', 'perform', 'the', 'activity', ',', 'where', 'they', 'will', 'be', ',', 'who', 'they', 'could', 'tell', 'about', 'their', 'plan', 'to', 'help', 'them', 'stay', 'accountable', ',', 'and', 'how', 'they', 'will', 'overcome', 'obstacle', 'that', 'might', 'get', 'in', 'the', 'way', 'of', 'their', 'plan', '(', 'see', 'supplementary', 'Figure', '@card@', ')', '.', '', '']]\n",
            "100\n",
            "109\n",
            " \n",
            "[['', 'cognitive', 'restructuring', ':', ':', ':', 'adapt', 'Version', 'of', 'comet', 'for', 'COVID-19', ':', ':', ':', 'material', 'and', 'method', '', 'the', 'purpose', 'of', 'the', 'cognitive', 'restructuring', 'module', '(', 'label', '\"', 'flexible', 'thinking', '\"', 'to', 'sound', 'less', 'technical', 'and', 'to', 'improve', 'comprehension', ')', 'be', 'to', 'help', 'participant', 'notice', 'and', 'reframe', 'unrealistic', 'negative', 'thought', '.', 'participant', 'first', 'receive', 'brief', 'psychoeducation', 'about', 'negative', 'thought', 'and', 'think', 'traps', '.', 'they', 'be', 'then', 'present', 'with', 'a', 'short', 'vignette', 'about', '\"', 'Gwen', ',', '\"', 'a', 'hypothetical', 'graduate', 'student', 'whose', 'routine', 'have', 'be', 'affect', 'by', 'coronavirus', '.', 'in', 'the', 'vignette', ',', 'participant', 'read', 'that', 'Gwen', 'feel', 'like', 'she'], ['have', 'lose', 'control', 'over', 'her', 'routine', 'and', 'feel', 'frustrated', 'with', 'herself', 'for', 'not', 'keep', 'up', 'with', 'her', 'work', 'and', 'health', 'goal', 'while', 'under', 'quarantine', '.', 'Gwen', 'also', 'express', 'worry', 'that', 'her', 'friendship', 'may', 'suffer', 'while', 'she', 'be', 'in', 'isolation', '(', 'see', 'supplementary', 'Figure', '@card@', ')', '.', 'after', 'read', 'the', 'vignette', ',', 'participant', 'learn', 'a', 'cognitive', 'restructuring', 'technique', 'call', 'the', '\"', 'ABCD', 'technique', '\"', 'and', 'apply', 'it', 'to', 'Gwen', \"'s\", 'situation', '.', 'they', 'be', 'prompt', 'to', 'identify', 'detail', 'about', 'the', 'activate', 'event', '(', 'i.e.', ',', 'list', 'objective', 'fact', 'about', 'Gwen', \"'s\", 'situation', ')', ',', 'list', 'belief', '(', 'i.e.', ',', 'initial', 'worry'], ['or', 'concern', 'that', 'Gwen', 'might', 'have', ')', ',', 'generate', 'way', 'to', 'Challenge', 'the', 'negative', 'or', 'unrealistic', 'belief', '(', 'i.e.', ',', 'way', 'Gwen', 'could', 'reframe', 'her', 'initial', 'concern', ')', ',', 'and', 'debrief', '(', 'i.e.', ',', 'indicate', 'how', 'Gwen', 'might', 'be', 'feel', 'as', 'a', 'result', 'of', 'challenge', 'her', 'belief', ')', '.', 'after', 'each', 'step', ',', 'participant', 'view', 'an', 'example', 'of', 'a', 'complete', 'response', '(', 'e.g.', ',', 'after', 'they', 'list', 'way', 'Gwen', 'could', 'challenge', 'her', 'belief', ',', 'they', 'be', 'provide', 'with', 'example', 'of', 'way', 'that', 'Gwen', 'could', 'challenge', 'her', 'belief', ')', '.', 'these', 'example', 'be', 'present', 'to', 'participant', 'to', 'provide', 'them', 'with', 'real-time', 'feedback', 'and', 'a', 'model', 'response', '(', 'see', 'supplementary', 'Figure', '@card@', ')', '.', 'after', 'apply', 'the', 'ABCD', 'technique', 'to', 'Gwen', \"'s\", 'vignette', ',', 'participant', 'be', 'prompt', 'to', 'use', 'the', 'ABCD', 'technique', 'to', 'restructure', 'their', 'thought', 'about', 'a', 'distressing', 'situation', 'in', 'their', 'own', 'life', '.', '', '']]\n",
            "100\n",
            "100\n",
            "145\n",
            " \n",
            "[['', 'gratitude', ':', ':', ':', 'adapt', 'Version', 'of', 'comet', 'for', 'COVID-19', ':', ':', ':', 'material', 'and', 'method', '', 'the', 'purpose', 'of', 'the', 'gratitude', 'module', 'be', 'to', 'encourage', 'participant', 'to', 'notice', 'and', 'appreciate', 'positive', 'thing', 'in', 'their', 'life', '.', 'participant', 'start', 'the', 'module', 'by', 'briefly', 'reading', 'about', 'benefit', 'of', 'gratitude', 'and', 'past', 'research', 'on', 'gratitude', 'intervention', '.', 'then', ',', 'participant', 'complete', 'the', 'three', 'good', 'thing', 'exercise', '(', 'see', 'Seligman', 'et', 'al.', ',', '@card@', ')', '.', 'they', 'receive', 'instruction', 'to', 'identify', 'three', 'good', 'thing', 'that', 'happen', 'to', 'them', 'in', 'the', 'past', '@card@', 'day', '.', 'for', 'each', 'good', 'thing', ',', 'they', 'also', 'write'], ['a', 'brief', 'reflection', 'explain', 'why', 'it', 'be', 'meaningful', 'to', 'them', 'and', 'how', 'to', 'increase', 'the', 'odd', 'of', 'it', 'happen', 'again', '.', 'before', 'write', 'their', 'good', 'thing', ',', 'participant', 'view', 'an', 'example', 'write', 'by', 'a', 'hypothetical', 'student', '(', 'see', 'supplementary', 'Figure', '@card@', ')', '.', 'finally', ',', 'participant', 'complete', 'a', 'novel', 'present-focused', 'gratitude', 'exercise', '.', 'in', 'this', 'exercise', ',', 'participant', 'be', 'prompt', 'to', 'take', 'a', 'few', 'moment', 'to', 'notice', 'and', 'appreciate', 'thing', 'around', 'them', '(', 'e.g.', ',', '\"', 'I', 'love', 'the', 'color', 'of', 'that', 'chair', ',', '\"', '\"', 'I', '’m', 'very', 'warm', 'and', 'comfortable', 'right', 'now', '\"', ')', '.', 'because', 'the', 'present-focused', 'gratitude', 'exercise', 'involve', 'notice', 'thing', 'in', 'one', \"'s\", 'immediate', 'environment', ',', 'we', 'believe', 'that', 'it', 'would', 'be', 'especially', 'relevant', 'during', 'the', 'COVID-19', 'crisis', ',', 'in', 'which', 'many', 'individual', 'be', 'stay', 'in', 'the', 'same', 'environment', '(', 'e.g.', ',', 'at', 'home', ')', '.', '', '']]\n",
            "100\n",
            "143\n",
            " \n",
            "[['', 'recruitment', ':', ':', ':', 'material', 'and', 'method', '', 'we', 'partner', 'with', 'the', 'behavior', 'Change', 'for', 'Good', 'Initiative', 'and', 'administrator', 'at', 'the', 'University', 'of', 'Pennsylvania', 'to', 'email', 'student', 'in', 'the', 'Graduate', 'School', 'of', 'Art', 'and', 'Sciences', 'and', 'the', 'College', 'of', 'Liberal', 'and', 'Professional', 'Studies', '.', 'the', 'email', ',', 'send', 'via', 'official', 'student', 'listservs', 'at', 'the', 'end', 'of', 'March', '@card@', ',', 'invite', 'student', 'to', 'take', 'advantage', 'of', '\"', 'an', 'online', 'tool', 'ground', 'in', 'behavioral', 'science', '\"', 'and', 'mention', 'that', '\"', 'this', 'be', 'an', 'option', ',', 'not', 'an', 'obligation', '.', '\"', 'the', 'email', 'also', 'include', 'a', 'link', 'to', 'the', 'intervention', ',', 'host', 'on', 'Qualtrics', '.', 'base', 'on', 'estimate', 'provide', 'by', 'the', 'university', ',', 'we', 'expect', 'that', 'approximately', '@card@', 'student', 'receive', 'the', 'invitation', '.', 'to', 'maximize', 'the', 'reach', 'of', 'the', 'intervention', ',', 'all', 'graduate', 'and', 'professional', 'student', 'be', 'eligible', 'to', 'participate', ';', 'there', 'be', 'no', 'exclusion', 'criterion', '.', 'in', 'the', 'present', 'study', ',', 'we', 'analyze', 'response', 'from', 'the', 'first', 'week', 'of', 'recruitment', '(', 'i.e.', ',', 'March', '@card@', 'to', 'April', '@card@', ')', '.', '', '']]\n",
            "171\n",
            " \n",
            "[['', 'procedure', ':', ':', ':', 'material', 'and', 'method', '', 'upon', 'open', 'the', 'Qualtrics', 'link', ',', 'participant', 'be', 'direct', 'to', 'a', 'brief', 'introductory', 'screen', 'with', 'information', 'about', 'the', 'study', \"'s\", 'purpose', 'and', 'a', 'general', 'description', 'of', 'the', 'activity', '.', 'participant', 'then', 'fill', 'out', 'a', 'brief', 'baseline', 'questionnaire', 'with', 'measure', 'of', 'depressive', 'symptom', ',', 'anxiety', 'symptom', ',', 'secondary', 'control', ',', 'and', 'perceive', 'ability', 'to', 'handle', 'the', 'COVID-19', 'crisis', '(', 'describe', 'in', 'further', 'detail', 'below', ')', '.', 'once', 'the', 'baseline', 'questionnaire', 'be', 'complete', ',', 'participant', 'be', 'randomize', 'to', 'receive', 'two', 'of', 'the', 'three', 'intervention', 'module', 'describe', 'above', '.', 'module', 'order', 'be', 'also', 'randomize'], [',', 'result', 'in', 'six', 'possible', 'combination', 'of', 'the', 'three', 'module', '(', 'i.e.', ',', '@card@', 'of', 'participant', 'receive', 'cognitive', 'restructuring', 'follow', 'by', 'gratitude', 'while', '@card@', 'receive', 'gratitude', 'follow', 'by', 'cognitive', 'restructuring', ',', 'etc.', ')', '.', 'after', 'each', 'intervention', 'module', ',', 'participant', 'be', 'ask', 'to', 'rate', 'the', 'module', 'on', 'acceptability', ',', 'perceive', 'helpfulness', ',', 'engagement', ',', 'and', 'applicability', '.', 'after', 'complete', 'both', 'module', ',', 'participant', 'fill', 'out', 'a', 'brief', 'post-intervention', 'questionnaire', ',', 'include', 'some', 'of', 'the', 'pre-intervention', 'measure', ',', 'feedback', 'question', 'about', 'the', 'intervention', ',', 'and', 'demographic', 'information', '(', 'describe', 'in', 'detail', 'below', ')', '.', 'upon', 'finish', 'the', 'intervention', ',', 'participant', 'receive', 'an', 'automated', 'email', 'encourage', 'them', 'to', 'continue', 'practice', 'the', 'activity', 'they', 'perform', ';', 'the', 'email', 'include', 'worksheet', 'to', 'help', 'them', 'practice', '.', 'because', 'our', 'primary', 'intention', 'be', 'to', 'provide', 'support', 'to', 'student', 'in', 'light', 'of', 'the', 'pandemic', ',', 'we', 'choose', 'not', 'to', 'include', 'a', 'control', 'group', 'or', 'require', 'participant', 'to', 'complete', 'follow-up', 'assessment', '.', 'with', 'this', 'in', 'mind', ',', 'we', 'apply', 'for', 'Quality', 'Assurance/Quality', 'Improvement', 'approval', 'from', 'the', 'Institutional', 'Review', 'Board', '(', 'see', 'supplementary', 'material', 'for', 'detail', ')', '.', 'study', 'procedure', 'be', 'review', 'and', 'deem', 'quality', 'improvement', 'by', 'the', 'University', 'of', 'Pennsylvania', 'Institutional', 'Review', 'Board', '.', '', '']]\n",
            "100\n",
            "198\n",
            " \n",
            "[['', 'depressive', 'symptom', '(', 'patient', 'health', 'questionnaire-2', ')', ':', ':', ':', 'baseline', 'measure', ':', ':', ':', 'measure', ':', ':', ':', 'material', 'and', 'method', '', 'the', 'Patient', 'Health', 'Questionnaire-2', '(', 'PHQ-2', ';', 'Kroenke', 'et', 'al.', ',', '@card@', ')', ',', 'a', 'commonly', 'use', 'measure', 'of', 'depression', ',', 'be', 'administer', 'to', 'participant', 'at', 'baseline', '.', 'the', 'PHQ-2', 'ask', 'participant', 'to', 'report', 'the', 'frequency', 'of', 'depressed', 'mood', 'and', 'anhedonia', 'over', 'the', 'past', '@card@', 'week', '.', 'each', 'item', 'be', 'score', 'from', '@card@', '(', '\"', 'not', 'at', 'all', '\"', ')', 'to', '@card@', '(', '\"', 'nearly', 'every', 'day', '\"', ')', '.', 'the', 'PHQ-2', 'have', 'demonstrate', 'strong', 'psychometric', 'property', ',', 'include', 'construct', 'validity', '.', 'PHQ-2', 'score', 'be', 'associate', 'with', 'functional', 'impairment', ',', 'symptom-related', 'difficulty', ',', 'and', 'clinician', 'rating', 'of', 'depression', '(', 'Kroenke', 'et', 'al.', ',', '@card@', ')', '.', 'Cronbach', \"'s\", 'alpha', 'in', 'our', 'sample', 'be', '@card@', '.', '', '']]\n",
            "141\n",
            " \n",
            "[['', 'anxiety', 'symptom', '(', 'generalize', 'anxiety', 'disorder-2', ')', ':', ':', ':', 'baseline', 'measure', ':', ':', ':', 'measure', ':', ':', ':', 'material', 'and', 'method', '', 'the', 'generalize', 'anxiety', 'disorder', '2-item', 'scale', '(', 'GAD-2', ';', 'Kroenke', 'et', 'al.', ',', '@card@', ')', ',', 'a', 'commonly', 'use', 'measure', 'of', 'anxiety', ',', 'be', 'administer', 'to', 'participant', 'at', 'baseline', '.', 'the', 'GAD-2', 'ask', 'participant', 'to', 'report', 'the', 'frequency', 'of', 'anxiety', 'and', 'inability', 'to', 'stop', 'worry', 'over', 'the', 'past', '@card@', 'week', '.', 'each', 'item', 'be', 'score', 'from', '@card@', '(', '\"', 'not', 'at', 'all', '\"', ')', 'to', '@card@', '(', '\"', 'nearly', 'every', 'day', '\"', ')', '.', 'the', 'GAD-2', 'have', 'demonstrate', 'strong', 'psychometric', 'property', ',', 'include', 'construct', 'validity', '.', 'GAD-2', 'score', 'be', 'associate', 'with', 'functional', 'impairment', ',', 'and', 'clinician', 'rating', 'of', 'anxiety', '(', 'Plummer', 'et', 'al.', ',', '@card@', ')', '.', 'Cronbach', \"'s\", 'alpha', 'in', 'our', 'sample', 'be', '@card@', '.', '', '']]\n",
            "142\n",
            " \n",
            "[['', 'acceptability', 'and', 'perceive', 'utility', ':', ':', ':', 'Post-module', 'measure', ':', ':', ':', 'measure', ':', ':', ':', 'material', 'and', 'method', '', 'after', 'each', 'module', ',', 'participant', 'be', 'ask', 'to', 'complete', 'the', 'acceptability', 'of', 'intervention', 'measure', '(', 'AIM', ';', 'Weiner', 'et', 'al.', ',', '@card@', ')', '.', 'the', 'item', 'of', 'the', 'AIM', 'prompt', 'participant', 'to', 'rate', 'the', 'degree', 'to', 'which', 'they', 'approve', 'of', ',', 'welcome', ',', 'like', ',', 'and', 'find', 'a', 'module', 'appeal', '.', 'participant', 'respond', 'to', 'the', 'four', 'item', 'on', 'a', '5-point', 'Likert', 'scale', ',', 'range', 'from', '@card@', '(', 'completely', 'disagree', ')', 'to', '@card@', '(', 'completely', 'agree', ')', '.', 'the', 'four'], ['rating', 'be', 'average', 'to', 'yield', 'an', 'acceptability', 'score', '(', 'Weiner', 'et', 'al.', ',', '@card@', ')', '.', 'we', 'also', 'administer', 'three', 'item', 'to', 'assess', 'the', 'perceive', 'helpfulness', ',', 'engagement', ',', 'and', 'applicability', 'of', 'each', 'intervention', 'module', '.', 'item', 'wording', 'be', 'adjust', 'depend', 'on', 'the', 'module', 'that', 'participant', 'receive', '.', 'for', 'instance', ',', 'participant', 'who', 'receive', 'the', 'behavioral', 'activation', 'module', 'be', 'ask', 'to', 'rate', 'the', 'follow', 'statement', ':', '\"', 'I', 'find', 'the', 'positive', 'activity', 'exercise', 'helpful', ',', '\"', '(', 'perceive', 'helpfulness', ')', ',', '\"', 'I', 'find', 'the', 'positive', 'activity', 'exercise', 'engage', ',', '\"', '(', 'engagement', ')', ',', 'and', '\"', 'I', 'think', 'I', 'will', 'continue', 'apply', 'content', 'from', 'the', 'positive', 'activity', 'exercise', 'in', 'the', 'week', 'ahead', '\"', '(', 'applicability', ')', '.', 'each', 'item', 'be', 'rate', 'on', 'a', '7-point', 'Likert', 'scale', 'range', 'from', '@card@', '(', '\"', 'strongly', 'disagree', '\"', ')', 'to', '@card@', '(', '\"', 'strongly', 'agree', '.', '\"', ')', '.', '', '']]\n",
            "100\n",
            "148\n",
            " \n",
            "[['', 'secondary', 'control', '(', 'secondary', 'control', 'scale', ')', ':', ':', ':', 'pre-', 'and', 'Post-intervention', 'measure', ':', ':', ':', 'measure', ':', ':', ':', 'material', 'and', 'method', '', 'secondary', 'control', 'refer', 'to', 'individual', \"'\", 'perceive', 'ability', 'to', 'manage', 'the', 'personal', 'or', 'psychological', 'impact', 'from', 'objective', 'condition', 'or', 'event', '(', 'Weisz', 'et', 'al.', ',', '@card@', ')', '.', 'secondary', 'control', 'have', 'be', 'contrast', 'with', 'primary', 'control', ',', 'the', 'ability', 'of', 'individual', 'to', 'influence', 'objective', 'condition', 'or', 'event', 'in', 'their', 'life', '(', 'Rothbaum', 'et', 'al.', ',', '@card@', ')', '.', 'secondary', 'control', 'may', 'be', 'especially', 'important', 'during', 'time', 'of', 'crisis', ',', 'when', 'individual', 'have', 'relatively', 'less'], ['primary', 'control', 'over', 'their', 'objective', 'situation', '.', 'for', 'example', ',', 'individual', 'during', 'the', 'COVID-19', 'crisis', 'do', 'not', 'have', 'much', 'control', 'over', 'where', 'they', 'can', 'travel', 'or', 'whom', 'they', 'can', 'visit', '(', 'primary', 'control', ')', '.', 'however', ',', 'they', 'be', 'able', 'to', 'control', 'how', 'they', 'respond', 'to', 'the', 'pandemic', 'and', 'the', 'lifestyle', 'change', 'cause', 'by', 'social', 'distancing', '(', 'secondary', 'control', ')', '.', 'to', 'assess', 'secondary', 'control', ',', 'we', 'adapt', 'three', 'item', 'from', 'the', 'secondary', 'Control', 'Scale', 'for', 'Children', '(', 'SCSC', ';', 'Weisz', 'et', 'al.', ',', '@card@', ')', ',', 'which', 'we', 'administer', 'at', 'baseline', 'and', 'post-intervention', '.', 'the', 'SCSC', 'ask', 'participant', 'to'], ['rate', 'the', 'extent', 'to', 'which', 'various', 'statement', 'be', 'true', 'about', 'how', 'they', 'react', 'to', 'negative', 'event', '.', 'each', 'item', 'be', 'score', 'on', 'a', '4-point', 'Likert', 'scale', 'from', '@card@', '(', '\"', 'very', 'false', '\"', ')', 'to', '@card@', '(', '\"', 'very', 'true', '\"', ')', '.', 'although', 'the', 'scale', 'be', 'initially', 'design', 'for', 'youth', 'and', 'adolescent', ',', 'it', 'contain', 'item', 'that', 'be', 'relevant', 'across', 'age', 'group', '.', 'to', 'reduce', 'participant', 'burden', 'and', 'to', 'ensure', 'that', 'the', 'question', 'be', 'relevant', 'to', 'our', 'sample', 'of', 'graduate', 'and', 'professional', 'student', ',', 'we', 'select', 'three', 'item', 'from', 'the', 'SCSC', '(', 'see', 'supplementary', 'material', ')', '.', 'the', 'SCSC', 'have', 'demonstrate', 'strong', 'psychometric', 'property', 'in', 'sample', 'of', 'youth', 'and', 'adolescent', '(', 'Weisz', 'et', 'al.', ',', '@card@', ';', 'Schleider', 'and', 'Weisz', ',', '@card@', ')', '.', 'Cronbach', \"'s\", 'alpha', 'for', 'the', 'three', 'item', 'in', 'our', 'sample', 'be', '@card@', '.', '', '']]\n",
            "100\n",
            "100\n",
            "140\n",
            " \n",
            "[['', 'ability', 'to', 'handle', 'COVID-19', 'and', 'perceive', 'impact', ':', ':', ':', 'pre-', 'and', 'Post-intervention', 'measure', ':', ':', ':', 'measure', ':', ':', ':', 'material', 'and', 'method', '', 'we', 'develop', 'and', 'administer', 'three', 'question', 'relate', 'to', 'the', 'COVID-19', 'pandemic', '.', 'the', 'first', 'two', 'question', 'be', 'administer', 'at', 'baseline', 'and', 'post-intervention', '.', 'the', 'first', 'question', 'ask', 'participant', 'about', 'their', 'perceive', 'ability', 'to', 'handle', 'lifestyle', 'change', 'that', 'result', 'from', 'the', 'COVID-19', 'crisis', '(', '\"', 'over', 'the', 'next', '@card@', 'week', ',', 'I', 'think', 'I', 'will', 'be', 'able', 'to', 'handle', 'lifestyle', 'change', 'that', 'have', 'result', 'from', 'the', 'coronavirus', 'pandemic', '\"', ')', '.', 'the', 'second', 'ask', 'participant', 'to', 'predict', 'the', 'impact', 'of', 'the', 'coronavirus', 'on', 'their', 'overall', 'quality', 'of', 'life', '(', '\"', 'over', 'the', 'next', '@card@', 'week', ',', 'I', 'think', 'the', 'pandemic', 'will', 'have', 'an', 'extremely', 'negative', 'impact', 'on', 'my', 'quality', 'of', 'life', '\"', ')', '.', 'both', 'statement', 'be', 'rate', 'on', 'a', '7-point', 'Likert', 'scale', 'range', 'from', '@card@', '(', '\"', 'strongly', 'disagree', '\"', ')', 'to', '@card@', '(', '\"', 'strongly', 'agree', '\"', ')', '.', '', '']]\n",
            "168\n",
            " \n",
            "[['', 'ability', 'to', 'handle', 'challenge', 'relate', 'to', 'COVID-19', ':', ':', ':', 'Post-intervention', 'measure', ':', ':', ':', 'measure', ':', ':', ':', 'material', 'and', 'method', '', 'a', 'third', 'question', 'about', 'COVID-19', ',', 'administer', 'post-intervention', 'only', ',', 'ask', 'participant', 'if', 'they', 'believe', 'that', 'the', 'content', 'in', 'the', 'program', 'could', 'help', 'them', 'handle', 'challenge', 'relate', 'to', 'coronavirus', '(', '\"', 'I', 'think', 'the', 'content', 'cover', 'in', 'this', 'program', 'could', 'help', 'me', 'handle', 'challenge', 'relate', 'to', 'the', 'coronavirus', 'over', 'the', 'next', 'few', 'week', '.', '\"', ')', '.', 'this', 'statement', 'be', 'also', 'rate', 'on', 'a', '7-point', 'Likert', 'scale', 'range', 'from', '\"', 'strongly', 'disagree', '\"', 'to', '\"', 'strongly', 'agree', '.', '\"', '', '']]\n",
            "105\n",
            " \n",
            "[['', 'demographic', 'information', ':', ':', ':', 'Post-intervention', 'measure', ':', ':', ':', 'measure', ':', ':', ':', 'material', 'and', 'method', '', 'participant', 'be', 'ask', 'to', 'report', 'their', 'biological', 'sex', ',', 'sexual', 'orientation', ',', 'race', ',', 'economic', 'class', ',', 'and', 'mental', 'health', 'history', '.', 'to', 'avoid', 'bias', 'participant', \"'\", 'response', 'to', 'other', 'questionnaire', ',', 'we', 'include', 'the', 'demographic', 'question', 'at', 'the', 'end', 'of', 'the', 'survey', '.', 'when', 'develop', 'our', 'item', 'and', 'response', 'option', ',', 'we', 'follow', 'guideline', 'on', 'good', 'practice', 'for', 'assess', 'demographic', 'characteristic', '(', 'see', 'Hughes', 'et', 'al.', ',', '@card@', ')', '.', '', '']]\n",
            "92\n",
            " \n",
            "[['', 'sample', 'characterization', 'and', 'usage', 'pattern', ':', ':', ':', 'analytic', 'plan', ':', ':', ':', 'material', 'and', 'method', '', 'to', 'assess', 'usage', 'pattern', 'with', 'the', 'single-session', 'intervention', ',', 'we', 'report', 'the', 'number', 'of', 'student', 'who', 'encounter', 'the', 'first', 'screen', 'of', 'their', 'first', 'module', '(', '\"', 'starter', '\"', ')', '.', 'starter', 'be', 'divide', 'into', '\"', 'completer', '\"', '(', 'people', 'who', 'finish', 'both', 'of', 'the', 'module', 'assign', 'to', 'them', ')', 'and', '\"', 'non-completer', '\"', '(', 'people', 'who', 'complete', 'only', 'one', 'module', 'or', 'zero', 'module', ')', '.', 'completion', 'rate', 'be', 'the', 'proportion', 'of', 'completer', 'to', 'starter', '.', 'we', 'also', 'report', 'the', 'number', 'of', 'time'], ['the', 'Qualtrics', 'link', 'be', 'click', '.', 'however', ',', 'because', 'an', 'individual', 'could', 'have', 'click', 'the', 'link', 'multiple', 'time', ',', 'this', 'number', 'do', 'not', 'represent', 'the', 'number', 'of', 'individual', 'who', 'click', 'the', 'link', '.', 'we', 'report', 'the', 'symptom', 'level', 'for', 'completer', '(', 'n', '=', '@card@', ')', 'and', 'non-completer', '(', 'n', '=', '@card@', ')', '.', 'as', 'demographic', 'information', 'be', 'obtain', 'from', 'participant', 'after', 'they', 'complete', 'both', 'module', ',', 'we', 'only', 'have', 'demographic', 'information', 'for', 'completer', '.', 'fifteen', 'completer', 'choose', 'not', 'to', 'provide', 'demographic', 'information', '.', 'to', 'assess', 'whether', 'completion', 'of', 'intervention', 'be', 'relate', 'to', 'report', 'level', 'of', 'depressive', 'symptom', ',', 'anxiety', 'symptom', ',', 'or', 'secondary', 'control', ',', 'we', 'conduct', 'independent', 'sample', 't-test', 'compare', 'completer', 'and', 'non-completer', '.', '', '']]\n",
            "100\n",
            "117\n",
            " \n",
            "[['', 'acceptability', 'and', 'perceive', 'utility', ':', ':', ':', 'analytic', 'plan', ':', ':', ':', 'material', 'and', 'method', '', 'acceptability', 'be', 'measure', 'after', 'each', 'module', '.', 'thus', ',', 'completer', 'fill', 'out', 'two', 'set', 'of', 'acceptability', 'rating', '(', 'one', 'for', 'each', 'of', 'the', 'two', 'module', 'they', 'receive', ')', ',', 'while', 'some', 'non-completer', '(', 'those', 'who', 'complete', 'one', 'module', ')', 'fill', 'out', 'one', 'set', 'of', 'acceptability', 'rating', '.', 'for', 'completer', ',', 'we', 'average', 'the', 'acceptability', 'score', 'across', 'the', 'two', 'module', 'that', 'they', 'rate', '.', 'for', 'non-completer', 'who', 'complete', 'one', 'module', ',', 'we', 'use', 'the', 'score', 'from', 'the', 'one', 'module', 'they', 'rate', '.', 'draw', 'from'], ['previous', 'research', 'on', 'single-session', 'intervention', '(', 'Schleider', 'et', 'al.', ',', '@card@', ')', ',', 'we', 'operationalize', 'mean', 'score', '&gt;3', 'as', 'overall', 'perceive', 'single-session', 'intervention', 'acceptability', '.', 'to', 'evaluate', 'potential', 'group-level', 'difference', 'in', 'acceptability', 'rating', ',', 'we', 'examine', 'the', 'association', 'between', 'acceptability', 'and', 'sex', ',', 'race', ',', 'sexual', 'orientation', ',', 'age', ',', 'economic', 'class', ',', 'depressive', 'symptom', ',', 'anxiety', 'symptom', ',', 'and', 'secondary', 'control', '.', 'we', 'also', 'compare', 'acceptability', 'rating', 'between', 'completer', 'and', 'non-completer', '.', 'helpfulness', ',', 'engagement', ',', 'and', 'applicability', 'be', 'also', 'assess', 'after', 'each', 'module', '.', 'we', 'treat', 'the', 'rating', 'by', 'completer', 'and', 'non-completer', 'in', 'the', 'manner', 'describe', 'above', 'for', 'acceptability', '.', 'we', 'report', 'the', 'mean', 'score', 'and', 'standard', 'deviation', 'for', 'each', 'of', 'the', 'three', 'item', 'relate', 'to', 'helpfulness', ',', 'engagement', ',', 'and', 'applicability', '.', 'because', 'score', 'be', 'highly', 'correlate', '(', 'all', 'rs', '&gt;', '@card@', ')', ',', 'we', 'combine', 'these', 'item', 'into', 'a', 'single', 'variable', ',', 'which', 'we', 'refer', 'to', 'as', '\"', 'perceive', 'utility', '.', '\"', 'to', 'evaluate', 'potential', 'group-level', 'difference', 'in', 'perceive', 'utility', ',', 'we', 'conduct', 'the', 'same', 'analysis', 'describe', 'above', 'for', 'acceptability', '.', '', '']]\n",
            "100\n",
            "177\n",
            " \n",
            "[['', 'secondary', 'control', ':', ':', ':', 'analytic', 'plan', ':', ':', ':', 'material', 'and', 'method', '', 'we', 'compute', 'pair', 'sample', 't-test', 'and', 'estimated', 'within-group', 'effect', 'size', '(', 'Cohen', \"'s\", 'd', 'with', '@card@', '%', 'confidence', 'interval', ')', 'to', 'assess', 'report', 'change', 'on', 'secondary', 'control', 'from', 'pre-intervention', 'to', 'post-intervention', '.', 'follow', 'guideline', 'by', 'Lakens', '(', '@card@', ')', ',', 'we', 'calculate', 'the', 'pre–post', 'effect', 'size', 'use', 'two', 'method', '.', 'we', 'report', 'both', 'dav', '(', 'which', 'do', 'not', 'take', 'into', 'account', 'correlation', 'between', 'pre-', 'and', 'post-', 'program', 'measure', ')', 'and', 'dz', '(', 'which', 'account', 'for', 'correlation', 'between', 'pre-', 'and', 'post-', 'program', 'measure', ')', '.', '', '']]\n",
            "101\n",
            " \n",
            "[['', 'question', 'about', 'COVID-19', ':', ':', ':', 'analytic', 'plan', ':', ':', ':', 'material', 'and', 'method', '', 'for', 'the', 'two', 'question', 'about', 'COVID-19', 'administer', 'pre-', 'and', 'post-intervention', ',', 'we', 'use', 'the', 'same', 'process', 'describe', 'above', 'for', 'secondary', 'control', '.', 'because', 'the', 'two', 'COVID-19', 'question', 'be', 'conceptually', 'distinct', '(', 'one', 'ask', 'about', 'ability', 'to', 'handle', 'COVID-related', 'problem', 'and', 'one', 'ask', 'about', 'the', 'perceive', 'impact', 'of', 'COVID-19', ')', ',', 'we', 'compute', 'separate', 'effect', 'size', 'for', 'the', 'two', 'COVID-19', 'question', '.', 'for', 'the', 'question', 'about', 'the', 'perceive', 'impact', 'of', 'the', 'intervention', 'on', 'participant', \"'\", 'ability', 'to', 'handle', 'coronavirus-related', 'challenge', ',', 'which', 'be', 'administer', 'post-intervention', 'only', ',', 'we', 'report', 'the', 'mean', ',', 'standard', 'deviation', ',', 'and', '%', 'endorsement', '(', 'score', '&gt;', '@card@', ')', '.', '', '']]\n",
            "121\n",
            " \n",
            "[['', 'missing', 'datum', ':', ':', ':', 'analytic', 'plan', ':', ':', ':', 'material', 'and', 'method', '', 'we', 'use', 'all', 'available', 'datum', 'for', 'each', 'analysis', 'describe', 'above', '.', 'because', 'one', 'of', 'our', 'aim', 'involve', 'examine', 'attrition', ',', 'miss', 'datum', 'be', 'report', 'but', 'not', 'impute', '.', 'miss', 'datum', 'for', 'analysis', 'be', 'handle', 'via', 'pairwise', 'deletion', '.', '', '']]\n",
            "55\n",
            " \n",
            "[['', 'sample', 'characteristic', 'and', 'usage', 'pattern', ':', ':', ':', 'result', '', 'from', '@card@', 'to', '@card@', ',', 'our', 'survey', 'link', 'receive', '@card@', 'click', '.', '@card@', 'individual', 'complete', 'pre-test', 'question', 'and', 'be', 'assign', 'to', 'an', 'intervention', '.', 'of', 'these', ',', '@card@', 'individual', 'complete', 'both', 'module', 'of', 'the', 'single-session', 'intervention', ',', 'yield', 'an', 'overall', 'completion', 'rate', 'of', '@card@', '%', 'among', 'those', 'who', 'be', 'assign', 'to', 'an', 'intervention', '.', 'demographic', 'characteristic', 'for', 'completer', 'be', 'present', 'in', 'Table', '@card@', '.', 'Qualtrics', 'record', 'the', 'amount', 'of', 'time', 'that', 'individual', 'spend', 'on', 'the', 'survey', '.', 'among', 'completer', ',', 'the', 'median', 'time', 'spend', 'on', 'the', 'program', ',', 'inclusive'], ['of', 'all', 'questionnaire', ',', 'be', '@card@', 'min', '(', '1st', 'quartile', '=', '@card@', 'min', ')', '.', 'however', ',', 'participant', 'be', 'not', 'prevent', 'from', 'multitask', 'or', 'take', 'a', 'break', 'while', 'complete', 'the', 'survey', ',', 'and', 'they', 'have', 'to', 'complete', 'the', 'questionnaire', 'in', 'addition', 'to', 'the', 'module', '.', 'thus', ',', 'the', 'Qualtrics', 'figure', 'represent', 'an', 'overestimate', 'of', 'the', 'time', 'require', 'to', 'complete', 'the', 'intervention', '.', 'to', 'describe', 'our', 'sample', ',', 'we', 'provide', 'completer', \"'\", 'and', 'non-completer', \"'\", 'report', 'of', 'depressive', 'symptom', '[', 'completer', ':', 'M', '=', '@card@', ',', 'SD', '=', '@card@', ';', 'non-completer', ':', 'M', '=', '@card@', ',', 'SD', '=', '@card@', ';', 't(115.55)'], ['=', '−0.34', ',', 'p', '=', '@card@', ',', 'd', '=', '−0.05', ']', 'and', 'anxiety', 'symptom', '[', 'completer', ':', 'M', '=', '@card@', ',', 'SD', '=', '@card@', ';', 'non-completer', ':', 'M', '=', '@card@', ',', 'SD', '=', '@card@', ';', 't(119.12)', '=', '−1.12', ',', 'p', '=', '@card@', ',', 'd', '=', '−0.16', ']', ';', 'difference', 'between', 'completer', 'and', 'non-completer', 'be', 'not', 'statistically', 'significant', '.', 'apply', 'score', 'guideline', 'for', 'the', 'PHQ-2', '(', 'use', 'a', 'cutoff', 'score', 'of', '@card@', ')', ',', '@card@', '%', 'of', 'the', 'completer', 'and', '@card@', '%', 'of', 'non-completer', 'would', 'screen', 'positive', 'for', 'likely', 'clinical', 'depression', '.', 'apply', 'score', 'guideline', 'for', 'the', 'GAD-2', '(', 'use', 'a', 'cutoff', 'score', 'of', '@card@', ')', ',', '@card@', '%', 'of', 'the', 'completer', 'and', '@card@', '%', 'of', 'non-completer', 'would', 'screen', 'positive', 'for', 'likely', 'clinical', 'anxiety', '.', '', '']]\n",
            "100\n",
            "100\n",
            "126\n",
            " \n",
            "[['', 'acceptability', 'and', 'perceive', 'utility', ':', ':', ':', 'result', '', 'table', '@card@', 'show', 'participant', \"'\", 'rating', 'of', 'acceptability', ',', 'perceive', 'helpfulness', ',', 'engagement', ',', 'and', 'applicability', '.', 'we', 'compare', 'rating', 'on', 'the', 'acceptability', 'metric', '(', 'the', 'AIM', ')', 'between', 'completer', 'and', 'non-completer', '.', 'because', 'non-completer', 'only', 'have', 'AIM', 'rating', 'available', 'for', 'one', 'module', '(', 'the', 'first', 'module', 'they', 'be', 'assign', ')', ',', 'we', 'use', 'completer', \"'\", 'score', 'on', 'their', 'first', 'module', 'for', 'the', 'comparison', '.', 'acceptability', 'rating', 'be', 'provide', 'for', 'the', 'first', 'module', 'participant', 'receive', '(', 'completer', ':', 'M', '=', '@card@', ',', 'SD', '=', '@card@', ';', 'non-completer', ':', 'M', '='], ['@card@', ',', 'SD', '=', '@card@', ')', ';', 'difference', 'between', 'completer', 'and', 'non-completer', 'be', 'not', 'statistically', 'significant', '[', 't(28.86)', '=', '@card@', ',', 'p', '=', '@card@', ',', 'd', '=', '@card@', ']', '.', 'for', 'completer', ',', 'rating', 'on', 'the', 'first', 'module', 'they', 'complete', 'be', 'not', 'statistically', 'significantly', 'different', 'than', 'rating', 'on', 'the', 'second', 'module', 'they', 'complete', ';', 'M', '=', '@card@', ',', 'SD', '=', '@card@', ';', 't(179)', '=', '−0.83', ',', 'p', '=', '@card@', ',', 'd', '=', '−0.06', '.', '@card@', '%', 'of', 'completer', 'and', '@card@', '%', 'of', 'non-completer', 'provide', 'acceptability', 'rating', 'that', 'average', 'great', 'than', '@card@', ',', 'with', 'completer', 'more', 'likely', 'to', 'have', 'score', 'above'], ['a', '@card@', ';', 'X2(1', ',', 'N', '=', '@card@', ')', '=', '@card@', ',', 'p', '=', '@card@', '.', 'difference', 'in', 'acceptability', 'be', 'not', 'statistically', 'significant', 'by', 'sex', ',', 'race', ',', 'sexuality', ',', 'age', ',', 'economic', 'class', ',', 'depressive', 'symptom', ',', 'or', 'anxiety', 'symptom', '(', 'all', 'ps', '&gt;', '@card@', ')', '.', 'there', 'be', 'a', 'weak', 'association', 'between', 'secondary', 'control', 'at', 'baseline', 'and', 'acceptability', 'rating', '.', 'individual', 'with', 'great', 'secondary', 'control', 'at', 'baseline', 'report', 'slightly', 'high', 'acceptability', 'score', ';', 'r(207)', '=', '@card@', ',', 'p', '=', '@card@', '.', 'to', 'investigate', 'this', 'further', ',', 'we', 'apply', 'a', 'linear', 'regression', ';', 'we', 'find', 'that', 'a', 'one-point', 'increase'], ['on', 'the', 'secondary', 'control', 'scale', 'be', 'associate', 'with', 'an', 'increase', 'on', 'the', 'AIM', 'of', '@card@', 'point', '.', 'the', 'intercept', 'be', '@card@', ',', 'suggest', 'that', 'an', 'individual', 'with', 'a', 'score', 'of', '@card@', 'on', 'the', 'secondary', 'control', 'scale', 'would', 'still', 'be', 'predict', 'to', 'rate', 'comet', 'as', 'acceptable', '.', 'additionally', ',', 'at', 'each', 'level', 'of', 'secondary', 'control', '(', 'range', 'from', '@card@', 'to', '@card@', 'in', 'our', 'sample', ')', ',', 'the', 'majority', 'of', 'participant', 'report', 'an', 'acceptability', 'score', 'great', 'than', 'three', '.', 'thus', ',', 'while', 'there', 'be', 'a', 'significant', 'association', 'between', 'secondary', 'control', 'and', 'acceptability', ',', 'even', 'participant', 'report', 'low', 'level', 'of', 'secondary', 'control', 'tend'], ['to', 'view', 'the', 'comet', 'module', 'as', 'acceptable', '.', 'participant', 'generally', 'report', 'favorable', 'rating', '(', 'i.e.', ',', '&gt;4', ')', 'on', 'the', 'perceive', 'utility', 'item', ':', 'perceive', 'helpfulness', '(', 'completer', ':', 'M', '=', '@card@', ',', 'SD', '=', '@card@', ';', 'non-completer', ':', 'M', '=', '@card@', ',', 'SD', '=', '@card@', ')', ',', 'engagement', '(', 'completer', ':', 'M', '=', '@card@', ',', 'SD', '=', '@card@', ';', 'non-completer', ':', 'M', '=', '@card@', ',', 'SD', '=', '@card@', ')', ',', 'and', 'applicability', '(', 'completer', ':', 'M', '=', '@card@', ',', 'SD', '=', '@card@', ';', 'non-completer', ':', 'M', '=', '@card@', ',', 'SD', '=', '@card@', ')', '.', 'we', 'also', 'calculate', 'the', 'percentage'], ['of', 'participant', 'who', 'endorse', 'the', 'module', '(', 'i.e.', ',', 'mean', 'score', '&gt;', '@card@', ')', 'as', 'helpful', '(', '@card@', '%', 'of', 'completer', 'and', '@card@', '%', 'of', 'non-completer', ')', ',', 'engaging', '(', '@card@', '%', 'of', 'completer', 'and', '@card@', '%', 'of', 'non-completer', ')', ',', 'and', 'applicable', '(', '@card@', '%', 'of', 'completer', 'and', '@card@', '%', 'of', 'non-completer', ')', '.', 'as', 'mention', ',', 'due', 'to', 'the', 'high', 'correlation', 'between', 'these', 'item', ',', 'we', 'combine', 'these', 'item', 'into', 'one', 'variable', '(', 'the', 'perceive', 'utility', 'score', ')', 'to', 'reduce', 'the', 'number', 'of', 'test', 'we', 'perform', '.', 'we', 'calculate', 'perceive', 'utility', 'rating', 'for', 'the', 'first', 'module', 'participant', 'receive'], ['(', 'completer', ':', 'M', '=', '@card@', ',', 'SD', '=', '@card@', ';', 'non-completer', ':', 'M', '=', '@card@', ',', 'SD', '=', '@card@', ')', ';', 'difference', 'between', 'completer', 'and', 'non-completer', 'be', 'not', 'statistically', 'significant', '[', 't(30.07)', '=', '@card@', 'p', '=', '@card@', ',', 'd', '=', '@card@', ']', '.', 'for', 'completer', ',', 'rating', 'on', 'the', 'first', 'module', 'they', 'complete', 'be', 'not', 'statistically', 'significantly', 'different', 'than', 'rating', 'on', 'the', 'second', 'module', 'they', 'complete', ';', 'M', '=', '@card@', ',', 'SD', '=', '@card@', ';', 't(180)', '=', '−1.13', ',', 'p', '=', '@card@', ',', 'd', '=', '−0.09', '.', 'difference', 'in', 'perceive', 'utility', 'be', 'not', 'statistically', 'significantly', 'different', 'by', 'sex', ','], ['race', ',', 'sexuality', ',', 'age', ',', 'economic', 'class', ',', 'depressive', 'symptom', ',', 'anxiety', 'symptom', ',', 'or', 'completion', 'status', '(', 'all', 'ps', '&gt;', '@card@', ')', '.', 'individual', 'with', 'great', 'secondary', 'control', 'at', 'baseline', 'report', 'slightly', 'higher', 'perceive', 'utility', 'score', ';', 'r(208)', '=', '@card@', ',', 'p', '=', '@card@', '.', 'the', 'trend', 'describe', 'above', 'for', 'acceptability', 'be', 'also', 'find', 'for', 'perceive', 'utility', ';', 'at', 'each', 'level', 'of', 'secondary', 'control', '(', 'range', 'from', '@card@', 'to', '@card@', 'in', 'our', 'sample', ')', ',', 'the', 'majority', 'of', 'participant', 'report', 'an', 'acceptability', 'score', 'great', 'than', 'four', '.', '@card@', '%', 'of', 'completer', 'and', '@card@', '%', 'of', 'non-completer', 'provide', 'perceive', 'utility', 'rating', 'that', 'average', 'great', 'than', '@card@', ',', 'and', 'there', 'be', 'no', 'statistically', 'significant', 'difference', 'between', 'completer', 'and', 'non-completer', ';', 'X2(1', ',', 'N', '=', '@card@', ')', '=', '@card@', ',', 'p', '=', '@card@', '.', '', '']]\n",
            "100\n",
            "100\n",
            "100\n",
            "100\n",
            "100\n",
            "100\n",
            "100\n",
            "135\n",
            " \n",
            "[['', 'change', 'in', 'secondary', 'control', ':', ':', ':', 'result', '', 'table', '@card@', 'show', 'the', 'result', 'of', 'our', 'pair', 'sample', 't-test', 'and', 'effect', 'size', 'for', 'the', 'measure', 'deliver', 'at', 'both', 'baseline', 'and', 'post-intervention', '.', 'completer', 'report', 'a', 'statistically', 'significant', 'improvement', 'in', 'secondary', 'control', 'from', 'pre-intervention', 'to', 'post-intervention', ';', 't(173)', '=', '−6.53', ',', 'p', '&lt;', '@card@', '.', 'secondary', 'control', 'score', 'be', 'great', 'post-intervention', '(', 'M', '=', '@card@', ',', 'SD', '=', '@card@', ')', 'than', 'pre-intervention', '(', 'M', '=', '@card@', ',', 'SD', '=', '@card@', ')', ',', 'with', 'moderate', 'standardized', 'effect', 'size', '(', 'Dav', '=', '@card@', ',', 'dz', '=', '@card@', ')', '.', '', '']]\n",
            "99\n",
            " \n",
            "[['', 'change', 'in', 'COVID-19', 'question', ':', ':', ':', 'result', '', 'completer', 'report', 'improvement', 'in', 'the', 'perceive', 'impact', 'of', 'the', 'COVID-19', 'crisis', 'on', 'their', 'quality', 'of', 'life', 'from', 'pre-intervention', 'to', 'post-intervention', '.', 'participant', 'be', 'less', 'likely', 'to', 'endorse', 'the', 'statement', 'that', 'the', 'COVID-19', 'crisis', 'would', 'have', 'an', 'extremely', 'negative', 'impact', 'on', 'their', 'quality', 'of', 'life', 'post-intervention', '(', 'M', '=', '@card@', ',', 'SD', '=', '@card@', ')', 'than', 'pre-intervention', '(', 'M', '=', '@card@', ',', 'SD', '=', '@card@', ')', ',', 'with', 'small', 'standardized', 'effect', 'size', '(', 'Dav', '=', '@card@', ',', 'dz', '=', '@card@', ')', '.', 'this', 'difference', 'be', 'statistically', 'significant', ';', 't(178)', '=', '@card@'], [',', 'p', '&lt;', '@card@', '.', 'completer', 'also', 'report', 'improvement', 'in', 'their', 'perceive', 'ability', 'to', 'handle', 'COVID-related', 'change', 'from', 'pre-intervention', 'to', 'post-intervention', '.', 'participant', 'be', 'slightly', 'more', 'likely', 'to', 'endorse', 'the', 'statement', 'that', 'they', 'would', 'be', 'able', 'to', 'handle', 'COVID-related', 'change', 'post-intervention', '(', 'M', '=', '@card@', ',', 'SD', '=', '@card@', ')', 'than', 'pre-intervention', '(', 'M', '=', '@card@', ',', 'SD', '=', '@card@', ')', ',', 'with', 'small', 'standardized', 'effect', 'size', '(', 'Dav', '=', '@card@', ',', 'dz', '=', '@card@', ')', '.', 'however', ',', 'this', 'difference', 'do', 'not', 'meet', 'the', 'threshold', 'for', 'statistical', 'significance', ';', 't(178)', '=', '@card@', ',', 'p', '=', '@card@', '.', 'finally', ',', '@card@', '%', 'of', 'completer', 'believe', 'that', 'the', 'content', 'cover', 'in', 'the', 'program', 'could', 'help', 'them', 'manage', 'challenge', 'relate', 'to', 'the', 'COVID-19', 'crisis', '(', 'M', '=', '@card@', ',', 'SD', '=', '@card@', ')', '.', '', '']]\n",
            "100\n",
            "134\n",
            " \n",
            "[['', 'discussion', '', 'overall', ',', 'our', 'finding', 'demonstrate', 'that', 'brief', 'online', 'intervention', ',', 'such', 'as', 'comet', ',', 'can', 'be', 'a', 'feasible', 'and', 'useful', 'way', 'to', 'provide', 'support', 'to', 'individual', 'during', 'the', 'COVID-19', 'crisis', '.', 'one', 'major', 'benefit', 'of', 'such', 'intervention', 'be', 'that', 'they', 'be', 'flexible', ';', 'they', 'can', 'be', 'modify', 'and', 'update', 'regularly', '.', 'this', 'be', 'possible', 'even', 'under', 'time', 'constraint', ';', 'respond', 'to', 'the', 'COVID-19', 'crisis', ',', 'our', 'small', 'team', 'be', 'able', 'to', 'adapt', 'an', 'existing', 'online', 'intervention', 'over', 'the', 'course', 'of', 'just', '@card@', 'week', '.', 'the', 'flexibility', 'of', 'single-session', 'intervention', 'allow', 'them', 'to', 'be', 'rapidly', 'deploy', 'in', 'time'], ['of', 'crisis', '.', 'once', 'deploy', ',', 'these', 'intervention', 'can', 'quickly', 'reach', 'large', 'number', 'of', 'people', '.', 'in', 'just', '@card@', 'week', ',', '@card@', 'individual', 'begin', 'and', '@card@', 'individual', 'complete', 'comet', '.', 'we', 'not', 'only', 'find', 'that', 'many', 'graduate', 'and', 'professional', 'student', 'be', 'interested', 'in', 'the', 'single-session', 'intervention', 'and', 'willing', 'to', 'complete', 'it', ',', 'but', 'also', 'that', 'they', 'rate', 'comet', 'highly', 'on', 'acceptability', 'and', 'perceive', 'utility', '.', 'furthermore', ',', 'acceptability', 'rating', 'and', 'perceive', 'utility', 'rating', 'do', 'not', 'differ', 'by', 'report', 'depressive', 'symptom', 'or', 'anxiety', 'symptom', ';', 'comet', 'appear', 'to', 'be', 'welcome', 'by', 'individual', 'with', 'elevated', 'mental', 'health', 'symptom', 'as', 'well', 'as', 'those'], ['without', '.', 'acceptability', 'rating', 'differ', 'slightly', 'by', 'secondary', 'control', '.', 'individual', 'with', 'high', 'secondary', 'control–the', 'sense', 'that', 'they', 'can', 'control', 'their', 'reaction', 'to', 'objective', 'circumstances–tended', 'to', 'provide', 'slightly', 'high', 'rating', 'of', 'acceptability', '.', 'this', 'finding', 'might', 'be', 'explain', 'by', 'the', 'fact', 'that', 'individual', 'who', 'believe', 'they', 'can', 'handle', 'their', 'own', 'response', 'may', 'be', 'more', 'likely', 'to', 'like', 'program', 'that', 'promote', 'agency', 'in', 'respond', 'to', 'objective', 'circumstance', '.', 'our', 'finding', 'also', 'provide', 'preliminary', 'datum', 'suggest', 'that', 'these', 'intervention', 'can', 'be', 'helpful', 'during', 'time', 'of', 'crisis', '.', 'participant', 'report', 'great', 'level', 'of', 'secondary', 'control', 'post-intervention', ',', 'which', 'may', 'be', 'especially', 'important', 'during'], ['the', 'COVID-19', 'crisis', '.', 'perceive', 'primary', 'control', '(', 'the', 'belief', 'individual', 'can', 'influence', 'objective', 'event', 'and', 'circumstance', 'in', 'their', 'life', ')', 'and', 'secondary', 'control', 'be', 'protective', 'factor', 'for', 'the', 'development', 'of', 'mental', 'health', 'problem', '(', 'Rothbaum', 'et', 'al.', ',', '@card@', ';', 'Weisz', 'et', 'al.', ',', '@card@', ')', '.', 'however', ',', 'while', 'individual', 'have', 'some', 'control', 'over', 'the', 'protective', 'measure', 'they', 'take', 'against', 'COVID-19', '(', 'such', 'as', 'stay', 'in', 'their', 'home', 'and', 'avoid', 'gathering', ')', ',', 'the', 'crisis', 'have', 'limit', 'the', 'ability', 'of', 'people', 'to', 'influence', 'their', 'objective', 'social', ',', 'emotional', ',', 'academic', ',', 'and', 'economic', 'circumstance', '.', 'COVID-19', 'have', 'make'], ['it', 'difficult', 'or', 'impossible', 'for', 'individual', 'to', 'safely', 'visit', 'their', 'love', 'one', ',', 'protect', 'those', 'who', 'be', 'expose', 'to', 'the', 'virus', ',', 'keep', 'their', 'job', ',', 'and', 'maintain', 'their', 'daily', 'routine', '.', 'more', 'broadly', ',', 'individual', 'have', 'little', 'control', 'over', 'how', 'long', 'the', 'pandemic', 'will', 'last', ',', 'how', 'the', 'economy', 'will', 'change', ',', 'or', 'how', 'the', 'virus', 'will', 'affect', 'the', 'health', 'and', 'life', 'of', 'their', 'love', 'one', '.', 'in', 'this', 'context', ',', 'we', 'believe', 'that', 'secondary', 'control', ',', 'the', 'tendency', 'to', 'believe', 'that', 'one', 'can', 'cope', 'with', 'stressful', 'situation', 'even', 'when', 'one', 'have', 'little', 'control', 'over', 'the', 'outcome', ',', 'will'], ['be', 'especially', 'important', 'during', 'the', 'crisis', '.', 'intervention', 'that', 'improve', 'perceive', 'secondary', 'control', 'will', 'be', 'essential', 'public', 'health', 'tool', 'in', 'the', 'month', 'ahead', '.', 'as', 'we', 'have', 'emphasize', ',', 'it', 'be', 'also', 'important', 'to', 'evaluate', 'the', 'acceptability', ',', 'implementation', ',', 'and', 'uptake', 'of', 'such', 'intervention', '.', 'unfortunately', ',', 'as', 'mention', 'previously', ',', 'few', 'digital', 'intervention', 'have', 'demonstrate', 'acceptability', 'and', 'uptake', 'in', 'real-world', 'setting', '(', 'Fleming', 'et', 'al.', ',', '@card@', ';', 'Buss', 'et', 'al.', ',', '@card@', ')', '.', 'drop-out', 'rate', 'in', 'open', 'trial', 'of', 'digital', 'intervention', 'be', 'high', '(', 'Fleming', 'et', 'al.', ',', '@card@', ')', ',', 'user', 'rarely', 'spend', 'more', 'than'], ['a', 'few', 'minute', 'on', 'digital', 'mental', 'health', 'intervention', '(', 'Baumel', 'et', 'al.', ',', '@card@', ')', ',', 'and', 'most', 'publicly', 'available', 'mental', 'health', 'apps', 'generally', 'fail', 'to', 'retain', 'user', '(', 'Wasil', 'et', 'al.', ',', '2020e', ')', '.', 'with', 'this', 'in', 'mind', ',', 'some', 'of', 'our', 'finding', 'be', 'especially', 'promising', '.', 'individual', 'enroll', 'in', 'our', 'intervention', 'over', 'a', 'short', 'timeframe', ',', 'consider', 'our', 'intervention', 'acceptable', ',', 'and', 'believe', 'our', 'intervention', 'be', 'helpful', ',', 'engaging', ',', 'and', 'applicable', 'to', 'their', 'life', '.', 'identify', 'specific', 'strategy', 'that', 'lead', 'to', 'high', 'acceptability', ',', 'especially', 'strategy', 'that', 'could', 'be', 'replicate', 'in', 'future', 'mental', 'health', 'promotion', 'effort'], [',', 'could', 'be', 'highly', 'valuable', '.', 'there', 'be', 'a', 'few', 'unique', 'aspect', 'of', 'our', 'process', 'that', 'may', 'have', 'lead', 'to', 'favorable', 'acceptability', 'rating', 'and', 'uptake', '.', 'first', ',', 'we', 'intentionally', 'advertise', 'comet', 'as', 'a', 'program', 'that', 'all', 'student', 'could', 'benefit', 'from', '.', 'draw', 'from', 'work', 'in', 'low-', 'and', 'middle-income', 'country', '(', 'e.g.', ',', 'Osborn', 'et', 'al.', ',', '@card@', ')', ',', 'we', 'reason', 'that', 'brand', 'our', 'intervention', 'as', 'a', 'program', 'that', 'anyone', 'could', 'benefit', 'from', 'could', 'circumvent', 'some', 'of', 'the', 'stigma', 'associate', 'with', 'help-seeking', 'for', 'psychiatric', 'disorder', '.', 'consequently', ',', 'rather', 'than', 'mention', 'depression', 'or', 'anxiety', ',', 'we', 'brand', 'the', 'intervention'], ['as', 'one', 'that', 'could', 'help', 'individual', '\"', 'adjust', 'to', 'change', 'life', 'circumstance', ',', 'manage', 'emotion', ',', 'and', 'achieve', 'goal', '\"', '.', 'furthermore', ',', 'rather', 'than', 'refer', 'to', 'two', 'of', 'the', 'module', 'as', '\"', 'behavioral', 'activation', '\"', 'and', '\"', 'cognitive', 'restructuring”–technical', 'term', 'that', 'may', 'be', 'associate', 'with', 'formal', 'psychotherapy–we', 'relabel', 'these', 'section', 'as', '\"', 'positive', 'activity', '\"', 'and', '\"', 'flexible', 'thinking', '.', '\"', 'future', 'research', 'could', 'examine', 'different', 'way', 'to', 'present', 'and', 'advertise', 'these', 'or', 'other', 'evidence-based', 'intervention', 'module', '.', 'such', 'research', 'could', 'draw', 'from', 'work', 'on', 'the', 'direct-to-consumer', 'marketing', 'of', 'mental', 'health', 'intervention', '(', 'Becker', ',', '@card@', ';', 'Rith-Najarian', 'et'], ['al.', ',', '2019b', ')', '.', 'our', 'partnership', 'with', 'university', 'dean', 'be', 'also', 'essential', '.', 'as', 'a', 'result', 'of', 'this', 'partnership', ',', 'information', 'about', 'our', 'intervention', 'be', 'distribute', 'to', 'a', 'wide', 'array', 'of', 'student', 'across', 'the', 'university', '.', 'additionally', ',', 'since', 'the', 'recruitment', 'message', 'be', 'send', 'out', 'use', 'the', 'official', 'student', 'listservs', '(', 'which', 'be', 'often', 'use', 'for', 'important', 'communication', ')', ',', 'student', 'may', 'have', 'be', 'more', 'likely', 'to', 'notice', 'and', 'open', 'the', 'message', '.', 'in', 'these', 'way', ',', 'our', 'finding', 'showcase', 'the', 'potential', 'utility', 'of', 'partnership', 'between', 'researcher', 'and', 'university', 'administrator', '.', 'finally', ',', 'it', 'be', 'important', 'to', 'note', 'that'], ['the', 'COVID-19', 'crisis', 'may', 'have', 'impact', 'our', 'recruitment', 'effort', '.', 'student', 'may', 'be', 'especially', 'interested', 'in', 'develop', 'skill', 'that', 'can', 'help', 'them', 'cope', 'with', 'lifestyle', 'change', 'as', 'a', 'result', 'of', 'the', 'crisis', '.', 'additionally', ',', 'due', 'to', 'social', 'distancing', 'and', 'online', 'learning', ',', 'some', 'student', 'may', 'have', 'more', 'free', 'time', 'than', 'they', 'normally', 'do', 'during', 'the', 'semester', ',', 'which', 'may', 'have', 'make', 'them', 'more', 'responsive', 'to', 'our', 'web-based', 'intervention', '.', 'our', 'finding', 'also', 'have', 'implication', 'for', 'public', 'health', 'official', ',', 'high', 'education', 'leader', ',', 'and', 'intervention', 'developer', 'interested', 'in', 'support', 'people', 'during', 'the', 'COVID-19', 'crisis', '.', 'for', 'example', ',', 'our'], ['promising', 'finding', 'regard', 'student', \"'\", 'experience', 'with', 'comet', 'could', 'encourage', 'future', 'collaboration', 'between', 'psychologist', 'and', 'high', 'education', 'leader', '.', 'while', 'such', 'partnership', 'can', 'be', 'time-consuming', 'and', 'effortful', ',', 'they', 'be', 'worthwhile', 'to', 'pursue', 'when', 'there', 'be', 'reason', 'to', 'believe', 'that', 'they', 'will', 'be', 'impactful', '.', 'this', 'be', 'especially', 'true', 'for', 'collaboration', 'around', 'topic', 'that', 'could', 'be', 'consider', 'sensitive', ',', 'like', 'program', 'relate', 'to', 'mental', 'health', '.', 'when', 'we', 'launch', 'our', 'collaboration', ',', 'our', 'team', 'and', 'our', 'collaborator', 'do', 'not', 'know', 'if', 'or', 'how', 'student', 'would', 'engage', 'with', 'our', 'program', '.', 'our', 'experience', 'offer', 'some', 'room', 'for', 'optimism', ',', 'show', 'that'], ['such', 'collaboration', 'can', 'be', 'fruitful', ',', 'and', 'student', 'appear', 'highly', 'receptive', 'to', 'university-endorsed', 'online', 'mental', 'health', 'initiative', '.', 'with', 'this', 'in', 'mind', ',', 'we', 'hope', 'our', 'finding', 'encourage', 'psychologist', 'and', 'high', 'education', 'leader', 'at', 'other', 'university', 'to', 'engage', 'in', 'student', 'mental', 'health', 'promotion', 'initiative', 'during', 'the', 'COVID-19', 'crisis', '.', 'individual', 'consider', 'such', 'collaboration', 'or', 'interested', 'in', 'develop', 'intervention', 'may', 'benefit', 'from', 'adapt', 'content', 'from', 'pre-exist', 'intervention', 'or', 'common', 'element', 'from', 'empirically', 'support', 'intervention', '(', 'see', 'Chorpita', 'and', 'Daleiden', ',', '@card@', ';', 'Weisz', 'et', 'al.', ',', '@card@', ')', '.', 'in', 'our', 'experience', ',', 'the', 'decision', 'to', 'adapt', 'existing', 'module', '(', 'rather'], ['than', 'to', 'create', 'a', 'new', 'intervention', 'from', 'scratch', ')', 'allow', 'us', 'to', 'act', 'quickly', 'while', 'ensure', 'that', 'individual', 'receive', 'content', 'with', 'strong', 'empirical', 'support', '.', 'from', 'a', 'public', 'health', 'perspective', ',', 'repurpose', 'existing', 'intervention', 'may', 'provide', 'a', 'quick', 'and', 'efficient', 'way', 'to', 'expand', 'access', 'to', 'support', '.', 'additionally', ',', 'modular', 'intervention', 'may', 'be', 'especially', 'valuable', 'give', 'their', 'flexibility', 'and', 'adaptability', '(', 'Weisz', 'et', 'al.', ',', '@card@', ')', '.', 'as', 'an', 'example', ',', 'comet', 'be', 'adapt', 'for', 'graduate', 'and', 'professional', 'student', 'over', 'the', 'course', 'of', 'a', 'few', 'week', '.', 'comet', ',', 'or', 'other', 'modular', 'intervention', ',', 'could', 'also', 'be', 'readily', 'adapt'], ['for', 'additional', 'population', '.', 'new', 'module', '(', 'e.g.', ',', 'mindfulness', 'and', 'problem', 'solve', ')', 'could', 'be', 'add', ',', 'exist', 'module', 'could', 'be', 'remove', ',', 'or', 'different', 'combination', 'of', 'module', 'could', 'be', 'deploy', 'depend', 'on', 'the', 'need', 'of', 'specific', 'population', '.', 'finally', ',', 'our', 'finding', 'highlight', 'that', 'student', 'of', 'a', 'variety', 'of', 'age', 'group', 'and', 'background', 'be', 'interested', 'in', 'online', 'self-help', 'intervention', '.', 'with', 'this', 'in', 'mind', ',', 'high', 'education', 'leader', 'could', 'consider', 'launch', 'low-intensity', 'intervention', 'to', 'support', 'student', 'across', 'the', 'country', '.', 'our', 'finding', 'should', 'be', 'interpret', 'in', 'light', 'of', 'some', 'limitation', '.', 'first', ',', 'our', 'pre-post', 'design', 'be', 'not'], ['sufficient', 'to', 'make', 'causal', 'claim', ',', 'and', 'our', 'study', 'do', 'not', 'remove', 'the', 'need', 'for', 'randomize', 'control', 'trial', '.', 'it', 'remain', 'unknown', 'if', 'our', 'intervention', 'can', 'produce', 'lasting', 'change', 'in', 'participant', \"'\", 'thought', ',', 'behavior', ',', 'or', 'feeling', '.', 'in', 'order', 'to', 'gauge', 'those', 'effect', ',', 'there', 'be', 'a', 'need', 'for', 'adequately-powered', 'pre-registered', 'randomize', 'controlled', 'trial', 'which', 'measure', 'mental', 'health', 'outcome', '(', 'e.g.', ',', 'depressive', 'and', 'anxiety', 'symptom', ')', 'longitudinally', '.', 'second', ',', 'the', 'rate', 'of', 'depressive', 'symptom', 'and', 'anxiety', 'symptom', 'identify', 'in', 'our', 'study', 'should', 'be', 'interpret', 'within', 'the', 'context', 'of', 'COVID-19', '.', 'participant', \"'\", 'report', 'of', 'depression', 'and'], ['anxiety', 'may', 'be', 'high', 'than', 'normal', 'due', 'to', 'the', 'stressors', 'and', 'lifestyle', 'change', 'introduce', 'by', 'the', 'crisis', '.', 'for', 'some', 'individual', ',', 'these', 'symptom', 'may', 'be', 'temporary', ',', 'but', 'for', 'other', ',', 'they', 'may', 'last', 'beyond', 'the', 'crisis', ';', 'future', 'longitudinal', 'and', 'observational', 'research', 'would', 'be', 'useful', 'to', 'examine', 'these', 'trend', '.', 'third', ',', 'while', 'our', 'sample', 'be', 'diverse', 'along', 'several', 'dimension', ',', 'participant', 'in', 'our', 'study', 'be', 'predominantly', 'female', '.', 'this', 'be', 'consistent', 'with', 'previous', 'research', ';', 'a', 'recent', 'review', 'document', 'that', 'most', 'study', 'of', 'prevention', 'program', 'for', 'college', 'student', 'and', 'graduate', 'student', 'have', 'sample', 'that', 'be', 'two-third', 'or'], ['more', 'female', '(', 'Rith-Najarian', 'et', 'al.', ',', '2019a', ')', '.', 'such', 'finding', 'call', 'for', 'the', 'development', 'of', 'recruitment', 'technique', 'that', 'may', 'make', 'digital', 'intervention', 'more', 'appealing', 'to', 'male', 'student', '(', 'e.g.', ',', 'Rith-Najarian', 'et', 'al.', ',', '2019b', ')', '.', 'fourth', ',', 'in', 'order', 'to', 'minimize', 'participant', 'burden', 'and', 'maximize', 'the', 'reach', 'of', 'our', 'survey', ',', 'our', 'demographic', 'questionnaire', 'be', 'brief', '.', 'as', 'a', 'result', ',', 'we', 'do', 'not', 'comprehensively', 'assess', 'contextual', 'factor', 'that', 'may', 'be', 'highly', 'relevant', 'during', 'the', 'COVID-19', 'crisis', ',', 'such', 'as', 'participant', \"'\", 'live', 'situation', ',', 'income', ',', 'marital', 'status', ',', 'social', 'support', ',', 'or', 'parental', 'status'], ['.', 'future', 'research', 'be', 'need', 'to', 'understand', 'contextual', 'risk', 'factor', 'and', 'protective', 'factor', 'that', 'may', 'influence', 'how', 'student', 'be', 'affect', 'by', 'COVID-19', '.', 'additionally', ',', 'future', 'research', 'could', 'evaluate', 'if', 'psychosocial', 'intervention', 'can', 'support', 'student', 'who', 'be', 'especially', 'vulnerable', 'during', 'the', 'crisis', '.', 'finally', ',', 'participant', 'in', 'our', 'study', 'receive', 'pre-program', 'and', 'post-program', 'questionnaire', 'before', 'be', 'assign', 'to', 'an', 'intervention', 'condition', ',', 'make', 'it', 'difficult', 'to', 'estimate', 'the', 'exact', 'amount', 'of', 'time', 'that', 'participant', 'spend', 'complete', 'intervention', 'content', 'furthermore', ',', 'it', 'be', 'possible', 'that', 'our', 'baseline', 'questionnaire', 'deter', 'some', 'individual', 'from', 'engage', '.', 'if', 'our', 'intervention', 'have', 'not', 'include', 'baseline'], ['questionnaire', ',', 'it', 'be', 'possible', 'that', 'it', 'would', 'have', 'reach', 'more', 'student', '.', 'overall', ',', 'our', 'finding', 'suggest', 'that', 'brief', 'digital', 'intervention', 'could', 'be', 'a', 'useful', 'way', 'to', 'expand', 'access', 'to', 'care', 'in', 'time', 'of', 'public', 'health', 'emergency', 'such', 'as', 'the', 'COVID-19', 'crisis', '.', 'student', 'appear', 'interested', 'in', 'these', 'intervention', ',', 'complete', 'them', 'at', 'high', 'rate', ',', 'and', 'find', 'them', 'helpful', '.', 'participant', 'also', 'report', 'improvement', 'in', 'their', 'perceive', 'sense', 'of', 'control', 'and', 'ability', 'to', 'handle', 'the', 'pandemic', 'from', 'pre-', 'to', 'post-intervention', '.', 'future', 'research', 'be', 'need', 'to', 'understand', 'which', 'content', 'be', 'well', 'suit', 'for', 'brief', 'intervention', ',', 'which', 'content', 'be', 'well', 'suit', 'for', 'specific', 'circumstance', '(', 'e.g.', ',', 'public', 'health', 'emergency', ')', ',', 'how', 'such', 'intervention', 'should', 'be', 'ideally', 'present', 'and', 'disseminate', ',', 'and', 'for', 'whom', 'these', 'intervention', 'be', 'most', 'effective', '.', 'such', 'research', 'could', 'ensure', 'that', 'the', 'important', 'finding', 'and', 'intervention', 'from', 'psychological', 'science', 'be', 'successfully', 'disseminate', 'to', 'the', 'broad', 'public', ',', 'especially', 'during', 'public', 'health', 'emergency', 'like', 'the', 'COVID-19', 'pandemic', '.', '', '']]\n",
            "100\n",
            "100\n",
            "100\n",
            "100\n",
            "100\n",
            "100\n",
            "100\n",
            "100\n",
            "100\n",
            "100\n",
            "100\n",
            "100\n",
            "100\n",
            "100\n",
            "100\n",
            "100\n",
            "100\n",
            "100\n",
            "100\n",
            "166\n",
            " \n",
            "norm=3\trule=21\tnonorm=0\n",
            "\tgnorm=25\tgrule=78\tgnonorm=5\n",
            "8\n"
          ]
        }
      ]
    },
    {
      "cell_type": "code",
      "source": [
        " OXml2Stat = clXml2Stat('/content/cord19.lems', output_file = '/content/cord19_stat.txt')"
      ],
      "metadata": {
        "id": "XC1EZdLNq2TM"
      },
      "execution_count": null,
      "outputs": []
    },
    {
      "cell_type": "code",
      "source": [
        "!head --lines=30 cord19_stat.txt"
      ],
      "metadata": {
        "id": "rZxCec4N0FB_"
      },
      "execution_count": null,
      "outputs": []
    },
    {
      "cell_type": "markdown",
      "source": [
        "# Route via Json: test approach...\n",
        "## working with 100MW sample (40k texts)\n",
        "### selecting 100-word long samples, writing to JSon dictionary, mapping names, recording"
      ],
      "metadata": {
        "id": "TPVG10xsWQ0V"
      }
    },
    {
      "cell_type": "code",
      "source": [
        "# output directory\n",
        "!mkdir document_parses/pmc_json_sample02/"
      ],
      "metadata": {
        "id": "6NGEIHrYrysv"
      },
      "execution_count": null,
      "outputs": []
    },
    {
      "cell_type": "code",
      "source": [
        "# modifying script to select 100-word long samples\n",
        "'''\n",
        "algorithm:\n",
        "    1. form sections as strings\n",
        "    2. process sections (map names), create a record\n",
        "    3. write samples in a python dictionary\n",
        "\n",
        "    ? do we need xml output to a file ?\n",
        "\n",
        "    architecture:\n",
        "      - create list of sections from list of paragraphs\n",
        "      - process each section, splitting it into samples of a pre-defined size\n",
        "\n",
        "'''"
      ],
      "metadata": {
        "id": "O4CjgIzOWP_X"
      },
      "execution_count": null,
      "outputs": []
    },
    {
      "cell_type": "code",
      "metadata": {
        "colab": {
          "base_uri": "https://localhost:8080/",
          "height": 53
        },
        "outputId": "c8165460-a7b5-4b9e-bc35-57aa9476866c",
        "id": "5JlmZ1U1Wx4v"
      },
      "source": [
        "# -*- coding: utf-8 -*-\n",
        "# Python script to open each file, read json input and copy to one text file for subsequent processing\n",
        "import os, re, sys\n",
        "import json\n",
        "from collections import defaultdict\n",
        "\n",
        "class clJsonDir2txtSamples(object):\n",
        "    '''\n",
        "    @author Bogdan Babych, IÜD, Heidelberg University\n",
        "    @email bogdan [dot] babych [at] iued [dot] uni-heidelberg [dot] de\n",
        "    a script for processing covid-19 corpus:\n",
        "    @url https://www.semanticscholar.org/cord19 @url https://www.semanticscholar.org/cord19/download\n",
        "        recursively reads files from a directory, and glues them together into a single corpus file\n",
        "\n",
        "    @todo:\n",
        "        working with sections - collect titles of all sections; frequent sections; select argumentative sections (e.g., discussion, analysis...)\n",
        "        - to compare descriptive and argumentative parts of the corpus\n",
        "\n",
        "        experimenting with different annotations (pos, parsing... ); MT quality evaluation...\n",
        "    '''\n",
        "    def __init__(self, SDirName, output_file = 'corpus_out.txt', textfilter=None, include_title = True, include_sectionNames = True, include_refs = True, include_authors = True, tag='doc', id=1000000, split_by_docs = 0, copy_docs = 0, sample_size = 0, outjsondir = '02'): # initialising by openning the directories\n",
        "        self.SOutput_file = output_file\n",
        "        self.SOutput_file_stat = 'stat_' + output_file\n",
        "        self.STextFilter = textfilter\n",
        "        self.RFilter = re.compile(textfilter, re.IGNORECASE | re.MULTILINE)\n",
        "        self.BInclTitle = include_title # implemented\n",
        "        self.BInclSectionNames = include_sectionNames # implemented\n",
        "        self.BInclRefs = include_refs # not implemented yet\n",
        "        self.BInclAuth = include_authors # not implemented yet\n",
        "        self.STag = tag\n",
        "        self.ID = id\n",
        "        self.ISplitByDocs = int(split_by_docs)\n",
        "        self.ICopyDocs = int(copy_docs)\n",
        "        self.ISampleSize = int(sample_size)\n",
        "        self.SDirJsonOutput = outjsondir\n",
        "\n",
        "        # global dictionary of section names (to check and make rules...)\n",
        "        self.DSectNames = defaultdict(int)\n",
        "        # print(self.ISplitByDocs)\n",
        "        self.openDir(SDirName)\n",
        "        self.printDictionary(self.DSectNames, 'corpus-section-names.txt')\n",
        "        return\n",
        "\n",
        "\n",
        "    def openDir(self, path): # implementation of recursively openning directories from a given rule directory and reading each file recursively into a string\n",
        "        i = 0\n",
        "        path_sample = path + '_sample'\n",
        "        path_sample_out = path + '_sample' + self.SDirJsonOutput\n",
        "        FOutStat = open(self.SOutput_file_stat, 'w')\n",
        "        if self.ISplitByDocs:\n",
        "            SPartFile = \"part1000000\" + self.SOutput_file\n",
        "            FOut = open(SPartFile, 'w')\n",
        "        else:\n",
        "            FOut = open(self.SOutput_file, 'w')\n",
        "\n",
        "        for root,d_names,f_names in os.walk(path):\n",
        "            for f in f_names:\n",
        "                i+=1\n",
        "                if i%10000==0: print(str(i) + '. Processing: ' + f)\n",
        "                fullpath = os.path.join(root, f)\n",
        "                ## output of Json files\n",
        "                fullpathout = os.path.join(path_sample_out, f) \n",
        "                # print(fullpath)\n",
        "                print('full path output: ' + fullpathout)\n",
        "                try:\n",
        "                    ## implement : processing output file; statistics output file...\n",
        "                    FIn = open(fullpath,'r')\n",
        "                    SIn = FIn.read()\n",
        "                    # apply text filter, if not None\n",
        "                    if self.STextFilter and (re.search(self.RFilter, SIn) == None): continue\n",
        "                    DData, SText2Write = self.procFile(SIn,f,i)\n",
        "                    if SText2Write: FOut.write(SText2Write) # if the string is not empty then write to file\n",
        "                    FIn.close()\n",
        "\n",
        "                    ## writing json files with new dictionary structure\n",
        "                    ## FJsonOut = open(fullpathout, 'w')\n",
        "                    with open(fullpathout, 'w', encoding='utf-8') as jf:\n",
        "                        json.dump(DData, jf, ensure_ascii=False, indent=4)\n",
        "\n",
        "                except:\n",
        "                    print(f'file {f} cannot be read or processed')\n",
        "                finally:\n",
        "                  ## closing json output file\n",
        "                    jf.close() ## close json file\n",
        "                    # splitting output into chunks of \"split_by_docs\" size\n",
        "                    if self.ISplitByDocs and (i % self.ISplitByDocs == 0): # if self.ISplitByDocs == 0 then everything goes into one file; if this > 0 then\n",
        "                        SPartFile = \"part\" + str(1000000 + i) + self.SOutput_file # generate new file name\n",
        "                        FOut.flush()\n",
        "                        FOut.close()\n",
        "                        FOut = open(SPartFile, 'w')\n",
        "                    if self.ICopyDocs and (i >= self.ICopyDocs) and (i < (self.ICopyDocs + self.ISplitByDocs)):\n",
        "                        try:\n",
        "                            SOutputDirN = root + '_sample'\n",
        "                            SOutputFN = os.path.join(SOutputDirN, f)\n",
        "                            os.system(f'cp {fullpath} {SOutputFN}')\n",
        "                        except:\n",
        "                            print('.')\n",
        "\n",
        "        FOut.flush()\n",
        "        FOut.close()\n",
        "\n",
        "\n",
        "        return\n",
        "\n",
        "\n",
        "    def procFile(self, SIn,SFNameIn,i): # sending each json string for extraction of text and attaching an correct tags to each output string output string\n",
        "        STagOpen = '<' + self.STag + ' id=\"' + self.STag + str(self.ID + i)  + '\">\\n'\n",
        "        STagClose = '\\n</' + self.STag + '>\\n\\n'\n",
        "        DData, SText4Corpus = self.getJson(SIn, SFNameIn)\n",
        "        STagsAndText = STagOpen + SText4Corpus + STagClose\n",
        "        if SText4Corpus:\n",
        "            return DData, STagsAndText\n",
        "        else:\n",
        "            print('\\tNo data read from: ' + SFNameIn)\n",
        "            return DData, None\n",
        "\n",
        "\n",
        "    def getJson(self, SIn, SFNameIn): # for each file-level string read from a file: managing internal structure of the covid-19 json file\n",
        "        LOut = [] # collecting a list of strings\n",
        "\n",
        "        LBodyTextSections = [] ## list of sections: Json body text\n",
        "        ### DJsonOut = {} # this will be copied from the input json structure and enriched\n",
        "\n",
        "        try:\n",
        "            DDoc = json.loads(SIn)\n",
        "        except:\n",
        "            print('\\t\\t' + SFNameIn + ' => error reading json2dictionary')\n",
        "            return {}, None\n",
        "\n",
        "        # metadata:\n",
        "        try:\n",
        "            DMetaData = DDoc['metadata']\n",
        "            if DMetaData:\n",
        "                DMetaDataOut, SMetaData = self.getJson_Metadata(DMetaData)\n",
        "                if SMetaData: LOut.append(SMetaData)\n",
        "        except:\n",
        "            print('\\t\\t\\t' + SFNameIn + ' ====> no metadata')\n",
        "            DMetaData = None\n",
        "        # body text\n",
        "        try:\n",
        "            LBodyText = DDoc['body_text']\n",
        "            if LBodyText:\n",
        "                ## implementing sampling here ~ returning list of sections first (with a paired list of section names); then sampling for sample size...\n",
        "\n",
        "                LBodyTextSections, LBodyTextSectNames, SBodyText = self.getJson_BodyText(LBodyText) ## modified function, returns 3 arguments\n",
        "                LOut.append(SBodyText)\n",
        "        except:\n",
        "            print('\\t\\t\\t' + SFNameIn + ' ====> no body_text')\n",
        "            LBodyText = None\n",
        "        # further: to implement references\n",
        "\n",
        "        SText = '\\n\\n'.join(LOut)\n",
        "        ### DJsonOut[\"body_text\"] = LBodyTextSections\n",
        "        # returning an enriched data structure\n",
        "        return DDoc, SText\n",
        "\n",
        "\n",
        "    def getJson_Metadata(self, DIn): # converts interesting parts of metadata into a string\n",
        "        SMetadata = ''\n",
        "        LMetadata = []\n",
        "        DMetaDataOut = {}\n",
        "        try: STitle = DIn[\"title\"]\n",
        "        except: STitle = None\n",
        "        if STitle and self.BInclTitle:\n",
        "            LMetadata.append(STitle)\n",
        "\n",
        "        # to implement reading of authors' names\n",
        "        '''\n",
        "        try:\n",
        "            SPaperID = DIn[\"authors\"]\n",
        "            DMetaDataOut[\"authors\"] = \"SAuthors\"\n",
        "        except:\n",
        "            print('au!')\n",
        "        '''\n",
        "\n",
        "        if LMetadata: SMetadata = '\\n\\n'.join(LMetadata)\n",
        "        return DMetaDataOut, SMetadata\n",
        "\n",
        "    ## updated function ~\n",
        "    def getJson_BodyText(self, LIn): # converts interesting parts of the body texts into a string\n",
        "        ## modified ~ for json output\n",
        "        LBodyTextSections = [] ## output - list of sections\n",
        "        LBodyTextSectionPars = [] ## element of the LBodyTextSections[] list, one section-long        \n",
        "        LBodyTextSectNames = [] ##\n",
        "        LBodyTextSectNamesM = [] ##\n",
        "\n",
        "\n",
        "        SBodyText = '' # output (old)\n",
        "        LBodyText = []\n",
        "        SSectionName0 = '' # current section name set to empty for a new text\n",
        "        # todo: later, in post-processing stage for the whole corpus, maybe after lemmatization...\n",
        "        # ISampleNumber = 0 # samples of 100 words in text; they do not cross section boundaries \n",
        "\n",
        "        for DParagraph in LIn:\n",
        "            # sections added 2022-09-28\n",
        "            # updating and adding the section name\n",
        "            try:\n",
        "                # DParagraphs[\"section\"] ## distinction between different sections....\n",
        "                SSectionName = DParagraph[\"section\"]\n",
        "                # normalizing new section name (1)\n",
        "                SSectionName = SSectionName.replace(\"\\n\", \" \")\n",
        "\n",
        "                if self.BInclSectionNames and SSectionName: # if we opted to include section names and section name is not empty\n",
        "                    if SSectionName != SSectionName0: # if we found a new section name\n",
        "                        # processing section name\n",
        "                        LBodyTextSectNames.append(SSectionName0) ## record the previous section name\n",
        "                        ## to implement here: call a function for mapping the section names\n",
        "                        LBodyTextSectNamesM.append(SSectionName0)\n",
        "\n",
        "                        SSectionName0 = SSectionName # change the current section name\n",
        "                        ## recording previous section if not empty; then adding the name of the section to a list\n",
        "\n",
        "                        SBodyTextSectionPars = '\\n'.join(LBodyTextSectionPars)\n",
        "                        LBodyTextSections.append(SBodyTextSectionPars)\n",
        "                        LBodyTextSectionPars = []\n",
        "                            \n",
        "\n",
        "                        # normalizing section name (2)\n",
        "                        SSectionNameNorm = SSectionName.lower()\n",
        "                        SSectionNameNorm = re.sub('[0-9\\.]+', ' ', SSectionNameNorm)\n",
        "                        SSectionNameNorm = re.sub('[ ]+', ' ', SSectionNameNorm)\n",
        "                        SSectionNameNorm = SSectionNameNorm.strip()\n",
        "                        \n",
        "                        self.DSectNames[SSectionNameNorm] += 1\n",
        "                        SSect4text = f'<section sName=\"{SSectionNameNorm}\">\\n{SSectionName}\\n</section>'\n",
        "\n",
        "                        LBodyText.append(SSect4text)\n",
        "            except:\n",
        "                print('S!',)\n",
        "                continue\n",
        "            # first original section (we extract text after extracting section name)\n",
        "            try:\n",
        "                ## DParagraphs[section] ## -- later on >> distinction between different sections....\n",
        "                SParagraph = DParagraph[\"text\"]\n",
        "                LBodyText.append(SParagraph)\n",
        "            except:\n",
        "                print('!',)\n",
        "                continue\n",
        "\n",
        "\n",
        "\n",
        "        SBodyText = '\\n\\n'.join(LBodyText)\n",
        "        return LBodyTextSections, LBodyTextSectNamesM, SBodyText\n",
        "\n",
        "    def printDictionary(self, DFreq, SFOutDict):\n",
        "        FOutDict = open(SFOutDict, 'w')\n",
        "        for key, val in sorted(DFreq.items(), key=lambda x: x[1], reverse=True):\n",
        "            FOutDict.write(f'{key}\\t{str(val)}\\n')\n",
        "        FOutDict.flush()\n",
        "        FOutDict.close()\n",
        "    \n",
        "\n",
        "\n",
        "\n",
        "# arguments:\n",
        "'''\n",
        "        sys.argv[1], # obligatory: input directory name;\n",
        "            other arguments optional:\n",
        "            output_file = 'covid19corpus.txt',\n",
        "            textfilter = None, # if this is string, only texts containing it are collected, e.g., covid\n",
        "            include_title = True, # include or exclude title\n",
        "            include_refs = False, # not implemented yet: include or exclude references\n",
        "            split_by_docs=0 # split by groups of n documents; if 0 then write to one file\n",
        "\n",
        "'''\n",
        "\n",
        "'''if __name__ == '__main__':\n",
        "    OJsonDir2txt = clJsonDir2txtSamples(sys.argv[1], output_file = 'covid19corpus.txt', textfilter=None, include_title = True, include_sectionNames = True, include_refs = False, split_by_docs=0, copy_docs=240000, sample_size = 100, outjsondir = 'document_parses/pmc_json_sample02')\n",
        "'''\n"
      ],
      "execution_count": null,
      "outputs": [
        {
          "output_type": "execute_result",
          "data": {
            "text/plain": [
              "\"if __name__ == '__main__':\\n    OJsonDir2txt = clJsonDir2txt(sys.argv[1], output_file = 'covid19corpus.txt', textfilter=None, include_title = True, include_sectionNames = True, include_refs = False, split_by_docs=0, copy_docs=240000)\\n\""
            ],
            "application/vnd.google.colaboratory.intrinsic+json": {
              "type": "string"
            }
          },
          "metadata": {},
          "execution_count": 2
        }
      ]
    },
    {
      "cell_type": "code",
      "source": [
        "OJsonDir2txtSamples = clJsonDir2txtSamples(\"document_parses/pmc_json_sample\", output_file = 'cord19.txt', textfilter=None, include_title = True, include_sectionNames = True, include_refs = False, split_by_docs=0, copy_docs=0, sample_size = 100, outjsondir = 'document_parses/pmc_json_sample02')\n"
      ],
      "metadata": {
        "id": "zDH-FGHuh92R"
      },
      "execution_count": null,
      "outputs": []
    }
  ]
}