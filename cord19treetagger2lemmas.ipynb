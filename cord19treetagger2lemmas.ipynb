{
  "nbformat": 4,
  "nbformat_minor": 0,
  "metadata": {
    "colab": {
      "name": "cord19treetagger2lemmas.ipynb",
      "provenance": [],
      "collapsed_sections": [],
      "authorship_tag": "ABX9TyPWOnCFmPdKspJRIJbTzXH0",
      "include_colab_link": true
    },
    "kernelspec": {
      "name": "python3",
      "display_name": "Python 3"
    },
    "language_info": {
      "name": "python"
    }
  },
  "cells": [
    {
      "cell_type": "markdown",
      "metadata": {
        "id": "view-in-github",
        "colab_type": "text"
      },
      "source": [
        "<a href=\"https://colab.research.google.com/github/iued-uni-heidelberg/cord19/blob/main/cord19treetagger2lemmas.ipynb\" target=\"_parent\"><img src=\"https://colab.research.google.com/assets/colab-badge.svg\" alt=\"Open In Colab\"/></a>"
      ]
    },
    {
      "cell_type": "markdown",
      "metadata": {
        "id": "cJUPXvIuAWqU"
      },
      "source": [
        "# cord19 corpus: treetagger to lemmas\n",
        "converting tree tagger representations to a string representation with only lemmas\n"
      ]
    },
    {
      "cell_type": "code",
      "metadata": {
        "id": "0oYgbrJDARnE"
      },
      "source": [
        "import os, re, sys\n",
        "import codecs"
      ],
      "execution_count": null,
      "outputs": []
    },
    {
      "cell_type": "code",
      "metadata": {
        "id": "rZVKodrwyfcv",
        "colab": {
          "base_uri": "https://localhost:8080/"
        },
        "outputId": "63f96875-6ea2-41d6-acb0-d0686a9aaf81"
      },
      "source": [
        "!wget https://heibox.uni-heidelberg.de/f/8b7c6fafacd64ecc840a/?dl=1"
      ],
      "execution_count": null,
      "outputs": [
        {
          "output_type": "stream",
          "name": "stdout",
          "text": [
            "--2021-09-05 19:26:21--  https://heibox.uni-heidelberg.de/f/8b7c6fafacd64ecc840a/?dl=1\n",
            "Resolving heibox.uni-heidelberg.de (heibox.uni-heidelberg.de)... 129.206.7.113\n",
            "Connecting to heibox.uni-heidelberg.de (heibox.uni-heidelberg.de)|129.206.7.113|:443... connected.\n",
            "HTTP request sent, awaiting response... 302 Found\n",
            "Location: https://heibox.uni-heidelberg.de/seafhttp/files/c1f77fd9-b19d-4320-b745-4a92db49c259/covid1_l.zip [following]\n",
            "--2021-09-05 19:26:22--  https://heibox.uni-heidelberg.de/seafhttp/files/c1f77fd9-b19d-4320-b745-4a92db49c259/covid1_l.zip\n",
            "Reusing existing connection to heibox.uni-heidelberg.de:443.\n",
            "HTTP request sent, awaiting response... 200 OK\n",
            "Length: 306655853 (292M) [application/zip]\n",
            "Saving to: ‘index.html?dl=1’\n",
            "\n",
            "index.html?dl=1     100%[===================>] 292.45M  14.9MB/s    in 19s     \n",
            "\n",
            "2021-09-05 19:26:41 (15.3 MB/s) - ‘index.html?dl=1’ saved [306655853/306655853]\n",
            "\n"
          ]
        }
      ]
    },
    {
      "cell_type": "code",
      "metadata": {
        "colab": {
          "base_uri": "https://localhost:8080/"
        },
        "id": "wHkH2EGzbN9U",
        "outputId": "c93f377a-c7fa-43e6-99f6-48603dad4300"
      },
      "source": [
        "# renaming file\n",
        "!mv index.html?dl=1 file1.zip\n",
        "!unzip file1.zip\n",
        "!rm file1.zip"
      ],
      "execution_count": null,
      "outputs": [
        {
          "output_type": "stream",
          "name": "stdout",
          "text": [
            "Archive:  file1.zip\n",
            "  inflating: covid1_l.txt            \n"
          ]
        }
      ]
    },
    {
      "cell_type": "code",
      "metadata": {
        "colab": {
          "base_uri": "https://localhost:8080/"
        },
        "id": "K9k298mTdDUp",
        "outputId": "bd81a996-3b9a-4fe5-f4b0-753ac54ea8ff"
      },
      "source": [
        "!wget https://heibox.uni-heidelberg.de/f/7c26acd93a184e4fafb7/?dl=1"
      ],
      "execution_count": null,
      "outputs": [
        {
          "output_type": "stream",
          "name": "stdout",
          "text": [
            "--2021-09-05 19:46:34--  https://heibox.uni-heidelberg.de/f/7c26acd93a184e4fafb7/?dl=1\n",
            "Resolving heibox.uni-heidelberg.de (heibox.uni-heidelberg.de)... 129.206.7.113\n",
            "Connecting to heibox.uni-heidelberg.de (heibox.uni-heidelberg.de)|129.206.7.113|:443... connected.\n",
            "HTTP request sent, awaiting response... 302 Found\n",
            "Location: https://heibox.uni-heidelberg.de/seafhttp/files/34531c76-1f2f-4552-85d5-9645ef3b00f6/covid2_l.zip [following]\n",
            "--2021-09-05 19:46:35--  https://heibox.uni-heidelberg.de/seafhttp/files/34531c76-1f2f-4552-85d5-9645ef3b00f6/covid2_l.zip\n",
            "Reusing existing connection to heibox.uni-heidelberg.de:443.\n",
            "HTTP request sent, awaiting response... 200 OK\n",
            "Length: 304855748 (291M) [application/zip]\n",
            "Saving to: ‘index.html?dl=1’\n",
            "\n",
            "index.html?dl=1     100%[===================>] 290.73M  14.9MB/s    in 19s     \n",
            "\n",
            "2021-09-05 19:46:54 (15.2 MB/s) - ‘index.html?dl=1’ saved [304855748/304855748]\n",
            "\n"
          ]
        }
      ]
    },
    {
      "cell_type": "code",
      "metadata": {
        "colab": {
          "base_uri": "https://localhost:8080/"
        },
        "id": "MATHpWLvdE9n",
        "outputId": "b14aa950-4c28-4893-bd96-5cf484d6e0f3"
      },
      "source": [
        "!mv index.html?dl=1 file2.zip\n",
        "!unzip file2.zip\n",
        "!rm file2.zip"
      ],
      "execution_count": null,
      "outputs": [
        {
          "output_type": "stream",
          "name": "stdout",
          "text": [
            "Archive:  file2.zip\n",
            "  inflating: covid2_l.txt            \n"
          ]
        }
      ]
    },
    {
      "cell_type": "code",
      "metadata": {
        "colab": {
          "base_uri": "https://localhost:8080/"
        },
        "id": "BtJp3UWudj3S",
        "outputId": "2aa0fa09-ec40-4729-edd4-178b438a46e4"
      },
      "source": [
        "!wget https://heibox.uni-heidelberg.de/f/4cb3ac3530624ffea4ec/?dl=1"
      ],
      "execution_count": null,
      "outputs": [
        {
          "output_type": "stream",
          "name": "stdout",
          "text": [
            "--2021-09-05 19:47:39--  https://heibox.uni-heidelberg.de/f/4cb3ac3530624ffea4ec/?dl=1\n",
            "Resolving heibox.uni-heidelberg.de (heibox.uni-heidelberg.de)... 129.206.7.113\n",
            "Connecting to heibox.uni-heidelberg.de (heibox.uni-heidelberg.de)|129.206.7.113|:443... connected.\n",
            "HTTP request sent, awaiting response... 302 Found\n",
            "Location: https://heibox.uni-heidelberg.de/seafhttp/files/e629ea30-a87a-40c8-b896-da80aabf7195/covid3_l.zip [following]\n",
            "--2021-09-05 19:47:39--  https://heibox.uni-heidelberg.de/seafhttp/files/e629ea30-a87a-40c8-b896-da80aabf7195/covid3_l.zip\n",
            "Reusing existing connection to heibox.uni-heidelberg.de:443.\n",
            "HTTP request sent, awaiting response... 200 OK\n",
            "Length: 304577490 (290M) [application/zip]\n",
            "Saving to: ‘index.html?dl=1’\n",
            "\n",
            "index.html?dl=1     100%[===================>] 290.47M  14.9MB/s    in 19s     \n",
            "\n",
            "2021-09-05 19:47:58 (15.2 MB/s) - ‘index.html?dl=1’ saved [304577490/304577490]\n",
            "\n"
          ]
        }
      ]
    },
    {
      "cell_type": "code",
      "metadata": {
        "colab": {
          "base_uri": "https://localhost:8080/"
        },
        "id": "2TZ5twCMdm4Y",
        "outputId": "60b36bd9-cd3d-413b-87ab-d0af9605e880"
      },
      "source": [
        "!mv index.html?dl=1 file3.zip\n",
        "!unzip file3.zip\n",
        "!rm file3.zip"
      ],
      "execution_count": null,
      "outputs": [
        {
          "output_type": "stream",
          "name": "stdout",
          "text": [
            "Archive:  file3.zip\n",
            "  inflating: covid3_l.txt            \n"
          ]
        }
      ]
    },
    {
      "cell_type": "code",
      "metadata": {
        "colab": {
          "base_uri": "https://localhost:8080/"
        },
        "id": "ErVGdcu-dvqZ",
        "outputId": "90dce633-a950-44c8-9b84-2d2e371d4555"
      },
      "source": [
        "!wget https://heibox.uni-heidelberg.de/f/b5547aaf8cf74d88aa6b/?dl=1"
      ],
      "execution_count": null,
      "outputs": [
        {
          "output_type": "stream",
          "name": "stdout",
          "text": [
            "--2021-09-05 19:50:27--  https://heibox.uni-heidelberg.de/f/b5547aaf8cf74d88aa6b/?dl=1\n",
            "Resolving heibox.uni-heidelberg.de (heibox.uni-heidelberg.de)... 129.206.7.113\n",
            "Connecting to heibox.uni-heidelberg.de (heibox.uni-heidelberg.de)|129.206.7.113|:443... connected.\n",
            "HTTP request sent, awaiting response... 302 Found\n",
            "Location: https://heibox.uni-heidelberg.de/seafhttp/files/e1f7e845-3142-4548-a20f-25a081234570/covid4_l.zip [following]\n",
            "--2021-09-05 19:50:27--  https://heibox.uni-heidelberg.de/seafhttp/files/e1f7e845-3142-4548-a20f-25a081234570/covid4_l.zip\n",
            "Reusing existing connection to heibox.uni-heidelberg.de:443.\n",
            "HTTP request sent, awaiting response... 200 OK\n",
            "Length: 304552309 (290M) [application/zip]\n",
            "Saving to: ‘index.html?dl=1’\n",
            "\n",
            "index.html?dl=1     100%[===================>] 290.44M  14.9MB/s    in 19s     \n",
            "\n",
            "2021-09-05 19:50:46 (15.3 MB/s) - ‘index.html?dl=1’ saved [304552309/304552309]\n",
            "\n"
          ]
        }
      ]
    },
    {
      "cell_type": "code",
      "metadata": {
        "colab": {
          "base_uri": "https://localhost:8080/"
        },
        "id": "PpBdvhkRdxPz",
        "outputId": "17fa7756-586b-4049-f7d6-fe5bc147da87"
      },
      "source": [
        "!mv index.html?dl=1 file4.zip\n",
        "!unzip file4.zip\n",
        "!rm file4.zip"
      ],
      "execution_count": null,
      "outputs": [
        {
          "output_type": "stream",
          "name": "stdout",
          "text": [
            "Archive:  file4.zip\n",
            "  inflating: covid4_l.txt            \n"
          ]
        }
      ]
    },
    {
      "cell_type": "code",
      "metadata": {
        "colab": {
          "base_uri": "https://localhost:8080/"
        },
        "id": "g3hiPOIvemkL",
        "outputId": "8789bcfc-c032-4c5a-e88c-26d3c6c6935e"
      },
      "source": [
        "!wget https://heibox.uni-heidelberg.de/f/c263670d60da4f9bbdbf/?dl=1"
      ],
      "execution_count": null,
      "outputs": [
        {
          "output_type": "stream",
          "name": "stdout",
          "text": [
            "--2021-09-05 19:52:19--  https://heibox.uni-heidelberg.de/f/c263670d60da4f9bbdbf/?dl=1\n",
            "Resolving heibox.uni-heidelberg.de (heibox.uni-heidelberg.de)... 129.206.7.113\n",
            "Connecting to heibox.uni-heidelberg.de (heibox.uni-heidelberg.de)|129.206.7.113|:443... connected.\n",
            "HTTP request sent, awaiting response... 302 Found\n",
            "Location: https://heibox.uni-heidelberg.de/seafhttp/files/bac78516-2b78-497f-8df5-7f014bef8d94/covid5_l.zip [following]\n",
            "--2021-09-05 19:52:20--  https://heibox.uni-heidelberg.de/seafhttp/files/bac78516-2b78-497f-8df5-7f014bef8d94/covid5_l.zip\n",
            "Reusing existing connection to heibox.uni-heidelberg.de:443.\n",
            "HTTP request sent, awaiting response... 200 OK\n",
            "Length: 284177435 (271M) [application/zip]\n",
            "Saving to: ‘index.html?dl=1’\n",
            "\n",
            "index.html?dl=1     100%[===================>] 271.01M  13.3MB/s    in 18s     \n",
            "\n",
            "2021-09-05 19:52:38 (15.0 MB/s) - ‘index.html?dl=1’ saved [284177435/284177435]\n",
            "\n"
          ]
        }
      ]
    },
    {
      "cell_type": "code",
      "metadata": {
        "colab": {
          "base_uri": "https://localhost:8080/"
        },
        "id": "U3nH0XcPemVI",
        "outputId": "6b07aeda-37ed-423e-df16-cabc289840a4"
      },
      "source": [
        "!mv index.html?dl=1 file5.zip\n",
        "!unzip file5.zip\n",
        "!rm file5.zip"
      ],
      "execution_count": null,
      "outputs": [
        {
          "output_type": "stream",
          "name": "stdout",
          "text": [
            "Archive:  file5.zip\n",
            "  inflating: covid5_l.txt            \n"
          ]
        }
      ]
    },
    {
      "cell_type": "code",
      "metadata": {
        "id": "Efg8GhUmZ2RB"
      },
      "source": [
        "!echo covid1_l.txt\n",
        "!head --lines=15 covid1_l.txt\n",
        "\n",
        "!echo covid1_2.txt\n",
        "!head --lines=15 covid2_l.txt\n",
        "\n",
        "!echo covid1_3.txt\n",
        "!head --lines=15 covid3_l.txt\n",
        "\n",
        "!echo covid1_4.txt\n",
        "!head --lines=15 covid4_l.txt\n",
        "\n",
        "!echo covid1_5.txt\n",
        "!head --lines=15 covid5_l.txt\n"
      ],
      "execution_count": null,
      "outputs": []
    },
    {
      "cell_type": "code",
      "metadata": {
        "id": "bMA3j8b4uMkS"
      },
      "source": [
        "class clProcCorpusVert2Lem(object):\n",
        "    ''' we will read a text file and return a dictionary\n",
        "    this will be done on the line by line basis\n",
        "    The dictionary can be sorted later...\n",
        "    '''\n",
        "    # this is a class for processing a corpus\n",
        "\n",
        "    def __init__(self, FileIN, FileOUT):\n",
        "        # self.DictFrq = {}\n",
        "        self.processCorpus(FileIN, FileOUT)\n",
        "\n",
        "    def processCorpus(self, FileIN, FileOUT):\n",
        "        # LTerm = []\n",
        "        LString = []\n",
        "        i = 0\n",
        "        for Line in FileIN:\n",
        "            i+=1\n",
        "\n",
        "            try:\n",
        "                Line = Line.strip()\n",
        "                # LLine = re.split('\\t', Line)\n",
        "                LLine = Line.split('\\t') # should be a bit faster, gaining ~30% speed improvement cf. LLine = re.split('\\t', Line)\n",
        "            except:\n",
        "              print('.')\n",
        "              continue\n",
        "\n",
        "            try:\n",
        "                Word = LLine[0]\n",
        "                PoS = LLine[1]\n",
        "                Lemma = LLine[2]\n",
        "            except:\n",
        "                Word = \"\"\n",
        "                PoS = \"\"\n",
        "                Lemma = \"\"\n",
        "            \n",
        "            LString.append(Lemma)\n",
        "            # FileOUT.write(Lemma + ' ') # this generated an error -- should have been commented out when append replaced print\n",
        "            \n",
        "            if i % 10000 == 0:\n",
        "                if i%5000000 == 0: print(i)\n",
        "                SString = ' '.join(LString)\n",
        "                FileOUT.write(SString + '\\n')\n",
        "                LString = []\n",
        "            \n",
        "            '''\n",
        "            # if re.match('N\\..*', PoS) or re.match('ADJ.*', PoS) or re.match('von', Word):\n",
        "            if re.match('N.*', PoS) or re.match('J.*', PoS):\n",
        "                LTerm.append(Word)\n",
        "            else:\n",
        "                STerm = ' '.join(LTerm)\n",
        "                LTerm = []\n",
        "\n",
        "                try:\n",
        "                    self.DictFrq[STerm] += 1\n",
        "                except:\n",
        "                    self.DictFrq[STerm] = 1  \n",
        "\n",
        "            ''' \n",
        "        # finally writing the document\n",
        "        SString = ' '.join(LString)\n",
        "        FileOUT.write(SString + '\\n')             \n",
        "\n",
        "        return\n",
        "\n"
      ],
      "execution_count": null,
      "outputs": []
    },
    {
      "cell_type": "code",
      "metadata": {
        "id": "nzZqoeXaAXrQ"
      },
      "source": [
        "FileIN = codecs.open('covid1_l.txt', 'r', encoding='utf-8', errors='replace')\n",
        "FileOUT = open('covid1_lem.txt', 'w')"
      ],
      "execution_count": null,
      "outputs": []
    },
    {
      "cell_type": "code",
      "metadata": {
        "id": "IeEgj_dFs54B"
      },
      "source": [
        "FileIN = codecs.open('covid2_l.txt', 'r', encoding='utf-8', errors='replace')\n",
        "FileOUT = open('covid2_lem.txt', 'w')"
      ],
      "execution_count": null,
      "outputs": []
    },
    {
      "cell_type": "code",
      "metadata": {
        "id": "ltxBIBD9ifYW"
      },
      "source": [
        "FileIN = codecs.open('covid3_l.txt', 'r', encoding='utf-8', errors='replace')\n",
        "FileOUT = open('covid3_lem.txt', 'w')"
      ],
      "execution_count": null,
      "outputs": []
    },
    {
      "cell_type": "code",
      "metadata": {
        "id": "IA9MQViwinRW"
      },
      "source": [
        "FileIN = codecs.open('covid4_l.txt', 'r', encoding='utf-8', errors='replace')\n",
        "FileOUT = open('covid4_lem.txt', 'w')"
      ],
      "execution_count": null,
      "outputs": []
    },
    {
      "cell_type": "code",
      "metadata": {
        "id": "x-05EqnLipe1"
      },
      "source": [
        "FileIN = codecs.open('covid5_l.txt', 'r', encoding='utf-8', errors='replace')\n",
        "FileOUT = open('covid5_lem.txt', 'w')"
      ],
      "execution_count": null,
      "outputs": []
    },
    {
      "cell_type": "markdown",
      "metadata": {
        "id": "o-S0r3ey_Nk6"
      },
      "source": [
        "Extraction runs here, after the input and output file names are set. Execution time ~ 5 min on 100 million words"
      ]
    },
    {
      "cell_type": "code",
      "metadata": {
        "id": "TSRrOa6-tTDY",
        "colab": {
          "base_uri": "https://localhost:8080/"
        },
        "outputId": "df467a5c-127a-484c-8850-46eef060458b"
      },
      "source": [
        "OCorpus = clProcCorpusVert2Lem(FileIN, FileOUT)\n",
        "  "
      ],
      "execution_count": null,
      "outputs": [
        {
          "output_type": "stream",
          "name": "stdout",
          "text": [
            "5000000\n",
            "10000000\n",
            "15000000\n",
            "20000000\n",
            "25000000\n",
            "30000000\n",
            "35000000\n",
            "40000000\n",
            "45000000\n",
            "50000000\n",
            "55000000\n",
            "60000000\n",
            "65000000\n",
            "70000000\n",
            "75000000\n",
            "80000000\n",
            "85000000\n",
            "90000000\n",
            "95000000\n",
            "100000000\n"
          ]
        }
      ]
    },
    {
      "cell_type": "code",
      "metadata": {
        "colab": {
          "base_uri": "https://localhost:8080/"
        },
        "id": "5zxybe8pfpLC",
        "outputId": "17bbb965-7c5e-463f-8585-c4d547d403b8"
      },
      "source": [
        "!wc covid1_l.txt\n",
        "!wc covid1_lem.txt"
      ],
      "execution_count": null,
      "outputs": [
        {
          "output_type": "stream",
          "name": "stdout",
          "text": [
            " 102795845  308375650 1634959944 covid1_l.txt\n",
            "    10280 102734611 594061042 covid1_lem.txt\n"
          ]
        }
      ]
    },
    {
      "cell_type": "code",
      "metadata": {
        "id": "dsgW-9RdtjeD"
      },
      "source": [
        "!gzip covid1_lem.txt"
      ],
      "execution_count": null,
      "outputs": []
    },
    {
      "cell_type": "code",
      "metadata": {
        "id": "35hvbza5i8-G"
      },
      "source": [
        "!gzip covid2_lem.txt"
      ],
      "execution_count": null,
      "outputs": []
    },
    {
      "cell_type": "code",
      "metadata": {
        "id": "Xcfz_8Vli-RT"
      },
      "source": [
        "!gzip covid3_lem.txt"
      ],
      "execution_count": null,
      "outputs": []
    },
    {
      "cell_type": "code",
      "metadata": {
        "id": "U765HfwAjAeO"
      },
      "source": [
        "!gzip covid4_lem.txt"
      ],
      "execution_count": null,
      "outputs": []
    },
    {
      "cell_type": "code",
      "metadata": {
        "id": "Eu99ks6GjB6w"
      },
      "source": [
        "!gzip covid5_lem.txt"
      ],
      "execution_count": null,
      "outputs": []
    },
    {
      "cell_type": "markdown",
      "metadata": {
        "id": "e8qHyeV0-o2I"
      },
      "source": [
        "Direct links for the next stage:\n",
        "# direct links to archived lemmatized cord19 corpus files 1-5\n",
        "https://heibox.uni-heidelberg.de/f/e9643d5305d94c5cb787/?dl=1\n",
        "\n",
        "https://heibox.uni-heidelberg.de/f/76525e4278114c438f1c/?dl=1\n",
        "\n",
        "https://heibox.uni-heidelberg.de/f/062f72f9e79e4ba5ae4e/?dl=1\n",
        "\n",
        "https://heibox.uni-heidelberg.de/f/4e290ad989a046caaef4/?dl=1\n",
        "\n",
        "https://heibox.uni-heidelberg.de/f/5ec055c8956348d98a44/?dl=1\n",
        "\n",
        "-- do not run the following cell unless you want do download zip files into this colab notebook; \n",
        "\n",
        "You should rather copy the content of the cell , uncomment all or relevant commands and run it in your next stage, e.g., for building an embedding model"
      ]
    },
    {
      "cell_type": "code",
      "metadata": {
        "id": "mwdApupT_APd"
      },
      "source": [
        "# direct links to archived lemmatized cord19 corpus files 1-5\n",
        "# please uncomment relevant files\n",
        "# !wget https://heibox.uni-heidelberg.de/f/e9643d5305d94c5cb787/?dl=1\n",
        "# !wget https://heibox.uni-heidelberg.de/f/76525e4278114c438f1c/?dl=1\n",
        "# !wget https://heibox.uni-heidelberg.de/f/062f72f9e79e4ba5ae4e/?dl=1\n",
        "# !wget https://heibox.uni-heidelberg.de/f/4e290ad989a046caaef4/?dl=1\n",
        "# !wget https://heibox.uni-heidelberg.de/f/5ec055c8956348d98a44/?dl=1"
      ],
      "execution_count": null,
      "outputs": []
    }
  ]
}