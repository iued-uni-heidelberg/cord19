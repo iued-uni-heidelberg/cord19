{
  "nbformat": 4,
  "nbformat_minor": 0,
  "metadata": {
    "colab": {
      "name": "cord19treetagger2lemmas.ipynb",
      "provenance": [],
      "collapsed_sections": [],
      "authorship_tag": "ABX9TyNcGJ1Lj/pQhSRupeAZNI41",
      "include_colab_link": true
    },
    "kernelspec": {
      "name": "python3",
      "display_name": "Python 3"
    },
    "language_info": {
      "name": "python"
    }
  },
  "cells": [
    {
      "cell_type": "markdown",
      "metadata": {
        "id": "view-in-github",
        "colab_type": "text"
      },
      "source": [
        "<a href=\"https://colab.research.google.com/github/iued-uni-heidelberg/cord19/blob/main/cord19treetagger2lemmas.ipynb\" target=\"_parent\"><img src=\"https://colab.research.google.com/assets/colab-badge.svg\" alt=\"Open In Colab\"/></a>"
      ]
    },
    {
      "cell_type": "markdown",
      "metadata": {
        "id": "cJUPXvIuAWqU"
      },
      "source": [
        "# cord19 corpus: treetagger to lemmas\n",
        "converting tree tagger representations to a string representation with only lemmas\n"
      ]
    },
    {
      "cell_type": "code",
      "metadata": {
        "id": "0oYgbrJDARnE"
      },
      "source": [
        "import os, re, sys\n",
        "import codecs"
      ],
      "execution_count": 26,
      "outputs": []
    },
    {
      "cell_type": "code",
      "metadata": {
        "id": "rZVKodrwyfcv",
        "colab": {
          "base_uri": "https://localhost:8080/"
        },
        "outputId": "63f96875-6ea2-41d6-acb0-d0686a9aaf81"
      },
      "source": [
        "!wget https://heibox.uni-heidelberg.de/f/8b7c6fafacd64ecc840a/?dl=1"
      ],
      "execution_count": 32,
      "outputs": [
        {
          "output_type": "stream",
          "name": "stdout",
          "text": [
            "--2021-09-05 19:26:21--  https://heibox.uni-heidelberg.de/f/8b7c6fafacd64ecc840a/?dl=1\n",
            "Resolving heibox.uni-heidelberg.de (heibox.uni-heidelberg.de)... 129.206.7.113\n",
            "Connecting to heibox.uni-heidelberg.de (heibox.uni-heidelberg.de)|129.206.7.113|:443... connected.\n",
            "HTTP request sent, awaiting response... 302 Found\n",
            "Location: https://heibox.uni-heidelberg.de/seafhttp/files/c1f77fd9-b19d-4320-b745-4a92db49c259/covid1_l.zip [following]\n",
            "--2021-09-05 19:26:22--  https://heibox.uni-heidelberg.de/seafhttp/files/c1f77fd9-b19d-4320-b745-4a92db49c259/covid1_l.zip\n",
            "Reusing existing connection to heibox.uni-heidelberg.de:443.\n",
            "HTTP request sent, awaiting response... 200 OK\n",
            "Length: 306655853 (292M) [application/zip]\n",
            "Saving to: ‘index.html?dl=1’\n",
            "\n",
            "index.html?dl=1     100%[===================>] 292.45M  14.9MB/s    in 19s     \n",
            "\n",
            "2021-09-05 19:26:41 (15.3 MB/s) - ‘index.html?dl=1’ saved [306655853/306655853]\n",
            "\n"
          ]
        }
      ]
    },
    {
      "cell_type": "code",
      "metadata": {
        "colab": {
          "base_uri": "https://localhost:8080/"
        },
        "id": "wHkH2EGzbN9U",
        "outputId": "c93f377a-c7fa-43e6-99f6-48603dad4300"
      },
      "source": [
        "# renaming file\n",
        "!mv index.html?dl=1 file1.zip\n",
        "!unzip file1.zip\n",
        "!rm file1.zip"
      ],
      "execution_count": 33,
      "outputs": [
        {
          "output_type": "stream",
          "name": "stdout",
          "text": [
            "Archive:  file1.zip\n",
            "  inflating: covid1_l.txt            \n"
          ]
        }
      ]
    },
    {
      "cell_type": "code",
      "metadata": {
        "colab": {
          "base_uri": "https://localhost:8080/"
        },
        "id": "Efg8GhUmZ2RB",
        "outputId": "864e610c-07a4-4b0c-ed6a-b08b4fc2b687"
      },
      "source": [
        "!head --lines=15 covid1_l.txt"
      ],
      "execution_count": 34,
      "outputs": [
        {
          "output_type": "stream",
          "name": "stdout",
          "text": [
            "<doc id=\"doc1000001\">\r\n",
            "Covid-19\tNN\tCovid-19\r\n",
            "overlapping\tVVG\toverlap\r\n",
            "with\tIN\twith\r\n",
            "systemic\tJJ\tsystemic\r\n",
            "sclerosis\tNN\tsclerosis\r\n",
            "A\tDT\ta\r\n",
            "73-year-old\tJJ\t73-year-old\r\n",
            "woman\tNN\twoman\r\n",
            "with\tIN\twith\r\n",
            "systemic\tJJ\tsystemic\r\n",
            "sclerosis\tNN\tsclerosis\r\n",
            "(\t(\t(\r\n",
            "SSc\tNP\tSSc\r\n",
            ")\t)\t)\r\n"
          ]
        }
      ]
    },
    {
      "cell_type": "code",
      "metadata": {
        "id": "bMA3j8b4uMkS"
      },
      "source": [
        "class clProcCorpusVert2Lem(object):\n",
        "    ''' we will read a text file and return a dictionary\n",
        "    this will be done on the line by line basis\n",
        "    The dictionary can be sorted later...\n",
        "    '''\n",
        "    # this is a class for processing a corpus\n",
        "\n",
        "    def __init__(self, FileIN, FileOUT):\n",
        "        # self.DictFrq = {}\n",
        "        self.processCorpus(FileIN, FileOUT)\n",
        "\n",
        "    def processCorpus(self, FileIN, FileOUT):\n",
        "        # LTerm = []\n",
        "        LString = []\n",
        "        i = 0\n",
        "        for Line in FileIN:\n",
        "            i+=1\n",
        "\n",
        "            try:\n",
        "                Line = Line.strip()\n",
        "                LLine = re.split('\\t', Line)\n",
        "            except:\n",
        "              print('.')\n",
        "              continue\n",
        "\n",
        "            try:\n",
        "                Word = LLine[0]\n",
        "                PoS = LLine[1]\n",
        "                Lemma = LLine[2]\n",
        "            except:\n",
        "                Word = \"\"\n",
        "                PoS = \"\"\n",
        "                Lemma = \"\"\n",
        "            \n",
        "            LString.append(Lemma)\n",
        "            FileOUT.write(Lemma + ' ')\n",
        "            \n",
        "            if i % 10000 == 0:\n",
        "                print(i)\n",
        "                SString = ' '.join(LString)\n",
        "                FileOUT.write(SString + '\\n')\n",
        "                LString = []\n",
        "            \n",
        "            '''\n",
        "            # if re.match('N\\..*', PoS) or re.match('ADJ.*', PoS) or re.match('von', Word):\n",
        "            if re.match('N.*', PoS) or re.match('J.*', PoS):\n",
        "                LTerm.append(Word)\n",
        "            else:\n",
        "                STerm = ' '.join(LTerm)\n",
        "                LTerm = []\n",
        "\n",
        "                try:\n",
        "                    self.DictFrq[STerm] += 1\n",
        "                except:\n",
        "                    self.DictFrq[STerm] = 1  \n",
        "\n",
        "            ''' \n",
        "        # finally writing the document\n",
        "        SString = ' '.join(LString)\n",
        "        FileOUT.write(SString + '\\n')             \n",
        "\n",
        "        return\n",
        "\n"
      ],
      "execution_count": 35,
      "outputs": []
    },
    {
      "cell_type": "code",
      "metadata": {
        "id": "nzZqoeXaAXrQ"
      },
      "source": [
        "FileIN = codecs.open('covid1_l.txt', 'r', encoding='utf-8', errors='replace')"
      ],
      "execution_count": 37,
      "outputs": []
    },
    {
      "cell_type": "code",
      "metadata": {
        "id": "IeEgj_dFs54B"
      },
      "source": [
        "FileOUT = open('covid1_lem.txt', 'w')"
      ],
      "execution_count": 38,
      "outputs": []
    },
    {
      "cell_type": "code",
      "metadata": {
        "id": "TSRrOa6-tTDY"
      },
      "source": [
        "# step 5: save the frequency dictionary into file, by decreasing frequencies\n",
        "# FileOutput.write( str( DictionaryFrq ) + '\\n' )\n",
        "\n",
        "OCorpus = clProcCorpusVert2Lem(FileIN, FileOUT)\n",
        "'''\n",
        "DictionaryFrq = OCorpus.DictFrq\n",
        "\n",
        "for Word, Frq in sorted( DictionaryFrq.items() , key=lambda x: x[1], reverse=True):\n",
        "    if re.search(' ', Word):\n",
        "        FileOut.write(Word + '\\t' + str(Frq) + '\\n')\n",
        "'''\n",
        "  "
      ],
      "execution_count": null,
      "outputs": []
    },
    {
      "cell_type": "code",
      "metadata": {
        "id": "dsgW-9RdtjeD"
      },
      "source": [
        ""
      ],
      "execution_count": null,
      "outputs": []
    }
  ]
}